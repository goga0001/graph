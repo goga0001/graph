{
  "nbformat": 4,
  "nbformat_minor": 0,
  "metadata": {
    "colab": {
      "provenance": [],
      "include_colab_link": true
    },
    "kernelspec": {
      "name": "python3",
      "display_name": "Python 3"
    },
    "language_info": {
      "name": "python"
    },
    "accelerator": "GPU",
    "gpuClass": "standard"
  },
  "cells": [
    {
      "cell_type": "markdown",
      "metadata": {
        "id": "view-in-github",
        "colab_type": "text"
      },
      "source": [
        "<a href=\"https://colab.research.google.com/github/goga0001/graph/blob/main/Updated_%22minimal_repro_ipynb%22.ipynb\" target=\"_parent\"><img src=\"https://colab.research.google.com/assets/colab-badge.svg\" alt=\"Open In Colab\"/></a>"
      ]
    },
    {
      "cell_type": "markdown",
      "source": [
        "# **Manual Steps**\n",
        "\n",
        "---\n",
        "\n",
        "\n",
        "\n",
        "\n",
        "> Set the runtime to GPU via \"Runtime > Change runtime type...\"\n",
        "\n",
        "\n",
        "\n",
        "\n",
        "\n"
      ],
      "metadata": {
        "id": "ch8szVrIIkwK"
      }
    },
    {
      "cell_type": "markdown",
      "source": [
        "# **Clone Git repository**"
      ],
      "metadata": {
        "id": "f5cttStjITfz"
      }
    },
    {
      "cell_type": "code",
      "execution_count": null,
      "metadata": {
        "colab": {
          "base_uri": "https://localhost:8080/"
        },
        "id": "It4pOlhdUfmb",
        "outputId": "ed34e241-4654-473d-ccd8-328521ddf902"
      },
      "outputs": [
        {
          "output_type": "stream",
          "name": "stdout",
          "text": [
            "Cloning into 'torchdrug'...\n",
            "remote: Enumerating objects: 1231, done.\u001b[K\n",
            "remote: Counting objects: 100% (601/601), done.\u001b[K\n",
            "remote: Compressing objects: 100% (265/265), done.\u001b[K\n",
            "remote: Total 1231 (delta 363), reused 486 (delta 321), pack-reused 630\u001b[K\n",
            "Receiving objects: 100% (1231/1231), 2.62 MiB | 22.03 MiB/s, done.\n",
            "Resolving deltas: 100% (629/629), done.\n"
          ]
        }
      ],
      "source": [
        "!git clone https://github.com/DeepGraphLearning/torchdrug"
      ]
    },
    {
      "cell_type": "code",
      "source": [
        "cd torchdrug"
      ],
      "metadata": {
        "colab": {
          "base_uri": "https://localhost:8080/"
        },
        "id": "sSUnsjtQbdKy",
        "outputId": "38c3819b-1970-4461-ef2a-0b8e8b6c5dec"
      },
      "execution_count": null,
      "outputs": [
        {
          "output_type": "stream",
          "name": "stdout",
          "text": [
            "/content/torchdrug\n"
          ]
        }
      ]
    },
    {
      "cell_type": "markdown",
      "source": [
        "# **Install requirements**"
      ],
      "metadata": {
        "id": "vR09nEPUGAT9"
      }
    },
    {
      "cell_type": "code",
      "source": [
        "!pip install decorator  rdkit rdkit-pypi torch_geometric==2.0.4 matplotlib  tqdm  networkx   jinja2  lmdb  fair-esm "
      ],
      "metadata": {
        "id": "bhuItqMHvw8d",
        "collapsed": true,
        "outputId": "7118ae2b-3efb-4cee-9a19-8ffb3b76a89b",
        "colab": {
          "base_uri": "https://localhost:8080/"
        }
      },
      "execution_count": null,
      "outputs": [
        {
          "output_type": "stream",
          "name": "stdout",
          "text": [
            "Looking in indexes: https://pypi.org/simple, https://us-python.pkg.dev/colab-wheels/public/simple/\n",
            "Requirement already satisfied: decorator in /usr/local/lib/python3.7/dist-packages (4.4.2)\n",
            "Collecting rdkit\n",
            "  Downloading rdkit-2022.9.2-cp37-cp37m-manylinux_2_17_x86_64.manylinux2014_x86_64.whl (29.1 MB)\n",
            "\u001b[K     |████████████████████████████████| 29.1 MB 1.2 MB/s \n",
            "\u001b[?25hCollecting rdkit-pypi\n",
            "  Downloading rdkit_pypi-2022.9.2-cp37-cp37m-manylinux_2_17_x86_64.manylinux2014_x86_64.whl (29.1 MB)\n",
            "\u001b[K     |████████████████████████████████| 29.1 MB 85.7 MB/s \n",
            "\u001b[?25hCollecting torch_geometric==2.0.4\n",
            "  Downloading torch_geometric-2.0.4.tar.gz (407 kB)\n",
            "\u001b[K     |████████████████████████████████| 407 kB 68.3 MB/s \n",
            "\u001b[?25hRequirement already satisfied: matplotlib in /usr/local/lib/python3.7/dist-packages (3.2.2)\n",
            "Requirement already satisfied: tqdm in /usr/local/lib/python3.7/dist-packages (4.64.1)\n",
            "Requirement already satisfied: networkx in /usr/local/lib/python3.7/dist-packages (2.6.3)\n",
            "Requirement already satisfied: jinja2 in /usr/local/lib/python3.7/dist-packages (2.11.3)\n",
            "Requirement already satisfied: lmdb in /usr/local/lib/python3.7/dist-packages (0.99)\n",
            "Collecting fair-esm\n",
            "  Downloading fair_esm-2.0.0-py3-none-any.whl (93 kB)\n",
            "\u001b[K     |████████████████████████████████| 93 kB 1.3 MB/s \n",
            "\u001b[?25hRequirement already satisfied: numpy in /usr/local/lib/python3.7/dist-packages (from torch_geometric==2.0.4) (1.21.6)\n",
            "Requirement already satisfied: scipy in /usr/local/lib/python3.7/dist-packages (from torch_geometric==2.0.4) (1.7.3)\n",
            "Requirement already satisfied: pandas in /usr/local/lib/python3.7/dist-packages (from torch_geometric==2.0.4) (1.3.5)\n",
            "Requirement already satisfied: requests in /usr/local/lib/python3.7/dist-packages (from torch_geometric==2.0.4) (2.23.0)\n",
            "Requirement already satisfied: pyparsing in /usr/local/lib/python3.7/dist-packages (from torch_geometric==2.0.4) (3.0.9)\n",
            "Requirement already satisfied: scikit-learn in /usr/local/lib/python3.7/dist-packages (from torch_geometric==2.0.4) (1.0.2)\n",
            "Requirement already satisfied: Pillow in /usr/local/lib/python3.7/dist-packages (from rdkit) (7.1.2)\n",
            "Requirement already satisfied: cycler>=0.10 in /usr/local/lib/python3.7/dist-packages (from matplotlib) (0.11.0)\n",
            "Requirement already satisfied: python-dateutil>=2.1 in /usr/local/lib/python3.7/dist-packages (from matplotlib) (2.8.2)\n",
            "Requirement already satisfied: kiwisolver>=1.0.1 in /usr/local/lib/python3.7/dist-packages (from matplotlib) (1.4.4)\n",
            "Requirement already satisfied: typing-extensions in /usr/local/lib/python3.7/dist-packages (from kiwisolver>=1.0.1->matplotlib) (4.1.1)\n",
            "Requirement already satisfied: six>=1.5 in /usr/local/lib/python3.7/dist-packages (from python-dateutil>=2.1->matplotlib) (1.15.0)\n",
            "Requirement already satisfied: MarkupSafe>=0.23 in /usr/local/lib/python3.7/dist-packages (from jinja2) (2.0.1)\n",
            "Requirement already satisfied: pytz>=2017.3 in /usr/local/lib/python3.7/dist-packages (from pandas->torch_geometric==2.0.4) (2022.6)\n",
            "Requirement already satisfied: urllib3!=1.25.0,!=1.25.1,<1.26,>=1.21.1 in /usr/local/lib/python3.7/dist-packages (from requests->torch_geometric==2.0.4) (1.24.3)\n",
            "Requirement already satisfied: chardet<4,>=3.0.2 in /usr/local/lib/python3.7/dist-packages (from requests->torch_geometric==2.0.4) (3.0.4)\n",
            "Requirement already satisfied: certifi>=2017.4.17 in /usr/local/lib/python3.7/dist-packages (from requests->torch_geometric==2.0.4) (2022.9.24)\n",
            "Requirement already satisfied: idna<3,>=2.5 in /usr/local/lib/python3.7/dist-packages (from requests->torch_geometric==2.0.4) (2.10)\n",
            "Requirement already satisfied: threadpoolctl>=2.0.0 in /usr/local/lib/python3.7/dist-packages (from scikit-learn->torch_geometric==2.0.4) (3.1.0)\n",
            "Requirement already satisfied: joblib>=0.11 in /usr/local/lib/python3.7/dist-packages (from scikit-learn->torch_geometric==2.0.4) (1.2.0)\n",
            "Building wheels for collected packages: torch-geometric\n",
            "  Building wheel for torch-geometric (setup.py) ... \u001b[?25l\u001b[?25hdone\n",
            "  Created wheel for torch-geometric: filename=torch_geometric-2.0.4-py3-none-any.whl size=616602 sha256=de35ff6cbebccf45fa3290f0da097e7546d2486f7768dc91fe2b16c77b834397\n",
            "  Stored in directory: /root/.cache/pip/wheels/18/a6/a4/ca18c3051fcead866fe7b85700ee2240d883562a1bc70ce421\n",
            "Successfully built torch-geometric\n",
            "Installing collected packages: torch-geometric, rdkit-pypi, rdkit, fair-esm\n",
            "Successfully installed fair-esm-2.0.0 rdkit-2022.9.2 rdkit-pypi-2022.9.2 torch-geometric-2.0.4\n"
          ]
        }
      ]
    },
    {
      "cell_type": "code",
      "source": [
        "!pip install --no-index torch-scatter -f https://pytorch-geometric.com/whl/torch-1.12.1+cu113.html\n",
        "!pip install --no-index torch-sparse -f https://pytorch-geometric.com/whl/torch-1.12.1+cu113.html\n",
        "!pip install --no-index torch-cluster -f https://pytorch-geometric.com/whl/torch-1.12.1+cu113.html\n",
        "!pip install --no-index torch-spline-conv -f https://pytorch-geometric.com/whl/torch-1.12.1+cu113.html"
      ],
      "metadata": {
        "id": "X4br3u8Wg60I",
        "collapsed": true,
        "outputId": "51df9e9a-7cee-4efb-a7a6-7890d0f1f869",
        "colab": {
          "base_uri": "https://localhost:8080/"
        }
      },
      "execution_count": null,
      "outputs": [
        {
          "output_type": "stream",
          "name": "stdout",
          "text": [
            "Looking in links: https://pytorch-geometric.com/whl/torch-1.12.1+cu113.html\n",
            "Collecting torch-scatter\n",
            "  Downloading https://data.pyg.org/whl/torch-1.12.0%2Bcu113/torch_scatter-2.1.0%2Bpt112cu113-cp37-cp37m-linux_x86_64.whl (8.9 MB)\n",
            "\u001b[K     |████████████████████████████████| 8.9 MB 27.3 MB/s \n",
            "\u001b[?25hInstalling collected packages: torch-scatter\n",
            "Successfully installed torch-scatter-2.1.0+pt112cu113\n",
            "Looking in links: https://pytorch-geometric.com/whl/torch-1.12.1+cu113.html\n",
            "Collecting torch-sparse\n",
            "  Downloading https://data.pyg.org/whl/torch-1.12.0%2Bcu113/torch_sparse-0.6.15%2Bpt112cu113-cp37-cp37m-linux_x86_64.whl (3.5 MB)\n",
            "\u001b[K     |████████████████████████████████| 3.5 MB 16.9 MB/s \n",
            "\u001b[?25hRequirement already satisfied: scipy in /usr/local/lib/python3.7/dist-packages (from torch-sparse) (1.7.3)\n",
            "Requirement already satisfied: numpy<1.23.0,>=1.16.5 in /usr/local/lib/python3.7/dist-packages (from scipy->torch-sparse) (1.21.6)\n",
            "Installing collected packages: torch-sparse\n",
            "Successfully installed torch-sparse-0.6.15+pt112cu113\n",
            "Looking in links: https://pytorch-geometric.com/whl/torch-1.12.1+cu113.html\n",
            "Collecting torch-cluster\n",
            "  Downloading https://data.pyg.org/whl/torch-1.12.0%2Bcu113/torch_cluster-1.6.0%2Bpt112cu113-cp37-cp37m-linux_x86_64.whl (2.5 MB)\n",
            "\u001b[K     |████████████████████████████████| 2.5 MB 30.1 MB/s \n",
            "\u001b[?25hRequirement already satisfied: scipy in /usr/local/lib/python3.7/dist-packages (from torch-cluster) (1.7.3)\n",
            "Requirement already satisfied: numpy<1.23.0,>=1.16.5 in /usr/local/lib/python3.7/dist-packages (from scipy->torch-cluster) (1.21.6)\n",
            "Installing collected packages: torch-cluster\n",
            "Successfully installed torch-cluster-1.6.0+pt112cu113\n",
            "Looking in links: https://pytorch-geometric.com/whl/torch-1.12.1+cu113.html\n",
            "Collecting torch-spline-conv\n",
            "  Downloading https://data.pyg.org/whl/torch-1.12.0%2Bcu113/torch_spline_conv-1.2.1%2Bpt112cu113-cp37-cp37m-linux_x86_64.whl (722 kB)\n",
            "\u001b[K     |████████████████████████████████| 722 kB 30.5 MB/s \n",
            "\u001b[?25hInstalling collected packages: torch-spline-conv\n",
            "Successfully installed torch-spline-conv-1.2.1+pt112cu113\n"
          ]
        }
      ]
    },
    {
      "cell_type": "code",
      "source": [
        "pip install fair-esm==0.1.0"
      ],
      "metadata": {
        "id": "ou91Bthtx_cX",
        "collapsed": true,
        "outputId": "6d0e9702-855e-493b-9373-f5b635e4ebc7",
        "colab": {
          "base_uri": "https://localhost:8080/"
        }
      },
      "execution_count": null,
      "outputs": [
        {
          "output_type": "stream",
          "name": "stdout",
          "text": [
            "Looking in indexes: https://pypi.org/simple, https://us-python.pkg.dev/colab-wheels/public/simple/\n",
            "Collecting fair-esm==0.1.0\n",
            "  Downloading fair_esm-0.1.0-py3-none-any.whl (23 kB)\n",
            "Installing collected packages: fair-esm\n",
            "  Attempting uninstall: fair-esm\n",
            "    Found existing installation: fair-esm 2.0.0\n",
            "    Uninstalling fair-esm-2.0.0:\n",
            "      Successfully uninstalled fair-esm-2.0.0\n",
            "Successfully installed fair-esm-0.1.0\n"
          ]
        }
      ]
    },
    {
      "cell_type": "code",
      "source": [
        "!pip install Ninja==1.10.2.4"
      ],
      "metadata": {
        "id": "RyDGjm4t5K5w",
        "outputId": "1cabc72f-e80b-406c-8a4a-3e1e5872f072",
        "colab": {
          "base_uri": "https://localhost:8080/"
        }
      },
      "execution_count": null,
      "outputs": [
        {
          "output_type": "stream",
          "name": "stdout",
          "text": [
            "Looking in indexes: https://pypi.org/simple, https://us-python.pkg.dev/colab-wheels/public/simple/\n",
            "Collecting Ninja==1.10.2.4\n",
            "  Downloading ninja-1.10.2.4-py2.py3-none-manylinux_2_5_x86_64.manylinux1_x86_64.whl (120 kB)\n",
            "\u001b[K     |████████████████████████████████| 120 kB 32.6 MB/s \n",
            "\u001b[?25hInstalling collected packages: Ninja\n",
            "Successfully installed Ninja-1.10.2.4\n"
          ]
        }
      ]
    },
    {
      "cell_type": "code",
      "source": [
        "pip install torch torchvision"
      ],
      "metadata": {
        "id": "lbTycvFjkmM2",
        "outputId": "a0cffadd-1016-4d61-bbf1-457785da7e1b",
        "colab": {
          "base_uri": "https://localhost:8080/"
        }
      },
      "execution_count": null,
      "outputs": [
        {
          "output_type": "stream",
          "name": "stdout",
          "text": [
            "Looking in indexes: https://pypi.org/simple, https://us-python.pkg.dev/colab-wheels/public/simple/\n",
            "Requirement already satisfied: torch in /usr/local/lib/python3.7/dist-packages (1.12.1+cu113)\n",
            "Requirement already satisfied: torchvision in /usr/local/lib/python3.7/dist-packages (0.13.1+cu113)\n",
            "Requirement already satisfied: typing-extensions in /usr/local/lib/python3.7/dist-packages (from torch) (4.1.1)\n",
            "Requirement already satisfied: requests in /usr/local/lib/python3.7/dist-packages (from torchvision) (2.23.0)\n",
            "Requirement already satisfied: pillow!=8.3.*,>=5.3.0 in /usr/local/lib/python3.7/dist-packages (from torchvision) (7.1.2)\n",
            "Requirement already satisfied: numpy in /usr/local/lib/python3.7/dist-packages (from torchvision) (1.21.6)\n",
            "Requirement already satisfied: urllib3!=1.25.0,!=1.25.1,<1.26,>=1.21.1 in /usr/local/lib/python3.7/dist-packages (from requests->torchvision) (1.24.3)\n",
            "Requirement already satisfied: chardet<4,>=3.0.2 in /usr/local/lib/python3.7/dist-packages (from requests->torchvision) (3.0.4)\n",
            "Requirement already satisfied: idna<3,>=2.5 in /usr/local/lib/python3.7/dist-packages (from requests->torchvision) (2.10)\n",
            "Requirement already satisfied: certifi>=2017.4.17 in /usr/local/lib/python3.7/dist-packages (from requests->torchvision) (2022.9.24)\n"
          ]
        }
      ]
    },
    {
      "cell_type": "markdown",
      "source": [
        "# **Run setup.py**"
      ],
      "metadata": {
        "id": "1_ttU8GxGo1L"
      }
    },
    {
      "cell_type": "code",
      "source": [
        "!python setup.py install"
      ],
      "metadata": {
        "id": "Oqlw4XW6dL2V",
        "collapsed": true,
        "colab": {
          "base_uri": "https://localhost:8080/"
        },
        "outputId": "90452115-6dda-4f29-8529-d0e445c65db6"
      },
      "execution_count": null,
      "outputs": [
        {
          "output_type": "stream",
          "name": "stdout",
          "text": [
            "running install\n",
            "running bdist_egg\n",
            "running egg_info\n",
            "creating torchdrug.egg-info\n",
            "writing torchdrug.egg-info/PKG-INFO\n",
            "writing dependency_links to torchdrug.egg-info/dependency_links.txt\n",
            "writing requirements to torchdrug.egg-info/requires.txt\n",
            "writing top-level names to torchdrug.egg-info/top_level.txt\n",
            "writing manifest file 'torchdrug.egg-info/SOURCES.txt'\n",
            "adding license file 'LICENSE'\n",
            "writing manifest file 'torchdrug.egg-info/SOURCES.txt'\n",
            "installing library code to build/bdist.linux-x86_64/egg\n",
            "running install_lib\n",
            "running build_py\n",
            "creating build\n",
            "creating build/lib\n",
            "creating build/lib/torchdrug\n",
            "copying torchdrug/__init__.py -> build/lib/torchdrug\n",
            "copying torchdrug/patch.py -> build/lib/torchdrug\n",
            "creating build/lib/torchdrug/metrics\n",
            "copying torchdrug/metrics/__init__.py -> build/lib/torchdrug/metrics\n",
            "copying torchdrug/metrics/metric.py -> build/lib/torchdrug/metrics\n",
            "creating build/lib/torchdrug/transforms\n",
            "copying torchdrug/transforms/transform.py -> build/lib/torchdrug/transforms\n",
            "copying torchdrug/transforms/__init__.py -> build/lib/torchdrug/transforms\n",
            "creating build/lib/torchdrug/models\n",
            "copying torchdrug/models/lstm.py -> build/lib/torchdrug/models\n",
            "copying torchdrug/models/gcn.py -> build/lib/torchdrug/models\n",
            "copying torchdrug/models/chebnet.py -> build/lib/torchdrug/models\n",
            "copying torchdrug/models/cnn.py -> build/lib/torchdrug/models\n",
            "copying torchdrug/models/kbgat.py -> build/lib/torchdrug/models\n",
            "copying torchdrug/models/bert.py -> build/lib/torchdrug/models\n",
            "copying torchdrug/models/mpnn.py -> build/lib/torchdrug/models\n",
            "copying torchdrug/models/gearnet.py -> build/lib/torchdrug/models\n",
            "copying torchdrug/models/flow.py -> build/lib/torchdrug/models\n",
            "copying torchdrug/models/infograph.py -> build/lib/torchdrug/models\n",
            "copying torchdrug/models/__init__.py -> build/lib/torchdrug/models\n",
            "copying torchdrug/models/esm.py -> build/lib/torchdrug/models\n",
            "copying torchdrug/models/embedding.py -> build/lib/torchdrug/models\n",
            "copying torchdrug/models/schnet.py -> build/lib/torchdrug/models\n",
            "copying torchdrug/models/physicochemical.py -> build/lib/torchdrug/models\n",
            "copying torchdrug/models/neuralfp.py -> build/lib/torchdrug/models\n",
            "copying torchdrug/models/gin.py -> build/lib/torchdrug/models\n",
            "copying torchdrug/models/neurallp.py -> build/lib/torchdrug/models\n",
            "copying torchdrug/models/gat.py -> build/lib/torchdrug/models\n",
            "copying torchdrug/models/statistic.py -> build/lib/torchdrug/models\n",
            "creating build/lib/torchdrug/data\n",
            "copying torchdrug/data/molecule.py -> build/lib/torchdrug/data\n",
            "copying torchdrug/data/protein.py -> build/lib/torchdrug/data\n",
            "copying torchdrug/data/dataloader.py -> build/lib/torchdrug/data\n",
            "copying torchdrug/data/__init__.py -> build/lib/torchdrug/data\n",
            "copying torchdrug/data/feature.py -> build/lib/torchdrug/data\n",
            "copying torchdrug/data/dictionary.py -> build/lib/torchdrug/data\n",
            "copying torchdrug/data/dataset.py -> build/lib/torchdrug/data\n",
            "copying torchdrug/data/graph.py -> build/lib/torchdrug/data\n",
            "copying torchdrug/data/constant.py -> build/lib/torchdrug/data\n",
            "creating build/lib/torchdrug/layers\n",
            "copying torchdrug/layers/readout.py -> build/lib/torchdrug/layers\n",
            "copying torchdrug/layers/distribution.py -> build/lib/torchdrug/layers\n",
            "copying torchdrug/layers/sampler.py -> build/lib/torchdrug/layers\n",
            "copying torchdrug/layers/flow.py -> build/lib/torchdrug/layers\n",
            "copying torchdrug/layers/common.py -> build/lib/torchdrug/layers\n",
            "copying torchdrug/layers/__init__.py -> build/lib/torchdrug/layers\n",
            "copying torchdrug/layers/pool.py -> build/lib/torchdrug/layers\n",
            "copying torchdrug/layers/conv.py -> build/lib/torchdrug/layers\n",
            "copying torchdrug/layers/block.py -> build/lib/torchdrug/layers\n",
            "creating build/lib/torchdrug/core\n",
            "copying torchdrug/core/__init__.py -> build/lib/torchdrug/core\n",
            "copying torchdrug/core/engine.py -> build/lib/torchdrug/core\n",
            "copying torchdrug/core/logger.py -> build/lib/torchdrug/core\n",
            "copying torchdrug/core/core.py -> build/lib/torchdrug/core\n",
            "copying torchdrug/core/meter.py -> build/lib/torchdrug/core\n",
            "creating build/lib/torchdrug/tasks\n",
            "copying torchdrug/tasks/generation.py -> build/lib/torchdrug/tasks\n",
            "copying torchdrug/tasks/property_prediction.py -> build/lib/torchdrug/tasks\n",
            "copying torchdrug/tasks/task.py -> build/lib/torchdrug/tasks\n",
            "copying torchdrug/tasks/contact_prediction.py -> build/lib/torchdrug/tasks\n",
            "copying torchdrug/tasks/__init__.py -> build/lib/torchdrug/tasks\n",
            "copying torchdrug/tasks/reasoning.py -> build/lib/torchdrug/tasks\n",
            "copying torchdrug/tasks/pretrain.py -> build/lib/torchdrug/tasks\n",
            "copying torchdrug/tasks/retrosynthesis.py -> build/lib/torchdrug/tasks\n",
            "creating build/lib/torchdrug/datasets\n",
            "copying torchdrug/datasets/proteinnet.py -> build/lib/torchdrug/datasets\n",
            "copying torchdrug/datasets/qm8.py -> build/lib/torchdrug/datasets\n",
            "copying torchdrug/datasets/bindingdb.py -> build/lib/torchdrug/datasets\n",
            "copying torchdrug/datasets/alphafolddb.py -> build/lib/torchdrug/datasets\n",
            "copying torchdrug/datasets/enzyme_commission.py -> build/lib/torchdrug/datasets\n",
            "copying torchdrug/datasets/fold.py -> build/lib/torchdrug/datasets\n",
            "copying torchdrug/datasets/bace.py -> build/lib/torchdrug/datasets\n",
            "copying torchdrug/datasets/cora.py -> build/lib/torchdrug/datasets\n",
            "copying torchdrug/datasets/binary_localization.py -> build/lib/torchdrug/datasets\n",
            "copying torchdrug/datasets/beta_lactamase.py -> build/lib/torchdrug/datasets\n",
            "copying torchdrug/datasets/ppi_affinity.py -> build/lib/torchdrug/datasets\n",
            "copying torchdrug/datasets/malaria.py -> build/lib/torchdrug/datasets\n",
            "copying torchdrug/datasets/zinc250k.py -> build/lib/torchdrug/datasets\n",
            "copying torchdrug/datasets/freesolv.py -> build/lib/torchdrug/datasets\n",
            "copying torchdrug/datasets/toxcast.py -> build/lib/torchdrug/datasets\n",
            "copying torchdrug/datasets/uspto50k.py -> build/lib/torchdrug/datasets\n",
            "copying torchdrug/datasets/secondary_structure.py -> build/lib/torchdrug/datasets\n",
            "copying torchdrug/datasets/pcqm4m.py -> build/lib/torchdrug/datasets\n",
            "copying torchdrug/datasets/hetionet.py -> build/lib/torchdrug/datasets\n",
            "copying torchdrug/datasets/muv.py -> build/lib/torchdrug/datasets\n",
            "copying torchdrug/datasets/__init__.py -> build/lib/torchdrug/datasets\n",
            "copying torchdrug/datasets/fb15k.py -> build/lib/torchdrug/datasets\n",
            "copying torchdrug/datasets/qm9.py -> build/lib/torchdrug/datasets\n",
            "copying torchdrug/datasets/pdbbind.py -> build/lib/torchdrug/datasets\n",
            "copying torchdrug/datasets/subcellular_localization.py -> build/lib/torchdrug/datasets\n",
            "copying torchdrug/datasets/wn18.py -> build/lib/torchdrug/datasets\n",
            "copying torchdrug/datasets/citeseer.py -> build/lib/torchdrug/datasets\n",
            "copying torchdrug/datasets/tox21.py -> build/lib/torchdrug/datasets\n",
            "copying torchdrug/datasets/clintox.py -> build/lib/torchdrug/datasets\n",
            "copying torchdrug/datasets/lipophilicity.py -> build/lib/torchdrug/datasets\n",
            "copying torchdrug/datasets/chembl_filtered.py -> build/lib/torchdrug/datasets\n",
            "copying torchdrug/datasets/delaney.py -> build/lib/torchdrug/datasets\n",
            "copying torchdrug/datasets/moses.py -> build/lib/torchdrug/datasets\n",
            "copying torchdrug/datasets/bbbp.py -> build/lib/torchdrug/datasets\n",
            "copying torchdrug/datasets/fluorescence.py -> build/lib/torchdrug/datasets\n",
            "copying torchdrug/datasets/hiv.py -> build/lib/torchdrug/datasets\n",
            "copying torchdrug/datasets/yeast_ppi.py -> build/lib/torchdrug/datasets\n",
            "copying torchdrug/datasets/solubility.py -> build/lib/torchdrug/datasets\n",
            "copying torchdrug/datasets/opv.py -> build/lib/torchdrug/datasets\n",
            "copying torchdrug/datasets/cep.py -> build/lib/torchdrug/datasets\n",
            "copying torchdrug/datasets/pubmed.py -> build/lib/torchdrug/datasets\n",
            "copying torchdrug/datasets/pubchem110m.py -> build/lib/torchdrug/datasets\n",
            "copying torchdrug/datasets/human_ppi.py -> build/lib/torchdrug/datasets\n",
            "copying torchdrug/datasets/stability.py -> build/lib/torchdrug/datasets\n",
            "copying torchdrug/datasets/gene_ontology.py -> build/lib/torchdrug/datasets\n",
            "copying torchdrug/datasets/zinc2m.py -> build/lib/torchdrug/datasets\n",
            "copying torchdrug/datasets/sider.py -> build/lib/torchdrug/datasets\n",
            "creating build/lib/torchdrug/utils\n",
            "copying torchdrug/utils/plot.py -> build/lib/torchdrug/utils\n",
            "copying torchdrug/utils/io.py -> build/lib/torchdrug/utils\n",
            "copying torchdrug/utils/file.py -> build/lib/torchdrug/utils\n",
            "copying torchdrug/utils/comm.py -> build/lib/torchdrug/utils\n",
            "copying torchdrug/utils/doc.py -> build/lib/torchdrug/utils\n",
            "copying torchdrug/utils/pretty.py -> build/lib/torchdrug/utils\n",
            "copying torchdrug/utils/__init__.py -> build/lib/torchdrug/utils\n",
            "copying torchdrug/utils/torch.py -> build/lib/torchdrug/utils\n",
            "copying torchdrug/utils/decorator.py -> build/lib/torchdrug/utils\n",
            "creating build/lib/torchdrug/metrics/rdkit\n",
            "copying torchdrug/metrics/rdkit/__init__.py -> build/lib/torchdrug/metrics/rdkit\n",
            "copying torchdrug/metrics/rdkit/sascorer.py -> build/lib/torchdrug/metrics/rdkit\n",
            "creating build/lib/torchdrug/data/rdkit\n",
            "copying torchdrug/data/rdkit/draw.py -> build/lib/torchdrug/data/rdkit\n",
            "copying torchdrug/data/rdkit/__init__.py -> build/lib/torchdrug/data/rdkit\n",
            "creating build/lib/torchdrug/layers/functional\n",
            "copying torchdrug/layers/functional/functional.py -> build/lib/torchdrug/layers/functional\n",
            "copying torchdrug/layers/functional/spmm.py -> build/lib/torchdrug/layers/functional\n",
            "copying torchdrug/layers/functional/__init__.py -> build/lib/torchdrug/layers/functional\n",
            "copying torchdrug/layers/functional/embedding.py -> build/lib/torchdrug/layers/functional\n",
            "creating build/lib/torchdrug/layers/geometry\n",
            "copying torchdrug/layers/geometry/function.py -> build/lib/torchdrug/layers/geometry\n",
            "copying torchdrug/layers/geometry/__init__.py -> build/lib/torchdrug/layers/geometry\n",
            "copying torchdrug/layers/geometry/graph.py -> build/lib/torchdrug/layers/geometry\n",
            "creating build/lib/torchdrug/layers/functional/extension\n",
            "copying torchdrug/layers/functional/extension/__init__.py -> build/lib/torchdrug/layers/functional/extension\n",
            "creating build/lib/torchdrug/utils/extension\n",
            "copying torchdrug/utils/extension/__init__.py -> build/lib/torchdrug/utils/extension\n",
            "copying torchdrug/layers/functional/extension/embedding.h -> build/lib/torchdrug/layers/functional/extension\n",
            "copying torchdrug/layers/functional/extension/spmm.h -> build/lib/torchdrug/layers/functional/extension\n",
            "copying torchdrug/layers/functional/extension/rspmm.h -> build/lib/torchdrug/layers/functional/extension\n",
            "copying torchdrug/layers/functional/extension/operator.cuh -> build/lib/torchdrug/layers/functional/extension\n",
            "copying torchdrug/layers/functional/extension/util.cuh -> build/lib/torchdrug/layers/functional/extension\n",
            "copying torchdrug/layers/functional/extension/embedding.cpp -> build/lib/torchdrug/layers/functional/extension\n",
            "copying torchdrug/layers/functional/extension/rspmm.cpp -> build/lib/torchdrug/layers/functional/extension\n",
            "copying torchdrug/layers/functional/extension/spmm.cpp -> build/lib/torchdrug/layers/functional/extension\n",
            "copying torchdrug/layers/functional/extension/rspmm.cu -> build/lib/torchdrug/layers/functional/extension\n",
            "copying torchdrug/layers/functional/extension/embedding.cu -> build/lib/torchdrug/layers/functional/extension\n",
            "copying torchdrug/layers/functional/extension/spmm.cu -> build/lib/torchdrug/layers/functional/extension\n",
            "copying torchdrug/utils/extension/torch_ext.cpp -> build/lib/torchdrug/utils/extension\n",
            "creating build/lib/torchdrug/utils/template\n",
            "copying torchdrug/utils/template/echarts.html -> build/lib/torchdrug/utils/template\n",
            "creating build/bdist.linux-x86_64\n",
            "creating build/bdist.linux-x86_64/egg\n",
            "creating build/bdist.linux-x86_64/egg/torchdrug\n",
            "creating build/bdist.linux-x86_64/egg/torchdrug/metrics\n",
            "copying build/lib/torchdrug/metrics/__init__.py -> build/bdist.linux-x86_64/egg/torchdrug/metrics\n",
            "copying build/lib/torchdrug/metrics/metric.py -> build/bdist.linux-x86_64/egg/torchdrug/metrics\n",
            "creating build/bdist.linux-x86_64/egg/torchdrug/metrics/rdkit\n",
            "copying build/lib/torchdrug/metrics/rdkit/__init__.py -> build/bdist.linux-x86_64/egg/torchdrug/metrics/rdkit\n",
            "copying build/lib/torchdrug/metrics/rdkit/sascorer.py -> build/bdist.linux-x86_64/egg/torchdrug/metrics/rdkit\n",
            "creating build/bdist.linux-x86_64/egg/torchdrug/transforms\n",
            "copying build/lib/torchdrug/transforms/transform.py -> build/bdist.linux-x86_64/egg/torchdrug/transforms\n",
            "copying build/lib/torchdrug/transforms/__init__.py -> build/bdist.linux-x86_64/egg/torchdrug/transforms\n",
            "creating build/bdist.linux-x86_64/egg/torchdrug/models\n",
            "copying build/lib/torchdrug/models/lstm.py -> build/bdist.linux-x86_64/egg/torchdrug/models\n",
            "copying build/lib/torchdrug/models/gcn.py -> build/bdist.linux-x86_64/egg/torchdrug/models\n",
            "copying build/lib/torchdrug/models/chebnet.py -> build/bdist.linux-x86_64/egg/torchdrug/models\n",
            "copying build/lib/torchdrug/models/cnn.py -> build/bdist.linux-x86_64/egg/torchdrug/models\n",
            "copying build/lib/torchdrug/models/kbgat.py -> build/bdist.linux-x86_64/egg/torchdrug/models\n",
            "copying build/lib/torchdrug/models/bert.py -> build/bdist.linux-x86_64/egg/torchdrug/models\n",
            "copying build/lib/torchdrug/models/mpnn.py -> build/bdist.linux-x86_64/egg/torchdrug/models\n",
            "copying build/lib/torchdrug/models/gearnet.py -> build/bdist.linux-x86_64/egg/torchdrug/models\n",
            "copying build/lib/torchdrug/models/flow.py -> build/bdist.linux-x86_64/egg/torchdrug/models\n",
            "copying build/lib/torchdrug/models/infograph.py -> build/bdist.linux-x86_64/egg/torchdrug/models\n",
            "copying build/lib/torchdrug/models/__init__.py -> build/bdist.linux-x86_64/egg/torchdrug/models\n",
            "copying build/lib/torchdrug/models/esm.py -> build/bdist.linux-x86_64/egg/torchdrug/models\n",
            "copying build/lib/torchdrug/models/embedding.py -> build/bdist.linux-x86_64/egg/torchdrug/models\n",
            "copying build/lib/torchdrug/models/schnet.py -> build/bdist.linux-x86_64/egg/torchdrug/models\n",
            "copying build/lib/torchdrug/models/physicochemical.py -> build/bdist.linux-x86_64/egg/torchdrug/models\n",
            "copying build/lib/torchdrug/models/neuralfp.py -> build/bdist.linux-x86_64/egg/torchdrug/models\n",
            "copying build/lib/torchdrug/models/gin.py -> build/bdist.linux-x86_64/egg/torchdrug/models\n",
            "copying build/lib/torchdrug/models/neurallp.py -> build/bdist.linux-x86_64/egg/torchdrug/models\n",
            "copying build/lib/torchdrug/models/gat.py -> build/bdist.linux-x86_64/egg/torchdrug/models\n",
            "copying build/lib/torchdrug/models/statistic.py -> build/bdist.linux-x86_64/egg/torchdrug/models\n",
            "creating build/bdist.linux-x86_64/egg/torchdrug/data\n",
            "copying build/lib/torchdrug/data/molecule.py -> build/bdist.linux-x86_64/egg/torchdrug/data\n",
            "copying build/lib/torchdrug/data/protein.py -> build/bdist.linux-x86_64/egg/torchdrug/data\n",
            "copying build/lib/torchdrug/data/dataloader.py -> build/bdist.linux-x86_64/egg/torchdrug/data\n",
            "copying build/lib/torchdrug/data/__init__.py -> build/bdist.linux-x86_64/egg/torchdrug/data\n",
            "copying build/lib/torchdrug/data/feature.py -> build/bdist.linux-x86_64/egg/torchdrug/data\n",
            "copying build/lib/torchdrug/data/dictionary.py -> build/bdist.linux-x86_64/egg/torchdrug/data\n",
            "creating build/bdist.linux-x86_64/egg/torchdrug/data/rdkit\n",
            "copying build/lib/torchdrug/data/rdkit/draw.py -> build/bdist.linux-x86_64/egg/torchdrug/data/rdkit\n",
            "copying build/lib/torchdrug/data/rdkit/__init__.py -> build/bdist.linux-x86_64/egg/torchdrug/data/rdkit\n",
            "copying build/lib/torchdrug/data/dataset.py -> build/bdist.linux-x86_64/egg/torchdrug/data\n",
            "copying build/lib/torchdrug/data/graph.py -> build/bdist.linux-x86_64/egg/torchdrug/data\n",
            "copying build/lib/torchdrug/data/constant.py -> build/bdist.linux-x86_64/egg/torchdrug/data\n",
            "creating build/bdist.linux-x86_64/egg/torchdrug/layers\n",
            "copying build/lib/torchdrug/layers/readout.py -> build/bdist.linux-x86_64/egg/torchdrug/layers\n",
            "copying build/lib/torchdrug/layers/distribution.py -> build/bdist.linux-x86_64/egg/torchdrug/layers\n",
            "copying build/lib/torchdrug/layers/sampler.py -> build/bdist.linux-x86_64/egg/torchdrug/layers\n",
            "creating build/bdist.linux-x86_64/egg/torchdrug/layers/functional\n",
            "copying build/lib/torchdrug/layers/functional/functional.py -> build/bdist.linux-x86_64/egg/torchdrug/layers/functional\n",
            "copying build/lib/torchdrug/layers/functional/spmm.py -> build/bdist.linux-x86_64/egg/torchdrug/layers/functional\n",
            "copying build/lib/torchdrug/layers/functional/__init__.py -> build/bdist.linux-x86_64/egg/torchdrug/layers/functional\n",
            "creating build/bdist.linux-x86_64/egg/torchdrug/layers/functional/extension\n",
            "copying build/lib/torchdrug/layers/functional/extension/embedding.h -> build/bdist.linux-x86_64/egg/torchdrug/layers/functional/extension\n",
            "copying build/lib/torchdrug/layers/functional/extension/spmm.h -> build/bdist.linux-x86_64/egg/torchdrug/layers/functional/extension\n",
            "copying build/lib/torchdrug/layers/functional/extension/rspmm.cu -> build/bdist.linux-x86_64/egg/torchdrug/layers/functional/extension\n",
            "copying build/lib/torchdrug/layers/functional/extension/__init__.py -> build/bdist.linux-x86_64/egg/torchdrug/layers/functional/extension\n",
            "copying build/lib/torchdrug/layers/functional/extension/operator.cuh -> build/bdist.linux-x86_64/egg/torchdrug/layers/functional/extension\n",
            "copying build/lib/torchdrug/layers/functional/extension/embedding.cu -> build/bdist.linux-x86_64/egg/torchdrug/layers/functional/extension\n",
            "copying build/lib/torchdrug/layers/functional/extension/embedding.cpp -> build/bdist.linux-x86_64/egg/torchdrug/layers/functional/extension\n",
            "copying build/lib/torchdrug/layers/functional/extension/rspmm.h -> build/bdist.linux-x86_64/egg/torchdrug/layers/functional/extension\n",
            "copying build/lib/torchdrug/layers/functional/extension/rspmm.cpp -> build/bdist.linux-x86_64/egg/torchdrug/layers/functional/extension\n",
            "copying build/lib/torchdrug/layers/functional/extension/util.cuh -> build/bdist.linux-x86_64/egg/torchdrug/layers/functional/extension\n",
            "copying build/lib/torchdrug/layers/functional/extension/spmm.cpp -> build/bdist.linux-x86_64/egg/torchdrug/layers/functional/extension\n",
            "copying build/lib/torchdrug/layers/functional/extension/spmm.cu -> build/bdist.linux-x86_64/egg/torchdrug/layers/functional/extension\n",
            "copying build/lib/torchdrug/layers/functional/embedding.py -> build/bdist.linux-x86_64/egg/torchdrug/layers/functional\n",
            "copying build/lib/torchdrug/layers/flow.py -> build/bdist.linux-x86_64/egg/torchdrug/layers\n",
            "copying build/lib/torchdrug/layers/common.py -> build/bdist.linux-x86_64/egg/torchdrug/layers\n",
            "copying build/lib/torchdrug/layers/__init__.py -> build/bdist.linux-x86_64/egg/torchdrug/layers\n",
            "copying build/lib/torchdrug/layers/pool.py -> build/bdist.linux-x86_64/egg/torchdrug/layers\n",
            "creating build/bdist.linux-x86_64/egg/torchdrug/layers/geometry\n",
            "copying build/lib/torchdrug/layers/geometry/function.py -> build/bdist.linux-x86_64/egg/torchdrug/layers/geometry\n",
            "copying build/lib/torchdrug/layers/geometry/__init__.py -> build/bdist.linux-x86_64/egg/torchdrug/layers/geometry\n",
            "copying build/lib/torchdrug/layers/geometry/graph.py -> build/bdist.linux-x86_64/egg/torchdrug/layers/geometry\n",
            "copying build/lib/torchdrug/layers/conv.py -> build/bdist.linux-x86_64/egg/torchdrug/layers\n",
            "copying build/lib/torchdrug/layers/block.py -> build/bdist.linux-x86_64/egg/torchdrug/layers\n",
            "copying build/lib/torchdrug/__init__.py -> build/bdist.linux-x86_64/egg/torchdrug\n",
            "creating build/bdist.linux-x86_64/egg/torchdrug/core\n",
            "copying build/lib/torchdrug/core/__init__.py -> build/bdist.linux-x86_64/egg/torchdrug/core\n",
            "copying build/lib/torchdrug/core/engine.py -> build/bdist.linux-x86_64/egg/torchdrug/core\n",
            "copying build/lib/torchdrug/core/logger.py -> build/bdist.linux-x86_64/egg/torchdrug/core\n",
            "copying build/lib/torchdrug/core/core.py -> build/bdist.linux-x86_64/egg/torchdrug/core\n",
            "copying build/lib/torchdrug/core/meter.py -> build/bdist.linux-x86_64/egg/torchdrug/core\n",
            "creating build/bdist.linux-x86_64/egg/torchdrug/tasks\n",
            "copying build/lib/torchdrug/tasks/generation.py -> build/bdist.linux-x86_64/egg/torchdrug/tasks\n",
            "copying build/lib/torchdrug/tasks/property_prediction.py -> build/bdist.linux-x86_64/egg/torchdrug/tasks\n",
            "copying build/lib/torchdrug/tasks/task.py -> build/bdist.linux-x86_64/egg/torchdrug/tasks\n",
            "copying build/lib/torchdrug/tasks/contact_prediction.py -> build/bdist.linux-x86_64/egg/torchdrug/tasks\n",
            "copying build/lib/torchdrug/tasks/__init__.py -> build/bdist.linux-x86_64/egg/torchdrug/tasks\n",
            "copying build/lib/torchdrug/tasks/reasoning.py -> build/bdist.linux-x86_64/egg/torchdrug/tasks\n",
            "copying build/lib/torchdrug/tasks/pretrain.py -> build/bdist.linux-x86_64/egg/torchdrug/tasks\n",
            "copying build/lib/torchdrug/tasks/retrosynthesis.py -> build/bdist.linux-x86_64/egg/torchdrug/tasks\n",
            "copying build/lib/torchdrug/patch.py -> build/bdist.linux-x86_64/egg/torchdrug\n",
            "creating build/bdist.linux-x86_64/egg/torchdrug/datasets\n",
            "copying build/lib/torchdrug/datasets/proteinnet.py -> build/bdist.linux-x86_64/egg/torchdrug/datasets\n",
            "copying build/lib/torchdrug/datasets/qm8.py -> build/bdist.linux-x86_64/egg/torchdrug/datasets\n",
            "copying build/lib/torchdrug/datasets/bindingdb.py -> build/bdist.linux-x86_64/egg/torchdrug/datasets\n",
            "copying build/lib/torchdrug/datasets/alphafolddb.py -> build/bdist.linux-x86_64/egg/torchdrug/datasets\n",
            "copying build/lib/torchdrug/datasets/enzyme_commission.py -> build/bdist.linux-x86_64/egg/torchdrug/datasets\n",
            "copying build/lib/torchdrug/datasets/fold.py -> build/bdist.linux-x86_64/egg/torchdrug/datasets\n",
            "copying build/lib/torchdrug/datasets/bace.py -> build/bdist.linux-x86_64/egg/torchdrug/datasets\n",
            "copying build/lib/torchdrug/datasets/cora.py -> build/bdist.linux-x86_64/egg/torchdrug/datasets\n",
            "copying build/lib/torchdrug/datasets/binary_localization.py -> build/bdist.linux-x86_64/egg/torchdrug/datasets\n",
            "copying build/lib/torchdrug/datasets/beta_lactamase.py -> build/bdist.linux-x86_64/egg/torchdrug/datasets\n",
            "copying build/lib/torchdrug/datasets/ppi_affinity.py -> build/bdist.linux-x86_64/egg/torchdrug/datasets\n",
            "copying build/lib/torchdrug/datasets/malaria.py -> build/bdist.linux-x86_64/egg/torchdrug/datasets\n",
            "copying build/lib/torchdrug/datasets/zinc250k.py -> build/bdist.linux-x86_64/egg/torchdrug/datasets\n",
            "copying build/lib/torchdrug/datasets/freesolv.py -> build/bdist.linux-x86_64/egg/torchdrug/datasets\n",
            "copying build/lib/torchdrug/datasets/toxcast.py -> build/bdist.linux-x86_64/egg/torchdrug/datasets\n",
            "copying build/lib/torchdrug/datasets/uspto50k.py -> build/bdist.linux-x86_64/egg/torchdrug/datasets\n",
            "copying build/lib/torchdrug/datasets/secondary_structure.py -> build/bdist.linux-x86_64/egg/torchdrug/datasets\n",
            "copying build/lib/torchdrug/datasets/pcqm4m.py -> build/bdist.linux-x86_64/egg/torchdrug/datasets\n",
            "copying build/lib/torchdrug/datasets/hetionet.py -> build/bdist.linux-x86_64/egg/torchdrug/datasets\n",
            "copying build/lib/torchdrug/datasets/muv.py -> build/bdist.linux-x86_64/egg/torchdrug/datasets\n",
            "copying build/lib/torchdrug/datasets/__init__.py -> build/bdist.linux-x86_64/egg/torchdrug/datasets\n",
            "copying build/lib/torchdrug/datasets/fb15k.py -> build/bdist.linux-x86_64/egg/torchdrug/datasets\n",
            "copying build/lib/torchdrug/datasets/qm9.py -> build/bdist.linux-x86_64/egg/torchdrug/datasets\n",
            "copying build/lib/torchdrug/datasets/pdbbind.py -> build/bdist.linux-x86_64/egg/torchdrug/datasets\n",
            "copying build/lib/torchdrug/datasets/subcellular_localization.py -> build/bdist.linux-x86_64/egg/torchdrug/datasets\n",
            "copying build/lib/torchdrug/datasets/wn18.py -> build/bdist.linux-x86_64/egg/torchdrug/datasets\n",
            "copying build/lib/torchdrug/datasets/citeseer.py -> build/bdist.linux-x86_64/egg/torchdrug/datasets\n",
            "copying build/lib/torchdrug/datasets/tox21.py -> build/bdist.linux-x86_64/egg/torchdrug/datasets\n",
            "copying build/lib/torchdrug/datasets/clintox.py -> build/bdist.linux-x86_64/egg/torchdrug/datasets\n",
            "copying build/lib/torchdrug/datasets/lipophilicity.py -> build/bdist.linux-x86_64/egg/torchdrug/datasets\n",
            "copying build/lib/torchdrug/datasets/chembl_filtered.py -> build/bdist.linux-x86_64/egg/torchdrug/datasets\n",
            "copying build/lib/torchdrug/datasets/delaney.py -> build/bdist.linux-x86_64/egg/torchdrug/datasets\n",
            "copying build/lib/torchdrug/datasets/moses.py -> build/bdist.linux-x86_64/egg/torchdrug/datasets\n",
            "copying build/lib/torchdrug/datasets/bbbp.py -> build/bdist.linux-x86_64/egg/torchdrug/datasets\n",
            "copying build/lib/torchdrug/datasets/fluorescence.py -> build/bdist.linux-x86_64/egg/torchdrug/datasets\n",
            "copying build/lib/torchdrug/datasets/hiv.py -> build/bdist.linux-x86_64/egg/torchdrug/datasets\n",
            "copying build/lib/torchdrug/datasets/yeast_ppi.py -> build/bdist.linux-x86_64/egg/torchdrug/datasets\n",
            "copying build/lib/torchdrug/datasets/solubility.py -> build/bdist.linux-x86_64/egg/torchdrug/datasets\n",
            "copying build/lib/torchdrug/datasets/opv.py -> build/bdist.linux-x86_64/egg/torchdrug/datasets\n",
            "copying build/lib/torchdrug/datasets/cep.py -> build/bdist.linux-x86_64/egg/torchdrug/datasets\n",
            "copying build/lib/torchdrug/datasets/pubmed.py -> build/bdist.linux-x86_64/egg/torchdrug/datasets\n",
            "copying build/lib/torchdrug/datasets/pubchem110m.py -> build/bdist.linux-x86_64/egg/torchdrug/datasets\n",
            "copying build/lib/torchdrug/datasets/human_ppi.py -> build/bdist.linux-x86_64/egg/torchdrug/datasets\n",
            "copying build/lib/torchdrug/datasets/stability.py -> build/bdist.linux-x86_64/egg/torchdrug/datasets\n",
            "copying build/lib/torchdrug/datasets/gene_ontology.py -> build/bdist.linux-x86_64/egg/torchdrug/datasets\n",
            "copying build/lib/torchdrug/datasets/zinc2m.py -> build/bdist.linux-x86_64/egg/torchdrug/datasets\n",
            "copying build/lib/torchdrug/datasets/sider.py -> build/bdist.linux-x86_64/egg/torchdrug/datasets\n",
            "creating build/bdist.linux-x86_64/egg/torchdrug/utils\n",
            "copying build/lib/torchdrug/utils/plot.py -> build/bdist.linux-x86_64/egg/torchdrug/utils\n",
            "copying build/lib/torchdrug/utils/io.py -> build/bdist.linux-x86_64/egg/torchdrug/utils\n",
            "copying build/lib/torchdrug/utils/file.py -> build/bdist.linux-x86_64/egg/torchdrug/utils\n",
            "copying build/lib/torchdrug/utils/comm.py -> build/bdist.linux-x86_64/egg/torchdrug/utils\n",
            "copying build/lib/torchdrug/utils/doc.py -> build/bdist.linux-x86_64/egg/torchdrug/utils\n",
            "copying build/lib/torchdrug/utils/pretty.py -> build/bdist.linux-x86_64/egg/torchdrug/utils\n",
            "copying build/lib/torchdrug/utils/__init__.py -> build/bdist.linux-x86_64/egg/torchdrug/utils\n",
            "creating build/bdist.linux-x86_64/egg/torchdrug/utils/extension\n",
            "copying build/lib/torchdrug/utils/extension/__init__.py -> build/bdist.linux-x86_64/egg/torchdrug/utils/extension\n",
            "copying build/lib/torchdrug/utils/extension/torch_ext.cpp -> build/bdist.linux-x86_64/egg/torchdrug/utils/extension\n",
            "copying build/lib/torchdrug/utils/torch.py -> build/bdist.linux-x86_64/egg/torchdrug/utils\n",
            "creating build/bdist.linux-x86_64/egg/torchdrug/utils/template\n",
            "copying build/lib/torchdrug/utils/template/echarts.html -> build/bdist.linux-x86_64/egg/torchdrug/utils/template\n",
            "copying build/lib/torchdrug/utils/decorator.py -> build/bdist.linux-x86_64/egg/torchdrug/utils\n",
            "byte-compiling build/bdist.linux-x86_64/egg/torchdrug/metrics/__init__.py to __init__.cpython-37.pyc\n",
            "byte-compiling build/bdist.linux-x86_64/egg/torchdrug/metrics/metric.py to metric.cpython-37.pyc\n",
            "byte-compiling build/bdist.linux-x86_64/egg/torchdrug/metrics/rdkit/__init__.py to __init__.cpython-37.pyc\n",
            "byte-compiling build/bdist.linux-x86_64/egg/torchdrug/metrics/rdkit/sascorer.py to sascorer.cpython-37.pyc\n",
            "byte-compiling build/bdist.linux-x86_64/egg/torchdrug/transforms/transform.py to transform.cpython-37.pyc\n",
            "byte-compiling build/bdist.linux-x86_64/egg/torchdrug/transforms/__init__.py to __init__.cpython-37.pyc\n",
            "byte-compiling build/bdist.linux-x86_64/egg/torchdrug/models/lstm.py to lstm.cpython-37.pyc\n",
            "byte-compiling build/bdist.linux-x86_64/egg/torchdrug/models/gcn.py to gcn.cpython-37.pyc\n",
            "byte-compiling build/bdist.linux-x86_64/egg/torchdrug/models/chebnet.py to chebnet.cpython-37.pyc\n",
            "byte-compiling build/bdist.linux-x86_64/egg/torchdrug/models/cnn.py to cnn.cpython-37.pyc\n",
            "byte-compiling build/bdist.linux-x86_64/egg/torchdrug/models/kbgat.py to kbgat.cpython-37.pyc\n",
            "byte-compiling build/bdist.linux-x86_64/egg/torchdrug/models/bert.py to bert.cpython-37.pyc\n",
            "byte-compiling build/bdist.linux-x86_64/egg/torchdrug/models/mpnn.py to mpnn.cpython-37.pyc\n",
            "byte-compiling build/bdist.linux-x86_64/egg/torchdrug/models/gearnet.py to gearnet.cpython-37.pyc\n",
            "byte-compiling build/bdist.linux-x86_64/egg/torchdrug/models/flow.py to flow.cpython-37.pyc\n",
            "byte-compiling build/bdist.linux-x86_64/egg/torchdrug/models/infograph.py to infograph.cpython-37.pyc\n",
            "byte-compiling build/bdist.linux-x86_64/egg/torchdrug/models/__init__.py to __init__.cpython-37.pyc\n",
            "byte-compiling build/bdist.linux-x86_64/egg/torchdrug/models/esm.py to esm.cpython-37.pyc\n",
            "byte-compiling build/bdist.linux-x86_64/egg/torchdrug/models/embedding.py to embedding.cpython-37.pyc\n",
            "byte-compiling build/bdist.linux-x86_64/egg/torchdrug/models/schnet.py to schnet.cpython-37.pyc\n",
            "byte-compiling build/bdist.linux-x86_64/egg/torchdrug/models/physicochemical.py to physicochemical.cpython-37.pyc\n",
            "byte-compiling build/bdist.linux-x86_64/egg/torchdrug/models/neuralfp.py to neuralfp.cpython-37.pyc\n",
            "byte-compiling build/bdist.linux-x86_64/egg/torchdrug/models/gin.py to gin.cpython-37.pyc\n",
            "byte-compiling build/bdist.linux-x86_64/egg/torchdrug/models/neurallp.py to neurallp.cpython-37.pyc\n",
            "byte-compiling build/bdist.linux-x86_64/egg/torchdrug/models/gat.py to gat.cpython-37.pyc\n",
            "byte-compiling build/bdist.linux-x86_64/egg/torchdrug/models/statistic.py to statistic.cpython-37.pyc\n",
            "byte-compiling build/bdist.linux-x86_64/egg/torchdrug/data/molecule.py to molecule.cpython-37.pyc\n",
            "byte-compiling build/bdist.linux-x86_64/egg/torchdrug/data/protein.py to protein.cpython-37.pyc\n",
            "byte-compiling build/bdist.linux-x86_64/egg/torchdrug/data/dataloader.py to dataloader.cpython-37.pyc\n",
            "byte-compiling build/bdist.linux-x86_64/egg/torchdrug/data/__init__.py to __init__.cpython-37.pyc\n",
            "byte-compiling build/bdist.linux-x86_64/egg/torchdrug/data/feature.py to feature.cpython-37.pyc\n",
            "byte-compiling build/bdist.linux-x86_64/egg/torchdrug/data/dictionary.py to dictionary.cpython-37.pyc\n",
            "byte-compiling build/bdist.linux-x86_64/egg/torchdrug/data/rdkit/draw.py to draw.cpython-37.pyc\n",
            "byte-compiling build/bdist.linux-x86_64/egg/torchdrug/data/rdkit/__init__.py to __init__.cpython-37.pyc\n",
            "byte-compiling build/bdist.linux-x86_64/egg/torchdrug/data/dataset.py to dataset.cpython-37.pyc\n",
            "byte-compiling build/bdist.linux-x86_64/egg/torchdrug/data/graph.py to graph.cpython-37.pyc\n",
            "byte-compiling build/bdist.linux-x86_64/egg/torchdrug/data/constant.py to constant.cpython-37.pyc\n",
            "byte-compiling build/bdist.linux-x86_64/egg/torchdrug/layers/readout.py to readout.cpython-37.pyc\n",
            "byte-compiling build/bdist.linux-x86_64/egg/torchdrug/layers/distribution.py to distribution.cpython-37.pyc\n",
            "byte-compiling build/bdist.linux-x86_64/egg/torchdrug/layers/sampler.py to sampler.cpython-37.pyc\n",
            "byte-compiling build/bdist.linux-x86_64/egg/torchdrug/layers/functional/functional.py to functional.cpython-37.pyc\n",
            "byte-compiling build/bdist.linux-x86_64/egg/torchdrug/layers/functional/spmm.py to spmm.cpython-37.pyc\n",
            "byte-compiling build/bdist.linux-x86_64/egg/torchdrug/layers/functional/__init__.py to __init__.cpython-37.pyc\n",
            "byte-compiling build/bdist.linux-x86_64/egg/torchdrug/layers/functional/extension/__init__.py to __init__.cpython-37.pyc\n",
            "byte-compiling build/bdist.linux-x86_64/egg/torchdrug/layers/functional/embedding.py to embedding.cpython-37.pyc\n",
            "byte-compiling build/bdist.linux-x86_64/egg/torchdrug/layers/flow.py to flow.cpython-37.pyc\n",
            "byte-compiling build/bdist.linux-x86_64/egg/torchdrug/layers/common.py to common.cpython-37.pyc\n",
            "byte-compiling build/bdist.linux-x86_64/egg/torchdrug/layers/__init__.py to __init__.cpython-37.pyc\n",
            "byte-compiling build/bdist.linux-x86_64/egg/torchdrug/layers/pool.py to pool.cpython-37.pyc\n",
            "byte-compiling build/bdist.linux-x86_64/egg/torchdrug/layers/geometry/function.py to function.cpython-37.pyc\n",
            "byte-compiling build/bdist.linux-x86_64/egg/torchdrug/layers/geometry/__init__.py to __init__.cpython-37.pyc\n",
            "byte-compiling build/bdist.linux-x86_64/egg/torchdrug/layers/geometry/graph.py to graph.cpython-37.pyc\n",
            "byte-compiling build/bdist.linux-x86_64/egg/torchdrug/layers/conv.py to conv.cpython-37.pyc\n",
            "byte-compiling build/bdist.linux-x86_64/egg/torchdrug/layers/block.py to block.cpython-37.pyc\n",
            "byte-compiling build/bdist.linux-x86_64/egg/torchdrug/__init__.py to __init__.cpython-37.pyc\n",
            "byte-compiling build/bdist.linux-x86_64/egg/torchdrug/core/__init__.py to __init__.cpython-37.pyc\n",
            "byte-compiling build/bdist.linux-x86_64/egg/torchdrug/core/engine.py to engine.cpython-37.pyc\n",
            "byte-compiling build/bdist.linux-x86_64/egg/torchdrug/core/logger.py to logger.cpython-37.pyc\n",
            "byte-compiling build/bdist.linux-x86_64/egg/torchdrug/core/core.py to core.cpython-37.pyc\n",
            "byte-compiling build/bdist.linux-x86_64/egg/torchdrug/core/meter.py to meter.cpython-37.pyc\n",
            "byte-compiling build/bdist.linux-x86_64/egg/torchdrug/tasks/generation.py to generation.cpython-37.pyc\n",
            "byte-compiling build/bdist.linux-x86_64/egg/torchdrug/tasks/property_prediction.py to property_prediction.cpython-37.pyc\n",
            "byte-compiling build/bdist.linux-x86_64/egg/torchdrug/tasks/task.py to task.cpython-37.pyc\n",
            "byte-compiling build/bdist.linux-x86_64/egg/torchdrug/tasks/contact_prediction.py to contact_prediction.cpython-37.pyc\n",
            "byte-compiling build/bdist.linux-x86_64/egg/torchdrug/tasks/__init__.py to __init__.cpython-37.pyc\n",
            "byte-compiling build/bdist.linux-x86_64/egg/torchdrug/tasks/reasoning.py to reasoning.cpython-37.pyc\n",
            "byte-compiling build/bdist.linux-x86_64/egg/torchdrug/tasks/pretrain.py to pretrain.cpython-37.pyc\n",
            "byte-compiling build/bdist.linux-x86_64/egg/torchdrug/tasks/retrosynthesis.py to retrosynthesis.cpython-37.pyc\n",
            "byte-compiling build/bdist.linux-x86_64/egg/torchdrug/patch.py to patch.cpython-37.pyc\n",
            "byte-compiling build/bdist.linux-x86_64/egg/torchdrug/datasets/proteinnet.py to proteinnet.cpython-37.pyc\n",
            "byte-compiling build/bdist.linux-x86_64/egg/torchdrug/datasets/qm8.py to qm8.cpython-37.pyc\n",
            "byte-compiling build/bdist.linux-x86_64/egg/torchdrug/datasets/bindingdb.py to bindingdb.cpython-37.pyc\n",
            "byte-compiling build/bdist.linux-x86_64/egg/torchdrug/datasets/alphafolddb.py to alphafolddb.cpython-37.pyc\n",
            "byte-compiling build/bdist.linux-x86_64/egg/torchdrug/datasets/enzyme_commission.py to enzyme_commission.cpython-37.pyc\n",
            "byte-compiling build/bdist.linux-x86_64/egg/torchdrug/datasets/fold.py to fold.cpython-37.pyc\n",
            "byte-compiling build/bdist.linux-x86_64/egg/torchdrug/datasets/bace.py to bace.cpython-37.pyc\n",
            "byte-compiling build/bdist.linux-x86_64/egg/torchdrug/datasets/cora.py to cora.cpython-37.pyc\n",
            "byte-compiling build/bdist.linux-x86_64/egg/torchdrug/datasets/binary_localization.py to binary_localization.cpython-37.pyc\n",
            "byte-compiling build/bdist.linux-x86_64/egg/torchdrug/datasets/beta_lactamase.py to beta_lactamase.cpython-37.pyc\n",
            "byte-compiling build/bdist.linux-x86_64/egg/torchdrug/datasets/ppi_affinity.py to ppi_affinity.cpython-37.pyc\n",
            "byte-compiling build/bdist.linux-x86_64/egg/torchdrug/datasets/malaria.py to malaria.cpython-37.pyc\n",
            "byte-compiling build/bdist.linux-x86_64/egg/torchdrug/datasets/zinc250k.py to zinc250k.cpython-37.pyc\n",
            "Sorry: IndentationError: unexpected indent (zinc250k.py, line 1)\n",
            "byte-compiling build/bdist.linux-x86_64/egg/torchdrug/datasets/freesolv.py to freesolv.cpython-37.pyc\n",
            "byte-compiling build/bdist.linux-x86_64/egg/torchdrug/datasets/toxcast.py to toxcast.cpython-37.pyc\n",
            "byte-compiling build/bdist.linux-x86_64/egg/torchdrug/datasets/uspto50k.py to uspto50k.cpython-37.pyc\n",
            "byte-compiling build/bdist.linux-x86_64/egg/torchdrug/datasets/secondary_structure.py to secondary_structure.cpython-37.pyc\n",
            "byte-compiling build/bdist.linux-x86_64/egg/torchdrug/datasets/pcqm4m.py to pcqm4m.cpython-37.pyc\n",
            "byte-compiling build/bdist.linux-x86_64/egg/torchdrug/datasets/hetionet.py to hetionet.cpython-37.pyc\n",
            "byte-compiling build/bdist.linux-x86_64/egg/torchdrug/datasets/muv.py to muv.cpython-37.pyc\n",
            "byte-compiling build/bdist.linux-x86_64/egg/torchdrug/datasets/__init__.py to __init__.cpython-37.pyc\n",
            "byte-compiling build/bdist.linux-x86_64/egg/torchdrug/datasets/fb15k.py to fb15k.cpython-37.pyc\n",
            "byte-compiling build/bdist.linux-x86_64/egg/torchdrug/datasets/qm9.py to qm9.cpython-37.pyc\n",
            "byte-compiling build/bdist.linux-x86_64/egg/torchdrug/datasets/pdbbind.py to pdbbind.cpython-37.pyc\n",
            "byte-compiling build/bdist.linux-x86_64/egg/torchdrug/datasets/subcellular_localization.py to subcellular_localization.cpython-37.pyc\n",
            "byte-compiling build/bdist.linux-x86_64/egg/torchdrug/datasets/wn18.py to wn18.cpython-37.pyc\n",
            "byte-compiling build/bdist.linux-x86_64/egg/torchdrug/datasets/citeseer.py to citeseer.cpython-37.pyc\n",
            "byte-compiling build/bdist.linux-x86_64/egg/torchdrug/datasets/tox21.py to tox21.cpython-37.pyc\n",
            "byte-compiling build/bdist.linux-x86_64/egg/torchdrug/datasets/clintox.py to clintox.cpython-37.pyc\n",
            "byte-compiling build/bdist.linux-x86_64/egg/torchdrug/datasets/lipophilicity.py to lipophilicity.cpython-37.pyc\n",
            "byte-compiling build/bdist.linux-x86_64/egg/torchdrug/datasets/chembl_filtered.py to chembl_filtered.cpython-37.pyc\n",
            "byte-compiling build/bdist.linux-x86_64/egg/torchdrug/datasets/delaney.py to delaney.cpython-37.pyc\n",
            "byte-compiling build/bdist.linux-x86_64/egg/torchdrug/datasets/moses.py to moses.cpython-37.pyc\n",
            "byte-compiling build/bdist.linux-x86_64/egg/torchdrug/datasets/bbbp.py to bbbp.cpython-37.pyc\n",
            "byte-compiling build/bdist.linux-x86_64/egg/torchdrug/datasets/fluorescence.py to fluorescence.cpython-37.pyc\n",
            "byte-compiling build/bdist.linux-x86_64/egg/torchdrug/datasets/hiv.py to hiv.cpython-37.pyc\n",
            "byte-compiling build/bdist.linux-x86_64/egg/torchdrug/datasets/yeast_ppi.py to yeast_ppi.cpython-37.pyc\n",
            "byte-compiling build/bdist.linux-x86_64/egg/torchdrug/datasets/solubility.py to solubility.cpython-37.pyc\n",
            "byte-compiling build/bdist.linux-x86_64/egg/torchdrug/datasets/opv.py to opv.cpython-37.pyc\n",
            "byte-compiling build/bdist.linux-x86_64/egg/torchdrug/datasets/cep.py to cep.cpython-37.pyc\n",
            "byte-compiling build/bdist.linux-x86_64/egg/torchdrug/datasets/pubmed.py to pubmed.cpython-37.pyc\n",
            "byte-compiling build/bdist.linux-x86_64/egg/torchdrug/datasets/pubchem110m.py to pubchem110m.cpython-37.pyc\n",
            "byte-compiling build/bdist.linux-x86_64/egg/torchdrug/datasets/human_ppi.py to human_ppi.cpython-37.pyc\n",
            "byte-compiling build/bdist.linux-x86_64/egg/torchdrug/datasets/stability.py to stability.cpython-37.pyc\n",
            "byte-compiling build/bdist.linux-x86_64/egg/torchdrug/datasets/gene_ontology.py to gene_ontology.cpython-37.pyc\n",
            "byte-compiling build/bdist.linux-x86_64/egg/torchdrug/datasets/zinc2m.py to zinc2m.cpython-37.pyc\n",
            "byte-compiling build/bdist.linux-x86_64/egg/torchdrug/datasets/sider.py to sider.cpython-37.pyc\n",
            "byte-compiling build/bdist.linux-x86_64/egg/torchdrug/utils/plot.py to plot.cpython-37.pyc\n",
            "byte-compiling build/bdist.linux-x86_64/egg/torchdrug/utils/io.py to io.cpython-37.pyc\n",
            "byte-compiling build/bdist.linux-x86_64/egg/torchdrug/utils/file.py to file.cpython-37.pyc\n",
            "byte-compiling build/bdist.linux-x86_64/egg/torchdrug/utils/comm.py to comm.cpython-37.pyc\n",
            "byte-compiling build/bdist.linux-x86_64/egg/torchdrug/utils/doc.py to doc.cpython-37.pyc\n",
            "byte-compiling build/bdist.linux-x86_64/egg/torchdrug/utils/pretty.py to pretty.cpython-37.pyc\n",
            "byte-compiling build/bdist.linux-x86_64/egg/torchdrug/utils/__init__.py to __init__.cpython-37.pyc\n",
            "byte-compiling build/bdist.linux-x86_64/egg/torchdrug/utils/extension/__init__.py to __init__.cpython-37.pyc\n",
            "byte-compiling build/bdist.linux-x86_64/egg/torchdrug/utils/torch.py to torch.cpython-37.pyc\n",
            "byte-compiling build/bdist.linux-x86_64/egg/torchdrug/utils/decorator.py to decorator.cpython-37.pyc\n",
            "creating build/bdist.linux-x86_64/egg/EGG-INFO\n",
            "copying torchdrug.egg-info/PKG-INFO -> build/bdist.linux-x86_64/egg/EGG-INFO\n",
            "copying torchdrug.egg-info/SOURCES.txt -> build/bdist.linux-x86_64/egg/EGG-INFO\n",
            "copying torchdrug.egg-info/dependency_links.txt -> build/bdist.linux-x86_64/egg/EGG-INFO\n",
            "copying torchdrug.egg-info/requires.txt -> build/bdist.linux-x86_64/egg/EGG-INFO\n",
            "copying torchdrug.egg-info/top_level.txt -> build/bdist.linux-x86_64/egg/EGG-INFO\n",
            "zip_safe flag not set; analyzing archive contents...\n",
            "torchdrug.layers.functional.__pycache__.embedding.cpython-37: module references __file__\n",
            "torchdrug.layers.functional.__pycache__.spmm.cpython-37: module references __file__\n",
            "torchdrug.metrics.rdkit.__pycache__.sascorer.cpython-37: module references __file__\n",
            "torchdrug.tasks.__pycache__.retrosynthesis.cpython-37: module MAY be using inspect.stack\n",
            "torchdrug.utils.__pycache__.plot.cpython-37: module references __file__\n",
            "torchdrug.utils.__pycache__.torch.cpython-37: module references __file__\n",
            "creating dist\n",
            "creating 'dist/torchdrug-0.2.0-py3.7.egg' and adding 'build/bdist.linux-x86_64/egg' to it\n",
            "removing 'build/bdist.linux-x86_64/egg' (and everything under it)\n",
            "Processing torchdrug-0.2.0-py3.7.egg\n",
            "creating /usr/local/lib/python3.7/dist-packages/torchdrug-0.2.0-py3.7.egg\n",
            "Extracting torchdrug-0.2.0-py3.7.egg to /usr/local/lib/python3.7/dist-packages\n",
            "Sorry: IndentationError: unexpected indent (zinc250k.py, line 1)\n",
            "Adding torchdrug 0.2.0 to easy-install.pth file\n",
            "\n",
            "Installed /usr/local/lib/python3.7/dist-packages/torchdrug-0.2.0-py3.7.egg\n",
            "Processing dependencies for torchdrug==0.2.0\n",
            "Searching for fair-esm==0.1.0\n",
            "Best match: fair-esm 0.1.0\n",
            "Adding fair-esm 0.1.0 to easy-install.pth file\n",
            "\n",
            "Using /usr/local/lib/python3.7/dist-packages\n",
            "Searching for lmdb==0.99\n",
            "Best match: lmdb 0.99\n",
            "Adding lmdb 0.99 to easy-install.pth file\n",
            "\n",
            "Using /usr/local/lib/python3.7/dist-packages\n",
            "Searching for Jinja2==2.11.3\n",
            "Best match: Jinja2 2.11.3\n",
            "Adding Jinja2 2.11.3 to easy-install.pth file\n",
            "\n",
            "Using /usr/local/lib/python3.7/dist-packages\n",
            "Searching for ninja==1.10.2.4\n",
            "Best match: ninja 1.10.2.4\n",
            "Adding ninja 1.10.2.4 to easy-install.pth file\n",
            "Installing ninja script to /usr/local/bin\n",
            "\n",
            "Using /usr/local/lib/python3.7/dist-packages\n",
            "Searching for networkx==2.6.3\n",
            "Best match: networkx 2.6.3\n",
            "Adding networkx 2.6.3 to easy-install.pth file\n",
            "\n",
            "Using /usr/local/lib/python3.7/dist-packages\n",
            "Searching for tqdm==4.64.1\n",
            "Best match: tqdm 4.64.1\n",
            "Adding tqdm 4.64.1 to easy-install.pth file\n",
            "Installing tqdm script to /usr/local/bin\n",
            "\n",
            "Using /usr/local/lib/python3.7/dist-packages\n",
            "Searching for matplotlib==3.2.2\n",
            "Best match: matplotlib 3.2.2\n",
            "Adding matplotlib 3.2.2 to easy-install.pth file\n",
            "\n",
            "Using /usr/local/lib/python3.7/dist-packages\n",
            "Searching for rdkit-pypi==2022.9.2\n",
            "Best match: rdkit-pypi 2022.9.2\n",
            "Adding rdkit-pypi 2022.9.2 to easy-install.pth file\n",
            "\n",
            "Using /usr/local/lib/python3.7/dist-packages\n",
            "Searching for numpy==1.21.6\n",
            "Best match: numpy 1.21.6\n",
            "Adding numpy 1.21.6 to easy-install.pth file\n",
            "Installing f2py script to /usr/local/bin\n",
            "Installing f2py3 script to /usr/local/bin\n",
            "Installing f2py3.7 script to /usr/local/bin\n",
            "\n",
            "Using /usr/local/lib/python3.7/dist-packages\n",
            "Searching for decorator==4.4.2\n",
            "Best match: decorator 4.4.2\n",
            "Adding decorator 4.4.2 to easy-install.pth file\n",
            "\n",
            "Using /usr/local/lib/python3.7/dist-packages\n",
            "Searching for torch-cluster==1.6.0+pt112cu113\n",
            "Best match: torch-cluster 1.6.0+pt112cu113\n",
            "Adding torch-cluster 1.6.0+pt112cu113 to easy-install.pth file\n",
            "\n",
            "Using /usr/local/lib/python3.7/dist-packages\n",
            "Searching for torch-scatter==2.1.0+pt112cu113\n",
            "Best match: torch-scatter 2.1.0+pt112cu113\n",
            "Adding torch-scatter 2.1.0+pt112cu113 to easy-install.pth file\n",
            "\n",
            "Using /usr/local/lib/python3.7/dist-packages\n",
            "Searching for torch==1.12.1+cu113\n",
            "Best match: torch 1.12.1+cu113\n",
            "Adding torch 1.12.1+cu113 to easy-install.pth file\n",
            "Installing convert-caffe2-to-onnx script to /usr/local/bin\n",
            "Installing convert-onnx-to-caffe2 script to /usr/local/bin\n",
            "Installing torchrun script to /usr/local/bin\n",
            "\n",
            "Using /usr/local/lib/python3.7/dist-packages\n",
            "Searching for MarkupSafe==2.0.1\n",
            "Best match: MarkupSafe 2.0.1\n",
            "Adding MarkupSafe 2.0.1 to easy-install.pth file\n",
            "\n",
            "Using /usr/local/lib/python3.7/dist-packages\n",
            "Searching for kiwisolver==1.4.4\n",
            "Best match: kiwisolver 1.4.4\n",
            "Adding kiwisolver 1.4.4 to easy-install.pth file\n",
            "\n",
            "Using /usr/local/lib/python3.7/dist-packages\n",
            "Searching for python-dateutil==2.8.2\n",
            "Best match: python-dateutil 2.8.2\n",
            "Adding python-dateutil 2.8.2 to easy-install.pth file\n",
            "\n",
            "Using /usr/local/lib/python3.7/dist-packages\n",
            "Searching for pyparsing==3.0.9\n",
            "Best match: pyparsing 3.0.9\n",
            "Adding pyparsing 3.0.9 to easy-install.pth file\n",
            "\n",
            "Using /usr/local/lib/python3.7/dist-packages\n",
            "Searching for cycler==0.11.0\n",
            "Best match: cycler 0.11.0\n",
            "Adding cycler 0.11.0 to easy-install.pth file\n",
            "\n",
            "Using /usr/local/lib/python3.7/dist-packages\n",
            "Searching for Pillow==7.1.2\n",
            "Best match: Pillow 7.1.2\n",
            "Adding Pillow 7.1.2 to easy-install.pth file\n",
            "\n",
            "Using /usr/local/lib/python3.7/dist-packages\n",
            "Searching for scipy==1.7.3\n",
            "Best match: scipy 1.7.3\n",
            "Adding scipy 1.7.3 to easy-install.pth file\n",
            "\n",
            "Using /usr/local/lib/python3.7/dist-packages\n",
            "Searching for typing-extensions==4.1.1\n",
            "Best match: typing-extensions 4.1.1\n",
            "Adding typing-extensions 4.1.1 to easy-install.pth file\n",
            "\n",
            "Using /usr/local/lib/python3.7/dist-packages\n",
            "Searching for six==1.15.0\n",
            "Best match: six 1.15.0\n",
            "Adding six 1.15.0 to easy-install.pth file\n",
            "\n",
            "Using /usr/local/lib/python3.7/dist-packages\n",
            "Finished processing dependencies for torchdrug==0.2.0\n"
          ]
        }
      ]
    },
    {
      "cell_type": "markdown",
      "source": [
        "# **Prepare the Pretraining Dataset(5 min)**"
      ],
      "metadata": {
        "id": "w1gaxOzxGttx"
      }
    },
    {
      "cell_type": "markdown",
      "source": [
        "**add a new dataset with the following:**"
      ],
      "metadata": {
        "id": "QKxdwuYDT7Jg"
      }
    },
    {
      "cell_type": "code",
      "source": [
        "import os\n",
        "\n",
        "from torchdrug import data, utils\n",
        "from torchdrug.core import Registry as R\n",
        "\n",
        "\n",
        "@R.register(\"datasets.ZINC250k\")\n",
        "@utils.copy_args(data.MoleculeDataset.load_csv, ignore=(\"smiles_field\", \"target_fields\"))\n",
        "class ZINC250k(data.MoleculeDataset):\n",
        "    \"\"\"\n",
        "    Subset of Flavonoid compound database for virtual screening.\n",
        "\n",
        "    Statistics:\n",
        "        - #Molecule: 4,800\n",
        "        - #Regression task: 2\n",
        "\n",
        "    Parameters:\n",
        "        path (str): path to store the dataset\n",
        "        verbose (int, optional): output verbose level\n",
        "        **kwargs\n",
        "    \"\"\"\n",
        "\n",
        "    url = \"https://raw.githubusercontent.com/goga0001/graph/main/data.csv\"\n",
        "\n",
        "    target_fields = [\"logP\", \"qed\"]\n",
        "\n",
        "    def __init__(self, path, verbose=1, **kwargs):\n",
        "        path = os.path.expanduser(path)\n",
        "        if not os.path.exists(path):\n",
        "            os.makedirs(path)\n",
        "        self.path = path\n",
        "\n",
        "        file_name = utils.download(self.url, path)\n",
        "\n",
        "        self.load_csv(file_name, smiles_field=\"smiles\", target_fields=self.target_fields,\n",
        "                      verbose=verbose, **kwargs)"
      ],
      "metadata": {
        "id": "CwyqfeDZidAp"
      },
      "execution_count": null,
      "outputs": []
    },
    {
      "cell_type": "code",
      "source": [
        "import torch\n",
        "from torchdrug import datasets\n",
        "\n",
        "dataset = datasets.ZINC250k(\"~/molecule-datasets/\", kekulize=True,\n",
        "                            atom_feature=\"symbol\")"
      ],
      "metadata": {
        "colab": {
          "base_uri": "https://localhost:8080/"
        },
        "id": "933MDBxTf_XV",
        "outputId": "1908da5c-760e-49b9-bcd2-9f7e12629679"
      },
      "execution_count": null,
      "outputs": [
        {
          "output_type": "stream",
          "name": "stderr",
          "text": [
            "INFO:torchdrug.utils.file:Downloading https://raw.githubusercontent.com/goga0001/graph/main/data.csv to /root/molecule-datasets/data.csv\n"
          ]
        },
        {
          "output_type": "stream",
          "name": "stdout",
          "text": [
            "21:06:13   Downloading https://raw.githubusercontent.com/goga0001/graph/main/data.csv to /root/molecule-datasets/data.csv\n"
          ]
        },
        {
          "output_type": "stream",
          "name": "stderr",
          "text": [
            "Loading /root/molecule-datasets/data.csv: 4807it [00:00, 73340.97it/s]            \n",
            "Constructing molecules from SMILES: 100%|██████████| 4806/4806 [00:08<00:00, 546.89it/s]\n"
          ]
        }
      ]
    },
    {
      "cell_type": "markdown",
      "source": [
        "# **Define the Model: GraphAF (30sec)**"
      ],
      "metadata": {
        "id": "Y4XR-lzMG9NQ"
      }
    },
    {
      "cell_type": "code",
      "source": [
        "from torchdrug import core, models, tasks\n",
        "from torchdrug.layers import distribution\n",
        "\n",
        "model = models.RGCN(input_dim=dataset.num_atom_type,\n",
        "                    num_relation=dataset.num_bond_type,\n",
        "                    hidden_dims=[256, 256, 256], batch_norm=True)\n",
        "\n",
        "num_atom_type = dataset.num_atom_type\n",
        "# add one class for non-edge\n",
        "num_bond_type = dataset.num_bond_type + 1\n",
        "\n",
        "node_prior = distribution.IndependentGaussian(torch.zeros(num_atom_type),\n",
        "                                              torch.ones(num_atom_type))\n",
        "edge_prior = distribution.IndependentGaussian(torch.zeros(num_bond_type),\n",
        "                                              torch.ones(num_bond_type))\n",
        "node_flow = models.GraphAF(model, node_prior, num_layer=12)\n",
        "edge_flow = models.GraphAF(model, edge_prior, use_edge=True, num_layer=12)\n",
        "\n",
        "task = tasks.AutoregressiveGeneration(node_flow, edge_flow,\n",
        "                                      max_node=38, max_edge_unroll=12,\n",
        "                                      criterion=\"nll\")"
      ],
      "metadata": {
        "id": "_6TcKm0Ovo4p"
      },
      "execution_count": null,
      "outputs": []
    },
    {
      "cell_type": "code",
      "source": [
        "dataset.num_bond_type"
      ],
      "metadata": {
        "colab": {
          "base_uri": "https://localhost:8080/"
        },
        "id": "rbu9Zlnwax-M",
        "outputId": "5126c574-a8ee-413a-fdf2-78fd641b26ca"
      },
      "execution_count": null,
      "outputs": [
        {
          "output_type": "execute_result",
          "data": {
            "text/plain": [
              "2"
            ]
          },
          "metadata": {},
          "execution_count": 12
        }
      ]
    },
    {
      "cell_type": "code",
      "source": [
        "model.layers[0].num_relation"
      ],
      "metadata": {
        "id": "dAbr1bp2gUs2",
        "outputId": "e7ae9ee5-34e5-469b-f5b6-0e59d0b07503",
        "colab": {
          "base_uri": "https://localhost:8080/"
        }
      },
      "execution_count": null,
      "outputs": [
        {
          "output_type": "execute_result",
          "data": {
            "text/plain": [
              "2"
            ]
          },
          "metadata": {},
          "execution_count": 12
        }
      ]
    },
    {
      "cell_type": "code",
      "source": [
        "for data in dataset:\n",
        "  data['graph'].num_relation = torch.tensor(2)"
      ],
      "metadata": {
        "id": "al72RbTbgZjO"
      },
      "execution_count": null,
      "outputs": []
    },
    {
      "cell_type": "code",
      "source": [
        "dataset[3][\"graph\"].num_relation"
      ],
      "metadata": {
        "colab": {
          "base_uri": "https://localhost:8080/"
        },
        "id": "TOMeHU4ARZ_J",
        "outputId": "b58a8d4e-25fc-4a1c-9d14-7d47868f0296"
      },
      "execution_count": null,
      "outputs": [
        {
          "output_type": "execute_result",
          "data": {
            "text/plain": [
              "tensor(2)"
            ]
          },
          "metadata": {},
          "execution_count": 14
        }
      ]
    },
    {
      "cell_type": "markdown",
      "source": [
        "# **Pretraining and Generation: GraphAF**"
      ],
      "metadata": {
        "id": "DAFclFUMHBuL"
      }
    },
    {
      "cell_type": "code",
      "source": [
        "from torch import nn, optim\n",
        "optimizer = optim.Adam(task.parameters(), lr = 1e-3)\n",
        "solver = core.Engine(task, dataset, None, None, optimizer,\n",
        "                     gpus=(0,), batch_size=10, log_interval=10)\n",
        "\n",
        "solver.train(num_epoch=5)\n",
        "solver.save(\"graphaf_WB3.pkl\")"
      ],
      "metadata": {
        "id": "UFcUn1WVYoew",
        "outputId": "02d4fdf8-dc5e-405f-b8d0-f35d11187ff2",
        "colab": {
          "base_uri": "https://localhost:8080/"
        }
      },
      "execution_count": null,
      "outputs": [
        {
          "output_type": "stream",
          "name": "stderr",
          "text": [
            "WARNING:torchdrug.core.engine:Preprocess training set\n"
          ]
        },
        {
          "output_type": "stream",
          "name": "stdout",
          "text": [
            "21:30:29   Preprocess training set\n"
          ]
        },
        {
          "output_type": "stream",
          "name": "stderr",
          "text": [
            "WARNING:torchdrug.core.logger:{'batch_size': 10,\n",
            " 'class': 'core.Engine',\n",
            " 'gpus': (0,),\n",
            " 'gradient_interval': 1,\n",
            " 'log_interval': 10,\n",
            " 'logger': 'logging',\n",
            " 'num_worker': 0,\n",
            " 'optimizer': {'amsgrad': False,\n",
            "               'betas': (0.9, 0.999),\n",
            "               'capturable': False,\n",
            "               'class': 'optim.Adam',\n",
            "               'eps': 1e-08,\n",
            "               'foreach': None,\n",
            "               'lr': 0.001,\n",
            "               'maximize': False,\n",
            "               'weight_decay': 0},\n",
            " 'scheduler': None,\n",
            " 'task': {'agent_update_interval': 5,\n",
            "          'baseline_momentum': 0.9,\n",
            "          'class': 'tasks.AutoregressiveGeneration',\n",
            "          'criterion': 'nll',\n",
            "          'edge_model': {'class': 'models.GraphAF',\n",
            "                         'dequantization_noise': 0.9,\n",
            "                         'model': {'activation': 'relu',\n",
            "                                   'batch_norm': True,\n",
            "                                   'class': 'models.RGCN',\n",
            "                                   'concat_hidden': False,\n",
            "                                   'edge_input_dim': None,\n",
            "                                   'hidden_dims': [256, 256, 256],\n",
            "                                   'input_dim': 7,\n",
            "                                   'num_relation': 2,\n",
            "                                   'readout': 'sum',\n",
            "                                   'short_cut': False},\n",
            "                         'num_layer': 12,\n",
            "                         'num_mlp_layer': 2,\n",
            "                         'prior': IndependentGaussian(),\n",
            "                         'use_edge': True},\n",
            "          'gamma': 0.9,\n",
            "          'max_edge_unroll': 12,\n",
            "          'max_node': 38,\n",
            "          'node_model': {'class': 'models.GraphAF',\n",
            "                         'dequantization_noise': 0.9,\n",
            "                         'model': {'activation': 'relu',\n",
            "                                   'batch_norm': True,\n",
            "                                   'class': 'models.RGCN',\n",
            "                                   'concat_hidden': False,\n",
            "                                   'edge_input_dim': None,\n",
            "                                   'hidden_dims': [256, 256, 256],\n",
            "                                   'input_dim': 7,\n",
            "                                   'num_relation': 2,\n",
            "                                   'readout': 'sum',\n",
            "                                   'short_cut': False},\n",
            "                         'num_layer': 12,\n",
            "                         'num_mlp_layer': 2,\n",
            "                         'prior': IndependentGaussian(),\n",
            "                         'use_edge': False},\n",
            "          'num_edge_sample': -1,\n",
            "          'num_node_sample': -1,\n",
            "          'reward_temperature': 1,\n",
            "          'task': ()},\n",
            " 'test_set': None,\n",
            " 'train_set': {'atom_feature': 'symbol',\n",
            "               'class': 'datasets.ZINC250k',\n",
            "               'kekulize': True,\n",
            "               'path': '~/molecule-datasets/',\n",
            "               'verbose': 1},\n",
            " 'valid_set': None}\n"
          ]
        },
        {
          "output_type": "stream",
          "name": "stdout",
          "text": [
            "21:30:29   {'batch_size': 10,\n",
            " 'class': 'core.Engine',\n",
            " 'gpus': (0,),\n",
            " 'gradient_interval': 1,\n",
            " 'log_interval': 10,\n",
            " 'logger': 'logging',\n",
            " 'num_worker': 0,\n",
            " 'optimizer': {'amsgrad': False,\n",
            "               'betas': (0.9, 0.999),\n",
            "               'capturable': False,\n",
            "               'class': 'optim.Adam',\n",
            "               'eps': 1e-08,\n",
            "               'foreach': None,\n",
            "               'lr': 0.001,\n",
            "               'maximize': False,\n",
            "               'weight_decay': 0},\n",
            " 'scheduler': None,\n",
            " 'task': {'agent_update_interval': 5,\n",
            "          'baseline_momentum': 0.9,\n",
            "          'class': 'tasks.AutoregressiveGeneration',\n",
            "          'criterion': 'nll',\n",
            "          'edge_model': {'class': 'models.GraphAF',\n",
            "                         'dequantization_noise': 0.9,\n",
            "                         'model': {'activation': 'relu',\n",
            "                                   'batch_norm': True,\n",
            "                                   'class': 'models.RGCN',\n",
            "                                   'concat_hidden': False,\n",
            "                                   'edge_input_dim': None,\n",
            "                                   'hidden_dims': [256, 256, 256],\n",
            "                                   'input_dim': 7,\n",
            "                                   'num_relation': 2,\n",
            "                                   'readout': 'sum',\n",
            "                                   'short_cut': False},\n",
            "                         'num_layer': 12,\n",
            "                         'num_mlp_layer': 2,\n",
            "                         'prior': IndependentGaussian(),\n",
            "                         'use_edge': True},\n",
            "          'gamma': 0.9,\n",
            "          'max_edge_unroll': 12,\n",
            "          'max_node': 38,\n",
            "          'node_model': {'class': 'models.GraphAF',\n",
            "                         'dequantization_noise': 0.9,\n",
            "                         'model': {'activation': 'relu',\n",
            "                                   'batch_norm': True,\n",
            "                                   'class': 'models.RGCN',\n",
            "                                   'concat_hidden': False,\n",
            "                                   'edge_input_dim': None,\n",
            "                                   'hidden_dims': [256, 256, 256],\n",
            "                                   'input_dim': 7,\n",
            "                                   'num_relation': 2,\n",
            "                                   'readout': 'sum',\n",
            "                                   'short_cut': False},\n",
            "                         'num_layer': 12,\n",
            "                         'num_mlp_layer': 2,\n",
            "                         'prior': IndependentGaussian(),\n",
            "                         'use_edge': False},\n",
            "          'num_edge_sample': -1,\n",
            "          'num_node_sample': -1,\n",
            "          'reward_temperature': 1,\n",
            "          'task': ()},\n",
            " 'test_set': None,\n",
            " 'train_set': {'atom_feature': 'symbol',\n",
            "               'class': 'datasets.ZINC250k',\n",
            "               'kekulize': True,\n",
            "               'path': '~/molecule-datasets/',\n",
            "               'verbose': 1},\n",
            " 'valid_set': None}\n"
          ]
        },
        {
          "output_type": "stream",
          "name": "stderr",
          "text": [
            "WARNING:torchdrug.core.meter:>>>>>>>>>>>>>>>>>>>>>>>>>>>>>>\n"
          ]
        },
        {
          "output_type": "stream",
          "name": "stdout",
          "text": [
            "21:30:29   >>>>>>>>>>>>>>>>>>>>>>>>>>>>>>\n"
          ]
        },
        {
          "output_type": "stream",
          "name": "stderr",
          "text": [
            "WARNING:torchdrug.core.meter:Epoch 0 begin\n"
          ]
        },
        {
          "output_type": "stream",
          "name": "stdout",
          "text": [
            "21:30:29   Epoch 0 begin\n"
          ]
        },
        {
          "output_type": "stream",
          "name": "stderr",
          "text": [
            "WARNING:torchdrug.core.logger:>>>>>>>>>>>>>>>>>>>>>>>>>>>>>>\n"
          ]
        },
        {
          "output_type": "stream",
          "name": "stdout",
          "text": [
            "21:30:30   >>>>>>>>>>>>>>>>>>>>>>>>>>>>>>\n"
          ]
        },
        {
          "output_type": "stream",
          "name": "stderr",
          "text": [
            "WARNING:torchdrug.core.logger:edge log likelihood: -1.05047\n"
          ]
        },
        {
          "output_type": "stream",
          "name": "stdout",
          "text": [
            "21:30:30   edge log likelihood: -1.05047\n"
          ]
        },
        {
          "output_type": "stream",
          "name": "stderr",
          "text": [
            "WARNING:torchdrug.core.logger:edge mask / graph: 512.4\n"
          ]
        },
        {
          "output_type": "stream",
          "name": "stdout",
          "text": [
            "21:30:30   edge mask / graph: 512.4\n"
          ]
        },
        {
          "output_type": "stream",
          "name": "stderr",
          "text": [
            "WARNING:torchdrug.core.logger:node log likelihood: -14.1269\n"
          ]
        },
        {
          "output_type": "stream",
          "name": "stdout",
          "text": [
            "21:30:30   node log likelihood: -14.1269\n"
          ]
        },
        {
          "output_type": "stream",
          "name": "stderr",
          "text": [
            "WARNING:torchdrug.core.logger:node mask / graph: 49.2\n"
          ]
        },
        {
          "output_type": "stream",
          "name": "stdout",
          "text": [
            "21:30:30   node mask / graph: 49.2\n"
          ]
        },
        {
          "output_type": "stream",
          "name": "stderr",
          "text": [
            "WARNING:torchdrug.core.logger:>>>>>>>>>>>>>>>>>>>>>>>>>>>>>>\n"
          ]
        },
        {
          "output_type": "stream",
          "name": "stdout",
          "text": [
            "21:30:34   >>>>>>>>>>>>>>>>>>>>>>>>>>>>>>\n"
          ]
        },
        {
          "output_type": "stream",
          "name": "stderr",
          "text": [
            "WARNING:torchdrug.core.logger:edge log likelihood: -1.25808\n"
          ]
        },
        {
          "output_type": "stream",
          "name": "stdout",
          "text": [
            "21:30:34   edge log likelihood: -1.25808\n"
          ]
        },
        {
          "output_type": "stream",
          "name": "stderr",
          "text": [
            "WARNING:torchdrug.core.logger:edge mask / graph: 421.2\n"
          ]
        },
        {
          "output_type": "stream",
          "name": "stdout",
          "text": [
            "21:30:34   edge mask / graph: 421.2\n"
          ]
        },
        {
          "output_type": "stream",
          "name": "stderr",
          "text": [
            "WARNING:torchdrug.core.logger:node log likelihood: -213.741\n"
          ]
        },
        {
          "output_type": "stream",
          "name": "stdout",
          "text": [
            "21:30:34   node log likelihood: -213.741\n"
          ]
        },
        {
          "output_type": "stream",
          "name": "stderr",
          "text": [
            "WARNING:torchdrug.core.logger:node mask / graph: 41.6\n"
          ]
        },
        {
          "output_type": "stream",
          "name": "stdout",
          "text": [
            "21:30:34   node mask / graph: 41.6\n"
          ]
        },
        {
          "output_type": "stream",
          "name": "stderr",
          "text": [
            "WARNING:torchdrug.core.logger:>>>>>>>>>>>>>>>>>>>>>>>>>>>>>>\n"
          ]
        },
        {
          "output_type": "stream",
          "name": "stdout",
          "text": [
            "21:30:38   >>>>>>>>>>>>>>>>>>>>>>>>>>>>>>\n"
          ]
        },
        {
          "output_type": "stream",
          "name": "stderr",
          "text": [
            "WARNING:torchdrug.core.logger:edge log likelihood: -1.18776\n"
          ]
        },
        {
          "output_type": "stream",
          "name": "stdout",
          "text": [
            "21:30:38   edge log likelihood: -1.18776\n"
          ]
        },
        {
          "output_type": "stream",
          "name": "stderr",
          "text": [
            "WARNING:torchdrug.core.logger:edge mask / graph: 435.6\n"
          ]
        },
        {
          "output_type": "stream",
          "name": "stdout",
          "text": [
            "21:30:38   edge mask / graph: 435.6\n"
          ]
        },
        {
          "output_type": "stream",
          "name": "stderr",
          "text": [
            "WARNING:torchdrug.core.logger:node log likelihood: -12.0426\n"
          ]
        },
        {
          "output_type": "stream",
          "name": "stdout",
          "text": [
            "21:30:38   node log likelihood: -12.0426\n"
          ]
        },
        {
          "output_type": "stream",
          "name": "stderr",
          "text": [
            "WARNING:torchdrug.core.logger:node mask / graph: 42.8\n"
          ]
        },
        {
          "output_type": "stream",
          "name": "stdout",
          "text": [
            "21:30:38   node mask / graph: 42.8\n"
          ]
        },
        {
          "output_type": "stream",
          "name": "stderr",
          "text": [
            "WARNING:torchdrug.core.logger:>>>>>>>>>>>>>>>>>>>>>>>>>>>>>>\n"
          ]
        },
        {
          "output_type": "stream",
          "name": "stdout",
          "text": [
            "21:30:41   >>>>>>>>>>>>>>>>>>>>>>>>>>>>>>\n"
          ]
        },
        {
          "output_type": "stream",
          "name": "stderr",
          "text": [
            "WARNING:torchdrug.core.logger:edge log likelihood: -1.13852\n"
          ]
        },
        {
          "output_type": "stream",
          "name": "stdout",
          "text": [
            "21:30:41   edge log likelihood: -1.13852\n"
          ]
        },
        {
          "output_type": "stream",
          "name": "stderr",
          "text": [
            "WARNING:torchdrug.core.logger:edge mask / graph: 433.2\n"
          ]
        },
        {
          "output_type": "stream",
          "name": "stdout",
          "text": [
            "21:30:41   edge mask / graph: 433.2\n"
          ]
        },
        {
          "output_type": "stream",
          "name": "stderr",
          "text": [
            "WARNING:torchdrug.core.logger:node log likelihood: -37.4694\n"
          ]
        },
        {
          "output_type": "stream",
          "name": "stdout",
          "text": [
            "21:30:41   node log likelihood: -37.4694\n"
          ]
        },
        {
          "output_type": "stream",
          "name": "stderr",
          "text": [
            "WARNING:torchdrug.core.logger:node mask / graph: 42.6\n"
          ]
        },
        {
          "output_type": "stream",
          "name": "stdout",
          "text": [
            "21:30:41   node mask / graph: 42.6\n"
          ]
        },
        {
          "output_type": "stream",
          "name": "stderr",
          "text": [
            "WARNING:torchdrug.core.logger:>>>>>>>>>>>>>>>>>>>>>>>>>>>>>>\n"
          ]
        },
        {
          "output_type": "stream",
          "name": "stdout",
          "text": [
            "21:30:44   >>>>>>>>>>>>>>>>>>>>>>>>>>>>>>\n"
          ]
        },
        {
          "output_type": "stream",
          "name": "stderr",
          "text": [
            "WARNING:torchdrug.core.logger:edge log likelihood: -1.1141\n"
          ]
        },
        {
          "output_type": "stream",
          "name": "stdout",
          "text": [
            "21:30:44   edge log likelihood: -1.1141\n"
          ]
        },
        {
          "output_type": "stream",
          "name": "stderr",
          "text": [
            "WARNING:torchdrug.core.logger:edge mask / graph: 392.4\n"
          ]
        },
        {
          "output_type": "stream",
          "name": "stdout",
          "text": [
            "21:30:44   edge mask / graph: 392.4\n"
          ]
        },
        {
          "output_type": "stream",
          "name": "stderr",
          "text": [
            "WARNING:torchdrug.core.logger:node log likelihood: -6.74364\n"
          ]
        },
        {
          "output_type": "stream",
          "name": "stdout",
          "text": [
            "21:30:44   node log likelihood: -6.74364\n"
          ]
        },
        {
          "output_type": "stream",
          "name": "stderr",
          "text": [
            "WARNING:torchdrug.core.logger:node mask / graph: 39.2\n"
          ]
        },
        {
          "output_type": "stream",
          "name": "stdout",
          "text": [
            "21:30:44   node mask / graph: 39.2\n"
          ]
        },
        {
          "output_type": "stream",
          "name": "stderr",
          "text": [
            "WARNING:torchdrug.core.logger:>>>>>>>>>>>>>>>>>>>>>>>>>>>>>>\n"
          ]
        },
        {
          "output_type": "stream",
          "name": "stdout",
          "text": [
            "21:30:48   >>>>>>>>>>>>>>>>>>>>>>>>>>>>>>\n"
          ]
        },
        {
          "output_type": "stream",
          "name": "stderr",
          "text": [
            "WARNING:torchdrug.core.logger:edge log likelihood: -1.08915\n"
          ]
        },
        {
          "output_type": "stream",
          "name": "stdout",
          "text": [
            "21:30:48   edge log likelihood: -1.08915\n"
          ]
        },
        {
          "output_type": "stream",
          "name": "stderr",
          "text": [
            "WARNING:torchdrug.core.logger:edge mask / graph: 326.4\n"
          ]
        },
        {
          "output_type": "stream",
          "name": "stdout",
          "text": [
            "21:30:48   edge mask / graph: 326.4\n"
          ]
        },
        {
          "output_type": "stream",
          "name": "stderr",
          "text": [
            "WARNING:torchdrug.core.logger:node log likelihood: -7.30727\n"
          ]
        },
        {
          "output_type": "stream",
          "name": "stdout",
          "text": [
            "21:30:48   node log likelihood: -7.30727\n"
          ]
        },
        {
          "output_type": "stream",
          "name": "stderr",
          "text": [
            "WARNING:torchdrug.core.logger:node mask / graph: 33.7\n"
          ]
        },
        {
          "output_type": "stream",
          "name": "stdout",
          "text": [
            "21:30:48   node mask / graph: 33.7\n"
          ]
        },
        {
          "output_type": "stream",
          "name": "stderr",
          "text": [
            "WARNING:torchdrug.core.logger:>>>>>>>>>>>>>>>>>>>>>>>>>>>>>>\n"
          ]
        },
        {
          "output_type": "stream",
          "name": "stdout",
          "text": [
            "21:30:51   >>>>>>>>>>>>>>>>>>>>>>>>>>>>>>\n"
          ]
        },
        {
          "output_type": "stream",
          "name": "stderr",
          "text": [
            "WARNING:torchdrug.core.logger:edge log likelihood: -1.03135\n"
          ]
        },
        {
          "output_type": "stream",
          "name": "stdout",
          "text": [
            "21:30:51   edge log likelihood: -1.03135\n"
          ]
        },
        {
          "output_type": "stream",
          "name": "stderr",
          "text": [
            "WARNING:torchdrug.core.logger:edge mask / graph: 439.2\n"
          ]
        },
        {
          "output_type": "stream",
          "name": "stdout",
          "text": [
            "21:30:51   edge mask / graph: 439.2\n"
          ]
        },
        {
          "output_type": "stream",
          "name": "stderr",
          "text": [
            "WARNING:torchdrug.core.logger:node log likelihood: -4.11071\n"
          ]
        },
        {
          "output_type": "stream",
          "name": "stdout",
          "text": [
            "21:30:51   node log likelihood: -4.11071\n"
          ]
        },
        {
          "output_type": "stream",
          "name": "stderr",
          "text": [
            "WARNING:torchdrug.core.logger:node mask / graph: 43.1\n"
          ]
        },
        {
          "output_type": "stream",
          "name": "stdout",
          "text": [
            "21:30:51   node mask / graph: 43.1\n"
          ]
        },
        {
          "output_type": "stream",
          "name": "stderr",
          "text": [
            "WARNING:torchdrug.core.logger:>>>>>>>>>>>>>>>>>>>>>>>>>>>>>>\n"
          ]
        },
        {
          "output_type": "stream",
          "name": "stdout",
          "text": [
            "21:30:54   >>>>>>>>>>>>>>>>>>>>>>>>>>>>>>\n"
          ]
        },
        {
          "output_type": "stream",
          "name": "stderr",
          "text": [
            "WARNING:torchdrug.core.logger:edge log likelihood: -1.05211\n"
          ]
        },
        {
          "output_type": "stream",
          "name": "stdout",
          "text": [
            "21:30:54   edge log likelihood: -1.05211\n"
          ]
        },
        {
          "output_type": "stream",
          "name": "stderr",
          "text": [
            "WARNING:torchdrug.core.logger:edge mask / graph: 372\n"
          ]
        },
        {
          "output_type": "stream",
          "name": "stdout",
          "text": [
            "21:30:54   edge mask / graph: 372\n"
          ]
        },
        {
          "output_type": "stream",
          "name": "stderr",
          "text": [
            "WARNING:torchdrug.core.logger:node log likelihood: -4.77441\n"
          ]
        },
        {
          "output_type": "stream",
          "name": "stdout",
          "text": [
            "21:30:54   node log likelihood: -4.77441\n"
          ]
        },
        {
          "output_type": "stream",
          "name": "stderr",
          "text": [
            "WARNING:torchdrug.core.logger:node mask / graph: 37.5\n"
          ]
        },
        {
          "output_type": "stream",
          "name": "stdout",
          "text": [
            "21:30:54   node mask / graph: 37.5\n"
          ]
        },
        {
          "output_type": "stream",
          "name": "stderr",
          "text": [
            "WARNING:torchdrug.core.logger:>>>>>>>>>>>>>>>>>>>>>>>>>>>>>>\n"
          ]
        },
        {
          "output_type": "stream",
          "name": "stdout",
          "text": [
            "21:30:57   >>>>>>>>>>>>>>>>>>>>>>>>>>>>>>\n"
          ]
        },
        {
          "output_type": "stream",
          "name": "stderr",
          "text": [
            "WARNING:torchdrug.core.logger:edge log likelihood: -1.04588\n"
          ]
        },
        {
          "output_type": "stream",
          "name": "stdout",
          "text": [
            "21:30:57   edge log likelihood: -1.04588\n"
          ]
        },
        {
          "output_type": "stream",
          "name": "stderr",
          "text": [
            "WARNING:torchdrug.core.logger:edge mask / graph: 374.4\n"
          ]
        },
        {
          "output_type": "stream",
          "name": "stdout",
          "text": [
            "21:30:57   edge mask / graph: 374.4\n"
          ]
        },
        {
          "output_type": "stream",
          "name": "stderr",
          "text": [
            "WARNING:torchdrug.core.logger:node log likelihood: -3.98365\n"
          ]
        },
        {
          "output_type": "stream",
          "name": "stdout",
          "text": [
            "21:30:57   node log likelihood: -3.98365\n"
          ]
        },
        {
          "output_type": "stream",
          "name": "stderr",
          "text": [
            "WARNING:torchdrug.core.logger:node mask / graph: 37.7\n"
          ]
        },
        {
          "output_type": "stream",
          "name": "stdout",
          "text": [
            "21:30:57   node mask / graph: 37.7\n"
          ]
        },
        {
          "output_type": "stream",
          "name": "stderr",
          "text": [
            "WARNING:torchdrug.core.logger:>>>>>>>>>>>>>>>>>>>>>>>>>>>>>>\n"
          ]
        },
        {
          "output_type": "stream",
          "name": "stdout",
          "text": [
            "21:31:01   >>>>>>>>>>>>>>>>>>>>>>>>>>>>>>\n"
          ]
        },
        {
          "output_type": "stream",
          "name": "stderr",
          "text": [
            "WARNING:torchdrug.core.logger:edge log likelihood: -1.05855\n"
          ]
        },
        {
          "output_type": "stream",
          "name": "stdout",
          "text": [
            "21:31:01   edge log likelihood: -1.05855\n"
          ]
        },
        {
          "output_type": "stream",
          "name": "stderr",
          "text": [
            "WARNING:torchdrug.core.logger:edge mask / graph: 498\n"
          ]
        },
        {
          "output_type": "stream",
          "name": "stdout",
          "text": [
            "21:31:01   edge mask / graph: 498\n"
          ]
        },
        {
          "output_type": "stream",
          "name": "stderr",
          "text": [
            "WARNING:torchdrug.core.logger:node log likelihood: -4.3679\n"
          ]
        },
        {
          "output_type": "stream",
          "name": "stdout",
          "text": [
            "21:31:01   node log likelihood: -4.3679\n"
          ]
        },
        {
          "output_type": "stream",
          "name": "stderr",
          "text": [
            "WARNING:torchdrug.core.logger:node mask / graph: 48\n"
          ]
        },
        {
          "output_type": "stream",
          "name": "stdout",
          "text": [
            "21:31:01   node mask / graph: 48\n"
          ]
        },
        {
          "output_type": "stream",
          "name": "stderr",
          "text": [
            "WARNING:torchdrug.core.logger:>>>>>>>>>>>>>>>>>>>>>>>>>>>>>>\n"
          ]
        },
        {
          "output_type": "stream",
          "name": "stdout",
          "text": [
            "21:31:04   >>>>>>>>>>>>>>>>>>>>>>>>>>>>>>\n"
          ]
        },
        {
          "output_type": "stream",
          "name": "stderr",
          "text": [
            "WARNING:torchdrug.core.logger:edge log likelihood: -1.09074\n"
          ]
        },
        {
          "output_type": "stream",
          "name": "stdout",
          "text": [
            "21:31:04   edge log likelihood: -1.09074\n"
          ]
        },
        {
          "output_type": "stream",
          "name": "stderr",
          "text": [
            "WARNING:torchdrug.core.logger:edge mask / graph: 297.6\n"
          ]
        },
        {
          "output_type": "stream",
          "name": "stdout",
          "text": [
            "21:31:04   edge mask / graph: 297.6\n"
          ]
        },
        {
          "output_type": "stream",
          "name": "stderr",
          "text": [
            "WARNING:torchdrug.core.logger:node log likelihood: -4.04745\n"
          ]
        },
        {
          "output_type": "stream",
          "name": "stdout",
          "text": [
            "21:31:04   node log likelihood: -4.04745\n"
          ]
        },
        {
          "output_type": "stream",
          "name": "stderr",
          "text": [
            "WARNING:torchdrug.core.logger:node mask / graph: 31.3\n"
          ]
        },
        {
          "output_type": "stream",
          "name": "stdout",
          "text": [
            "21:31:04   node mask / graph: 31.3\n"
          ]
        },
        {
          "output_type": "stream",
          "name": "stderr",
          "text": [
            "WARNING:torchdrug.core.logger:>>>>>>>>>>>>>>>>>>>>>>>>>>>>>>\n"
          ]
        },
        {
          "output_type": "stream",
          "name": "stdout",
          "text": [
            "21:31:07   >>>>>>>>>>>>>>>>>>>>>>>>>>>>>>\n"
          ]
        },
        {
          "output_type": "stream",
          "name": "stderr",
          "text": [
            "WARNING:torchdrug.core.logger:edge log likelihood: -1.03537\n"
          ]
        },
        {
          "output_type": "stream",
          "name": "stdout",
          "text": [
            "21:31:07   edge log likelihood: -1.03537\n"
          ]
        },
        {
          "output_type": "stream",
          "name": "stderr",
          "text": [
            "WARNING:torchdrug.core.logger:edge mask / graph: 396\n"
          ]
        },
        {
          "output_type": "stream",
          "name": "stdout",
          "text": [
            "21:31:07   edge mask / graph: 396\n"
          ]
        },
        {
          "output_type": "stream",
          "name": "stderr",
          "text": [
            "WARNING:torchdrug.core.logger:node log likelihood: -4.19247\n"
          ]
        },
        {
          "output_type": "stream",
          "name": "stdout",
          "text": [
            "21:31:07   node log likelihood: -4.19247\n"
          ]
        },
        {
          "output_type": "stream",
          "name": "stderr",
          "text": [
            "WARNING:torchdrug.core.logger:node mask / graph: 39.5\n"
          ]
        },
        {
          "output_type": "stream",
          "name": "stdout",
          "text": [
            "21:31:07   node mask / graph: 39.5\n"
          ]
        },
        {
          "output_type": "stream",
          "name": "stderr",
          "text": [
            "WARNING:torchdrug.core.logger:>>>>>>>>>>>>>>>>>>>>>>>>>>>>>>\n"
          ]
        },
        {
          "output_type": "stream",
          "name": "stdout",
          "text": [
            "21:31:11   >>>>>>>>>>>>>>>>>>>>>>>>>>>>>>\n"
          ]
        },
        {
          "output_type": "stream",
          "name": "stderr",
          "text": [
            "WARNING:torchdrug.core.logger:edge log likelihood: -1.06262\n"
          ]
        },
        {
          "output_type": "stream",
          "name": "stdout",
          "text": [
            "21:31:11   edge log likelihood: -1.06262\n"
          ]
        },
        {
          "output_type": "stream",
          "name": "stderr",
          "text": [
            "WARNING:torchdrug.core.logger:edge mask / graph: 444\n"
          ]
        },
        {
          "output_type": "stream",
          "name": "stdout",
          "text": [
            "21:31:11   edge mask / graph: 444\n"
          ]
        },
        {
          "output_type": "stream",
          "name": "stderr",
          "text": [
            "WARNING:torchdrug.core.logger:node log likelihood: -3.89643\n"
          ]
        },
        {
          "output_type": "stream",
          "name": "stdout",
          "text": [
            "21:31:11   node log likelihood: -3.89643\n"
          ]
        },
        {
          "output_type": "stream",
          "name": "stderr",
          "text": [
            "WARNING:torchdrug.core.logger:node mask / graph: 43.5\n"
          ]
        },
        {
          "output_type": "stream",
          "name": "stdout",
          "text": [
            "21:31:11   node mask / graph: 43.5\n"
          ]
        },
        {
          "output_type": "stream",
          "name": "stderr",
          "text": [
            "WARNING:torchdrug.core.logger:>>>>>>>>>>>>>>>>>>>>>>>>>>>>>>\n"
          ]
        },
        {
          "output_type": "stream",
          "name": "stdout",
          "text": [
            "21:31:14   >>>>>>>>>>>>>>>>>>>>>>>>>>>>>>\n"
          ]
        },
        {
          "output_type": "stream",
          "name": "stderr",
          "text": [
            "WARNING:torchdrug.core.logger:edge log likelihood: -1.05009\n"
          ]
        },
        {
          "output_type": "stream",
          "name": "stdout",
          "text": [
            "21:31:14   edge log likelihood: -1.05009\n"
          ]
        },
        {
          "output_type": "stream",
          "name": "stderr",
          "text": [
            "WARNING:torchdrug.core.logger:edge mask / graph: 315.6\n"
          ]
        },
        {
          "output_type": "stream",
          "name": "stdout",
          "text": [
            "21:31:14   edge mask / graph: 315.6\n"
          ]
        },
        {
          "output_type": "stream",
          "name": "stderr",
          "text": [
            "WARNING:torchdrug.core.logger:node log likelihood: -3.66088\n"
          ]
        },
        {
          "output_type": "stream",
          "name": "stdout",
          "text": [
            "21:31:14   node log likelihood: -3.66088\n"
          ]
        },
        {
          "output_type": "stream",
          "name": "stderr",
          "text": [
            "WARNING:torchdrug.core.logger:node mask / graph: 32.8\n"
          ]
        },
        {
          "output_type": "stream",
          "name": "stdout",
          "text": [
            "21:31:14   node mask / graph: 32.8\n"
          ]
        },
        {
          "output_type": "stream",
          "name": "stderr",
          "text": [
            "WARNING:torchdrug.core.logger:>>>>>>>>>>>>>>>>>>>>>>>>>>>>>>\n"
          ]
        },
        {
          "output_type": "stream",
          "name": "stdout",
          "text": [
            "21:31:17   >>>>>>>>>>>>>>>>>>>>>>>>>>>>>>\n"
          ]
        },
        {
          "output_type": "stream",
          "name": "stderr",
          "text": [
            "WARNING:torchdrug.core.logger:edge log likelihood: -1.04726\n"
          ]
        },
        {
          "output_type": "stream",
          "name": "stdout",
          "text": [
            "21:31:17   edge log likelihood: -1.04726\n"
          ]
        },
        {
          "output_type": "stream",
          "name": "stderr",
          "text": [
            "WARNING:torchdrug.core.logger:edge mask / graph: 441.6\n"
          ]
        },
        {
          "output_type": "stream",
          "name": "stdout",
          "text": [
            "21:31:17   edge mask / graph: 441.6\n"
          ]
        },
        {
          "output_type": "stream",
          "name": "stderr",
          "text": [
            "WARNING:torchdrug.core.logger:node log likelihood: -3.69538\n"
          ]
        },
        {
          "output_type": "stream",
          "name": "stdout",
          "text": [
            "21:31:17   node log likelihood: -3.69538\n"
          ]
        },
        {
          "output_type": "stream",
          "name": "stderr",
          "text": [
            "WARNING:torchdrug.core.logger:node mask / graph: 43.3\n"
          ]
        },
        {
          "output_type": "stream",
          "name": "stdout",
          "text": [
            "21:31:17   node mask / graph: 43.3\n"
          ]
        },
        {
          "output_type": "stream",
          "name": "stderr",
          "text": [
            "WARNING:torchdrug.core.logger:>>>>>>>>>>>>>>>>>>>>>>>>>>>>>>\n"
          ]
        },
        {
          "output_type": "stream",
          "name": "stdout",
          "text": [
            "21:31:20   >>>>>>>>>>>>>>>>>>>>>>>>>>>>>>\n"
          ]
        },
        {
          "output_type": "stream",
          "name": "stderr",
          "text": [
            "WARNING:torchdrug.core.logger:edge log likelihood: -1.08299\n"
          ]
        },
        {
          "output_type": "stream",
          "name": "stdout",
          "text": [
            "21:31:20   edge log likelihood: -1.08299\n"
          ]
        },
        {
          "output_type": "stream",
          "name": "stderr",
          "text": [
            "WARNING:torchdrug.core.logger:edge mask / graph: 332.4\n"
          ]
        },
        {
          "output_type": "stream",
          "name": "stdout",
          "text": [
            "21:31:20   edge mask / graph: 332.4\n"
          ]
        },
        {
          "output_type": "stream",
          "name": "stderr",
          "text": [
            "WARNING:torchdrug.core.logger:node log likelihood: -3.55452\n"
          ]
        },
        {
          "output_type": "stream",
          "name": "stdout",
          "text": [
            "21:31:21   node log likelihood: -3.55452\n"
          ]
        },
        {
          "output_type": "stream",
          "name": "stderr",
          "text": [
            "WARNING:torchdrug.core.logger:node mask / graph: 34.2\n"
          ]
        },
        {
          "output_type": "stream",
          "name": "stdout",
          "text": [
            "21:31:21   node mask / graph: 34.2\n"
          ]
        },
        {
          "output_type": "stream",
          "name": "stderr",
          "text": [
            "WARNING:torchdrug.core.logger:>>>>>>>>>>>>>>>>>>>>>>>>>>>>>>\n"
          ]
        },
        {
          "output_type": "stream",
          "name": "stdout",
          "text": [
            "21:31:24   >>>>>>>>>>>>>>>>>>>>>>>>>>>>>>\n"
          ]
        },
        {
          "output_type": "stream",
          "name": "stderr",
          "text": [
            "WARNING:torchdrug.core.logger:edge log likelihood: -1.05539\n"
          ]
        },
        {
          "output_type": "stream",
          "name": "stdout",
          "text": [
            "21:31:24   edge log likelihood: -1.05539\n"
          ]
        },
        {
          "output_type": "stream",
          "name": "stderr",
          "text": [
            "WARNING:torchdrug.core.logger:edge mask / graph: 436.8\n"
          ]
        },
        {
          "output_type": "stream",
          "name": "stdout",
          "text": [
            "21:31:24   edge mask / graph: 436.8\n"
          ]
        },
        {
          "output_type": "stream",
          "name": "stderr",
          "text": [
            "WARNING:torchdrug.core.logger:node log likelihood: -3.65971\n"
          ]
        },
        {
          "output_type": "stream",
          "name": "stdout",
          "text": [
            "21:31:24   node log likelihood: -3.65971\n"
          ]
        },
        {
          "output_type": "stream",
          "name": "stderr",
          "text": [
            "WARNING:torchdrug.core.logger:node mask / graph: 42.9\n"
          ]
        },
        {
          "output_type": "stream",
          "name": "stdout",
          "text": [
            "21:31:24   node mask / graph: 42.9\n"
          ]
        },
        {
          "output_type": "stream",
          "name": "stderr",
          "text": [
            "WARNING:torchdrug.core.logger:>>>>>>>>>>>>>>>>>>>>>>>>>>>>>>\n"
          ]
        },
        {
          "output_type": "stream",
          "name": "stdout",
          "text": [
            "21:31:28   >>>>>>>>>>>>>>>>>>>>>>>>>>>>>>\n"
          ]
        },
        {
          "output_type": "stream",
          "name": "stderr",
          "text": [
            "WARNING:torchdrug.core.logger:edge log likelihood: -1.03328\n"
          ]
        },
        {
          "output_type": "stream",
          "name": "stdout",
          "text": [
            "21:31:28   edge log likelihood: -1.03328\n"
          ]
        },
        {
          "output_type": "stream",
          "name": "stderr",
          "text": [
            "WARNING:torchdrug.core.logger:edge mask / graph: 427.2\n"
          ]
        },
        {
          "output_type": "stream",
          "name": "stdout",
          "text": [
            "21:31:28   edge mask / graph: 427.2\n"
          ]
        },
        {
          "output_type": "stream",
          "name": "stderr",
          "text": [
            "WARNING:torchdrug.core.logger:node log likelihood: -3.5131\n"
          ]
        },
        {
          "output_type": "stream",
          "name": "stdout",
          "text": [
            "21:31:28   node log likelihood: -3.5131\n"
          ]
        },
        {
          "output_type": "stream",
          "name": "stderr",
          "text": [
            "WARNING:torchdrug.core.logger:node mask / graph: 42.1\n"
          ]
        },
        {
          "output_type": "stream",
          "name": "stdout",
          "text": [
            "21:31:28   node mask / graph: 42.1\n"
          ]
        },
        {
          "output_type": "stream",
          "name": "stderr",
          "text": [
            "WARNING:torchdrug.core.logger:>>>>>>>>>>>>>>>>>>>>>>>>>>>>>>\n"
          ]
        },
        {
          "output_type": "stream",
          "name": "stdout",
          "text": [
            "21:31:31   >>>>>>>>>>>>>>>>>>>>>>>>>>>>>>\n"
          ]
        },
        {
          "output_type": "stream",
          "name": "stderr",
          "text": [
            "WARNING:torchdrug.core.logger:edge log likelihood: -1.0409\n"
          ]
        },
        {
          "output_type": "stream",
          "name": "stdout",
          "text": [
            "21:31:31   edge log likelihood: -1.0409\n"
          ]
        },
        {
          "output_type": "stream",
          "name": "stderr",
          "text": [
            "WARNING:torchdrug.core.logger:edge mask / graph: 343.2\n"
          ]
        },
        {
          "output_type": "stream",
          "name": "stdout",
          "text": [
            "21:31:31   edge mask / graph: 343.2\n"
          ]
        },
        {
          "output_type": "stream",
          "name": "stderr",
          "text": [
            "WARNING:torchdrug.core.logger:node log likelihood: -3.45598\n"
          ]
        },
        {
          "output_type": "stream",
          "name": "stdout",
          "text": [
            "21:31:31   node log likelihood: -3.45598\n"
          ]
        },
        {
          "output_type": "stream",
          "name": "stderr",
          "text": [
            "WARNING:torchdrug.core.logger:node mask / graph: 35.1\n"
          ]
        },
        {
          "output_type": "stream",
          "name": "stdout",
          "text": [
            "21:31:31   node mask / graph: 35.1\n"
          ]
        },
        {
          "output_type": "stream",
          "name": "stderr",
          "text": [
            "WARNING:torchdrug.core.logger:>>>>>>>>>>>>>>>>>>>>>>>>>>>>>>\n"
          ]
        },
        {
          "output_type": "stream",
          "name": "stdout",
          "text": [
            "21:31:34   >>>>>>>>>>>>>>>>>>>>>>>>>>>>>>\n"
          ]
        },
        {
          "output_type": "stream",
          "name": "stderr",
          "text": [
            "WARNING:torchdrug.core.logger:edge log likelihood: -1.08188\n"
          ]
        },
        {
          "output_type": "stream",
          "name": "stdout",
          "text": [
            "21:31:34   edge log likelihood: -1.08188\n"
          ]
        },
        {
          "output_type": "stream",
          "name": "stderr",
          "text": [
            "WARNING:torchdrug.core.logger:edge mask / graph: 361.2\n"
          ]
        },
        {
          "output_type": "stream",
          "name": "stdout",
          "text": [
            "21:31:34   edge mask / graph: 361.2\n"
          ]
        },
        {
          "output_type": "stream",
          "name": "stderr",
          "text": [
            "WARNING:torchdrug.core.logger:node log likelihood: -3.3866\n"
          ]
        },
        {
          "output_type": "stream",
          "name": "stdout",
          "text": [
            "21:31:34   node log likelihood: -3.3866\n"
          ]
        },
        {
          "output_type": "stream",
          "name": "stderr",
          "text": [
            "WARNING:torchdrug.core.logger:node mask / graph: 36.6\n"
          ]
        },
        {
          "output_type": "stream",
          "name": "stdout",
          "text": [
            "21:31:34   node mask / graph: 36.6\n"
          ]
        },
        {
          "output_type": "stream",
          "name": "stderr",
          "text": [
            "WARNING:torchdrug.core.logger:>>>>>>>>>>>>>>>>>>>>>>>>>>>>>>\n"
          ]
        },
        {
          "output_type": "stream",
          "name": "stdout",
          "text": [
            "21:31:37   >>>>>>>>>>>>>>>>>>>>>>>>>>>>>>\n"
          ]
        },
        {
          "output_type": "stream",
          "name": "stderr",
          "text": [
            "WARNING:torchdrug.core.logger:edge log likelihood: -1.06764\n"
          ]
        },
        {
          "output_type": "stream",
          "name": "stdout",
          "text": [
            "21:31:37   edge log likelihood: -1.06764\n"
          ]
        },
        {
          "output_type": "stream",
          "name": "stderr",
          "text": [
            "WARNING:torchdrug.core.logger:edge mask / graph: 376.8\n"
          ]
        },
        {
          "output_type": "stream",
          "name": "stdout",
          "text": [
            "21:31:37   edge mask / graph: 376.8\n"
          ]
        },
        {
          "output_type": "stream",
          "name": "stderr",
          "text": [
            "WARNING:torchdrug.core.logger:node log likelihood: -3.32843\n"
          ]
        },
        {
          "output_type": "stream",
          "name": "stdout",
          "text": [
            "21:31:37   node log likelihood: -3.32843\n"
          ]
        },
        {
          "output_type": "stream",
          "name": "stderr",
          "text": [
            "WARNING:torchdrug.core.logger:node mask / graph: 37.9\n"
          ]
        },
        {
          "output_type": "stream",
          "name": "stdout",
          "text": [
            "21:31:37   node mask / graph: 37.9\n"
          ]
        },
        {
          "output_type": "stream",
          "name": "stderr",
          "text": [
            "WARNING:torchdrug.core.logger:>>>>>>>>>>>>>>>>>>>>>>>>>>>>>>\n"
          ]
        },
        {
          "output_type": "stream",
          "name": "stdout",
          "text": [
            "21:31:40   >>>>>>>>>>>>>>>>>>>>>>>>>>>>>>\n"
          ]
        },
        {
          "output_type": "stream",
          "name": "stderr",
          "text": [
            "WARNING:torchdrug.core.logger:edge log likelihood: -1.07109\n"
          ]
        },
        {
          "output_type": "stream",
          "name": "stdout",
          "text": [
            "21:31:40   edge log likelihood: -1.07109\n"
          ]
        },
        {
          "output_type": "stream",
          "name": "stderr",
          "text": [
            "WARNING:torchdrug.core.logger:edge mask / graph: 399.6\n"
          ]
        },
        {
          "output_type": "stream",
          "name": "stdout",
          "text": [
            "21:31:40   edge mask / graph: 399.6\n"
          ]
        },
        {
          "output_type": "stream",
          "name": "stderr",
          "text": [
            "WARNING:torchdrug.core.logger:node log likelihood: -3.28665\n"
          ]
        },
        {
          "output_type": "stream",
          "name": "stdout",
          "text": [
            "21:31:40   node log likelihood: -3.28665\n"
          ]
        },
        {
          "output_type": "stream",
          "name": "stderr",
          "text": [
            "WARNING:torchdrug.core.logger:node mask / graph: 39.8\n"
          ]
        },
        {
          "output_type": "stream",
          "name": "stdout",
          "text": [
            "21:31:40   node mask / graph: 39.8\n"
          ]
        },
        {
          "output_type": "stream",
          "name": "stderr",
          "text": [
            "WARNING:torchdrug.core.logger:>>>>>>>>>>>>>>>>>>>>>>>>>>>>>>\n"
          ]
        },
        {
          "output_type": "stream",
          "name": "stdout",
          "text": [
            "21:31:43   >>>>>>>>>>>>>>>>>>>>>>>>>>>>>>\n"
          ]
        },
        {
          "output_type": "stream",
          "name": "stderr",
          "text": [
            "WARNING:torchdrug.core.logger:edge log likelihood: -1.06997\n"
          ]
        },
        {
          "output_type": "stream",
          "name": "stdout",
          "text": [
            "21:31:43   edge log likelihood: -1.06997\n"
          ]
        },
        {
          "output_type": "stream",
          "name": "stderr",
          "text": [
            "WARNING:torchdrug.core.logger:edge mask / graph: 429.6\n"
          ]
        },
        {
          "output_type": "stream",
          "name": "stdout",
          "text": [
            "21:31:43   edge mask / graph: 429.6\n"
          ]
        },
        {
          "output_type": "stream",
          "name": "stderr",
          "text": [
            "WARNING:torchdrug.core.logger:node log likelihood: -3.25957\n"
          ]
        },
        {
          "output_type": "stream",
          "name": "stdout",
          "text": [
            "21:31:43   node log likelihood: -3.25957\n"
          ]
        },
        {
          "output_type": "stream",
          "name": "stderr",
          "text": [
            "WARNING:torchdrug.core.logger:node mask / graph: 42.3\n"
          ]
        },
        {
          "output_type": "stream",
          "name": "stdout",
          "text": [
            "21:31:43   node mask / graph: 42.3\n"
          ]
        },
        {
          "output_type": "stream",
          "name": "stderr",
          "text": [
            "WARNING:torchdrug.core.logger:>>>>>>>>>>>>>>>>>>>>>>>>>>>>>>\n"
          ]
        },
        {
          "output_type": "stream",
          "name": "stdout",
          "text": [
            "21:31:47   >>>>>>>>>>>>>>>>>>>>>>>>>>>>>>\n"
          ]
        },
        {
          "output_type": "stream",
          "name": "stderr",
          "text": [
            "WARNING:torchdrug.core.logger:edge log likelihood: -1.04901\n"
          ]
        },
        {
          "output_type": "stream",
          "name": "stdout",
          "text": [
            "21:31:47   edge log likelihood: -1.04901\n"
          ]
        },
        {
          "output_type": "stream",
          "name": "stderr",
          "text": [
            "WARNING:torchdrug.core.logger:edge mask / graph: 380.4\n"
          ]
        },
        {
          "output_type": "stream",
          "name": "stdout",
          "text": [
            "21:31:47   edge mask / graph: 380.4\n"
          ]
        },
        {
          "output_type": "stream",
          "name": "stderr",
          "text": [
            "WARNING:torchdrug.core.logger:node log likelihood: -3.23893\n"
          ]
        },
        {
          "output_type": "stream",
          "name": "stdout",
          "text": [
            "21:31:47   node log likelihood: -3.23893\n"
          ]
        },
        {
          "output_type": "stream",
          "name": "stderr",
          "text": [
            "WARNING:torchdrug.core.logger:node mask / graph: 38.2\n"
          ]
        },
        {
          "output_type": "stream",
          "name": "stdout",
          "text": [
            "21:31:47   node mask / graph: 38.2\n"
          ]
        },
        {
          "output_type": "stream",
          "name": "stderr",
          "text": [
            "WARNING:torchdrug.core.logger:>>>>>>>>>>>>>>>>>>>>>>>>>>>>>>\n"
          ]
        },
        {
          "output_type": "stream",
          "name": "stdout",
          "text": [
            "21:31:50   >>>>>>>>>>>>>>>>>>>>>>>>>>>>>>\n"
          ]
        },
        {
          "output_type": "stream",
          "name": "stderr",
          "text": [
            "WARNING:torchdrug.core.logger:edge log likelihood: -1.05685\n"
          ]
        },
        {
          "output_type": "stream",
          "name": "stdout",
          "text": [
            "21:31:50   edge log likelihood: -1.05685\n"
          ]
        },
        {
          "output_type": "stream",
          "name": "stderr",
          "text": [
            "WARNING:torchdrug.core.logger:edge mask / graph: 318\n"
          ]
        },
        {
          "output_type": "stream",
          "name": "stdout",
          "text": [
            "21:31:50   edge mask / graph: 318\n"
          ]
        },
        {
          "output_type": "stream",
          "name": "stderr",
          "text": [
            "WARNING:torchdrug.core.logger:node log likelihood: -3.20146\n"
          ]
        },
        {
          "output_type": "stream",
          "name": "stdout",
          "text": [
            "21:31:50   node log likelihood: -3.20146\n"
          ]
        },
        {
          "output_type": "stream",
          "name": "stderr",
          "text": [
            "WARNING:torchdrug.core.logger:node mask / graph: 33\n"
          ]
        },
        {
          "output_type": "stream",
          "name": "stdout",
          "text": [
            "21:31:50   node mask / graph: 33\n"
          ]
        },
        {
          "output_type": "stream",
          "name": "stderr",
          "text": [
            "WARNING:torchdrug.core.logger:>>>>>>>>>>>>>>>>>>>>>>>>>>>>>>\n"
          ]
        },
        {
          "output_type": "stream",
          "name": "stdout",
          "text": [
            "21:31:53   >>>>>>>>>>>>>>>>>>>>>>>>>>>>>>\n"
          ]
        },
        {
          "output_type": "stream",
          "name": "stderr",
          "text": [
            "WARNING:torchdrug.core.logger:edge log likelihood: -1.05387\n"
          ]
        },
        {
          "output_type": "stream",
          "name": "stdout",
          "text": [
            "21:31:53   edge log likelihood: -1.05387\n"
          ]
        },
        {
          "output_type": "stream",
          "name": "stderr",
          "text": [
            "WARNING:torchdrug.core.logger:edge mask / graph: 316.8\n"
          ]
        },
        {
          "output_type": "stream",
          "name": "stdout",
          "text": [
            "21:31:53   edge mask / graph: 316.8\n"
          ]
        },
        {
          "output_type": "stream",
          "name": "stderr",
          "text": [
            "WARNING:torchdrug.core.logger:node log likelihood: -3.11116\n"
          ]
        },
        {
          "output_type": "stream",
          "name": "stdout",
          "text": [
            "21:31:53   node log likelihood: -3.11116\n"
          ]
        },
        {
          "output_type": "stream",
          "name": "stderr",
          "text": [
            "WARNING:torchdrug.core.logger:node mask / graph: 32.9\n"
          ]
        },
        {
          "output_type": "stream",
          "name": "stdout",
          "text": [
            "21:31:53   node mask / graph: 32.9\n"
          ]
        },
        {
          "output_type": "stream",
          "name": "stderr",
          "text": [
            "WARNING:torchdrug.core.logger:>>>>>>>>>>>>>>>>>>>>>>>>>>>>>>\n"
          ]
        },
        {
          "output_type": "stream",
          "name": "stdout",
          "text": [
            "21:31:57   >>>>>>>>>>>>>>>>>>>>>>>>>>>>>>\n"
          ]
        },
        {
          "output_type": "stream",
          "name": "stderr",
          "text": [
            "WARNING:torchdrug.core.logger:edge log likelihood: -1.07998\n"
          ]
        },
        {
          "output_type": "stream",
          "name": "stdout",
          "text": [
            "21:31:57   edge log likelihood: -1.07998\n"
          ]
        },
        {
          "output_type": "stream",
          "name": "stderr",
          "text": [
            "WARNING:torchdrug.core.logger:edge mask / graph: 385.2\n"
          ]
        },
        {
          "output_type": "stream",
          "name": "stdout",
          "text": [
            "21:31:57   edge mask / graph: 385.2\n"
          ]
        },
        {
          "output_type": "stream",
          "name": "stderr",
          "text": [
            "WARNING:torchdrug.core.logger:node log likelihood: -3.20261\n"
          ]
        },
        {
          "output_type": "stream",
          "name": "stdout",
          "text": [
            "21:31:57   node log likelihood: -3.20261\n"
          ]
        },
        {
          "output_type": "stream",
          "name": "stderr",
          "text": [
            "WARNING:torchdrug.core.logger:node mask / graph: 38.6\n"
          ]
        },
        {
          "output_type": "stream",
          "name": "stdout",
          "text": [
            "21:31:57   node mask / graph: 38.6\n"
          ]
        },
        {
          "output_type": "stream",
          "name": "stderr",
          "text": [
            "WARNING:torchdrug.core.logger:>>>>>>>>>>>>>>>>>>>>>>>>>>>>>>\n"
          ]
        },
        {
          "output_type": "stream",
          "name": "stdout",
          "text": [
            "21:32:00   >>>>>>>>>>>>>>>>>>>>>>>>>>>>>>\n"
          ]
        },
        {
          "output_type": "stream",
          "name": "stderr",
          "text": [
            "WARNING:torchdrug.core.logger:edge log likelihood: -1.07307\n"
          ]
        },
        {
          "output_type": "stream",
          "name": "stdout",
          "text": [
            "21:32:00   edge log likelihood: -1.07307\n"
          ]
        },
        {
          "output_type": "stream",
          "name": "stderr",
          "text": [
            "WARNING:torchdrug.core.logger:edge mask / graph: 391.2\n"
          ]
        },
        {
          "output_type": "stream",
          "name": "stdout",
          "text": [
            "21:32:00   edge mask / graph: 391.2\n"
          ]
        },
        {
          "output_type": "stream",
          "name": "stderr",
          "text": [
            "WARNING:torchdrug.core.logger:node log likelihood: -3.11178\n"
          ]
        },
        {
          "output_type": "stream",
          "name": "stdout",
          "text": [
            "21:32:00   node log likelihood: -3.11178\n"
          ]
        },
        {
          "output_type": "stream",
          "name": "stderr",
          "text": [
            "WARNING:torchdrug.core.logger:node mask / graph: 39.1\n"
          ]
        },
        {
          "output_type": "stream",
          "name": "stdout",
          "text": [
            "21:32:00   node mask / graph: 39.1\n"
          ]
        },
        {
          "output_type": "stream",
          "name": "stderr",
          "text": [
            "WARNING:torchdrug.core.logger:>>>>>>>>>>>>>>>>>>>>>>>>>>>>>>\n"
          ]
        },
        {
          "output_type": "stream",
          "name": "stdout",
          "text": [
            "21:32:04   >>>>>>>>>>>>>>>>>>>>>>>>>>>>>>\n"
          ]
        },
        {
          "output_type": "stream",
          "name": "stderr",
          "text": [
            "WARNING:torchdrug.core.logger:edge log likelihood: -1.07174\n"
          ]
        },
        {
          "output_type": "stream",
          "name": "stdout",
          "text": [
            "21:32:04   edge log likelihood: -1.07174\n"
          ]
        },
        {
          "output_type": "stream",
          "name": "stderr",
          "text": [
            "WARNING:torchdrug.core.logger:edge mask / graph: 334.8\n"
          ]
        },
        {
          "output_type": "stream",
          "name": "stdout",
          "text": [
            "21:32:04   edge mask / graph: 334.8\n"
          ]
        },
        {
          "output_type": "stream",
          "name": "stderr",
          "text": [
            "WARNING:torchdrug.core.logger:node log likelihood: -2.99481\n"
          ]
        },
        {
          "output_type": "stream",
          "name": "stdout",
          "text": [
            "21:32:04   node log likelihood: -2.99481\n"
          ]
        },
        {
          "output_type": "stream",
          "name": "stderr",
          "text": [
            "WARNING:torchdrug.core.logger:node mask / graph: 34.4\n"
          ]
        },
        {
          "output_type": "stream",
          "name": "stdout",
          "text": [
            "21:32:04   node mask / graph: 34.4\n"
          ]
        },
        {
          "output_type": "stream",
          "name": "stderr",
          "text": [
            "WARNING:torchdrug.core.logger:>>>>>>>>>>>>>>>>>>>>>>>>>>>>>>\n"
          ]
        },
        {
          "output_type": "stream",
          "name": "stdout",
          "text": [
            "21:32:07   >>>>>>>>>>>>>>>>>>>>>>>>>>>>>>\n"
          ]
        },
        {
          "output_type": "stream",
          "name": "stderr",
          "text": [
            "WARNING:torchdrug.core.logger:edge log likelihood: -1.03217\n"
          ]
        },
        {
          "output_type": "stream",
          "name": "stdout",
          "text": [
            "21:32:07   edge log likelihood: -1.03217\n"
          ]
        },
        {
          "output_type": "stream",
          "name": "stderr",
          "text": [
            "WARNING:torchdrug.core.logger:edge mask / graph: 420\n"
          ]
        },
        {
          "output_type": "stream",
          "name": "stdout",
          "text": [
            "21:32:07   edge mask / graph: 420\n"
          ]
        },
        {
          "output_type": "stream",
          "name": "stderr",
          "text": [
            "WARNING:torchdrug.core.logger:node log likelihood: -3.05418\n"
          ]
        },
        {
          "output_type": "stream",
          "name": "stdout",
          "text": [
            "21:32:07   node log likelihood: -3.05418\n"
          ]
        },
        {
          "output_type": "stream",
          "name": "stderr",
          "text": [
            "WARNING:torchdrug.core.logger:node mask / graph: 41.5\n"
          ]
        },
        {
          "output_type": "stream",
          "name": "stdout",
          "text": [
            "21:32:07   node mask / graph: 41.5\n"
          ]
        },
        {
          "output_type": "stream",
          "name": "stderr",
          "text": [
            "WARNING:torchdrug.core.logger:>>>>>>>>>>>>>>>>>>>>>>>>>>>>>>\n"
          ]
        },
        {
          "output_type": "stream",
          "name": "stdout",
          "text": [
            "21:32:10   >>>>>>>>>>>>>>>>>>>>>>>>>>>>>>\n"
          ]
        },
        {
          "output_type": "stream",
          "name": "stderr",
          "text": [
            "WARNING:torchdrug.core.logger:edge log likelihood: -1.04936\n"
          ]
        },
        {
          "output_type": "stream",
          "name": "stdout",
          "text": [
            "21:32:10   edge log likelihood: -1.04936\n"
          ]
        },
        {
          "output_type": "stream",
          "name": "stderr",
          "text": [
            "WARNING:torchdrug.core.logger:edge mask / graph: 367.2\n"
          ]
        },
        {
          "output_type": "stream",
          "name": "stdout",
          "text": [
            "21:32:10   edge mask / graph: 367.2\n"
          ]
        },
        {
          "output_type": "stream",
          "name": "stderr",
          "text": [
            "WARNING:torchdrug.core.logger:node log likelihood: -2.95429\n"
          ]
        },
        {
          "output_type": "stream",
          "name": "stdout",
          "text": [
            "21:32:10   node log likelihood: -2.95429\n"
          ]
        },
        {
          "output_type": "stream",
          "name": "stderr",
          "text": [
            "WARNING:torchdrug.core.logger:node mask / graph: 37.1\n"
          ]
        },
        {
          "output_type": "stream",
          "name": "stdout",
          "text": [
            "21:32:10   node mask / graph: 37.1\n"
          ]
        },
        {
          "output_type": "stream",
          "name": "stderr",
          "text": [
            "WARNING:torchdrug.core.logger:>>>>>>>>>>>>>>>>>>>>>>>>>>>>>>\n"
          ]
        },
        {
          "output_type": "stream",
          "name": "stdout",
          "text": [
            "21:32:14   >>>>>>>>>>>>>>>>>>>>>>>>>>>>>>\n"
          ]
        },
        {
          "output_type": "stream",
          "name": "stderr",
          "text": [
            "WARNING:torchdrug.core.logger:edge log likelihood: -1.02824\n"
          ]
        },
        {
          "output_type": "stream",
          "name": "stdout",
          "text": [
            "21:32:14   edge log likelihood: -1.02824\n"
          ]
        },
        {
          "output_type": "stream",
          "name": "stderr",
          "text": [
            "WARNING:torchdrug.core.logger:edge mask / graph: 426\n"
          ]
        },
        {
          "output_type": "stream",
          "name": "stdout",
          "text": [
            "21:32:14   edge mask / graph: 426\n"
          ]
        },
        {
          "output_type": "stream",
          "name": "stderr",
          "text": [
            "WARNING:torchdrug.core.logger:node log likelihood: -2.87846\n"
          ]
        },
        {
          "output_type": "stream",
          "name": "stdout",
          "text": [
            "21:32:14   node log likelihood: -2.87846\n"
          ]
        },
        {
          "output_type": "stream",
          "name": "stderr",
          "text": [
            "WARNING:torchdrug.core.logger:node mask / graph: 42\n"
          ]
        },
        {
          "output_type": "stream",
          "name": "stdout",
          "text": [
            "21:32:14   node mask / graph: 42\n"
          ]
        },
        {
          "output_type": "stream",
          "name": "stderr",
          "text": [
            "WARNING:torchdrug.core.logger:>>>>>>>>>>>>>>>>>>>>>>>>>>>>>>\n"
          ]
        },
        {
          "output_type": "stream",
          "name": "stdout",
          "text": [
            "21:32:18   >>>>>>>>>>>>>>>>>>>>>>>>>>>>>>\n"
          ]
        },
        {
          "output_type": "stream",
          "name": "stderr",
          "text": [
            "WARNING:torchdrug.core.logger:edge log likelihood: -1.02769\n"
          ]
        },
        {
          "output_type": "stream",
          "name": "stdout",
          "text": [
            "21:32:18   edge log likelihood: -1.02769\n"
          ]
        },
        {
          "output_type": "stream",
          "name": "stderr",
          "text": [
            "WARNING:torchdrug.core.logger:edge mask / graph: 494.4\n"
          ]
        },
        {
          "output_type": "stream",
          "name": "stdout",
          "text": [
            "21:32:18   edge mask / graph: 494.4\n"
          ]
        },
        {
          "output_type": "stream",
          "name": "stderr",
          "text": [
            "WARNING:torchdrug.core.logger:node log likelihood: -2.97778\n"
          ]
        },
        {
          "output_type": "stream",
          "name": "stdout",
          "text": [
            "21:32:18   node log likelihood: -2.97778\n"
          ]
        },
        {
          "output_type": "stream",
          "name": "stderr",
          "text": [
            "WARNING:torchdrug.core.logger:node mask / graph: 47.7\n"
          ]
        },
        {
          "output_type": "stream",
          "name": "stdout",
          "text": [
            "21:32:18   node mask / graph: 47.7\n"
          ]
        },
        {
          "output_type": "stream",
          "name": "stderr",
          "text": [
            "WARNING:torchdrug.core.logger:>>>>>>>>>>>>>>>>>>>>>>>>>>>>>>\n"
          ]
        },
        {
          "output_type": "stream",
          "name": "stdout",
          "text": [
            "21:32:22   >>>>>>>>>>>>>>>>>>>>>>>>>>>>>>\n"
          ]
        },
        {
          "output_type": "stream",
          "name": "stderr",
          "text": [
            "WARNING:torchdrug.core.logger:edge log likelihood: -1.06912\n"
          ]
        },
        {
          "output_type": "stream",
          "name": "stdout",
          "text": [
            "21:32:22   edge log likelihood: -1.06912\n"
          ]
        },
        {
          "output_type": "stream",
          "name": "stderr",
          "text": [
            "WARNING:torchdrug.core.logger:edge mask / graph: 381.6\n"
          ]
        },
        {
          "output_type": "stream",
          "name": "stdout",
          "text": [
            "21:32:22   edge mask / graph: 381.6\n"
          ]
        },
        {
          "output_type": "stream",
          "name": "stderr",
          "text": [
            "WARNING:torchdrug.core.logger:node log likelihood: -2.95431\n"
          ]
        },
        {
          "output_type": "stream",
          "name": "stdout",
          "text": [
            "21:32:22   node log likelihood: -2.95431\n"
          ]
        },
        {
          "output_type": "stream",
          "name": "stderr",
          "text": [
            "WARNING:torchdrug.core.logger:node mask / graph: 38.3\n"
          ]
        },
        {
          "output_type": "stream",
          "name": "stdout",
          "text": [
            "21:32:22   node mask / graph: 38.3\n"
          ]
        },
        {
          "output_type": "stream",
          "name": "stderr",
          "text": [
            "WARNING:torchdrug.core.logger:>>>>>>>>>>>>>>>>>>>>>>>>>>>>>>\n"
          ]
        },
        {
          "output_type": "stream",
          "name": "stdout",
          "text": [
            "21:32:25   >>>>>>>>>>>>>>>>>>>>>>>>>>>>>>\n"
          ]
        },
        {
          "output_type": "stream",
          "name": "stderr",
          "text": [
            "WARNING:torchdrug.core.logger:edge log likelihood: -1.0378\n"
          ]
        },
        {
          "output_type": "stream",
          "name": "stdout",
          "text": [
            "21:32:25   edge log likelihood: -1.0378\n"
          ]
        },
        {
          "output_type": "stream",
          "name": "stderr",
          "text": [
            "WARNING:torchdrug.core.logger:edge mask / graph: 403.2\n"
          ]
        },
        {
          "output_type": "stream",
          "name": "stdout",
          "text": [
            "21:32:25   edge mask / graph: 403.2\n"
          ]
        },
        {
          "output_type": "stream",
          "name": "stderr",
          "text": [
            "WARNING:torchdrug.core.logger:node log likelihood: -2.83848\n"
          ]
        },
        {
          "output_type": "stream",
          "name": "stdout",
          "text": [
            "21:32:25   node log likelihood: -2.83848\n"
          ]
        },
        {
          "output_type": "stream",
          "name": "stderr",
          "text": [
            "WARNING:torchdrug.core.logger:node mask / graph: 40.1\n"
          ]
        },
        {
          "output_type": "stream",
          "name": "stdout",
          "text": [
            "21:32:25   node mask / graph: 40.1\n"
          ]
        },
        {
          "output_type": "stream",
          "name": "stderr",
          "text": [
            "WARNING:torchdrug.core.logger:>>>>>>>>>>>>>>>>>>>>>>>>>>>>>>\n"
          ]
        },
        {
          "output_type": "stream",
          "name": "stdout",
          "text": [
            "21:32:28   >>>>>>>>>>>>>>>>>>>>>>>>>>>>>>\n"
          ]
        },
        {
          "output_type": "stream",
          "name": "stderr",
          "text": [
            "WARNING:torchdrug.core.logger:edge log likelihood: -1.03473\n"
          ]
        },
        {
          "output_type": "stream",
          "name": "stdout",
          "text": [
            "21:32:28   edge log likelihood: -1.03473\n"
          ]
        },
        {
          "output_type": "stream",
          "name": "stderr",
          "text": [
            "WARNING:torchdrug.core.logger:edge mask / graph: 390\n"
          ]
        },
        {
          "output_type": "stream",
          "name": "stdout",
          "text": [
            "21:32:28   edge mask / graph: 390\n"
          ]
        },
        {
          "output_type": "stream",
          "name": "stderr",
          "text": [
            "WARNING:torchdrug.core.logger:node log likelihood: -2.83021\n"
          ]
        },
        {
          "output_type": "stream",
          "name": "stdout",
          "text": [
            "21:32:29   node log likelihood: -2.83021\n"
          ]
        },
        {
          "output_type": "stream",
          "name": "stderr",
          "text": [
            "WARNING:torchdrug.core.logger:node mask / graph: 39\n"
          ]
        },
        {
          "output_type": "stream",
          "name": "stdout",
          "text": [
            "21:32:29   node mask / graph: 39\n"
          ]
        },
        {
          "output_type": "stream",
          "name": "stderr",
          "text": [
            "WARNING:torchdrug.core.logger:>>>>>>>>>>>>>>>>>>>>>>>>>>>>>>\n"
          ]
        },
        {
          "output_type": "stream",
          "name": "stdout",
          "text": [
            "21:32:32   >>>>>>>>>>>>>>>>>>>>>>>>>>>>>>\n"
          ]
        },
        {
          "output_type": "stream",
          "name": "stderr",
          "text": [
            "WARNING:torchdrug.core.logger:edge log likelihood: -1.01377\n"
          ]
        },
        {
          "output_type": "stream",
          "name": "stdout",
          "text": [
            "21:32:32   edge log likelihood: -1.01377\n"
          ]
        },
        {
          "output_type": "stream",
          "name": "stderr",
          "text": [
            "WARNING:torchdrug.core.logger:edge mask / graph: 339.6\n"
          ]
        },
        {
          "output_type": "stream",
          "name": "stdout",
          "text": [
            "21:32:32   edge mask / graph: 339.6\n"
          ]
        },
        {
          "output_type": "stream",
          "name": "stderr",
          "text": [
            "WARNING:torchdrug.core.logger:node log likelihood: -2.80506\n"
          ]
        },
        {
          "output_type": "stream",
          "name": "stdout",
          "text": [
            "21:32:32   node log likelihood: -2.80506\n"
          ]
        },
        {
          "output_type": "stream",
          "name": "stderr",
          "text": [
            "WARNING:torchdrug.core.logger:node mask / graph: 34.8\n"
          ]
        },
        {
          "output_type": "stream",
          "name": "stdout",
          "text": [
            "21:32:32   node mask / graph: 34.8\n"
          ]
        },
        {
          "output_type": "stream",
          "name": "stderr",
          "text": [
            "WARNING:torchdrug.core.logger:>>>>>>>>>>>>>>>>>>>>>>>>>>>>>>\n"
          ]
        },
        {
          "output_type": "stream",
          "name": "stdout",
          "text": [
            "21:32:35   >>>>>>>>>>>>>>>>>>>>>>>>>>>>>>\n"
          ]
        },
        {
          "output_type": "stream",
          "name": "stderr",
          "text": [
            "WARNING:torchdrug.core.logger:edge log likelihood: -1.03678\n"
          ]
        },
        {
          "output_type": "stream",
          "name": "stdout",
          "text": [
            "21:32:35   edge log likelihood: -1.03678\n"
          ]
        },
        {
          "output_type": "stream",
          "name": "stderr",
          "text": [
            "WARNING:torchdrug.core.logger:edge mask / graph: 387.6\n"
          ]
        },
        {
          "output_type": "stream",
          "name": "stdout",
          "text": [
            "21:32:35   edge mask / graph: 387.6\n"
          ]
        },
        {
          "output_type": "stream",
          "name": "stderr",
          "text": [
            "WARNING:torchdrug.core.logger:node log likelihood: -2.71649\n"
          ]
        },
        {
          "output_type": "stream",
          "name": "stdout",
          "text": [
            "21:32:35   node log likelihood: -2.71649\n"
          ]
        },
        {
          "output_type": "stream",
          "name": "stderr",
          "text": [
            "WARNING:torchdrug.core.logger:node mask / graph: 38.8\n"
          ]
        },
        {
          "output_type": "stream",
          "name": "stdout",
          "text": [
            "21:32:35   node mask / graph: 38.8\n"
          ]
        },
        {
          "output_type": "stream",
          "name": "stderr",
          "text": [
            "WARNING:torchdrug.core.logger:>>>>>>>>>>>>>>>>>>>>>>>>>>>>>>\n"
          ]
        },
        {
          "output_type": "stream",
          "name": "stdout",
          "text": [
            "21:32:38   >>>>>>>>>>>>>>>>>>>>>>>>>>>>>>\n"
          ]
        },
        {
          "output_type": "stream",
          "name": "stderr",
          "text": [
            "WARNING:torchdrug.core.logger:edge log likelihood: -1.01172\n"
          ]
        },
        {
          "output_type": "stream",
          "name": "stdout",
          "text": [
            "21:32:38   edge log likelihood: -1.01172\n"
          ]
        },
        {
          "output_type": "stream",
          "name": "stderr",
          "text": [
            "WARNING:torchdrug.core.logger:edge mask / graph: 397.2\n"
          ]
        },
        {
          "output_type": "stream",
          "name": "stdout",
          "text": [
            "21:32:38   edge mask / graph: 397.2\n"
          ]
        },
        {
          "output_type": "stream",
          "name": "stderr",
          "text": [
            "WARNING:torchdrug.core.logger:node log likelihood: -2.57696\n"
          ]
        },
        {
          "output_type": "stream",
          "name": "stdout",
          "text": [
            "21:32:38   node log likelihood: -2.57696\n"
          ]
        },
        {
          "output_type": "stream",
          "name": "stderr",
          "text": [
            "WARNING:torchdrug.core.logger:node mask / graph: 39.6\n"
          ]
        },
        {
          "output_type": "stream",
          "name": "stdout",
          "text": [
            "21:32:38   node mask / graph: 39.6\n"
          ]
        },
        {
          "output_type": "stream",
          "name": "stderr",
          "text": [
            "WARNING:torchdrug.core.logger:>>>>>>>>>>>>>>>>>>>>>>>>>>>>>>\n"
          ]
        },
        {
          "output_type": "stream",
          "name": "stdout",
          "text": [
            "21:32:42   >>>>>>>>>>>>>>>>>>>>>>>>>>>>>>\n"
          ]
        },
        {
          "output_type": "stream",
          "name": "stderr",
          "text": [
            "WARNING:torchdrug.core.logger:edge log likelihood: -0.977481\n"
          ]
        },
        {
          "output_type": "stream",
          "name": "stdout",
          "text": [
            "21:32:42   edge log likelihood: -0.977481\n"
          ]
        },
        {
          "output_type": "stream",
          "name": "stderr",
          "text": [
            "WARNING:torchdrug.core.logger:edge mask / graph: 417.6\n"
          ]
        },
        {
          "output_type": "stream",
          "name": "stdout",
          "text": [
            "21:32:42   edge mask / graph: 417.6\n"
          ]
        },
        {
          "output_type": "stream",
          "name": "stderr",
          "text": [
            "WARNING:torchdrug.core.logger:node log likelihood: -2.65128\n"
          ]
        },
        {
          "output_type": "stream",
          "name": "stdout",
          "text": [
            "21:32:42   node log likelihood: -2.65128\n"
          ]
        },
        {
          "output_type": "stream",
          "name": "stderr",
          "text": [
            "WARNING:torchdrug.core.logger:node mask / graph: 41.3\n"
          ]
        },
        {
          "output_type": "stream",
          "name": "stdout",
          "text": [
            "21:32:42   node mask / graph: 41.3\n"
          ]
        },
        {
          "output_type": "stream",
          "name": "stderr",
          "text": [
            "WARNING:torchdrug.core.logger:>>>>>>>>>>>>>>>>>>>>>>>>>>>>>>\n"
          ]
        },
        {
          "output_type": "stream",
          "name": "stdout",
          "text": [
            "21:32:45   >>>>>>>>>>>>>>>>>>>>>>>>>>>>>>\n"
          ]
        },
        {
          "output_type": "stream",
          "name": "stderr",
          "text": [
            "WARNING:torchdrug.core.logger:edge log likelihood: -1.0998\n"
          ]
        },
        {
          "output_type": "stream",
          "name": "stdout",
          "text": [
            "21:32:45   edge log likelihood: -1.0998\n"
          ]
        },
        {
          "output_type": "stream",
          "name": "stderr",
          "text": [
            "WARNING:torchdrug.core.logger:edge mask / graph: 295.2\n"
          ]
        },
        {
          "output_type": "stream",
          "name": "stdout",
          "text": [
            "21:32:45   edge mask / graph: 295.2\n"
          ]
        },
        {
          "output_type": "stream",
          "name": "stderr",
          "text": [
            "WARNING:torchdrug.core.logger:node log likelihood: -2.63214\n"
          ]
        },
        {
          "output_type": "stream",
          "name": "stdout",
          "text": [
            "21:32:45   node log likelihood: -2.63214\n"
          ]
        },
        {
          "output_type": "stream",
          "name": "stderr",
          "text": [
            "WARNING:torchdrug.core.logger:node mask / graph: 31.1\n"
          ]
        },
        {
          "output_type": "stream",
          "name": "stdout",
          "text": [
            "21:32:45   node mask / graph: 31.1\n"
          ]
        },
        {
          "output_type": "stream",
          "name": "stderr",
          "text": [
            "WARNING:torchdrug.core.logger:>>>>>>>>>>>>>>>>>>>>>>>>>>>>>>\n"
          ]
        },
        {
          "output_type": "stream",
          "name": "stdout",
          "text": [
            "21:32:49   >>>>>>>>>>>>>>>>>>>>>>>>>>>>>>\n"
          ]
        },
        {
          "output_type": "stream",
          "name": "stderr",
          "text": [
            "WARNING:torchdrug.core.logger:edge log likelihood: -1.01669\n"
          ]
        },
        {
          "output_type": "stream",
          "name": "stdout",
          "text": [
            "21:32:49   edge log likelihood: -1.01669\n"
          ]
        },
        {
          "output_type": "stream",
          "name": "stderr",
          "text": [
            "WARNING:torchdrug.core.logger:edge mask / graph: 442.8\n"
          ]
        },
        {
          "output_type": "stream",
          "name": "stdout",
          "text": [
            "21:32:49   edge mask / graph: 442.8\n"
          ]
        },
        {
          "output_type": "stream",
          "name": "stderr",
          "text": [
            "WARNING:torchdrug.core.logger:node log likelihood: -2.75656\n"
          ]
        },
        {
          "output_type": "stream",
          "name": "stdout",
          "text": [
            "21:32:49   node log likelihood: -2.75656\n"
          ]
        },
        {
          "output_type": "stream",
          "name": "stderr",
          "text": [
            "WARNING:torchdrug.core.logger:node mask / graph: 43.4\n"
          ]
        },
        {
          "output_type": "stream",
          "name": "stdout",
          "text": [
            "21:32:49   node mask / graph: 43.4\n"
          ]
        },
        {
          "output_type": "stream",
          "name": "stderr",
          "text": [
            "WARNING:torchdrug.core.logger:>>>>>>>>>>>>>>>>>>>>>>>>>>>>>>\n"
          ]
        },
        {
          "output_type": "stream",
          "name": "stdout",
          "text": [
            "21:32:52   >>>>>>>>>>>>>>>>>>>>>>>>>>>>>>\n"
          ]
        },
        {
          "output_type": "stream",
          "name": "stderr",
          "text": [
            "WARNING:torchdrug.core.logger:edge log likelihood: -1.06162\n"
          ]
        },
        {
          "output_type": "stream",
          "name": "stdout",
          "text": [
            "21:32:52   edge log likelihood: -1.06162\n"
          ]
        },
        {
          "output_type": "stream",
          "name": "stderr",
          "text": [
            "WARNING:torchdrug.core.logger:edge mask / graph: 418.8\n"
          ]
        },
        {
          "output_type": "stream",
          "name": "stdout",
          "text": [
            "21:32:52   edge mask / graph: 418.8\n"
          ]
        },
        {
          "output_type": "stream",
          "name": "stderr",
          "text": [
            "WARNING:torchdrug.core.logger:node log likelihood: -2.77931\n"
          ]
        },
        {
          "output_type": "stream",
          "name": "stdout",
          "text": [
            "21:32:52   node log likelihood: -2.77931\n"
          ]
        },
        {
          "output_type": "stream",
          "name": "stderr",
          "text": [
            "WARNING:torchdrug.core.logger:node mask / graph: 41.4\n"
          ]
        },
        {
          "output_type": "stream",
          "name": "stdout",
          "text": [
            "21:32:52   node mask / graph: 41.4\n"
          ]
        },
        {
          "output_type": "stream",
          "name": "stderr",
          "text": [
            "WARNING:torchdrug.core.logger:>>>>>>>>>>>>>>>>>>>>>>>>>>>>>>\n"
          ]
        },
        {
          "output_type": "stream",
          "name": "stdout",
          "text": [
            "21:32:56   >>>>>>>>>>>>>>>>>>>>>>>>>>>>>>\n"
          ]
        },
        {
          "output_type": "stream",
          "name": "stderr",
          "text": [
            "WARNING:torchdrug.core.logger:edge log likelihood: -1.01328\n"
          ]
        },
        {
          "output_type": "stream",
          "name": "stdout",
          "text": [
            "21:32:56   edge log likelihood: -1.01328\n"
          ]
        },
        {
          "output_type": "stream",
          "name": "stderr",
          "text": [
            "WARNING:torchdrug.core.logger:edge mask / graph: 378\n"
          ]
        },
        {
          "output_type": "stream",
          "name": "stdout",
          "text": [
            "21:32:56   edge mask / graph: 378\n"
          ]
        },
        {
          "output_type": "stream",
          "name": "stderr",
          "text": [
            "WARNING:torchdrug.core.logger:node log likelihood: -3.32355\n"
          ]
        },
        {
          "output_type": "stream",
          "name": "stdout",
          "text": [
            "21:32:56   node log likelihood: -3.32355\n"
          ]
        },
        {
          "output_type": "stream",
          "name": "stderr",
          "text": [
            "WARNING:torchdrug.core.logger:node mask / graph: 38\n"
          ]
        },
        {
          "output_type": "stream",
          "name": "stdout",
          "text": [
            "21:32:56   node mask / graph: 38\n"
          ]
        },
        {
          "output_type": "stream",
          "name": "stderr",
          "text": [
            "WARNING:torchdrug.core.logger:>>>>>>>>>>>>>>>>>>>>>>>>>>>>>>\n"
          ]
        },
        {
          "output_type": "stream",
          "name": "stdout",
          "text": [
            "21:32:59   >>>>>>>>>>>>>>>>>>>>>>>>>>>>>>\n"
          ]
        },
        {
          "output_type": "stream",
          "name": "stderr",
          "text": [
            "WARNING:torchdrug.core.logger:edge log likelihood: -1.07232\n"
          ]
        },
        {
          "output_type": "stream",
          "name": "stdout",
          "text": [
            "21:32:59   edge log likelihood: -1.07232\n"
          ]
        },
        {
          "output_type": "stream",
          "name": "stderr",
          "text": [
            "WARNING:torchdrug.core.logger:edge mask / graph: 392.4\n"
          ]
        },
        {
          "output_type": "stream",
          "name": "stdout",
          "text": [
            "21:32:59   edge mask / graph: 392.4\n"
          ]
        },
        {
          "output_type": "stream",
          "name": "stderr",
          "text": [
            "WARNING:torchdrug.core.logger:node log likelihood: -4.12407\n"
          ]
        },
        {
          "output_type": "stream",
          "name": "stdout",
          "text": [
            "21:32:59   node log likelihood: -4.12407\n"
          ]
        },
        {
          "output_type": "stream",
          "name": "stderr",
          "text": [
            "WARNING:torchdrug.core.logger:node mask / graph: 39.2\n"
          ]
        },
        {
          "output_type": "stream",
          "name": "stdout",
          "text": [
            "21:32:59   node mask / graph: 39.2\n"
          ]
        },
        {
          "output_type": "stream",
          "name": "stderr",
          "text": [
            "WARNING:torchdrug.core.logger:>>>>>>>>>>>>>>>>>>>>>>>>>>>>>>\n"
          ]
        },
        {
          "output_type": "stream",
          "name": "stdout",
          "text": [
            "21:33:02   >>>>>>>>>>>>>>>>>>>>>>>>>>>>>>\n"
          ]
        },
        {
          "output_type": "stream",
          "name": "stderr",
          "text": [
            "WARNING:torchdrug.core.logger:edge log likelihood: -1.02359\n"
          ]
        },
        {
          "output_type": "stream",
          "name": "stdout",
          "text": [
            "21:33:02   edge log likelihood: -1.02359\n"
          ]
        },
        {
          "output_type": "stream",
          "name": "stderr",
          "text": [
            "WARNING:torchdrug.core.logger:edge mask / graph: 423.6\n"
          ]
        },
        {
          "output_type": "stream",
          "name": "stdout",
          "text": [
            "21:33:02   edge mask / graph: 423.6\n"
          ]
        },
        {
          "output_type": "stream",
          "name": "stderr",
          "text": [
            "WARNING:torchdrug.core.logger:node log likelihood: -3.87983\n"
          ]
        },
        {
          "output_type": "stream",
          "name": "stdout",
          "text": [
            "21:33:02   node log likelihood: -3.87983\n"
          ]
        },
        {
          "output_type": "stream",
          "name": "stderr",
          "text": [
            "WARNING:torchdrug.core.logger:node mask / graph: 41.8\n"
          ]
        },
        {
          "output_type": "stream",
          "name": "stdout",
          "text": [
            "21:33:02   node mask / graph: 41.8\n"
          ]
        },
        {
          "output_type": "stream",
          "name": "stderr",
          "text": [
            "WARNING:torchdrug.core.logger:>>>>>>>>>>>>>>>>>>>>>>>>>>>>>>\n"
          ]
        },
        {
          "output_type": "stream",
          "name": "stdout",
          "text": [
            "21:33:06   >>>>>>>>>>>>>>>>>>>>>>>>>>>>>>\n"
          ]
        },
        {
          "output_type": "stream",
          "name": "stderr",
          "text": [
            "WARNING:torchdrug.core.logger:edge log likelihood: -1.05112\n"
          ]
        },
        {
          "output_type": "stream",
          "name": "stdout",
          "text": [
            "21:33:06   edge log likelihood: -1.05112\n"
          ]
        },
        {
          "output_type": "stream",
          "name": "stderr",
          "text": [
            "WARNING:torchdrug.core.logger:edge mask / graph: 358.8\n"
          ]
        },
        {
          "output_type": "stream",
          "name": "stdout",
          "text": [
            "21:33:06   edge mask / graph: 358.8\n"
          ]
        },
        {
          "output_type": "stream",
          "name": "stderr",
          "text": [
            "WARNING:torchdrug.core.logger:node log likelihood: -2.99112\n"
          ]
        },
        {
          "output_type": "stream",
          "name": "stdout",
          "text": [
            "21:33:06   node log likelihood: -2.99112\n"
          ]
        },
        {
          "output_type": "stream",
          "name": "stderr",
          "text": [
            "WARNING:torchdrug.core.logger:node mask / graph: 36.4\n"
          ]
        },
        {
          "output_type": "stream",
          "name": "stdout",
          "text": [
            "21:33:06   node mask / graph: 36.4\n"
          ]
        },
        {
          "output_type": "stream",
          "name": "stderr",
          "text": [
            "WARNING:torchdrug.core.logger:>>>>>>>>>>>>>>>>>>>>>>>>>>>>>>\n"
          ]
        },
        {
          "output_type": "stream",
          "name": "stdout",
          "text": [
            "21:33:09   >>>>>>>>>>>>>>>>>>>>>>>>>>>>>>\n"
          ]
        },
        {
          "output_type": "stream",
          "name": "stderr",
          "text": [
            "WARNING:torchdrug.core.logger:edge log likelihood: -1.01837\n"
          ]
        },
        {
          "output_type": "stream",
          "name": "stdout",
          "text": [
            "21:33:09   edge log likelihood: -1.01837\n"
          ]
        },
        {
          "output_type": "stream",
          "name": "stderr",
          "text": [
            "WARNING:torchdrug.core.logger:edge mask / graph: 414\n"
          ]
        },
        {
          "output_type": "stream",
          "name": "stdout",
          "text": [
            "21:33:09   edge mask / graph: 414\n"
          ]
        },
        {
          "output_type": "stream",
          "name": "stderr",
          "text": [
            "WARNING:torchdrug.core.logger:node log likelihood: -2.34004\n"
          ]
        },
        {
          "output_type": "stream",
          "name": "stdout",
          "text": [
            "21:33:09   node log likelihood: -2.34004\n"
          ]
        },
        {
          "output_type": "stream",
          "name": "stderr",
          "text": [
            "WARNING:torchdrug.core.logger:node mask / graph: 41\n"
          ]
        },
        {
          "output_type": "stream",
          "name": "stdout",
          "text": [
            "21:33:09   node mask / graph: 41\n"
          ]
        },
        {
          "output_type": "stream",
          "name": "stderr",
          "text": [
            "WARNING:torchdrug.core.logger:>>>>>>>>>>>>>>>>>>>>>>>>>>>>>>\n"
          ]
        },
        {
          "output_type": "stream",
          "name": "stdout",
          "text": [
            "21:33:12   >>>>>>>>>>>>>>>>>>>>>>>>>>>>>>\n"
          ]
        },
        {
          "output_type": "stream",
          "name": "stderr",
          "text": [
            "WARNING:torchdrug.core.logger:edge log likelihood: -1.04233\n"
          ]
        },
        {
          "output_type": "stream",
          "name": "stdout",
          "text": [
            "21:33:12   edge log likelihood: -1.04233\n"
          ]
        },
        {
          "output_type": "stream",
          "name": "stderr",
          "text": [
            "WARNING:torchdrug.core.logger:edge mask / graph: 336\n"
          ]
        },
        {
          "output_type": "stream",
          "name": "stdout",
          "text": [
            "21:33:12   edge mask / graph: 336\n"
          ]
        },
        {
          "output_type": "stream",
          "name": "stderr",
          "text": [
            "WARNING:torchdrug.core.logger:node log likelihood: -2.42736\n"
          ]
        },
        {
          "output_type": "stream",
          "name": "stdout",
          "text": [
            "21:33:12   node log likelihood: -2.42736\n"
          ]
        },
        {
          "output_type": "stream",
          "name": "stderr",
          "text": [
            "WARNING:torchdrug.core.logger:node mask / graph: 34.5\n"
          ]
        },
        {
          "output_type": "stream",
          "name": "stdout",
          "text": [
            "21:33:13   node mask / graph: 34.5\n"
          ]
        },
        {
          "output_type": "stream",
          "name": "stderr",
          "text": [
            "WARNING:torchdrug.core.meter:>>>>>>>>>>>>>>>>>>>>>>>>>>>>>>\n"
          ]
        },
        {
          "output_type": "stream",
          "name": "stdout",
          "text": [
            "21:33:13   >>>>>>>>>>>>>>>>>>>>>>>>>>>>>>\n"
          ]
        },
        {
          "output_type": "stream",
          "name": "stderr",
          "text": [
            "WARNING:torchdrug.core.meter:Epoch 0 end\n"
          ]
        },
        {
          "output_type": "stream",
          "name": "stdout",
          "text": [
            "21:33:13   Epoch 0 end\n"
          ]
        },
        {
          "output_type": "stream",
          "name": "stderr",
          "text": [
            "WARNING:torchdrug.core.meter:duration: 2.72 mins\n"
          ]
        },
        {
          "output_type": "stream",
          "name": "stdout",
          "text": [
            "21:33:13   duration: 2.72 mins\n"
          ]
        },
        {
          "output_type": "stream",
          "name": "stderr",
          "text": [
            "WARNING:torchdrug.core.meter:speed: 2.95 batch / sec\n"
          ]
        },
        {
          "output_type": "stream",
          "name": "stdout",
          "text": [
            "21:33:13   speed: 2.95 batch / sec\n"
          ]
        },
        {
          "output_type": "stream",
          "name": "stderr",
          "text": [
            "WARNING:torchdrug.core.meter:ETA: 10.87 mins\n"
          ]
        },
        {
          "output_type": "stream",
          "name": "stdout",
          "text": [
            "21:33:13   ETA: 10.87 mins\n"
          ]
        },
        {
          "output_type": "stream",
          "name": "stderr",
          "text": [
            "WARNING:torchdrug.core.meter:max GPU memory: 3949.5 MiB\n"
          ]
        },
        {
          "output_type": "stream",
          "name": "stdout",
          "text": [
            "21:33:13   max GPU memory: 3949.5 MiB\n"
          ]
        },
        {
          "output_type": "stream",
          "name": "stderr",
          "text": [
            "WARNING:torchdrug.core.logger:------------------------------\n"
          ]
        },
        {
          "output_type": "stream",
          "name": "stdout",
          "text": [
            "21:33:13   ------------------------------\n"
          ]
        },
        {
          "output_type": "stream",
          "name": "stderr",
          "text": [
            "WARNING:torchdrug.core.logger:average edge log likelihood: -1.06386\n"
          ]
        },
        {
          "output_type": "stream",
          "name": "stdout",
          "text": [
            "21:33:13   average edge log likelihood: -1.06386\n"
          ]
        },
        {
          "output_type": "stream",
          "name": "stderr",
          "text": [
            "WARNING:torchdrug.core.logger:average edge mask / graph: 394.74\n"
          ]
        },
        {
          "output_type": "stream",
          "name": "stdout",
          "text": [
            "21:33:13   average edge mask / graph: 394.74\n"
          ]
        },
        {
          "output_type": "stream",
          "name": "stderr",
          "text": [
            "WARNING:torchdrug.core.logger:average node log likelihood: -14.1547\n"
          ]
        },
        {
          "output_type": "stream",
          "name": "stdout",
          "text": [
            "21:33:13   average node log likelihood: -14.1547\n"
          ]
        },
        {
          "output_type": "stream",
          "name": "stderr",
          "text": [
            "WARNING:torchdrug.core.logger:average node mask / graph: 39.395\n"
          ]
        },
        {
          "output_type": "stream",
          "name": "stdout",
          "text": [
            "21:33:13   average node mask / graph: 39.395\n"
          ]
        },
        {
          "output_type": "stream",
          "name": "stderr",
          "text": [
            "WARNING:torchdrug.core.meter:>>>>>>>>>>>>>>>>>>>>>>>>>>>>>>\n"
          ]
        },
        {
          "output_type": "stream",
          "name": "stdout",
          "text": [
            "21:33:13   >>>>>>>>>>>>>>>>>>>>>>>>>>>>>>\n"
          ]
        },
        {
          "output_type": "stream",
          "name": "stderr",
          "text": [
            "WARNING:torchdrug.core.meter:Epoch 1 begin\n"
          ]
        },
        {
          "output_type": "stream",
          "name": "stdout",
          "text": [
            "21:33:13   Epoch 1 begin\n"
          ]
        },
        {
          "output_type": "stream",
          "name": "stderr",
          "text": [
            "WARNING:torchdrug.core.logger:>>>>>>>>>>>>>>>>>>>>>>>>>>>>>>\n"
          ]
        },
        {
          "output_type": "stream",
          "name": "stdout",
          "text": [
            "21:33:16   >>>>>>>>>>>>>>>>>>>>>>>>>>>>>>\n"
          ]
        },
        {
          "output_type": "stream",
          "name": "stderr",
          "text": [
            "WARNING:torchdrug.core.logger:edge log likelihood: -1.02871\n"
          ]
        },
        {
          "output_type": "stream",
          "name": "stdout",
          "text": [
            "21:33:16   edge log likelihood: -1.02871\n"
          ]
        },
        {
          "output_type": "stream",
          "name": "stderr",
          "text": [
            "WARNING:torchdrug.core.logger:edge mask / graph: 386.4\n"
          ]
        },
        {
          "output_type": "stream",
          "name": "stdout",
          "text": [
            "21:33:16   edge mask / graph: 386.4\n"
          ]
        },
        {
          "output_type": "stream",
          "name": "stderr",
          "text": [
            "WARNING:torchdrug.core.logger:node log likelihood: -2.25976\n"
          ]
        },
        {
          "output_type": "stream",
          "name": "stdout",
          "text": [
            "21:33:16   node log likelihood: -2.25976\n"
          ]
        },
        {
          "output_type": "stream",
          "name": "stderr",
          "text": [
            "WARNING:torchdrug.core.logger:node mask / graph: 38.7\n"
          ]
        },
        {
          "output_type": "stream",
          "name": "stdout",
          "text": [
            "21:33:16   node mask / graph: 38.7\n"
          ]
        },
        {
          "output_type": "stream",
          "name": "stderr",
          "text": [
            "WARNING:torchdrug.core.logger:>>>>>>>>>>>>>>>>>>>>>>>>>>>>>>\n"
          ]
        },
        {
          "output_type": "stream",
          "name": "stdout",
          "text": [
            "21:33:19   >>>>>>>>>>>>>>>>>>>>>>>>>>>>>>\n"
          ]
        },
        {
          "output_type": "stream",
          "name": "stderr",
          "text": [
            "WARNING:torchdrug.core.logger:edge log likelihood: -1.04803\n"
          ]
        },
        {
          "output_type": "stream",
          "name": "stdout",
          "text": [
            "21:33:19   edge log likelihood: -1.04803\n"
          ]
        },
        {
          "output_type": "stream",
          "name": "stderr",
          "text": [
            "WARNING:torchdrug.core.logger:edge mask / graph: 408\n"
          ]
        },
        {
          "output_type": "stream",
          "name": "stdout",
          "text": [
            "21:33:19   edge mask / graph: 408\n"
          ]
        },
        {
          "output_type": "stream",
          "name": "stderr",
          "text": [
            "WARNING:torchdrug.core.logger:node log likelihood: -2.27281\n"
          ]
        },
        {
          "output_type": "stream",
          "name": "stdout",
          "text": [
            "21:33:19   node log likelihood: -2.27281\n"
          ]
        },
        {
          "output_type": "stream",
          "name": "stderr",
          "text": [
            "WARNING:torchdrug.core.logger:node mask / graph: 40.5\n"
          ]
        },
        {
          "output_type": "stream",
          "name": "stdout",
          "text": [
            "21:33:19   node mask / graph: 40.5\n"
          ]
        },
        {
          "output_type": "stream",
          "name": "stderr",
          "text": [
            "WARNING:torchdrug.core.logger:>>>>>>>>>>>>>>>>>>>>>>>>>>>>>>\n"
          ]
        },
        {
          "output_type": "stream",
          "name": "stdout",
          "text": [
            "21:33:23   >>>>>>>>>>>>>>>>>>>>>>>>>>>>>>\n"
          ]
        },
        {
          "output_type": "stream",
          "name": "stderr",
          "text": [
            "WARNING:torchdrug.core.logger:edge log likelihood: -1.03995\n"
          ]
        },
        {
          "output_type": "stream",
          "name": "stdout",
          "text": [
            "21:33:23   edge log likelihood: -1.03995\n"
          ]
        },
        {
          "output_type": "stream",
          "name": "stderr",
          "text": [
            "WARNING:torchdrug.core.logger:edge mask / graph: 368.4\n"
          ]
        },
        {
          "output_type": "stream",
          "name": "stdout",
          "text": [
            "21:33:23   edge mask / graph: 368.4\n"
          ]
        },
        {
          "output_type": "stream",
          "name": "stderr",
          "text": [
            "WARNING:torchdrug.core.logger:node log likelihood: -2.27401\n"
          ]
        },
        {
          "output_type": "stream",
          "name": "stdout",
          "text": [
            "21:33:23   node log likelihood: -2.27401\n"
          ]
        },
        {
          "output_type": "stream",
          "name": "stderr",
          "text": [
            "WARNING:torchdrug.core.logger:node mask / graph: 37.2\n"
          ]
        },
        {
          "output_type": "stream",
          "name": "stdout",
          "text": [
            "21:33:23   node mask / graph: 37.2\n"
          ]
        },
        {
          "output_type": "stream",
          "name": "stderr",
          "text": [
            "WARNING:torchdrug.core.logger:>>>>>>>>>>>>>>>>>>>>>>>>>>>>>>\n"
          ]
        },
        {
          "output_type": "stream",
          "name": "stdout",
          "text": [
            "21:33:26   >>>>>>>>>>>>>>>>>>>>>>>>>>>>>>\n"
          ]
        },
        {
          "output_type": "stream",
          "name": "stderr",
          "text": [
            "WARNING:torchdrug.core.logger:edge log likelihood: -1.01716\n"
          ]
        },
        {
          "output_type": "stream",
          "name": "stdout",
          "text": [
            "21:33:26   edge log likelihood: -1.01716\n"
          ]
        },
        {
          "output_type": "stream",
          "name": "stderr",
          "text": [
            "WARNING:torchdrug.core.logger:edge mask / graph: 416.4\n"
          ]
        },
        {
          "output_type": "stream",
          "name": "stdout",
          "text": [
            "21:33:26   edge mask / graph: 416.4\n"
          ]
        },
        {
          "output_type": "stream",
          "name": "stderr",
          "text": [
            "WARNING:torchdrug.core.logger:node log likelihood: -2.39363\n"
          ]
        },
        {
          "output_type": "stream",
          "name": "stdout",
          "text": [
            "21:33:26   node log likelihood: -2.39363\n"
          ]
        },
        {
          "output_type": "stream",
          "name": "stderr",
          "text": [
            "WARNING:torchdrug.core.logger:node mask / graph: 41.2\n"
          ]
        },
        {
          "output_type": "stream",
          "name": "stdout",
          "text": [
            "21:33:26   node mask / graph: 41.2\n"
          ]
        },
        {
          "output_type": "stream",
          "name": "stderr",
          "text": [
            "WARNING:torchdrug.core.logger:>>>>>>>>>>>>>>>>>>>>>>>>>>>>>>\n"
          ]
        },
        {
          "output_type": "stream",
          "name": "stdout",
          "text": [
            "21:33:30   >>>>>>>>>>>>>>>>>>>>>>>>>>>>>>\n"
          ]
        },
        {
          "output_type": "stream",
          "name": "stderr",
          "text": [
            "WARNING:torchdrug.core.logger:edge log likelihood: -1.01295\n"
          ]
        },
        {
          "output_type": "stream",
          "name": "stdout",
          "text": [
            "21:33:30   edge log likelihood: -1.01295\n"
          ]
        },
        {
          "output_type": "stream",
          "name": "stderr",
          "text": [
            "WARNING:torchdrug.core.logger:edge mask / graph: 374.4\n"
          ]
        },
        {
          "output_type": "stream",
          "name": "stdout",
          "text": [
            "21:33:30   edge mask / graph: 374.4\n"
          ]
        },
        {
          "output_type": "stream",
          "name": "stderr",
          "text": [
            "WARNING:torchdrug.core.logger:node log likelihood: -2.48764\n"
          ]
        },
        {
          "output_type": "stream",
          "name": "stdout",
          "text": [
            "21:33:30   node log likelihood: -2.48764\n"
          ]
        },
        {
          "output_type": "stream",
          "name": "stderr",
          "text": [
            "WARNING:torchdrug.core.logger:node mask / graph: 37.7\n"
          ]
        },
        {
          "output_type": "stream",
          "name": "stdout",
          "text": [
            "21:33:30   node mask / graph: 37.7\n"
          ]
        },
        {
          "output_type": "stream",
          "name": "stderr",
          "text": [
            "WARNING:torchdrug.core.logger:>>>>>>>>>>>>>>>>>>>>>>>>>>>>>>\n"
          ]
        },
        {
          "output_type": "stream",
          "name": "stdout",
          "text": [
            "21:33:33   >>>>>>>>>>>>>>>>>>>>>>>>>>>>>>\n"
          ]
        },
        {
          "output_type": "stream",
          "name": "stderr",
          "text": [
            "WARNING:torchdrug.core.logger:edge log likelihood: -1.03058\n"
          ]
        },
        {
          "output_type": "stream",
          "name": "stdout",
          "text": [
            "21:33:33   edge log likelihood: -1.03058\n"
          ]
        },
        {
          "output_type": "stream",
          "name": "stderr",
          "text": [
            "WARNING:torchdrug.core.logger:edge mask / graph: 390\n"
          ]
        },
        {
          "output_type": "stream",
          "name": "stdout",
          "text": [
            "21:33:33   edge mask / graph: 390\n"
          ]
        },
        {
          "output_type": "stream",
          "name": "stderr",
          "text": [
            "WARNING:torchdrug.core.logger:node log likelihood: -2.73069\n"
          ]
        },
        {
          "output_type": "stream",
          "name": "stdout",
          "text": [
            "21:33:33   node log likelihood: -2.73069\n"
          ]
        },
        {
          "output_type": "stream",
          "name": "stderr",
          "text": [
            "WARNING:torchdrug.core.logger:node mask / graph: 39\n"
          ]
        },
        {
          "output_type": "stream",
          "name": "stdout",
          "text": [
            "21:33:33   node mask / graph: 39\n"
          ]
        },
        {
          "output_type": "stream",
          "name": "stderr",
          "text": [
            "WARNING:torchdrug.core.logger:>>>>>>>>>>>>>>>>>>>>>>>>>>>>>>\n"
          ]
        },
        {
          "output_type": "stream",
          "name": "stdout",
          "text": [
            "21:33:37   >>>>>>>>>>>>>>>>>>>>>>>>>>>>>>\n"
          ]
        },
        {
          "output_type": "stream",
          "name": "stderr",
          "text": [
            "WARNING:torchdrug.core.logger:edge log likelihood: -1.01828\n"
          ]
        },
        {
          "output_type": "stream",
          "name": "stdout",
          "text": [
            "21:33:37   edge log likelihood: -1.01828\n"
          ]
        },
        {
          "output_type": "stream",
          "name": "stderr",
          "text": [
            "WARNING:torchdrug.core.logger:edge mask / graph: 372\n"
          ]
        },
        {
          "output_type": "stream",
          "name": "stdout",
          "text": [
            "21:33:37   edge mask / graph: 372\n"
          ]
        },
        {
          "output_type": "stream",
          "name": "stderr",
          "text": [
            "WARNING:torchdrug.core.logger:node log likelihood: -2.63252\n"
          ]
        },
        {
          "output_type": "stream",
          "name": "stdout",
          "text": [
            "21:33:37   node log likelihood: -2.63252\n"
          ]
        },
        {
          "output_type": "stream",
          "name": "stderr",
          "text": [
            "WARNING:torchdrug.core.logger:node mask / graph: 37.5\n"
          ]
        },
        {
          "output_type": "stream",
          "name": "stdout",
          "text": [
            "21:33:37   node mask / graph: 37.5\n"
          ]
        },
        {
          "output_type": "stream",
          "name": "stderr",
          "text": [
            "WARNING:torchdrug.core.logger:>>>>>>>>>>>>>>>>>>>>>>>>>>>>>>\n"
          ]
        },
        {
          "output_type": "stream",
          "name": "stdout",
          "text": [
            "21:33:40   >>>>>>>>>>>>>>>>>>>>>>>>>>>>>>\n"
          ]
        },
        {
          "output_type": "stream",
          "name": "stderr",
          "text": [
            "WARNING:torchdrug.core.logger:edge log likelihood: -0.986925\n"
          ]
        },
        {
          "output_type": "stream",
          "name": "stdout",
          "text": [
            "21:33:40   edge log likelihood: -0.986925\n"
          ]
        },
        {
          "output_type": "stream",
          "name": "stderr",
          "text": [
            "WARNING:torchdrug.core.logger:edge mask / graph: 444\n"
          ]
        },
        {
          "output_type": "stream",
          "name": "stdout",
          "text": [
            "21:33:40   edge mask / graph: 444\n"
          ]
        },
        {
          "output_type": "stream",
          "name": "stderr",
          "text": [
            "WARNING:torchdrug.core.logger:node log likelihood: -2.37509\n"
          ]
        },
        {
          "output_type": "stream",
          "name": "stdout",
          "text": [
            "21:33:40   node log likelihood: -2.37509\n"
          ]
        },
        {
          "output_type": "stream",
          "name": "stderr",
          "text": [
            "WARNING:torchdrug.core.logger:node mask / graph: 43.5\n"
          ]
        },
        {
          "output_type": "stream",
          "name": "stdout",
          "text": [
            "21:33:40   node mask / graph: 43.5\n"
          ]
        },
        {
          "output_type": "stream",
          "name": "stderr",
          "text": [
            "WARNING:torchdrug.core.logger:>>>>>>>>>>>>>>>>>>>>>>>>>>>>>>\n"
          ]
        },
        {
          "output_type": "stream",
          "name": "stdout",
          "text": [
            "21:33:43   >>>>>>>>>>>>>>>>>>>>>>>>>>>>>>\n"
          ]
        },
        {
          "output_type": "stream",
          "name": "stderr",
          "text": [
            "WARNING:torchdrug.core.logger:edge log likelihood: -0.998222\n"
          ]
        },
        {
          "output_type": "stream",
          "name": "stdout",
          "text": [
            "21:33:43   edge log likelihood: -0.998222\n"
          ]
        },
        {
          "output_type": "stream",
          "name": "stderr",
          "text": [
            "WARNING:torchdrug.core.logger:edge mask / graph: 438\n"
          ]
        },
        {
          "output_type": "stream",
          "name": "stdout",
          "text": [
            "21:33:43   edge mask / graph: 438\n"
          ]
        },
        {
          "output_type": "stream",
          "name": "stderr",
          "text": [
            "WARNING:torchdrug.core.logger:node log likelihood: -2.38739\n"
          ]
        },
        {
          "output_type": "stream",
          "name": "stdout",
          "text": [
            "21:33:43   node log likelihood: -2.38739\n"
          ]
        },
        {
          "output_type": "stream",
          "name": "stderr",
          "text": [
            "WARNING:torchdrug.core.logger:node mask / graph: 43\n"
          ]
        },
        {
          "output_type": "stream",
          "name": "stdout",
          "text": [
            "21:33:43   node mask / graph: 43\n"
          ]
        },
        {
          "output_type": "stream",
          "name": "stderr",
          "text": [
            "WARNING:torchdrug.core.logger:>>>>>>>>>>>>>>>>>>>>>>>>>>>>>>\n"
          ]
        },
        {
          "output_type": "stream",
          "name": "stdout",
          "text": [
            "21:33:46   >>>>>>>>>>>>>>>>>>>>>>>>>>>>>>\n"
          ]
        },
        {
          "output_type": "stream",
          "name": "stderr",
          "text": [
            "WARNING:torchdrug.core.logger:edge log likelihood: -1.01679\n"
          ]
        },
        {
          "output_type": "stream",
          "name": "stdout",
          "text": [
            "21:33:46   edge log likelihood: -1.01679\n"
          ]
        },
        {
          "output_type": "stream",
          "name": "stderr",
          "text": [
            "WARNING:torchdrug.core.logger:edge mask / graph: 403.2\n"
          ]
        },
        {
          "output_type": "stream",
          "name": "stdout",
          "text": [
            "21:33:46   edge mask / graph: 403.2\n"
          ]
        },
        {
          "output_type": "stream",
          "name": "stderr",
          "text": [
            "WARNING:torchdrug.core.logger:node log likelihood: -3.11357\n"
          ]
        },
        {
          "output_type": "stream",
          "name": "stdout",
          "text": [
            "21:33:46   node log likelihood: -3.11357\n"
          ]
        },
        {
          "output_type": "stream",
          "name": "stderr",
          "text": [
            "WARNING:torchdrug.core.logger:node mask / graph: 40.1\n"
          ]
        },
        {
          "output_type": "stream",
          "name": "stdout",
          "text": [
            "21:33:46   node mask / graph: 40.1\n"
          ]
        },
        {
          "output_type": "stream",
          "name": "stderr",
          "text": [
            "WARNING:torchdrug.core.logger:>>>>>>>>>>>>>>>>>>>>>>>>>>>>>>\n"
          ]
        },
        {
          "output_type": "stream",
          "name": "stdout",
          "text": [
            "21:33:50   >>>>>>>>>>>>>>>>>>>>>>>>>>>>>>\n"
          ]
        },
        {
          "output_type": "stream",
          "name": "stderr",
          "text": [
            "WARNING:torchdrug.core.logger:edge log likelihood: -0.998919\n"
          ]
        },
        {
          "output_type": "stream",
          "name": "stdout",
          "text": [
            "21:33:50   edge log likelihood: -0.998919\n"
          ]
        },
        {
          "output_type": "stream",
          "name": "stderr",
          "text": [
            "WARNING:torchdrug.core.logger:edge mask / graph: 454.8\n"
          ]
        },
        {
          "output_type": "stream",
          "name": "stdout",
          "text": [
            "21:33:50   edge mask / graph: 454.8\n"
          ]
        },
        {
          "output_type": "stream",
          "name": "stderr",
          "text": [
            "WARNING:torchdrug.core.logger:node log likelihood: -2.6537\n"
          ]
        },
        {
          "output_type": "stream",
          "name": "stdout",
          "text": [
            "21:33:50   node log likelihood: -2.6537\n"
          ]
        },
        {
          "output_type": "stream",
          "name": "stderr",
          "text": [
            "WARNING:torchdrug.core.logger:node mask / graph: 44.4\n"
          ]
        },
        {
          "output_type": "stream",
          "name": "stdout",
          "text": [
            "21:33:50   node mask / graph: 44.4\n"
          ]
        },
        {
          "output_type": "stream",
          "name": "stderr",
          "text": [
            "WARNING:torchdrug.core.logger:>>>>>>>>>>>>>>>>>>>>>>>>>>>>>>\n"
          ]
        },
        {
          "output_type": "stream",
          "name": "stdout",
          "text": [
            "21:33:53   >>>>>>>>>>>>>>>>>>>>>>>>>>>>>>\n"
          ]
        },
        {
          "output_type": "stream",
          "name": "stderr",
          "text": [
            "WARNING:torchdrug.core.logger:edge log likelihood: -1.03153\n"
          ]
        },
        {
          "output_type": "stream",
          "name": "stdout",
          "text": [
            "21:33:53   edge log likelihood: -1.03153\n"
          ]
        },
        {
          "output_type": "stream",
          "name": "stderr",
          "text": [
            "WARNING:torchdrug.core.logger:edge mask / graph: 333.6\n"
          ]
        },
        {
          "output_type": "stream",
          "name": "stdout",
          "text": [
            "21:33:53   edge mask / graph: 333.6\n"
          ]
        },
        {
          "output_type": "stream",
          "name": "stderr",
          "text": [
            "WARNING:torchdrug.core.logger:node log likelihood: -2.04345\n"
          ]
        },
        {
          "output_type": "stream",
          "name": "stdout",
          "text": [
            "21:33:53   node log likelihood: -2.04345\n"
          ]
        },
        {
          "output_type": "stream",
          "name": "stderr",
          "text": [
            "WARNING:torchdrug.core.logger:node mask / graph: 34.3\n"
          ]
        },
        {
          "output_type": "stream",
          "name": "stdout",
          "text": [
            "21:33:53   node mask / graph: 34.3\n"
          ]
        },
        {
          "output_type": "stream",
          "name": "stderr",
          "text": [
            "WARNING:torchdrug.core.logger:>>>>>>>>>>>>>>>>>>>>>>>>>>>>>>\n"
          ]
        },
        {
          "output_type": "stream",
          "name": "stdout",
          "text": [
            "21:33:57   >>>>>>>>>>>>>>>>>>>>>>>>>>>>>>\n"
          ]
        },
        {
          "output_type": "stream",
          "name": "stderr",
          "text": [
            "WARNING:torchdrug.core.logger:edge log likelihood: -1.03838\n"
          ]
        },
        {
          "output_type": "stream",
          "name": "stdout",
          "text": [
            "21:33:57   edge log likelihood: -1.03838\n"
          ]
        },
        {
          "output_type": "stream",
          "name": "stderr",
          "text": [
            "WARNING:torchdrug.core.logger:edge mask / graph: 387.6\n"
          ]
        },
        {
          "output_type": "stream",
          "name": "stdout",
          "text": [
            "21:33:57   edge mask / graph: 387.6\n"
          ]
        },
        {
          "output_type": "stream",
          "name": "stderr",
          "text": [
            "WARNING:torchdrug.core.logger:node log likelihood: -1.85861\n"
          ]
        },
        {
          "output_type": "stream",
          "name": "stdout",
          "text": [
            "21:33:57   node log likelihood: -1.85861\n"
          ]
        },
        {
          "output_type": "stream",
          "name": "stderr",
          "text": [
            "WARNING:torchdrug.core.logger:node mask / graph: 38.8\n"
          ]
        },
        {
          "output_type": "stream",
          "name": "stdout",
          "text": [
            "21:33:57   node mask / graph: 38.8\n"
          ]
        },
        {
          "output_type": "stream",
          "name": "stderr",
          "text": [
            "WARNING:torchdrug.core.logger:>>>>>>>>>>>>>>>>>>>>>>>>>>>>>>\n"
          ]
        },
        {
          "output_type": "stream",
          "name": "stdout",
          "text": [
            "21:34:00   >>>>>>>>>>>>>>>>>>>>>>>>>>>>>>\n"
          ]
        },
        {
          "output_type": "stream",
          "name": "stderr",
          "text": [
            "WARNING:torchdrug.core.logger:edge log likelihood: -0.996411\n"
          ]
        },
        {
          "output_type": "stream",
          "name": "stdout",
          "text": [
            "21:34:00   edge log likelihood: -0.996411\n"
          ]
        },
        {
          "output_type": "stream",
          "name": "stderr",
          "text": [
            "WARNING:torchdrug.core.logger:edge mask / graph: 396\n"
          ]
        },
        {
          "output_type": "stream",
          "name": "stdout",
          "text": [
            "21:34:00   edge mask / graph: 396\n"
          ]
        },
        {
          "output_type": "stream",
          "name": "stderr",
          "text": [
            "WARNING:torchdrug.core.logger:node log likelihood: -2.04051\n"
          ]
        },
        {
          "output_type": "stream",
          "name": "stdout",
          "text": [
            "21:34:00   node log likelihood: -2.04051\n"
          ]
        },
        {
          "output_type": "stream",
          "name": "stderr",
          "text": [
            "WARNING:torchdrug.core.logger:node mask / graph: 39.5\n"
          ]
        },
        {
          "output_type": "stream",
          "name": "stdout",
          "text": [
            "21:34:00   node mask / graph: 39.5\n"
          ]
        },
        {
          "output_type": "stream",
          "name": "stderr",
          "text": [
            "WARNING:torchdrug.core.logger:>>>>>>>>>>>>>>>>>>>>>>>>>>>>>>\n"
          ]
        },
        {
          "output_type": "stream",
          "name": "stdout",
          "text": [
            "21:34:03   >>>>>>>>>>>>>>>>>>>>>>>>>>>>>>\n"
          ]
        },
        {
          "output_type": "stream",
          "name": "stderr",
          "text": [
            "WARNING:torchdrug.core.logger:edge log likelihood: -1.03427\n"
          ]
        },
        {
          "output_type": "stream",
          "name": "stdout",
          "text": [
            "21:34:03   edge log likelihood: -1.03427\n"
          ]
        },
        {
          "output_type": "stream",
          "name": "stderr",
          "text": [
            "WARNING:torchdrug.core.logger:edge mask / graph: 350.4\n"
          ]
        },
        {
          "output_type": "stream",
          "name": "stdout",
          "text": [
            "21:34:03   edge mask / graph: 350.4\n"
          ]
        },
        {
          "output_type": "stream",
          "name": "stderr",
          "text": [
            "WARNING:torchdrug.core.logger:node log likelihood: -1.85062\n"
          ]
        },
        {
          "output_type": "stream",
          "name": "stdout",
          "text": [
            "21:34:03   node log likelihood: -1.85062\n"
          ]
        },
        {
          "output_type": "stream",
          "name": "stderr",
          "text": [
            "WARNING:torchdrug.core.logger:node mask / graph: 35.7\n"
          ]
        },
        {
          "output_type": "stream",
          "name": "stdout",
          "text": [
            "21:34:03   node mask / graph: 35.7\n"
          ]
        },
        {
          "output_type": "stream",
          "name": "stderr",
          "text": [
            "WARNING:torchdrug.core.logger:>>>>>>>>>>>>>>>>>>>>>>>>>>>>>>\n"
          ]
        },
        {
          "output_type": "stream",
          "name": "stdout",
          "text": [
            "21:34:07   >>>>>>>>>>>>>>>>>>>>>>>>>>>>>>\n"
          ]
        },
        {
          "output_type": "stream",
          "name": "stderr",
          "text": [
            "WARNING:torchdrug.core.logger:edge log likelihood: -1.01413\n"
          ]
        },
        {
          "output_type": "stream",
          "name": "stdout",
          "text": [
            "21:34:07   edge log likelihood: -1.01413\n"
          ]
        },
        {
          "output_type": "stream",
          "name": "stderr",
          "text": [
            "WARNING:torchdrug.core.logger:edge mask / graph: 402\n"
          ]
        },
        {
          "output_type": "stream",
          "name": "stdout",
          "text": [
            "21:34:07   edge mask / graph: 402\n"
          ]
        },
        {
          "output_type": "stream",
          "name": "stderr",
          "text": [
            "WARNING:torchdrug.core.logger:node log likelihood: -2.29181\n"
          ]
        },
        {
          "output_type": "stream",
          "name": "stdout",
          "text": [
            "21:34:07   node log likelihood: -2.29181\n"
          ]
        },
        {
          "output_type": "stream",
          "name": "stderr",
          "text": [
            "WARNING:torchdrug.core.logger:node mask / graph: 40\n"
          ]
        },
        {
          "output_type": "stream",
          "name": "stdout",
          "text": [
            "21:34:07   node mask / graph: 40\n"
          ]
        },
        {
          "output_type": "stream",
          "name": "stderr",
          "text": [
            "WARNING:torchdrug.core.logger:>>>>>>>>>>>>>>>>>>>>>>>>>>>>>>\n"
          ]
        },
        {
          "output_type": "stream",
          "name": "stdout",
          "text": [
            "21:34:10   >>>>>>>>>>>>>>>>>>>>>>>>>>>>>>\n"
          ]
        },
        {
          "output_type": "stream",
          "name": "stderr",
          "text": [
            "WARNING:torchdrug.core.logger:edge log likelihood: -1.03116\n"
          ]
        },
        {
          "output_type": "stream",
          "name": "stdout",
          "text": [
            "21:34:10   edge log likelihood: -1.03116\n"
          ]
        },
        {
          "output_type": "stream",
          "name": "stderr",
          "text": [
            "WARNING:torchdrug.core.logger:edge mask / graph: 348\n"
          ]
        },
        {
          "output_type": "stream",
          "name": "stdout",
          "text": [
            "21:34:10   edge mask / graph: 348\n"
          ]
        },
        {
          "output_type": "stream",
          "name": "stderr",
          "text": [
            "WARNING:torchdrug.core.logger:node log likelihood: -1.76653\n"
          ]
        },
        {
          "output_type": "stream",
          "name": "stdout",
          "text": [
            "21:34:10   node log likelihood: -1.76653\n"
          ]
        },
        {
          "output_type": "stream",
          "name": "stderr",
          "text": [
            "WARNING:torchdrug.core.logger:node mask / graph: 35.5\n"
          ]
        },
        {
          "output_type": "stream",
          "name": "stdout",
          "text": [
            "21:34:10   node mask / graph: 35.5\n"
          ]
        },
        {
          "output_type": "stream",
          "name": "stderr",
          "text": [
            "WARNING:torchdrug.core.logger:>>>>>>>>>>>>>>>>>>>>>>>>>>>>>>\n"
          ]
        },
        {
          "output_type": "stream",
          "name": "stdout",
          "text": [
            "21:34:14   >>>>>>>>>>>>>>>>>>>>>>>>>>>>>>\n"
          ]
        },
        {
          "output_type": "stream",
          "name": "stderr",
          "text": [
            "WARNING:torchdrug.core.logger:edge log likelihood: -0.998155\n"
          ]
        },
        {
          "output_type": "stream",
          "name": "stdout",
          "text": [
            "21:34:14   edge log likelihood: -0.998155\n"
          ]
        },
        {
          "output_type": "stream",
          "name": "stderr",
          "text": [
            "WARNING:torchdrug.core.logger:edge mask / graph: 370.8\n"
          ]
        },
        {
          "output_type": "stream",
          "name": "stdout",
          "text": [
            "21:34:14   edge mask / graph: 370.8\n"
          ]
        },
        {
          "output_type": "stream",
          "name": "stderr",
          "text": [
            "WARNING:torchdrug.core.logger:node log likelihood: -2.23051\n"
          ]
        },
        {
          "output_type": "stream",
          "name": "stdout",
          "text": [
            "21:34:14   node log likelihood: -2.23051\n"
          ]
        },
        {
          "output_type": "stream",
          "name": "stderr",
          "text": [
            "WARNING:torchdrug.core.logger:node mask / graph: 37.4\n"
          ]
        },
        {
          "output_type": "stream",
          "name": "stdout",
          "text": [
            "21:34:14   node mask / graph: 37.4\n"
          ]
        },
        {
          "output_type": "stream",
          "name": "stderr",
          "text": [
            "WARNING:torchdrug.core.logger:>>>>>>>>>>>>>>>>>>>>>>>>>>>>>>\n"
          ]
        },
        {
          "output_type": "stream",
          "name": "stdout",
          "text": [
            "21:34:17   >>>>>>>>>>>>>>>>>>>>>>>>>>>>>>\n"
          ]
        },
        {
          "output_type": "stream",
          "name": "stderr",
          "text": [
            "WARNING:torchdrug.core.logger:edge log likelihood: -1.06245\n"
          ]
        },
        {
          "output_type": "stream",
          "name": "stdout",
          "text": [
            "21:34:17   edge log likelihood: -1.06245\n"
          ]
        },
        {
          "output_type": "stream",
          "name": "stderr",
          "text": [
            "WARNING:torchdrug.core.logger:edge mask / graph: 297.6\n"
          ]
        },
        {
          "output_type": "stream",
          "name": "stdout",
          "text": [
            "21:34:17   edge mask / graph: 297.6\n"
          ]
        },
        {
          "output_type": "stream",
          "name": "stderr",
          "text": [
            "WARNING:torchdrug.core.logger:node log likelihood: -1.78876\n"
          ]
        },
        {
          "output_type": "stream",
          "name": "stdout",
          "text": [
            "21:34:17   node log likelihood: -1.78876\n"
          ]
        },
        {
          "output_type": "stream",
          "name": "stderr",
          "text": [
            "WARNING:torchdrug.core.logger:node mask / graph: 31.3\n"
          ]
        },
        {
          "output_type": "stream",
          "name": "stdout",
          "text": [
            "21:34:17   node mask / graph: 31.3\n"
          ]
        },
        {
          "output_type": "stream",
          "name": "stderr",
          "text": [
            "WARNING:torchdrug.core.logger:>>>>>>>>>>>>>>>>>>>>>>>>>>>>>>\n"
          ]
        },
        {
          "output_type": "stream",
          "name": "stdout",
          "text": [
            "21:34:20   >>>>>>>>>>>>>>>>>>>>>>>>>>>>>>\n"
          ]
        },
        {
          "output_type": "stream",
          "name": "stderr",
          "text": [
            "WARNING:torchdrug.core.logger:edge log likelihood: -1.01182\n"
          ]
        },
        {
          "output_type": "stream",
          "name": "stdout",
          "text": [
            "21:34:20   edge log likelihood: -1.01182\n"
          ]
        },
        {
          "output_type": "stream",
          "name": "stderr",
          "text": [
            "WARNING:torchdrug.core.logger:edge mask / graph: 376.8\n"
          ]
        },
        {
          "output_type": "stream",
          "name": "stdout",
          "text": [
            "21:34:20   edge mask / graph: 376.8\n"
          ]
        },
        {
          "output_type": "stream",
          "name": "stderr",
          "text": [
            "WARNING:torchdrug.core.logger:node log likelihood: -1.62226\n"
          ]
        },
        {
          "output_type": "stream",
          "name": "stdout",
          "text": [
            "21:34:20   node log likelihood: -1.62226\n"
          ]
        },
        {
          "output_type": "stream",
          "name": "stderr",
          "text": [
            "WARNING:torchdrug.core.logger:node mask / graph: 37.9\n"
          ]
        },
        {
          "output_type": "stream",
          "name": "stdout",
          "text": [
            "21:34:20   node mask / graph: 37.9\n"
          ]
        },
        {
          "output_type": "stream",
          "name": "stderr",
          "text": [
            "WARNING:torchdrug.core.logger:>>>>>>>>>>>>>>>>>>>>>>>>>>>>>>\n"
          ]
        },
        {
          "output_type": "stream",
          "name": "stdout",
          "text": [
            "21:34:24   >>>>>>>>>>>>>>>>>>>>>>>>>>>>>>\n"
          ]
        },
        {
          "output_type": "stream",
          "name": "stderr",
          "text": [
            "WARNING:torchdrug.core.logger:edge log likelihood: -1.03025\n"
          ]
        },
        {
          "output_type": "stream",
          "name": "stdout",
          "text": [
            "21:34:24   edge log likelihood: -1.03025\n"
          ]
        },
        {
          "output_type": "stream",
          "name": "stderr",
          "text": [
            "WARNING:torchdrug.core.logger:edge mask / graph: 459.6\n"
          ]
        },
        {
          "output_type": "stream",
          "name": "stdout",
          "text": [
            "21:34:24   edge mask / graph: 459.6\n"
          ]
        },
        {
          "output_type": "stream",
          "name": "stderr",
          "text": [
            "WARNING:torchdrug.core.logger:node log likelihood: -2.37444\n"
          ]
        },
        {
          "output_type": "stream",
          "name": "stdout",
          "text": [
            "21:34:24   node log likelihood: -2.37444\n"
          ]
        },
        {
          "output_type": "stream",
          "name": "stderr",
          "text": [
            "WARNING:torchdrug.core.logger:node mask / graph: 44.8\n"
          ]
        },
        {
          "output_type": "stream",
          "name": "stdout",
          "text": [
            "21:34:24   node mask / graph: 44.8\n"
          ]
        },
        {
          "output_type": "stream",
          "name": "stderr",
          "text": [
            "WARNING:torchdrug.core.logger:>>>>>>>>>>>>>>>>>>>>>>>>>>>>>>\n"
          ]
        },
        {
          "output_type": "stream",
          "name": "stdout",
          "text": [
            "21:34:27   >>>>>>>>>>>>>>>>>>>>>>>>>>>>>>\n"
          ]
        },
        {
          "output_type": "stream",
          "name": "stderr",
          "text": [
            "WARNING:torchdrug.core.logger:edge log likelihood: -1.00502\n"
          ]
        },
        {
          "output_type": "stream",
          "name": "stdout",
          "text": [
            "21:34:27   edge log likelihood: -1.00502\n"
          ]
        },
        {
          "output_type": "stream",
          "name": "stderr",
          "text": [
            "WARNING:torchdrug.core.logger:edge mask / graph: 333.6\n"
          ]
        },
        {
          "output_type": "stream",
          "name": "stdout",
          "text": [
            "21:34:27   edge mask / graph: 333.6\n"
          ]
        },
        {
          "output_type": "stream",
          "name": "stderr",
          "text": [
            "WARNING:torchdrug.core.logger:node log likelihood: -2.35494\n"
          ]
        },
        {
          "output_type": "stream",
          "name": "stdout",
          "text": [
            "21:34:27   node log likelihood: -2.35494\n"
          ]
        },
        {
          "output_type": "stream",
          "name": "stderr",
          "text": [
            "WARNING:torchdrug.core.logger:node mask / graph: 34.3\n"
          ]
        },
        {
          "output_type": "stream",
          "name": "stdout",
          "text": [
            "21:34:27   node mask / graph: 34.3\n"
          ]
        },
        {
          "output_type": "stream",
          "name": "stderr",
          "text": [
            "WARNING:torchdrug.core.logger:>>>>>>>>>>>>>>>>>>>>>>>>>>>>>>\n"
          ]
        },
        {
          "output_type": "stream",
          "name": "stdout",
          "text": [
            "21:34:30   >>>>>>>>>>>>>>>>>>>>>>>>>>>>>>\n"
          ]
        },
        {
          "output_type": "stream",
          "name": "stderr",
          "text": [
            "WARNING:torchdrug.core.logger:edge log likelihood: -1.07105\n"
          ]
        },
        {
          "output_type": "stream",
          "name": "stdout",
          "text": [
            "21:34:30   edge log likelihood: -1.07105\n"
          ]
        },
        {
          "output_type": "stream",
          "name": "stderr",
          "text": [
            "WARNING:torchdrug.core.logger:edge mask / graph: 385.2\n"
          ]
        },
        {
          "output_type": "stream",
          "name": "stdout",
          "text": [
            "21:34:30   edge mask / graph: 385.2\n"
          ]
        },
        {
          "output_type": "stream",
          "name": "stderr",
          "text": [
            "WARNING:torchdrug.core.logger:node log likelihood: -10.3363\n"
          ]
        },
        {
          "output_type": "stream",
          "name": "stdout",
          "text": [
            "21:34:30   node log likelihood: -10.3363\n"
          ]
        },
        {
          "output_type": "stream",
          "name": "stderr",
          "text": [
            "WARNING:torchdrug.core.logger:node mask / graph: 38.6\n"
          ]
        },
        {
          "output_type": "stream",
          "name": "stdout",
          "text": [
            "21:34:30   node mask / graph: 38.6\n"
          ]
        },
        {
          "output_type": "stream",
          "name": "stderr",
          "text": [
            "WARNING:torchdrug.core.logger:>>>>>>>>>>>>>>>>>>>>>>>>>>>>>>\n"
          ]
        },
        {
          "output_type": "stream",
          "name": "stdout",
          "text": [
            "21:34:33   >>>>>>>>>>>>>>>>>>>>>>>>>>>>>>\n"
          ]
        },
        {
          "output_type": "stream",
          "name": "stderr",
          "text": [
            "WARNING:torchdrug.core.logger:edge log likelihood: -1.04684\n"
          ]
        },
        {
          "output_type": "stream",
          "name": "stdout",
          "text": [
            "21:34:33   edge log likelihood: -1.04684\n"
          ]
        },
        {
          "output_type": "stream",
          "name": "stderr",
          "text": [
            "WARNING:torchdrug.core.logger:edge mask / graph: 343.2\n"
          ]
        },
        {
          "output_type": "stream",
          "name": "stdout",
          "text": [
            "21:34:33   edge mask / graph: 343.2\n"
          ]
        },
        {
          "output_type": "stream",
          "name": "stderr",
          "text": [
            "WARNING:torchdrug.core.logger:node log likelihood: -7.34691\n"
          ]
        },
        {
          "output_type": "stream",
          "name": "stdout",
          "text": [
            "21:34:33   node log likelihood: -7.34691\n"
          ]
        },
        {
          "output_type": "stream",
          "name": "stderr",
          "text": [
            "WARNING:torchdrug.core.logger:node mask / graph: 35.1\n"
          ]
        },
        {
          "output_type": "stream",
          "name": "stdout",
          "text": [
            "21:34:33   node mask / graph: 35.1\n"
          ]
        },
        {
          "output_type": "stream",
          "name": "stderr",
          "text": [
            "WARNING:torchdrug.core.logger:>>>>>>>>>>>>>>>>>>>>>>>>>>>>>>\n"
          ]
        },
        {
          "output_type": "stream",
          "name": "stdout",
          "text": [
            "21:34:37   >>>>>>>>>>>>>>>>>>>>>>>>>>>>>>\n"
          ]
        },
        {
          "output_type": "stream",
          "name": "stderr",
          "text": [
            "WARNING:torchdrug.core.logger:edge log likelihood: -1.04442\n"
          ]
        },
        {
          "output_type": "stream",
          "name": "stdout",
          "text": [
            "21:34:37   edge log likelihood: -1.04442\n"
          ]
        },
        {
          "output_type": "stream",
          "name": "stderr",
          "text": [
            "WARNING:torchdrug.core.logger:edge mask / graph: 477.6\n"
          ]
        },
        {
          "output_type": "stream",
          "name": "stdout",
          "text": [
            "21:34:37   edge mask / graph: 477.6\n"
          ]
        },
        {
          "output_type": "stream",
          "name": "stderr",
          "text": [
            "WARNING:torchdrug.core.logger:node log likelihood: -2.37213\n"
          ]
        },
        {
          "output_type": "stream",
          "name": "stdout",
          "text": [
            "21:34:37   node log likelihood: -2.37213\n"
          ]
        },
        {
          "output_type": "stream",
          "name": "stderr",
          "text": [
            "WARNING:torchdrug.core.logger:node mask / graph: 46.3\n"
          ]
        },
        {
          "output_type": "stream",
          "name": "stdout",
          "text": [
            "21:34:37   node mask / graph: 46.3\n"
          ]
        },
        {
          "output_type": "stream",
          "name": "stderr",
          "text": [
            "WARNING:torchdrug.core.logger:>>>>>>>>>>>>>>>>>>>>>>>>>>>>>>\n"
          ]
        },
        {
          "output_type": "stream",
          "name": "stdout",
          "text": [
            "21:34:40   >>>>>>>>>>>>>>>>>>>>>>>>>>>>>>\n"
          ]
        },
        {
          "output_type": "stream",
          "name": "stderr",
          "text": [
            "WARNING:torchdrug.core.logger:edge log likelihood: -0.993213\n"
          ]
        },
        {
          "output_type": "stream",
          "name": "stdout",
          "text": [
            "21:34:40   edge log likelihood: -0.993213\n"
          ]
        },
        {
          "output_type": "stream",
          "name": "stderr",
          "text": [
            "WARNING:torchdrug.core.logger:edge mask / graph: 490.8\n"
          ]
        },
        {
          "output_type": "stream",
          "name": "stdout",
          "text": [
            "21:34:40   edge mask / graph: 490.8\n"
          ]
        },
        {
          "output_type": "stream",
          "name": "stderr",
          "text": [
            "WARNING:torchdrug.core.logger:node log likelihood: -9.62687\n"
          ]
        },
        {
          "output_type": "stream",
          "name": "stdout",
          "text": [
            "21:34:40   node log likelihood: -9.62687\n"
          ]
        },
        {
          "output_type": "stream",
          "name": "stderr",
          "text": [
            "WARNING:torchdrug.core.logger:node mask / graph: 47.4\n"
          ]
        },
        {
          "output_type": "stream",
          "name": "stdout",
          "text": [
            "21:34:40   node mask / graph: 47.4\n"
          ]
        },
        {
          "output_type": "stream",
          "name": "stderr",
          "text": [
            "WARNING:torchdrug.core.logger:>>>>>>>>>>>>>>>>>>>>>>>>>>>>>>\n"
          ]
        },
        {
          "output_type": "stream",
          "name": "stdout",
          "text": [
            "21:34:43   >>>>>>>>>>>>>>>>>>>>>>>>>>>>>>\n"
          ]
        },
        {
          "output_type": "stream",
          "name": "stderr",
          "text": [
            "WARNING:torchdrug.core.logger:edge log likelihood: -1.07008\n"
          ]
        },
        {
          "output_type": "stream",
          "name": "stdout",
          "text": [
            "21:34:43   edge log likelihood: -1.07008\n"
          ]
        },
        {
          "output_type": "stream",
          "name": "stderr",
          "text": [
            "WARNING:torchdrug.core.logger:edge mask / graph: 303.6\n"
          ]
        },
        {
          "output_type": "stream",
          "name": "stdout",
          "text": [
            "21:34:43   edge mask / graph: 303.6\n"
          ]
        },
        {
          "output_type": "stream",
          "name": "stderr",
          "text": [
            "WARNING:torchdrug.core.logger:node log likelihood: -2.50432\n"
          ]
        },
        {
          "output_type": "stream",
          "name": "stdout",
          "text": [
            "21:34:43   node log likelihood: -2.50432\n"
          ]
        },
        {
          "output_type": "stream",
          "name": "stderr",
          "text": [
            "WARNING:torchdrug.core.logger:node mask / graph: 31.8\n"
          ]
        },
        {
          "output_type": "stream",
          "name": "stdout",
          "text": [
            "21:34:43   node mask / graph: 31.8\n"
          ]
        },
        {
          "output_type": "stream",
          "name": "stderr",
          "text": [
            "WARNING:torchdrug.core.logger:>>>>>>>>>>>>>>>>>>>>>>>>>>>>>>\n"
          ]
        },
        {
          "output_type": "stream",
          "name": "stdout",
          "text": [
            "21:34:47   >>>>>>>>>>>>>>>>>>>>>>>>>>>>>>\n"
          ]
        },
        {
          "output_type": "stream",
          "name": "stderr",
          "text": [
            "WARNING:torchdrug.core.logger:edge log likelihood: -1.05604\n"
          ]
        },
        {
          "output_type": "stream",
          "name": "stdout",
          "text": [
            "21:34:47   edge log likelihood: -1.05604\n"
          ]
        },
        {
          "output_type": "stream",
          "name": "stderr",
          "text": [
            "WARNING:torchdrug.core.logger:edge mask / graph: 372\n"
          ]
        },
        {
          "output_type": "stream",
          "name": "stdout",
          "text": [
            "21:34:47   edge mask / graph: 372\n"
          ]
        },
        {
          "output_type": "stream",
          "name": "stderr",
          "text": [
            "WARNING:torchdrug.core.logger:node log likelihood: -3.03646\n"
          ]
        },
        {
          "output_type": "stream",
          "name": "stdout",
          "text": [
            "21:34:47   node log likelihood: -3.03646\n"
          ]
        },
        {
          "output_type": "stream",
          "name": "stderr",
          "text": [
            "WARNING:torchdrug.core.logger:node mask / graph: 37.5\n"
          ]
        },
        {
          "output_type": "stream",
          "name": "stdout",
          "text": [
            "21:34:47   node mask / graph: 37.5\n"
          ]
        },
        {
          "output_type": "stream",
          "name": "stderr",
          "text": [
            "WARNING:torchdrug.core.logger:>>>>>>>>>>>>>>>>>>>>>>>>>>>>>>\n"
          ]
        },
        {
          "output_type": "stream",
          "name": "stdout",
          "text": [
            "21:34:50   >>>>>>>>>>>>>>>>>>>>>>>>>>>>>>\n"
          ]
        },
        {
          "output_type": "stream",
          "name": "stderr",
          "text": [
            "WARNING:torchdrug.core.logger:edge log likelihood: -1.03072\n"
          ]
        },
        {
          "output_type": "stream",
          "name": "stdout",
          "text": [
            "21:34:50   edge log likelihood: -1.03072\n"
          ]
        },
        {
          "output_type": "stream",
          "name": "stderr",
          "text": [
            "WARNING:torchdrug.core.logger:edge mask / graph: 348\n"
          ]
        },
        {
          "output_type": "stream",
          "name": "stdout",
          "text": [
            "21:34:50   edge mask / graph: 348\n"
          ]
        },
        {
          "output_type": "stream",
          "name": "stderr",
          "text": [
            "WARNING:torchdrug.core.logger:node log likelihood: -2.68297\n"
          ]
        },
        {
          "output_type": "stream",
          "name": "stdout",
          "text": [
            "21:34:50   node log likelihood: -2.68297\n"
          ]
        },
        {
          "output_type": "stream",
          "name": "stderr",
          "text": [
            "WARNING:torchdrug.core.logger:node mask / graph: 35.5\n"
          ]
        },
        {
          "output_type": "stream",
          "name": "stdout",
          "text": [
            "21:34:50   node mask / graph: 35.5\n"
          ]
        },
        {
          "output_type": "stream",
          "name": "stderr",
          "text": [
            "WARNING:torchdrug.core.logger:>>>>>>>>>>>>>>>>>>>>>>>>>>>>>>\n"
          ]
        },
        {
          "output_type": "stream",
          "name": "stdout",
          "text": [
            "21:34:53   >>>>>>>>>>>>>>>>>>>>>>>>>>>>>>\n"
          ]
        },
        {
          "output_type": "stream",
          "name": "stderr",
          "text": [
            "WARNING:torchdrug.core.logger:edge log likelihood: -1.00774\n"
          ]
        },
        {
          "output_type": "stream",
          "name": "stdout",
          "text": [
            "21:34:53   edge log likelihood: -1.00774\n"
          ]
        },
        {
          "output_type": "stream",
          "name": "stderr",
          "text": [
            "WARNING:torchdrug.core.logger:edge mask / graph: 345.6\n"
          ]
        },
        {
          "output_type": "stream",
          "name": "stdout",
          "text": [
            "21:34:53   edge mask / graph: 345.6\n"
          ]
        },
        {
          "output_type": "stream",
          "name": "stderr",
          "text": [
            "WARNING:torchdrug.core.logger:node log likelihood: -4.3736\n"
          ]
        },
        {
          "output_type": "stream",
          "name": "stdout",
          "text": [
            "21:34:53   node log likelihood: -4.3736\n"
          ]
        },
        {
          "output_type": "stream",
          "name": "stderr",
          "text": [
            "WARNING:torchdrug.core.logger:node mask / graph: 35.3\n"
          ]
        },
        {
          "output_type": "stream",
          "name": "stdout",
          "text": [
            "21:34:53   node mask / graph: 35.3\n"
          ]
        },
        {
          "output_type": "stream",
          "name": "stderr",
          "text": [
            "WARNING:torchdrug.core.logger:>>>>>>>>>>>>>>>>>>>>>>>>>>>>>>\n"
          ]
        },
        {
          "output_type": "stream",
          "name": "stdout",
          "text": [
            "21:34:57   >>>>>>>>>>>>>>>>>>>>>>>>>>>>>>\n"
          ]
        },
        {
          "output_type": "stream",
          "name": "stderr",
          "text": [
            "WARNING:torchdrug.core.logger:edge log likelihood: -1.00609\n"
          ]
        },
        {
          "output_type": "stream",
          "name": "stdout",
          "text": [
            "21:34:57   edge log likelihood: -1.00609\n"
          ]
        },
        {
          "output_type": "stream",
          "name": "stderr",
          "text": [
            "WARNING:torchdrug.core.logger:edge mask / graph: 402\n"
          ]
        },
        {
          "output_type": "stream",
          "name": "stdout",
          "text": [
            "21:34:57   edge mask / graph: 402\n"
          ]
        },
        {
          "output_type": "stream",
          "name": "stderr",
          "text": [
            "WARNING:torchdrug.core.logger:node log likelihood: -3.34961\n"
          ]
        },
        {
          "output_type": "stream",
          "name": "stdout",
          "text": [
            "21:34:57   node log likelihood: -3.34961\n"
          ]
        },
        {
          "output_type": "stream",
          "name": "stderr",
          "text": [
            "WARNING:torchdrug.core.logger:node mask / graph: 40\n"
          ]
        },
        {
          "output_type": "stream",
          "name": "stdout",
          "text": [
            "21:34:57   node mask / graph: 40\n"
          ]
        },
        {
          "output_type": "stream",
          "name": "stderr",
          "text": [
            "WARNING:torchdrug.core.logger:>>>>>>>>>>>>>>>>>>>>>>>>>>>>>>\n"
          ]
        },
        {
          "output_type": "stream",
          "name": "stdout",
          "text": [
            "21:35:00   >>>>>>>>>>>>>>>>>>>>>>>>>>>>>>\n"
          ]
        },
        {
          "output_type": "stream",
          "name": "stderr",
          "text": [
            "WARNING:torchdrug.core.logger:edge log likelihood: -1.03262\n"
          ]
        },
        {
          "output_type": "stream",
          "name": "stdout",
          "text": [
            "21:35:00   edge log likelihood: -1.03262\n"
          ]
        },
        {
          "output_type": "stream",
          "name": "stderr",
          "text": [
            "WARNING:torchdrug.core.logger:edge mask / graph: 368.4\n"
          ]
        },
        {
          "output_type": "stream",
          "name": "stdout",
          "text": [
            "21:35:00   edge mask / graph: 368.4\n"
          ]
        },
        {
          "output_type": "stream",
          "name": "stderr",
          "text": [
            "WARNING:torchdrug.core.logger:node log likelihood: -4.38953\n"
          ]
        },
        {
          "output_type": "stream",
          "name": "stdout",
          "text": [
            "21:35:00   node log likelihood: -4.38953\n"
          ]
        },
        {
          "output_type": "stream",
          "name": "stderr",
          "text": [
            "WARNING:torchdrug.core.logger:node mask / graph: 37.2\n"
          ]
        },
        {
          "output_type": "stream",
          "name": "stdout",
          "text": [
            "21:35:00   node mask / graph: 37.2\n"
          ]
        },
        {
          "output_type": "stream",
          "name": "stderr",
          "text": [
            "WARNING:torchdrug.core.logger:>>>>>>>>>>>>>>>>>>>>>>>>>>>>>>\n"
          ]
        },
        {
          "output_type": "stream",
          "name": "stdout",
          "text": [
            "21:35:04   >>>>>>>>>>>>>>>>>>>>>>>>>>>>>>\n"
          ]
        },
        {
          "output_type": "stream",
          "name": "stderr",
          "text": [
            "WARNING:torchdrug.core.logger:edge log likelihood: -1.01006\n"
          ]
        },
        {
          "output_type": "stream",
          "name": "stdout",
          "text": [
            "21:35:04   edge log likelihood: -1.01006\n"
          ]
        },
        {
          "output_type": "stream",
          "name": "stderr",
          "text": [
            "WARNING:torchdrug.core.logger:edge mask / graph: 472.8\n"
          ]
        },
        {
          "output_type": "stream",
          "name": "stdout",
          "text": [
            "21:35:04   edge mask / graph: 472.8\n"
          ]
        },
        {
          "output_type": "stream",
          "name": "stderr",
          "text": [
            "WARNING:torchdrug.core.logger:node log likelihood: -2.14124\n"
          ]
        },
        {
          "output_type": "stream",
          "name": "stdout",
          "text": [
            "21:35:04   node log likelihood: -2.14124\n"
          ]
        },
        {
          "output_type": "stream",
          "name": "stderr",
          "text": [
            "WARNING:torchdrug.core.logger:node mask / graph: 45.9\n"
          ]
        },
        {
          "output_type": "stream",
          "name": "stdout",
          "text": [
            "21:35:04   node mask / graph: 45.9\n"
          ]
        },
        {
          "output_type": "stream",
          "name": "stderr",
          "text": [
            "WARNING:torchdrug.core.logger:>>>>>>>>>>>>>>>>>>>>>>>>>>>>>>\n"
          ]
        },
        {
          "output_type": "stream",
          "name": "stdout",
          "text": [
            "21:35:07   >>>>>>>>>>>>>>>>>>>>>>>>>>>>>>\n"
          ]
        },
        {
          "output_type": "stream",
          "name": "stderr",
          "text": [
            "WARNING:torchdrug.core.logger:edge log likelihood: -1.00851\n"
          ]
        },
        {
          "output_type": "stream",
          "name": "stdout",
          "text": [
            "21:35:07   edge log likelihood: -1.00851\n"
          ]
        },
        {
          "output_type": "stream",
          "name": "stderr",
          "text": [
            "WARNING:torchdrug.core.logger:edge mask / graph: 390\n"
          ]
        },
        {
          "output_type": "stream",
          "name": "stdout",
          "text": [
            "21:35:07   edge mask / graph: 390\n"
          ]
        },
        {
          "output_type": "stream",
          "name": "stderr",
          "text": [
            "WARNING:torchdrug.core.logger:node log likelihood: -2.09108\n"
          ]
        },
        {
          "output_type": "stream",
          "name": "stdout",
          "text": [
            "21:35:07   node log likelihood: -2.09108\n"
          ]
        },
        {
          "output_type": "stream",
          "name": "stderr",
          "text": [
            "WARNING:torchdrug.core.logger:node mask / graph: 39\n"
          ]
        },
        {
          "output_type": "stream",
          "name": "stdout",
          "text": [
            "21:35:07   node mask / graph: 39\n"
          ]
        },
        {
          "output_type": "stream",
          "name": "stderr",
          "text": [
            "WARNING:torchdrug.core.logger:>>>>>>>>>>>>>>>>>>>>>>>>>>>>>>\n"
          ]
        },
        {
          "output_type": "stream",
          "name": "stdout",
          "text": [
            "21:35:11   >>>>>>>>>>>>>>>>>>>>>>>>>>>>>>\n"
          ]
        },
        {
          "output_type": "stream",
          "name": "stderr",
          "text": [
            "WARNING:torchdrug.core.logger:edge log likelihood: -1.0218\n"
          ]
        },
        {
          "output_type": "stream",
          "name": "stdout",
          "text": [
            "21:35:11   edge log likelihood: -1.0218\n"
          ]
        },
        {
          "output_type": "stream",
          "name": "stderr",
          "text": [
            "WARNING:torchdrug.core.logger:edge mask / graph: 385.2\n"
          ]
        },
        {
          "output_type": "stream",
          "name": "stdout",
          "text": [
            "21:35:11   edge mask / graph: 385.2\n"
          ]
        },
        {
          "output_type": "stream",
          "name": "stderr",
          "text": [
            "WARNING:torchdrug.core.logger:node log likelihood: -1.72158\n"
          ]
        },
        {
          "output_type": "stream",
          "name": "stdout",
          "text": [
            "21:35:11   node log likelihood: -1.72158\n"
          ]
        },
        {
          "output_type": "stream",
          "name": "stderr",
          "text": [
            "WARNING:torchdrug.core.logger:node mask / graph: 38.6\n"
          ]
        },
        {
          "output_type": "stream",
          "name": "stdout",
          "text": [
            "21:35:11   node mask / graph: 38.6\n"
          ]
        },
        {
          "output_type": "stream",
          "name": "stderr",
          "text": [
            "WARNING:torchdrug.core.logger:>>>>>>>>>>>>>>>>>>>>>>>>>>>>>>\n"
          ]
        },
        {
          "output_type": "stream",
          "name": "stdout",
          "text": [
            "21:35:15   >>>>>>>>>>>>>>>>>>>>>>>>>>>>>>\n"
          ]
        },
        {
          "output_type": "stream",
          "name": "stderr",
          "text": [
            "WARNING:torchdrug.core.logger:edge log likelihood: -1.03863\n"
          ]
        },
        {
          "output_type": "stream",
          "name": "stdout",
          "text": [
            "21:35:15   edge log likelihood: -1.03863\n"
          ]
        },
        {
          "output_type": "stream",
          "name": "stderr",
          "text": [
            "WARNING:torchdrug.core.logger:edge mask / graph: 465.6\n"
          ]
        },
        {
          "output_type": "stream",
          "name": "stdout",
          "text": [
            "21:35:15   edge mask / graph: 465.6\n"
          ]
        },
        {
          "output_type": "stream",
          "name": "stderr",
          "text": [
            "WARNING:torchdrug.core.logger:node log likelihood: -1.88964\n"
          ]
        },
        {
          "output_type": "stream",
          "name": "stdout",
          "text": [
            "21:35:15   node log likelihood: -1.88964\n"
          ]
        },
        {
          "output_type": "stream",
          "name": "stderr",
          "text": [
            "WARNING:torchdrug.core.logger:node mask / graph: 45.3\n"
          ]
        },
        {
          "output_type": "stream",
          "name": "stdout",
          "text": [
            "21:35:15   node mask / graph: 45.3\n"
          ]
        },
        {
          "output_type": "stream",
          "name": "stderr",
          "text": [
            "WARNING:torchdrug.core.logger:>>>>>>>>>>>>>>>>>>>>>>>>>>>>>>\n"
          ]
        },
        {
          "output_type": "stream",
          "name": "stdout",
          "text": [
            "21:35:18   >>>>>>>>>>>>>>>>>>>>>>>>>>>>>>\n"
          ]
        },
        {
          "output_type": "stream",
          "name": "stderr",
          "text": [
            "WARNING:torchdrug.core.logger:edge log likelihood: -1.01326\n"
          ]
        },
        {
          "output_type": "stream",
          "name": "stdout",
          "text": [
            "21:35:18   edge log likelihood: -1.01326\n"
          ]
        },
        {
          "output_type": "stream",
          "name": "stderr",
          "text": [
            "WARNING:torchdrug.core.logger:edge mask / graph: 328.8\n"
          ]
        },
        {
          "output_type": "stream",
          "name": "stdout",
          "text": [
            "21:35:18   edge mask / graph: 328.8\n"
          ]
        },
        {
          "output_type": "stream",
          "name": "stderr",
          "text": [
            "WARNING:torchdrug.core.logger:node log likelihood: -2.64395\n"
          ]
        },
        {
          "output_type": "stream",
          "name": "stdout",
          "text": [
            "21:35:18   node log likelihood: -2.64395\n"
          ]
        },
        {
          "output_type": "stream",
          "name": "stderr",
          "text": [
            "WARNING:torchdrug.core.logger:node mask / graph: 33.9\n"
          ]
        },
        {
          "output_type": "stream",
          "name": "stdout",
          "text": [
            "21:35:18   node mask / graph: 33.9\n"
          ]
        },
        {
          "output_type": "stream",
          "name": "stderr",
          "text": [
            "WARNING:torchdrug.core.logger:>>>>>>>>>>>>>>>>>>>>>>>>>>>>>>\n"
          ]
        },
        {
          "output_type": "stream",
          "name": "stdout",
          "text": [
            "21:35:21   >>>>>>>>>>>>>>>>>>>>>>>>>>>>>>\n"
          ]
        },
        {
          "output_type": "stream",
          "name": "stderr",
          "text": [
            "WARNING:torchdrug.core.logger:edge log likelihood: -1.04123\n"
          ]
        },
        {
          "output_type": "stream",
          "name": "stdout",
          "text": [
            "21:35:21   edge log likelihood: -1.04123\n"
          ]
        },
        {
          "output_type": "stream",
          "name": "stderr",
          "text": [
            "WARNING:torchdrug.core.logger:edge mask / graph: 421.2\n"
          ]
        },
        {
          "output_type": "stream",
          "name": "stdout",
          "text": [
            "21:35:21   edge mask / graph: 421.2\n"
          ]
        },
        {
          "output_type": "stream",
          "name": "stderr",
          "text": [
            "WARNING:torchdrug.core.logger:node log likelihood: -2.16664\n"
          ]
        },
        {
          "output_type": "stream",
          "name": "stdout",
          "text": [
            "21:35:21   node log likelihood: -2.16664\n"
          ]
        },
        {
          "output_type": "stream",
          "name": "stderr",
          "text": [
            "WARNING:torchdrug.core.logger:node mask / graph: 41.6\n"
          ]
        },
        {
          "output_type": "stream",
          "name": "stdout",
          "text": [
            "21:35:21   node mask / graph: 41.6\n"
          ]
        },
        {
          "output_type": "stream",
          "name": "stderr",
          "text": [
            "WARNING:torchdrug.core.logger:>>>>>>>>>>>>>>>>>>>>>>>>>>>>>>\n"
          ]
        },
        {
          "output_type": "stream",
          "name": "stdout",
          "text": [
            "21:35:25   >>>>>>>>>>>>>>>>>>>>>>>>>>>>>>\n"
          ]
        },
        {
          "output_type": "stream",
          "name": "stderr",
          "text": [
            "WARNING:torchdrug.core.logger:edge log likelihood: -1.00718\n"
          ]
        },
        {
          "output_type": "stream",
          "name": "stdout",
          "text": [
            "21:35:25   edge log likelihood: -1.00718\n"
          ]
        },
        {
          "output_type": "stream",
          "name": "stderr",
          "text": [
            "WARNING:torchdrug.core.logger:edge mask / graph: 454.8\n"
          ]
        },
        {
          "output_type": "stream",
          "name": "stdout",
          "text": [
            "21:35:25   edge mask / graph: 454.8\n"
          ]
        },
        {
          "output_type": "stream",
          "name": "stderr",
          "text": [
            "WARNING:torchdrug.core.logger:node log likelihood: -1.86738\n"
          ]
        },
        {
          "output_type": "stream",
          "name": "stdout",
          "text": [
            "21:35:25   node log likelihood: -1.86738\n"
          ]
        },
        {
          "output_type": "stream",
          "name": "stderr",
          "text": [
            "WARNING:torchdrug.core.logger:node mask / graph: 44.4\n"
          ]
        },
        {
          "output_type": "stream",
          "name": "stdout",
          "text": [
            "21:35:25   node mask / graph: 44.4\n"
          ]
        },
        {
          "output_type": "stream",
          "name": "stderr",
          "text": [
            "WARNING:torchdrug.core.logger:>>>>>>>>>>>>>>>>>>>>>>>>>>>>>>\n"
          ]
        },
        {
          "output_type": "stream",
          "name": "stdout",
          "text": [
            "21:35:28   >>>>>>>>>>>>>>>>>>>>>>>>>>>>>>\n"
          ]
        },
        {
          "output_type": "stream",
          "name": "stderr",
          "text": [
            "WARNING:torchdrug.core.logger:edge log likelihood: -1.01299\n"
          ]
        },
        {
          "output_type": "stream",
          "name": "stdout",
          "text": [
            "21:35:28   edge log likelihood: -1.01299\n"
          ]
        },
        {
          "output_type": "stream",
          "name": "stderr",
          "text": [
            "WARNING:torchdrug.core.logger:edge mask / graph: 360\n"
          ]
        },
        {
          "output_type": "stream",
          "name": "stdout",
          "text": [
            "21:35:28   edge mask / graph: 360\n"
          ]
        },
        {
          "output_type": "stream",
          "name": "stderr",
          "text": [
            "WARNING:torchdrug.core.logger:node log likelihood: -3.07807\n"
          ]
        },
        {
          "output_type": "stream",
          "name": "stdout",
          "text": [
            "21:35:28   node log likelihood: -3.07807\n"
          ]
        },
        {
          "output_type": "stream",
          "name": "stderr",
          "text": [
            "WARNING:torchdrug.core.logger:node mask / graph: 36.5\n"
          ]
        },
        {
          "output_type": "stream",
          "name": "stdout",
          "text": [
            "21:35:28   node mask / graph: 36.5\n"
          ]
        },
        {
          "output_type": "stream",
          "name": "stderr",
          "text": [
            "WARNING:torchdrug.core.logger:>>>>>>>>>>>>>>>>>>>>>>>>>>>>>>\n"
          ]
        },
        {
          "output_type": "stream",
          "name": "stdout",
          "text": [
            "21:35:31   >>>>>>>>>>>>>>>>>>>>>>>>>>>>>>\n"
          ]
        },
        {
          "output_type": "stream",
          "name": "stderr",
          "text": [
            "WARNING:torchdrug.core.logger:edge log likelihood: -1.00817\n"
          ]
        },
        {
          "output_type": "stream",
          "name": "stdout",
          "text": [
            "21:35:31   edge log likelihood: -1.00817\n"
          ]
        },
        {
          "output_type": "stream",
          "name": "stderr",
          "text": [
            "WARNING:torchdrug.core.logger:edge mask / graph: 399.6\n"
          ]
        },
        {
          "output_type": "stream",
          "name": "stdout",
          "text": [
            "21:35:31   edge mask / graph: 399.6\n"
          ]
        },
        {
          "output_type": "stream",
          "name": "stderr",
          "text": [
            "WARNING:torchdrug.core.logger:node log likelihood: -4.56106\n"
          ]
        },
        {
          "output_type": "stream",
          "name": "stdout",
          "text": [
            "21:35:31   node log likelihood: -4.56106\n"
          ]
        },
        {
          "output_type": "stream",
          "name": "stderr",
          "text": [
            "WARNING:torchdrug.core.logger:node mask / graph: 39.8\n"
          ]
        },
        {
          "output_type": "stream",
          "name": "stdout",
          "text": [
            "21:35:31   node mask / graph: 39.8\n"
          ]
        },
        {
          "output_type": "stream",
          "name": "stderr",
          "text": [
            "WARNING:torchdrug.core.logger:>>>>>>>>>>>>>>>>>>>>>>>>>>>>>>\n"
          ]
        },
        {
          "output_type": "stream",
          "name": "stdout",
          "text": [
            "21:35:35   >>>>>>>>>>>>>>>>>>>>>>>>>>>>>>\n"
          ]
        },
        {
          "output_type": "stream",
          "name": "stderr",
          "text": [
            "WARNING:torchdrug.core.logger:edge log likelihood: -0.994391\n"
          ]
        },
        {
          "output_type": "stream",
          "name": "stdout",
          "text": [
            "21:35:35   edge log likelihood: -0.994391\n"
          ]
        },
        {
          "output_type": "stream",
          "name": "stderr",
          "text": [
            "WARNING:torchdrug.core.logger:edge mask / graph: 381.6\n"
          ]
        },
        {
          "output_type": "stream",
          "name": "stdout",
          "text": [
            "21:35:35   edge mask / graph: 381.6\n"
          ]
        },
        {
          "output_type": "stream",
          "name": "stderr",
          "text": [
            "WARNING:torchdrug.core.logger:node log likelihood: -2.57143\n"
          ]
        },
        {
          "output_type": "stream",
          "name": "stdout",
          "text": [
            "21:35:35   node log likelihood: -2.57143\n"
          ]
        },
        {
          "output_type": "stream",
          "name": "stderr",
          "text": [
            "WARNING:torchdrug.core.logger:node mask / graph: 38.3\n"
          ]
        },
        {
          "output_type": "stream",
          "name": "stdout",
          "text": [
            "21:35:35   node mask / graph: 38.3\n"
          ]
        },
        {
          "output_type": "stream",
          "name": "stderr",
          "text": [
            "WARNING:torchdrug.core.logger:>>>>>>>>>>>>>>>>>>>>>>>>>>>>>>\n"
          ]
        },
        {
          "output_type": "stream",
          "name": "stdout",
          "text": [
            "21:35:38   >>>>>>>>>>>>>>>>>>>>>>>>>>>>>>\n"
          ]
        },
        {
          "output_type": "stream",
          "name": "stderr",
          "text": [
            "WARNING:torchdrug.core.logger:edge log likelihood: -0.997521\n"
          ]
        },
        {
          "output_type": "stream",
          "name": "stdout",
          "text": [
            "21:35:38   edge log likelihood: -0.997521\n"
          ]
        },
        {
          "output_type": "stream",
          "name": "stderr",
          "text": [
            "WARNING:torchdrug.core.logger:edge mask / graph: 458.4\n"
          ]
        },
        {
          "output_type": "stream",
          "name": "stdout",
          "text": [
            "21:35:38   edge mask / graph: 458.4\n"
          ]
        },
        {
          "output_type": "stream",
          "name": "stderr",
          "text": [
            "WARNING:torchdrug.core.logger:node log likelihood: -4.3348\n"
          ]
        },
        {
          "output_type": "stream",
          "name": "stdout",
          "text": [
            "21:35:38   node log likelihood: -4.3348\n"
          ]
        },
        {
          "output_type": "stream",
          "name": "stderr",
          "text": [
            "WARNING:torchdrug.core.logger:node mask / graph: 44.7\n"
          ]
        },
        {
          "output_type": "stream",
          "name": "stdout",
          "text": [
            "21:35:38   node mask / graph: 44.7\n"
          ]
        },
        {
          "output_type": "stream",
          "name": "stderr",
          "text": [
            "WARNING:torchdrug.core.logger:>>>>>>>>>>>>>>>>>>>>>>>>>>>>>>\n"
          ]
        },
        {
          "output_type": "stream",
          "name": "stdout",
          "text": [
            "21:35:42   >>>>>>>>>>>>>>>>>>>>>>>>>>>>>>\n"
          ]
        },
        {
          "output_type": "stream",
          "name": "stderr",
          "text": [
            "WARNING:torchdrug.core.logger:edge log likelihood: -1.04499\n"
          ]
        },
        {
          "output_type": "stream",
          "name": "stdout",
          "text": [
            "21:35:42   edge log likelihood: -1.04499\n"
          ]
        },
        {
          "output_type": "stream",
          "name": "stderr",
          "text": [
            "WARNING:torchdrug.core.logger:edge mask / graph: 303.6\n"
          ]
        },
        {
          "output_type": "stream",
          "name": "stdout",
          "text": [
            "21:35:42   edge mask / graph: 303.6\n"
          ]
        },
        {
          "output_type": "stream",
          "name": "stderr",
          "text": [
            "WARNING:torchdrug.core.logger:node log likelihood: -4.98362\n"
          ]
        },
        {
          "output_type": "stream",
          "name": "stdout",
          "text": [
            "21:35:42   node log likelihood: -4.98362\n"
          ]
        },
        {
          "output_type": "stream",
          "name": "stderr",
          "text": [
            "WARNING:torchdrug.core.logger:node mask / graph: 31.8\n"
          ]
        },
        {
          "output_type": "stream",
          "name": "stdout",
          "text": [
            "21:35:42   node mask / graph: 31.8\n"
          ]
        },
        {
          "output_type": "stream",
          "name": "stderr",
          "text": [
            "WARNING:torchdrug.core.logger:>>>>>>>>>>>>>>>>>>>>>>>>>>>>>>\n"
          ]
        },
        {
          "output_type": "stream",
          "name": "stdout",
          "text": [
            "21:35:45   >>>>>>>>>>>>>>>>>>>>>>>>>>>>>>\n"
          ]
        },
        {
          "output_type": "stream",
          "name": "stderr",
          "text": [
            "WARNING:torchdrug.core.logger:edge log likelihood: -0.99375\n"
          ]
        },
        {
          "output_type": "stream",
          "name": "stdout",
          "text": [
            "21:35:45   edge log likelihood: -0.99375\n"
          ]
        },
        {
          "output_type": "stream",
          "name": "stderr",
          "text": [
            "WARNING:torchdrug.core.logger:edge mask / graph: 373.2\n"
          ]
        },
        {
          "output_type": "stream",
          "name": "stdout",
          "text": [
            "21:35:45   edge mask / graph: 373.2\n"
          ]
        },
        {
          "output_type": "stream",
          "name": "stderr",
          "text": [
            "WARNING:torchdrug.core.logger:node log likelihood: -25.2806\n"
          ]
        },
        {
          "output_type": "stream",
          "name": "stdout",
          "text": [
            "21:35:45   node log likelihood: -25.2806\n"
          ]
        },
        {
          "output_type": "stream",
          "name": "stderr",
          "text": [
            "WARNING:torchdrug.core.logger:node mask / graph: 37.6\n"
          ]
        },
        {
          "output_type": "stream",
          "name": "stdout",
          "text": [
            "21:35:45   node mask / graph: 37.6\n"
          ]
        },
        {
          "output_type": "stream",
          "name": "stderr",
          "text": [
            "WARNING:torchdrug.core.logger:>>>>>>>>>>>>>>>>>>>>>>>>>>>>>>\n"
          ]
        },
        {
          "output_type": "stream",
          "name": "stdout",
          "text": [
            "21:35:49   >>>>>>>>>>>>>>>>>>>>>>>>>>>>>>\n"
          ]
        },
        {
          "output_type": "stream",
          "name": "stderr",
          "text": [
            "WARNING:torchdrug.core.logger:edge log likelihood: -1.05187\n"
          ]
        },
        {
          "output_type": "stream",
          "name": "stdout",
          "text": [
            "21:35:49   edge log likelihood: -1.05187\n"
          ]
        },
        {
          "output_type": "stream",
          "name": "stderr",
          "text": [
            "WARNING:torchdrug.core.logger:edge mask / graph: 340.8\n"
          ]
        },
        {
          "output_type": "stream",
          "name": "stdout",
          "text": [
            "21:35:49   edge mask / graph: 340.8\n"
          ]
        },
        {
          "output_type": "stream",
          "name": "stderr",
          "text": [
            "WARNING:torchdrug.core.logger:node log likelihood: -6.70063\n"
          ]
        },
        {
          "output_type": "stream",
          "name": "stdout",
          "text": [
            "21:35:49   node log likelihood: -6.70063\n"
          ]
        },
        {
          "output_type": "stream",
          "name": "stderr",
          "text": [
            "WARNING:torchdrug.core.logger:node mask / graph: 34.9\n"
          ]
        },
        {
          "output_type": "stream",
          "name": "stdout",
          "text": [
            "21:35:49   node mask / graph: 34.9\n"
          ]
        },
        {
          "output_type": "stream",
          "name": "stderr",
          "text": [
            "WARNING:torchdrug.core.logger:>>>>>>>>>>>>>>>>>>>>>>>>>>>>>>\n"
          ]
        },
        {
          "output_type": "stream",
          "name": "stdout",
          "text": [
            "21:35:52   >>>>>>>>>>>>>>>>>>>>>>>>>>>>>>\n"
          ]
        },
        {
          "output_type": "stream",
          "name": "stderr",
          "text": [
            "WARNING:torchdrug.core.logger:edge log likelihood: -1.0209\n"
          ]
        },
        {
          "output_type": "stream",
          "name": "stdout",
          "text": [
            "21:35:52   edge log likelihood: -1.0209\n"
          ]
        },
        {
          "output_type": "stream",
          "name": "stderr",
          "text": [
            "WARNING:torchdrug.core.logger:edge mask / graph: 446.4\n"
          ]
        },
        {
          "output_type": "stream",
          "name": "stdout",
          "text": [
            "21:35:52   edge mask / graph: 446.4\n"
          ]
        },
        {
          "output_type": "stream",
          "name": "stderr",
          "text": [
            "WARNING:torchdrug.core.logger:node log likelihood: -9.19355\n"
          ]
        },
        {
          "output_type": "stream",
          "name": "stdout",
          "text": [
            "21:35:52   node log likelihood: -9.19355\n"
          ]
        },
        {
          "output_type": "stream",
          "name": "stderr",
          "text": [
            "WARNING:torchdrug.core.logger:node mask / graph: 43.7\n"
          ]
        },
        {
          "output_type": "stream",
          "name": "stdout",
          "text": [
            "21:35:52   node mask / graph: 43.7\n"
          ]
        },
        {
          "output_type": "stream",
          "name": "stderr",
          "text": [
            "WARNING:torchdrug.core.logger:>>>>>>>>>>>>>>>>>>>>>>>>>>>>>>\n"
          ]
        },
        {
          "output_type": "stream",
          "name": "stdout",
          "text": [
            "21:35:56   >>>>>>>>>>>>>>>>>>>>>>>>>>>>>>\n"
          ]
        },
        {
          "output_type": "stream",
          "name": "stderr",
          "text": [
            "WARNING:torchdrug.core.logger:edge log likelihood: -1.08502\n"
          ]
        },
        {
          "output_type": "stream",
          "name": "stdout",
          "text": [
            "21:35:56   edge log likelihood: -1.08502\n"
          ]
        },
        {
          "output_type": "stream",
          "name": "stderr",
          "text": [
            "WARNING:torchdrug.core.logger:edge mask / graph: 316.8\n"
          ]
        },
        {
          "output_type": "stream",
          "name": "stdout",
          "text": [
            "21:35:56   edge mask / graph: 316.8\n"
          ]
        },
        {
          "output_type": "stream",
          "name": "stderr",
          "text": [
            "WARNING:torchdrug.core.logger:node log likelihood: -2.06319\n"
          ]
        },
        {
          "output_type": "stream",
          "name": "stdout",
          "text": [
            "21:35:56   node log likelihood: -2.06319\n"
          ]
        },
        {
          "output_type": "stream",
          "name": "stderr",
          "text": [
            "WARNING:torchdrug.core.logger:node mask / graph: 32.9\n"
          ]
        },
        {
          "output_type": "stream",
          "name": "stdout",
          "text": [
            "21:35:56   node mask / graph: 32.9\n"
          ]
        },
        {
          "output_type": "stream",
          "name": "stderr",
          "text": [
            "WARNING:torchdrug.core.meter:>>>>>>>>>>>>>>>>>>>>>>>>>>>>>>\n"
          ]
        },
        {
          "output_type": "stream",
          "name": "stdout",
          "text": [
            "21:35:56   >>>>>>>>>>>>>>>>>>>>>>>>>>>>>>\n"
          ]
        },
        {
          "output_type": "stream",
          "name": "stderr",
          "text": [
            "WARNING:torchdrug.core.meter:Epoch 1 end\n"
          ]
        },
        {
          "output_type": "stream",
          "name": "stdout",
          "text": [
            "21:35:56   Epoch 1 end\n"
          ]
        },
        {
          "output_type": "stream",
          "name": "stderr",
          "text": [
            "WARNING:torchdrug.core.meter:duration: 2.73 mins\n"
          ]
        },
        {
          "output_type": "stream",
          "name": "stdout",
          "text": [
            "21:35:56   duration: 2.73 mins\n"
          ]
        },
        {
          "output_type": "stream",
          "name": "stderr",
          "text": [
            "WARNING:torchdrug.core.meter:speed: 2.94 batch / sec\n"
          ]
        },
        {
          "output_type": "stream",
          "name": "stdout",
          "text": [
            "21:35:56   speed: 2.94 batch / sec\n"
          ]
        },
        {
          "output_type": "stream",
          "name": "stderr",
          "text": [
            "WARNING:torchdrug.core.meter:ETA: 8.16 mins\n"
          ]
        },
        {
          "output_type": "stream",
          "name": "stdout",
          "text": [
            "21:35:56   ETA: 8.16 mins\n"
          ]
        },
        {
          "output_type": "stream",
          "name": "stderr",
          "text": [
            "WARNING:torchdrug.core.meter:max GPU memory: 2853.7 MiB\n"
          ]
        },
        {
          "output_type": "stream",
          "name": "stdout",
          "text": [
            "21:35:56   max GPU memory: 2853.7 MiB\n"
          ]
        },
        {
          "output_type": "stream",
          "name": "stderr",
          "text": [
            "WARNING:torchdrug.core.logger:------------------------------\n"
          ]
        },
        {
          "output_type": "stream",
          "name": "stdout",
          "text": [
            "21:35:56   ------------------------------\n"
          ]
        },
        {
          "output_type": "stream",
          "name": "stderr",
          "text": [
            "WARNING:torchdrug.core.logger:average edge log likelihood: -1.02143\n"
          ]
        },
        {
          "output_type": "stream",
          "name": "stdout",
          "text": [
            "21:35:56   average edge log likelihood: -1.02143\n"
          ]
        },
        {
          "output_type": "stream",
          "name": "stderr",
          "text": [
            "WARNING:torchdrug.core.logger:average edge mask / graph: 394.803\n"
          ]
        },
        {
          "output_type": "stream",
          "name": "stdout",
          "text": [
            "21:35:56   average edge mask / graph: 394.803\n"
          ]
        },
        {
          "output_type": "stream",
          "name": "stderr",
          "text": [
            "WARNING:torchdrug.core.logger:average node log likelihood: -3.58122\n"
          ]
        },
        {
          "output_type": "stream",
          "name": "stdout",
          "text": [
            "21:35:56   average node log likelihood: -3.58122\n"
          ]
        },
        {
          "output_type": "stream",
          "name": "stderr",
          "text": [
            "WARNING:torchdrug.core.logger:average node mask / graph: 39.4003\n"
          ]
        },
        {
          "output_type": "stream",
          "name": "stdout",
          "text": [
            "21:35:56   average node mask / graph: 39.4003\n"
          ]
        },
        {
          "output_type": "stream",
          "name": "stderr",
          "text": [
            "WARNING:torchdrug.core.meter:>>>>>>>>>>>>>>>>>>>>>>>>>>>>>>\n"
          ]
        },
        {
          "output_type": "stream",
          "name": "stdout",
          "text": [
            "21:35:56   >>>>>>>>>>>>>>>>>>>>>>>>>>>>>>\n"
          ]
        },
        {
          "output_type": "stream",
          "name": "stderr",
          "text": [
            "WARNING:torchdrug.core.meter:Epoch 2 begin\n"
          ]
        },
        {
          "output_type": "stream",
          "name": "stdout",
          "text": [
            "21:35:56   Epoch 2 begin\n"
          ]
        },
        {
          "output_type": "stream",
          "name": "stderr",
          "text": [
            "WARNING:torchdrug.core.logger:>>>>>>>>>>>>>>>>>>>>>>>>>>>>>>\n"
          ]
        },
        {
          "output_type": "stream",
          "name": "stdout",
          "text": [
            "21:36:00   >>>>>>>>>>>>>>>>>>>>>>>>>>>>>>\n"
          ]
        },
        {
          "output_type": "stream",
          "name": "stderr",
          "text": [
            "WARNING:torchdrug.core.logger:edge log likelihood: -1.00988\n"
          ]
        },
        {
          "output_type": "stream",
          "name": "stdout",
          "text": [
            "21:36:00   edge log likelihood: -1.00988\n"
          ]
        },
        {
          "output_type": "stream",
          "name": "stderr",
          "text": [
            "WARNING:torchdrug.core.logger:edge mask / graph: 458.4\n"
          ]
        },
        {
          "output_type": "stream",
          "name": "stdout",
          "text": [
            "21:36:00   edge mask / graph: 458.4\n"
          ]
        },
        {
          "output_type": "stream",
          "name": "stderr",
          "text": [
            "WARNING:torchdrug.core.logger:node log likelihood: -5.67527\n"
          ]
        },
        {
          "output_type": "stream",
          "name": "stdout",
          "text": [
            "21:36:00   node log likelihood: -5.67527\n"
          ]
        },
        {
          "output_type": "stream",
          "name": "stderr",
          "text": [
            "WARNING:torchdrug.core.logger:node mask / graph: 44.7\n"
          ]
        },
        {
          "output_type": "stream",
          "name": "stdout",
          "text": [
            "21:36:00   node mask / graph: 44.7\n"
          ]
        },
        {
          "output_type": "stream",
          "name": "stderr",
          "text": [
            "WARNING:torchdrug.core.logger:>>>>>>>>>>>>>>>>>>>>>>>>>>>>>>\n"
          ]
        },
        {
          "output_type": "stream",
          "name": "stdout",
          "text": [
            "21:36:03   >>>>>>>>>>>>>>>>>>>>>>>>>>>>>>\n"
          ]
        },
        {
          "output_type": "stream",
          "name": "stderr",
          "text": [
            "WARNING:torchdrug.core.logger:edge log likelihood: -1.04134\n"
          ]
        },
        {
          "output_type": "stream",
          "name": "stdout",
          "text": [
            "21:36:03   edge log likelihood: -1.04134\n"
          ]
        },
        {
          "output_type": "stream",
          "name": "stderr",
          "text": [
            "WARNING:torchdrug.core.logger:edge mask / graph: 373.2\n"
          ]
        },
        {
          "output_type": "stream",
          "name": "stdout",
          "text": [
            "21:36:03   edge mask / graph: 373.2\n"
          ]
        },
        {
          "output_type": "stream",
          "name": "stderr",
          "text": [
            "WARNING:torchdrug.core.logger:node log likelihood: -2.43701\n"
          ]
        },
        {
          "output_type": "stream",
          "name": "stdout",
          "text": [
            "21:36:03   node log likelihood: -2.43701\n"
          ]
        },
        {
          "output_type": "stream",
          "name": "stderr",
          "text": [
            "WARNING:torchdrug.core.logger:node mask / graph: 37.6\n"
          ]
        },
        {
          "output_type": "stream",
          "name": "stdout",
          "text": [
            "21:36:03   node mask / graph: 37.6\n"
          ]
        },
        {
          "output_type": "stream",
          "name": "stderr",
          "text": [
            "WARNING:torchdrug.core.logger:>>>>>>>>>>>>>>>>>>>>>>>>>>>>>>\n"
          ]
        },
        {
          "output_type": "stream",
          "name": "stdout",
          "text": [
            "21:36:06   >>>>>>>>>>>>>>>>>>>>>>>>>>>>>>\n"
          ]
        },
        {
          "output_type": "stream",
          "name": "stderr",
          "text": [
            "WARNING:torchdrug.core.logger:edge log likelihood: -1.04342\n"
          ]
        },
        {
          "output_type": "stream",
          "name": "stdout",
          "text": [
            "21:36:06   edge log likelihood: -1.04342\n"
          ]
        },
        {
          "output_type": "stream",
          "name": "stderr",
          "text": [
            "WARNING:torchdrug.core.logger:edge mask / graph: 368.4\n"
          ]
        },
        {
          "output_type": "stream",
          "name": "stdout",
          "text": [
            "21:36:06   edge mask / graph: 368.4\n"
          ]
        },
        {
          "output_type": "stream",
          "name": "stderr",
          "text": [
            "WARNING:torchdrug.core.logger:node log likelihood: -2.05489\n"
          ]
        },
        {
          "output_type": "stream",
          "name": "stdout",
          "text": [
            "21:36:06   node log likelihood: -2.05489\n"
          ]
        },
        {
          "output_type": "stream",
          "name": "stderr",
          "text": [
            "WARNING:torchdrug.core.logger:node mask / graph: 37.2\n"
          ]
        },
        {
          "output_type": "stream",
          "name": "stdout",
          "text": [
            "21:36:06   node mask / graph: 37.2\n"
          ]
        },
        {
          "output_type": "stream",
          "name": "stderr",
          "text": [
            "WARNING:torchdrug.core.logger:>>>>>>>>>>>>>>>>>>>>>>>>>>>>>>\n"
          ]
        },
        {
          "output_type": "stream",
          "name": "stdout",
          "text": [
            "21:36:10   >>>>>>>>>>>>>>>>>>>>>>>>>>>>>>\n"
          ]
        },
        {
          "output_type": "stream",
          "name": "stderr",
          "text": [
            "WARNING:torchdrug.core.logger:edge log likelihood: -0.98255\n"
          ]
        },
        {
          "output_type": "stream",
          "name": "stdout",
          "text": [
            "21:36:10   edge log likelihood: -0.98255\n"
          ]
        },
        {
          "output_type": "stream",
          "name": "stderr",
          "text": [
            "WARNING:torchdrug.core.logger:edge mask / graph: 417.6\n"
          ]
        },
        {
          "output_type": "stream",
          "name": "stdout",
          "text": [
            "21:36:10   edge mask / graph: 417.6\n"
          ]
        },
        {
          "output_type": "stream",
          "name": "stderr",
          "text": [
            "WARNING:torchdrug.core.logger:node log likelihood: -2.51825\n"
          ]
        },
        {
          "output_type": "stream",
          "name": "stdout",
          "text": [
            "21:36:10   node log likelihood: -2.51825\n"
          ]
        },
        {
          "output_type": "stream",
          "name": "stderr",
          "text": [
            "WARNING:torchdrug.core.logger:node mask / graph: 41.3\n"
          ]
        },
        {
          "output_type": "stream",
          "name": "stdout",
          "text": [
            "21:36:10   node mask / graph: 41.3\n"
          ]
        },
        {
          "output_type": "stream",
          "name": "stderr",
          "text": [
            "WARNING:torchdrug.core.logger:>>>>>>>>>>>>>>>>>>>>>>>>>>>>>>\n"
          ]
        },
        {
          "output_type": "stream",
          "name": "stdout",
          "text": [
            "21:36:13   >>>>>>>>>>>>>>>>>>>>>>>>>>>>>>\n"
          ]
        },
        {
          "output_type": "stream",
          "name": "stderr",
          "text": [
            "WARNING:torchdrug.core.logger:edge log likelihood: -0.988254\n"
          ]
        },
        {
          "output_type": "stream",
          "name": "stdout",
          "text": [
            "21:36:13   edge log likelihood: -0.988254\n"
          ]
        },
        {
          "output_type": "stream",
          "name": "stderr",
          "text": [
            "WARNING:torchdrug.core.logger:edge mask / graph: 384\n"
          ]
        },
        {
          "output_type": "stream",
          "name": "stdout",
          "text": [
            "21:36:13   edge mask / graph: 384\n"
          ]
        },
        {
          "output_type": "stream",
          "name": "stderr",
          "text": [
            "WARNING:torchdrug.core.logger:node log likelihood: -1.52543\n"
          ]
        },
        {
          "output_type": "stream",
          "name": "stdout",
          "text": [
            "21:36:13   node log likelihood: -1.52543\n"
          ]
        },
        {
          "output_type": "stream",
          "name": "stderr",
          "text": [
            "WARNING:torchdrug.core.logger:node mask / graph: 38.5\n"
          ]
        },
        {
          "output_type": "stream",
          "name": "stdout",
          "text": [
            "21:36:13   node mask / graph: 38.5\n"
          ]
        },
        {
          "output_type": "stream",
          "name": "stderr",
          "text": [
            "WARNING:torchdrug.core.logger:>>>>>>>>>>>>>>>>>>>>>>>>>>>>>>\n"
          ]
        },
        {
          "output_type": "stream",
          "name": "stdout",
          "text": [
            "21:36:17   >>>>>>>>>>>>>>>>>>>>>>>>>>>>>>\n"
          ]
        },
        {
          "output_type": "stream",
          "name": "stderr",
          "text": [
            "WARNING:torchdrug.core.logger:edge log likelihood: -1.01194\n"
          ]
        },
        {
          "output_type": "stream",
          "name": "stdout",
          "text": [
            "21:36:17   edge log likelihood: -1.01194\n"
          ]
        },
        {
          "output_type": "stream",
          "name": "stderr",
          "text": [
            "WARNING:torchdrug.core.logger:edge mask / graph: 358.8\n"
          ]
        },
        {
          "output_type": "stream",
          "name": "stdout",
          "text": [
            "21:36:17   edge mask / graph: 358.8\n"
          ]
        },
        {
          "output_type": "stream",
          "name": "stderr",
          "text": [
            "WARNING:torchdrug.core.logger:node log likelihood: -1.47792\n"
          ]
        },
        {
          "output_type": "stream",
          "name": "stdout",
          "text": [
            "21:36:17   node log likelihood: -1.47792\n"
          ]
        },
        {
          "output_type": "stream",
          "name": "stderr",
          "text": [
            "WARNING:torchdrug.core.logger:node mask / graph: 36.4\n"
          ]
        },
        {
          "output_type": "stream",
          "name": "stdout",
          "text": [
            "21:36:17   node mask / graph: 36.4\n"
          ]
        },
        {
          "output_type": "stream",
          "name": "stderr",
          "text": [
            "WARNING:torchdrug.core.logger:>>>>>>>>>>>>>>>>>>>>>>>>>>>>>>\n"
          ]
        },
        {
          "output_type": "stream",
          "name": "stdout",
          "text": [
            "21:36:20   >>>>>>>>>>>>>>>>>>>>>>>>>>>>>>\n"
          ]
        },
        {
          "output_type": "stream",
          "name": "stderr",
          "text": [
            "WARNING:torchdrug.core.logger:edge log likelihood: -1.02119\n"
          ]
        },
        {
          "output_type": "stream",
          "name": "stdout",
          "text": [
            "21:36:20   edge log likelihood: -1.02119\n"
          ]
        },
        {
          "output_type": "stream",
          "name": "stderr",
          "text": [
            "WARNING:torchdrug.core.logger:edge mask / graph: 417.6\n"
          ]
        },
        {
          "output_type": "stream",
          "name": "stdout",
          "text": [
            "21:36:20   edge mask / graph: 417.6\n"
          ]
        },
        {
          "output_type": "stream",
          "name": "stderr",
          "text": [
            "WARNING:torchdrug.core.logger:node log likelihood: -1.62652\n"
          ]
        },
        {
          "output_type": "stream",
          "name": "stdout",
          "text": [
            "21:36:20   node log likelihood: -1.62652\n"
          ]
        },
        {
          "output_type": "stream",
          "name": "stderr",
          "text": [
            "WARNING:torchdrug.core.logger:node mask / graph: 41.3\n"
          ]
        },
        {
          "output_type": "stream",
          "name": "stdout",
          "text": [
            "21:36:20   node mask / graph: 41.3\n"
          ]
        },
        {
          "output_type": "stream",
          "name": "stderr",
          "text": [
            "WARNING:torchdrug.core.logger:>>>>>>>>>>>>>>>>>>>>>>>>>>>>>>\n"
          ]
        },
        {
          "output_type": "stream",
          "name": "stdout",
          "text": [
            "21:36:24   >>>>>>>>>>>>>>>>>>>>>>>>>>>>>>\n"
          ]
        },
        {
          "output_type": "stream",
          "name": "stderr",
          "text": [
            "WARNING:torchdrug.core.logger:edge log likelihood: -1.0261\n"
          ]
        },
        {
          "output_type": "stream",
          "name": "stdout",
          "text": [
            "21:36:24   edge log likelihood: -1.0261\n"
          ]
        },
        {
          "output_type": "stream",
          "name": "stderr",
          "text": [
            "WARNING:torchdrug.core.logger:edge mask / graph: 540\n"
          ]
        },
        {
          "output_type": "stream",
          "name": "stdout",
          "text": [
            "21:36:24   edge mask / graph: 540\n"
          ]
        },
        {
          "output_type": "stream",
          "name": "stderr",
          "text": [
            "WARNING:torchdrug.core.logger:node log likelihood: -2.41328\n"
          ]
        },
        {
          "output_type": "stream",
          "name": "stdout",
          "text": [
            "21:36:24   node log likelihood: -2.41328\n"
          ]
        },
        {
          "output_type": "stream",
          "name": "stderr",
          "text": [
            "WARNING:torchdrug.core.logger:node mask / graph: 51.5\n"
          ]
        },
        {
          "output_type": "stream",
          "name": "stdout",
          "text": [
            "21:36:24   node mask / graph: 51.5\n"
          ]
        },
        {
          "output_type": "stream",
          "name": "stderr",
          "text": [
            "WARNING:torchdrug.core.logger:>>>>>>>>>>>>>>>>>>>>>>>>>>>>>>\n"
          ]
        },
        {
          "output_type": "stream",
          "name": "stdout",
          "text": [
            "21:36:27   >>>>>>>>>>>>>>>>>>>>>>>>>>>>>>\n"
          ]
        },
        {
          "output_type": "stream",
          "name": "stderr",
          "text": [
            "WARNING:torchdrug.core.logger:edge log likelihood: -1.04137\n"
          ]
        },
        {
          "output_type": "stream",
          "name": "stdout",
          "text": [
            "21:36:27   edge log likelihood: -1.04137\n"
          ]
        },
        {
          "output_type": "stream",
          "name": "stderr",
          "text": [
            "WARNING:torchdrug.core.logger:edge mask / graph: 410.4\n"
          ]
        },
        {
          "output_type": "stream",
          "name": "stdout",
          "text": [
            "21:36:27   edge mask / graph: 410.4\n"
          ]
        },
        {
          "output_type": "stream",
          "name": "stderr",
          "text": [
            "WARNING:torchdrug.core.logger:node log likelihood: -2.40021\n"
          ]
        },
        {
          "output_type": "stream",
          "name": "stdout",
          "text": [
            "21:36:27   node log likelihood: -2.40021\n"
          ]
        },
        {
          "output_type": "stream",
          "name": "stderr",
          "text": [
            "WARNING:torchdrug.core.logger:node mask / graph: 40.7\n"
          ]
        },
        {
          "output_type": "stream",
          "name": "stdout",
          "text": [
            "21:36:27   node mask / graph: 40.7\n"
          ]
        },
        {
          "output_type": "stream",
          "name": "stderr",
          "text": [
            "WARNING:torchdrug.core.logger:>>>>>>>>>>>>>>>>>>>>>>>>>>>>>>\n"
          ]
        },
        {
          "output_type": "stream",
          "name": "stdout",
          "text": [
            "21:36:30   >>>>>>>>>>>>>>>>>>>>>>>>>>>>>>\n"
          ]
        },
        {
          "output_type": "stream",
          "name": "stderr",
          "text": [
            "WARNING:torchdrug.core.logger:edge log likelihood: -1.02447\n"
          ]
        },
        {
          "output_type": "stream",
          "name": "stdout",
          "text": [
            "21:36:30   edge log likelihood: -1.02447\n"
          ]
        },
        {
          "output_type": "stream",
          "name": "stderr",
          "text": [
            "WARNING:torchdrug.core.logger:edge mask / graph: 360\n"
          ]
        },
        {
          "output_type": "stream",
          "name": "stdout",
          "text": [
            "21:36:30   edge mask / graph: 360\n"
          ]
        },
        {
          "output_type": "stream",
          "name": "stderr",
          "text": [
            "WARNING:torchdrug.core.logger:node log likelihood: -3.37562\n"
          ]
        },
        {
          "output_type": "stream",
          "name": "stdout",
          "text": [
            "21:36:30   node log likelihood: -3.37562\n"
          ]
        },
        {
          "output_type": "stream",
          "name": "stderr",
          "text": [
            "WARNING:torchdrug.core.logger:node mask / graph: 36.5\n"
          ]
        },
        {
          "output_type": "stream",
          "name": "stdout",
          "text": [
            "21:36:30   node mask / graph: 36.5\n"
          ]
        },
        {
          "output_type": "stream",
          "name": "stderr",
          "text": [
            "WARNING:torchdrug.core.logger:>>>>>>>>>>>>>>>>>>>>>>>>>>>>>>\n"
          ]
        },
        {
          "output_type": "stream",
          "name": "stdout",
          "text": [
            "21:36:34   >>>>>>>>>>>>>>>>>>>>>>>>>>>>>>\n"
          ]
        },
        {
          "output_type": "stream",
          "name": "stderr",
          "text": [
            "WARNING:torchdrug.core.logger:edge log likelihood: -1.00592\n"
          ]
        },
        {
          "output_type": "stream",
          "name": "stdout",
          "text": [
            "21:36:34   edge log likelihood: -1.00592\n"
          ]
        },
        {
          "output_type": "stream",
          "name": "stderr",
          "text": [
            "WARNING:torchdrug.core.logger:edge mask / graph: 351.6\n"
          ]
        },
        {
          "output_type": "stream",
          "name": "stdout",
          "text": [
            "21:36:34   edge mask / graph: 351.6\n"
          ]
        },
        {
          "output_type": "stream",
          "name": "stderr",
          "text": [
            "WARNING:torchdrug.core.logger:node log likelihood: -12.0285\n"
          ]
        },
        {
          "output_type": "stream",
          "name": "stdout",
          "text": [
            "21:36:34   node log likelihood: -12.0285\n"
          ]
        },
        {
          "output_type": "stream",
          "name": "stderr",
          "text": [
            "WARNING:torchdrug.core.logger:node mask / graph: 35.8\n"
          ]
        },
        {
          "output_type": "stream",
          "name": "stdout",
          "text": [
            "21:36:34   node mask / graph: 35.8\n"
          ]
        },
        {
          "output_type": "stream",
          "name": "stderr",
          "text": [
            "WARNING:torchdrug.core.logger:>>>>>>>>>>>>>>>>>>>>>>>>>>>>>>\n"
          ]
        },
        {
          "output_type": "stream",
          "name": "stdout",
          "text": [
            "21:36:37   >>>>>>>>>>>>>>>>>>>>>>>>>>>>>>\n"
          ]
        },
        {
          "output_type": "stream",
          "name": "stderr",
          "text": [
            "WARNING:torchdrug.core.logger:edge log likelihood: -1.01815\n"
          ]
        },
        {
          "output_type": "stream",
          "name": "stdout",
          "text": [
            "21:36:37   edge log likelihood: -1.01815\n"
          ]
        },
        {
          "output_type": "stream",
          "name": "stderr",
          "text": [
            "WARNING:torchdrug.core.logger:edge mask / graph: 454.8\n"
          ]
        },
        {
          "output_type": "stream",
          "name": "stdout",
          "text": [
            "21:36:37   edge mask / graph: 454.8\n"
          ]
        },
        {
          "output_type": "stream",
          "name": "stderr",
          "text": [
            "WARNING:torchdrug.core.logger:node log likelihood: -3.39922\n"
          ]
        },
        {
          "output_type": "stream",
          "name": "stdout",
          "text": [
            "21:36:37   node log likelihood: -3.39922\n"
          ]
        },
        {
          "output_type": "stream",
          "name": "stderr",
          "text": [
            "WARNING:torchdrug.core.logger:node mask / graph: 44.4\n"
          ]
        },
        {
          "output_type": "stream",
          "name": "stdout",
          "text": [
            "21:36:37   node mask / graph: 44.4\n"
          ]
        },
        {
          "output_type": "stream",
          "name": "stderr",
          "text": [
            "WARNING:torchdrug.core.logger:>>>>>>>>>>>>>>>>>>>>>>>>>>>>>>\n"
          ]
        },
        {
          "output_type": "stream",
          "name": "stdout",
          "text": [
            "21:36:41   >>>>>>>>>>>>>>>>>>>>>>>>>>>>>>\n"
          ]
        },
        {
          "output_type": "stream",
          "name": "stderr",
          "text": [
            "WARNING:torchdrug.core.logger:edge log likelihood: -0.988691\n"
          ]
        },
        {
          "output_type": "stream",
          "name": "stdout",
          "text": [
            "21:36:41   edge log likelihood: -0.988691\n"
          ]
        },
        {
          "output_type": "stream",
          "name": "stderr",
          "text": [
            "WARNING:torchdrug.core.logger:edge mask / graph: 454.8\n"
          ]
        },
        {
          "output_type": "stream",
          "name": "stdout",
          "text": [
            "21:36:41   edge mask / graph: 454.8\n"
          ]
        },
        {
          "output_type": "stream",
          "name": "stderr",
          "text": [
            "WARNING:torchdrug.core.logger:node log likelihood: -4.49436\n"
          ]
        },
        {
          "output_type": "stream",
          "name": "stdout",
          "text": [
            "21:36:41   node log likelihood: -4.49436\n"
          ]
        },
        {
          "output_type": "stream",
          "name": "stderr",
          "text": [
            "WARNING:torchdrug.core.logger:node mask / graph: 44.4\n"
          ]
        },
        {
          "output_type": "stream",
          "name": "stdout",
          "text": [
            "21:36:41   node mask / graph: 44.4\n"
          ]
        },
        {
          "output_type": "stream",
          "name": "stderr",
          "text": [
            "WARNING:torchdrug.core.logger:>>>>>>>>>>>>>>>>>>>>>>>>>>>>>>\n"
          ]
        },
        {
          "output_type": "stream",
          "name": "stdout",
          "text": [
            "21:36:44   >>>>>>>>>>>>>>>>>>>>>>>>>>>>>>\n"
          ]
        },
        {
          "output_type": "stream",
          "name": "stderr",
          "text": [
            "WARNING:torchdrug.core.logger:edge log likelihood: -0.991414\n"
          ]
        },
        {
          "output_type": "stream",
          "name": "stdout",
          "text": [
            "21:36:44   edge log likelihood: -0.991414\n"
          ]
        },
        {
          "output_type": "stream",
          "name": "stderr",
          "text": [
            "WARNING:torchdrug.core.logger:edge mask / graph: 351.6\n"
          ]
        },
        {
          "output_type": "stream",
          "name": "stdout",
          "text": [
            "21:36:44   edge mask / graph: 351.6\n"
          ]
        },
        {
          "output_type": "stream",
          "name": "stderr",
          "text": [
            "WARNING:torchdrug.core.logger:node log likelihood: -2.19845\n"
          ]
        },
        {
          "output_type": "stream",
          "name": "stdout",
          "text": [
            "21:36:44   node log likelihood: -2.19845\n"
          ]
        },
        {
          "output_type": "stream",
          "name": "stderr",
          "text": [
            "WARNING:torchdrug.core.logger:node mask / graph: 35.8\n"
          ]
        },
        {
          "output_type": "stream",
          "name": "stdout",
          "text": [
            "21:36:44   node mask / graph: 35.8\n"
          ]
        },
        {
          "output_type": "stream",
          "name": "stderr",
          "text": [
            "WARNING:torchdrug.core.logger:>>>>>>>>>>>>>>>>>>>>>>>>>>>>>>\n"
          ]
        },
        {
          "output_type": "stream",
          "name": "stdout",
          "text": [
            "21:36:48   >>>>>>>>>>>>>>>>>>>>>>>>>>>>>>\n"
          ]
        },
        {
          "output_type": "stream",
          "name": "stderr",
          "text": [
            "WARNING:torchdrug.core.logger:edge log likelihood: -1.0037\n"
          ]
        },
        {
          "output_type": "stream",
          "name": "stdout",
          "text": [
            "21:36:48   edge log likelihood: -1.0037\n"
          ]
        },
        {
          "output_type": "stream",
          "name": "stderr",
          "text": [
            "WARNING:torchdrug.core.logger:edge mask / graph: 386.4\n"
          ]
        },
        {
          "output_type": "stream",
          "name": "stdout",
          "text": [
            "21:36:48   edge mask / graph: 386.4\n"
          ]
        },
        {
          "output_type": "stream",
          "name": "stderr",
          "text": [
            "WARNING:torchdrug.core.logger:node log likelihood: -4.98583\n"
          ]
        },
        {
          "output_type": "stream",
          "name": "stdout",
          "text": [
            "21:36:48   node log likelihood: -4.98583\n"
          ]
        },
        {
          "output_type": "stream",
          "name": "stderr",
          "text": [
            "WARNING:torchdrug.core.logger:node mask / graph: 38.7\n"
          ]
        },
        {
          "output_type": "stream",
          "name": "stdout",
          "text": [
            "21:36:48   node mask / graph: 38.7\n"
          ]
        },
        {
          "output_type": "stream",
          "name": "stderr",
          "text": [
            "WARNING:torchdrug.core.logger:>>>>>>>>>>>>>>>>>>>>>>>>>>>>>>\n"
          ]
        },
        {
          "output_type": "stream",
          "name": "stdout",
          "text": [
            "21:36:51   >>>>>>>>>>>>>>>>>>>>>>>>>>>>>>\n"
          ]
        },
        {
          "output_type": "stream",
          "name": "stderr",
          "text": [
            "WARNING:torchdrug.core.logger:edge log likelihood: -1.01602\n"
          ]
        },
        {
          "output_type": "stream",
          "name": "stdout",
          "text": [
            "21:36:51   edge log likelihood: -1.01602\n"
          ]
        },
        {
          "output_type": "stream",
          "name": "stderr",
          "text": [
            "WARNING:torchdrug.core.logger:edge mask / graph: 465.6\n"
          ]
        },
        {
          "output_type": "stream",
          "name": "stdout",
          "text": [
            "21:36:51   edge mask / graph: 465.6\n"
          ]
        },
        {
          "output_type": "stream",
          "name": "stderr",
          "text": [
            "WARNING:torchdrug.core.logger:node log likelihood: -5.04654\n"
          ]
        },
        {
          "output_type": "stream",
          "name": "stdout",
          "text": [
            "21:36:51   node log likelihood: -5.04654\n"
          ]
        },
        {
          "output_type": "stream",
          "name": "stderr",
          "text": [
            "WARNING:torchdrug.core.logger:node mask / graph: 45.3\n"
          ]
        },
        {
          "output_type": "stream",
          "name": "stdout",
          "text": [
            "21:36:51   node mask / graph: 45.3\n"
          ]
        },
        {
          "output_type": "stream",
          "name": "stderr",
          "text": [
            "WARNING:torchdrug.core.logger:>>>>>>>>>>>>>>>>>>>>>>>>>>>>>>\n"
          ]
        },
        {
          "output_type": "stream",
          "name": "stdout",
          "text": [
            "21:36:54   >>>>>>>>>>>>>>>>>>>>>>>>>>>>>>\n"
          ]
        },
        {
          "output_type": "stream",
          "name": "stderr",
          "text": [
            "WARNING:torchdrug.core.logger:edge log likelihood: -1.00357\n"
          ]
        },
        {
          "output_type": "stream",
          "name": "stdout",
          "text": [
            "21:36:54   edge log likelihood: -1.00357\n"
          ]
        },
        {
          "output_type": "stream",
          "name": "stderr",
          "text": [
            "WARNING:torchdrug.core.logger:edge mask / graph: 378\n"
          ]
        },
        {
          "output_type": "stream",
          "name": "stdout",
          "text": [
            "21:36:54   edge mask / graph: 378\n"
          ]
        },
        {
          "output_type": "stream",
          "name": "stderr",
          "text": [
            "WARNING:torchdrug.core.logger:node log likelihood: -2.66403\n"
          ]
        },
        {
          "output_type": "stream",
          "name": "stdout",
          "text": [
            "21:36:54   node log likelihood: -2.66403\n"
          ]
        },
        {
          "output_type": "stream",
          "name": "stderr",
          "text": [
            "WARNING:torchdrug.core.logger:node mask / graph: 38\n"
          ]
        },
        {
          "output_type": "stream",
          "name": "stdout",
          "text": [
            "21:36:54   node mask / graph: 38\n"
          ]
        },
        {
          "output_type": "stream",
          "name": "stderr",
          "text": [
            "WARNING:torchdrug.core.logger:>>>>>>>>>>>>>>>>>>>>>>>>>>>>>>\n"
          ]
        },
        {
          "output_type": "stream",
          "name": "stdout",
          "text": [
            "21:36:58   >>>>>>>>>>>>>>>>>>>>>>>>>>>>>>\n"
          ]
        },
        {
          "output_type": "stream",
          "name": "stderr",
          "text": [
            "WARNING:torchdrug.core.logger:edge log likelihood: -0.978345\n"
          ]
        },
        {
          "output_type": "stream",
          "name": "stdout",
          "text": [
            "21:36:58   edge log likelihood: -0.978345\n"
          ]
        },
        {
          "output_type": "stream",
          "name": "stderr",
          "text": [
            "WARNING:torchdrug.core.logger:edge mask / graph: 435.6\n"
          ]
        },
        {
          "output_type": "stream",
          "name": "stdout",
          "text": [
            "21:36:58   edge mask / graph: 435.6\n"
          ]
        },
        {
          "output_type": "stream",
          "name": "stderr",
          "text": [
            "WARNING:torchdrug.core.logger:node log likelihood: -1.91055\n"
          ]
        },
        {
          "output_type": "stream",
          "name": "stdout",
          "text": [
            "21:36:58   node log likelihood: -1.91055\n"
          ]
        },
        {
          "output_type": "stream",
          "name": "stderr",
          "text": [
            "WARNING:torchdrug.core.logger:node mask / graph: 42.8\n"
          ]
        },
        {
          "output_type": "stream",
          "name": "stdout",
          "text": [
            "21:36:58   node mask / graph: 42.8\n"
          ]
        },
        {
          "output_type": "stream",
          "name": "stderr",
          "text": [
            "WARNING:torchdrug.core.logger:>>>>>>>>>>>>>>>>>>>>>>>>>>>>>>\n"
          ]
        },
        {
          "output_type": "stream",
          "name": "stdout",
          "text": [
            "21:37:01   >>>>>>>>>>>>>>>>>>>>>>>>>>>>>>\n"
          ]
        },
        {
          "output_type": "stream",
          "name": "stderr",
          "text": [
            "WARNING:torchdrug.core.logger:edge log likelihood: -1.02811\n"
          ]
        },
        {
          "output_type": "stream",
          "name": "stdout",
          "text": [
            "21:37:01   edge log likelihood: -1.02811\n"
          ]
        },
        {
          "output_type": "stream",
          "name": "stderr",
          "text": [
            "WARNING:torchdrug.core.logger:edge mask / graph: 339.6\n"
          ]
        },
        {
          "output_type": "stream",
          "name": "stdout",
          "text": [
            "21:37:01   edge mask / graph: 339.6\n"
          ]
        },
        {
          "output_type": "stream",
          "name": "stderr",
          "text": [
            "WARNING:torchdrug.core.logger:node log likelihood: -1.60154\n"
          ]
        },
        {
          "output_type": "stream",
          "name": "stdout",
          "text": [
            "21:37:01   node log likelihood: -1.60154\n"
          ]
        },
        {
          "output_type": "stream",
          "name": "stderr",
          "text": [
            "WARNING:torchdrug.core.logger:node mask / graph: 34.8\n"
          ]
        },
        {
          "output_type": "stream",
          "name": "stdout",
          "text": [
            "21:37:01   node mask / graph: 34.8\n"
          ]
        },
        {
          "output_type": "stream",
          "name": "stderr",
          "text": [
            "WARNING:torchdrug.core.logger:>>>>>>>>>>>>>>>>>>>>>>>>>>>>>>\n"
          ]
        },
        {
          "output_type": "stream",
          "name": "stdout",
          "text": [
            "21:37:04   >>>>>>>>>>>>>>>>>>>>>>>>>>>>>>\n"
          ]
        },
        {
          "output_type": "stream",
          "name": "stderr",
          "text": [
            "WARNING:torchdrug.core.logger:edge log likelihood: -1.01308\n"
          ]
        },
        {
          "output_type": "stream",
          "name": "stdout",
          "text": [
            "21:37:04   edge log likelihood: -1.01308\n"
          ]
        },
        {
          "output_type": "stream",
          "name": "stderr",
          "text": [
            "WARNING:torchdrug.core.logger:edge mask / graph: 324\n"
          ]
        },
        {
          "output_type": "stream",
          "name": "stdout",
          "text": [
            "21:37:04   edge mask / graph: 324\n"
          ]
        },
        {
          "output_type": "stream",
          "name": "stderr",
          "text": [
            "WARNING:torchdrug.core.logger:node log likelihood: -1.87502\n"
          ]
        },
        {
          "output_type": "stream",
          "name": "stdout",
          "text": [
            "21:37:04   node log likelihood: -1.87502\n"
          ]
        },
        {
          "output_type": "stream",
          "name": "stderr",
          "text": [
            "WARNING:torchdrug.core.logger:node mask / graph: 33.5\n"
          ]
        },
        {
          "output_type": "stream",
          "name": "stdout",
          "text": [
            "21:37:04   node mask / graph: 33.5\n"
          ]
        },
        {
          "output_type": "stream",
          "name": "stderr",
          "text": [
            "WARNING:torchdrug.core.logger:>>>>>>>>>>>>>>>>>>>>>>>>>>>>>>\n"
          ]
        },
        {
          "output_type": "stream",
          "name": "stdout",
          "text": [
            "21:37:08   >>>>>>>>>>>>>>>>>>>>>>>>>>>>>>\n"
          ]
        },
        {
          "output_type": "stream",
          "name": "stderr",
          "text": [
            "WARNING:torchdrug.core.logger:edge log likelihood: -0.999436\n"
          ]
        },
        {
          "output_type": "stream",
          "name": "stdout",
          "text": [
            "21:37:08   edge log likelihood: -0.999436\n"
          ]
        },
        {
          "output_type": "stream",
          "name": "stderr",
          "text": [
            "WARNING:torchdrug.core.logger:edge mask / graph: 346.8\n"
          ]
        },
        {
          "output_type": "stream",
          "name": "stdout",
          "text": [
            "21:37:08   edge mask / graph: 346.8\n"
          ]
        },
        {
          "output_type": "stream",
          "name": "stderr",
          "text": [
            "WARNING:torchdrug.core.logger:node log likelihood: -1.87904\n"
          ]
        },
        {
          "output_type": "stream",
          "name": "stdout",
          "text": [
            "21:37:08   node log likelihood: -1.87904\n"
          ]
        },
        {
          "output_type": "stream",
          "name": "stderr",
          "text": [
            "WARNING:torchdrug.core.logger:node mask / graph: 35.4\n"
          ]
        },
        {
          "output_type": "stream",
          "name": "stdout",
          "text": [
            "21:37:08   node mask / graph: 35.4\n"
          ]
        },
        {
          "output_type": "stream",
          "name": "stderr",
          "text": [
            "WARNING:torchdrug.core.logger:>>>>>>>>>>>>>>>>>>>>>>>>>>>>>>\n"
          ]
        },
        {
          "output_type": "stream",
          "name": "stdout",
          "text": [
            "21:37:11   >>>>>>>>>>>>>>>>>>>>>>>>>>>>>>\n"
          ]
        },
        {
          "output_type": "stream",
          "name": "stderr",
          "text": [
            "WARNING:torchdrug.core.logger:edge log likelihood: -1.02916\n"
          ]
        },
        {
          "output_type": "stream",
          "name": "stdout",
          "text": [
            "21:37:11   edge log likelihood: -1.02916\n"
          ]
        },
        {
          "output_type": "stream",
          "name": "stderr",
          "text": [
            "WARNING:torchdrug.core.logger:edge mask / graph: 398.4\n"
          ]
        },
        {
          "output_type": "stream",
          "name": "stdout",
          "text": [
            "21:37:11   edge mask / graph: 398.4\n"
          ]
        },
        {
          "output_type": "stream",
          "name": "stderr",
          "text": [
            "WARNING:torchdrug.core.logger:node log likelihood: -1.51334\n"
          ]
        },
        {
          "output_type": "stream",
          "name": "stdout",
          "text": [
            "21:37:11   node log likelihood: -1.51334\n"
          ]
        },
        {
          "output_type": "stream",
          "name": "stderr",
          "text": [
            "WARNING:torchdrug.core.logger:node mask / graph: 39.7\n"
          ]
        },
        {
          "output_type": "stream",
          "name": "stdout",
          "text": [
            "21:37:11   node mask / graph: 39.7\n"
          ]
        },
        {
          "output_type": "stream",
          "name": "stderr",
          "text": [
            "WARNING:torchdrug.core.logger:>>>>>>>>>>>>>>>>>>>>>>>>>>>>>>\n"
          ]
        },
        {
          "output_type": "stream",
          "name": "stdout",
          "text": [
            "21:37:14   >>>>>>>>>>>>>>>>>>>>>>>>>>>>>>\n"
          ]
        },
        {
          "output_type": "stream",
          "name": "stderr",
          "text": [
            "WARNING:torchdrug.core.logger:edge log likelihood: -1.04028\n"
          ]
        },
        {
          "output_type": "stream",
          "name": "stdout",
          "text": [
            "21:37:14   edge log likelihood: -1.04028\n"
          ]
        },
        {
          "output_type": "stream",
          "name": "stderr",
          "text": [
            "WARNING:torchdrug.core.logger:edge mask / graph: 378\n"
          ]
        },
        {
          "output_type": "stream",
          "name": "stdout",
          "text": [
            "21:37:14   edge mask / graph: 378\n"
          ]
        },
        {
          "output_type": "stream",
          "name": "stderr",
          "text": [
            "WARNING:torchdrug.core.logger:node log likelihood: -1.77753\n"
          ]
        },
        {
          "output_type": "stream",
          "name": "stdout",
          "text": [
            "21:37:14   node log likelihood: -1.77753\n"
          ]
        },
        {
          "output_type": "stream",
          "name": "stderr",
          "text": [
            "WARNING:torchdrug.core.logger:node mask / graph: 38\n"
          ]
        },
        {
          "output_type": "stream",
          "name": "stdout",
          "text": [
            "21:37:14   node mask / graph: 38\n"
          ]
        },
        {
          "output_type": "stream",
          "name": "stderr",
          "text": [
            "WARNING:torchdrug.core.logger:>>>>>>>>>>>>>>>>>>>>>>>>>>>>>>\n"
          ]
        },
        {
          "output_type": "stream",
          "name": "stdout",
          "text": [
            "21:37:18   >>>>>>>>>>>>>>>>>>>>>>>>>>>>>>\n"
          ]
        },
        {
          "output_type": "stream",
          "name": "stderr",
          "text": [
            "WARNING:torchdrug.core.logger:edge log likelihood: -1.02453\n"
          ]
        },
        {
          "output_type": "stream",
          "name": "stdout",
          "text": [
            "21:37:18   edge log likelihood: -1.02453\n"
          ]
        },
        {
          "output_type": "stream",
          "name": "stderr",
          "text": [
            "WARNING:torchdrug.core.logger:edge mask / graph: 391.2\n"
          ]
        },
        {
          "output_type": "stream",
          "name": "stdout",
          "text": [
            "21:37:18   edge mask / graph: 391.2\n"
          ]
        },
        {
          "output_type": "stream",
          "name": "stderr",
          "text": [
            "WARNING:torchdrug.core.logger:node log likelihood: -1.32557\n"
          ]
        },
        {
          "output_type": "stream",
          "name": "stdout",
          "text": [
            "21:37:18   node log likelihood: -1.32557\n"
          ]
        },
        {
          "output_type": "stream",
          "name": "stderr",
          "text": [
            "WARNING:torchdrug.core.logger:node mask / graph: 39.1\n"
          ]
        },
        {
          "output_type": "stream",
          "name": "stdout",
          "text": [
            "21:37:18   node mask / graph: 39.1\n"
          ]
        },
        {
          "output_type": "stream",
          "name": "stderr",
          "text": [
            "WARNING:torchdrug.core.logger:>>>>>>>>>>>>>>>>>>>>>>>>>>>>>>\n"
          ]
        },
        {
          "output_type": "stream",
          "name": "stdout",
          "text": [
            "21:37:22   >>>>>>>>>>>>>>>>>>>>>>>>>>>>>>\n"
          ]
        },
        {
          "output_type": "stream",
          "name": "stderr",
          "text": [
            "WARNING:torchdrug.core.logger:edge log likelihood: -0.96549\n"
          ]
        },
        {
          "output_type": "stream",
          "name": "stdout",
          "text": [
            "21:37:22   edge log likelihood: -0.96549\n"
          ]
        },
        {
          "output_type": "stream",
          "name": "stderr",
          "text": [
            "WARNING:torchdrug.core.logger:edge mask / graph: 382.8\n"
          ]
        },
        {
          "output_type": "stream",
          "name": "stdout",
          "text": [
            "21:37:22   edge mask / graph: 382.8\n"
          ]
        },
        {
          "output_type": "stream",
          "name": "stderr",
          "text": [
            "WARNING:torchdrug.core.logger:node log likelihood: -1.98575\n"
          ]
        },
        {
          "output_type": "stream",
          "name": "stdout",
          "text": [
            "21:37:22   node log likelihood: -1.98575\n"
          ]
        },
        {
          "output_type": "stream",
          "name": "stderr",
          "text": [
            "WARNING:torchdrug.core.logger:node mask / graph: 38.4\n"
          ]
        },
        {
          "output_type": "stream",
          "name": "stdout",
          "text": [
            "21:37:22   node mask / graph: 38.4\n"
          ]
        },
        {
          "output_type": "stream",
          "name": "stderr",
          "text": [
            "WARNING:torchdrug.core.logger:>>>>>>>>>>>>>>>>>>>>>>>>>>>>>>\n"
          ]
        },
        {
          "output_type": "stream",
          "name": "stdout",
          "text": [
            "21:37:25   >>>>>>>>>>>>>>>>>>>>>>>>>>>>>>\n"
          ]
        },
        {
          "output_type": "stream",
          "name": "stderr",
          "text": [
            "WARNING:torchdrug.core.logger:edge log likelihood: -0.984156\n"
          ]
        },
        {
          "output_type": "stream",
          "name": "stdout",
          "text": [
            "21:37:25   edge log likelihood: -0.984156\n"
          ]
        },
        {
          "output_type": "stream",
          "name": "stderr",
          "text": [
            "WARNING:torchdrug.core.logger:edge mask / graph: 426\n"
          ]
        },
        {
          "output_type": "stream",
          "name": "stdout",
          "text": [
            "21:37:25   edge mask / graph: 426\n"
          ]
        },
        {
          "output_type": "stream",
          "name": "stderr",
          "text": [
            "WARNING:torchdrug.core.logger:node log likelihood: -1.27302\n"
          ]
        },
        {
          "output_type": "stream",
          "name": "stdout",
          "text": [
            "21:37:25   node log likelihood: -1.27302\n"
          ]
        },
        {
          "output_type": "stream",
          "name": "stderr",
          "text": [
            "WARNING:torchdrug.core.logger:node mask / graph: 42\n"
          ]
        },
        {
          "output_type": "stream",
          "name": "stdout",
          "text": [
            "21:37:25   node mask / graph: 42\n"
          ]
        },
        {
          "output_type": "stream",
          "name": "stderr",
          "text": [
            "WARNING:torchdrug.core.logger:>>>>>>>>>>>>>>>>>>>>>>>>>>>>>>\n"
          ]
        },
        {
          "output_type": "stream",
          "name": "stdout",
          "text": [
            "21:37:29   >>>>>>>>>>>>>>>>>>>>>>>>>>>>>>\n"
          ]
        },
        {
          "output_type": "stream",
          "name": "stderr",
          "text": [
            "WARNING:torchdrug.core.logger:edge log likelihood: -1.03457\n"
          ]
        },
        {
          "output_type": "stream",
          "name": "stdout",
          "text": [
            "21:37:29   edge log likelihood: -1.03457\n"
          ]
        },
        {
          "output_type": "stream",
          "name": "stderr",
          "text": [
            "WARNING:torchdrug.core.logger:edge mask / graph: 418.8\n"
          ]
        },
        {
          "output_type": "stream",
          "name": "stdout",
          "text": [
            "21:37:29   edge mask / graph: 418.8\n"
          ]
        },
        {
          "output_type": "stream",
          "name": "stderr",
          "text": [
            "WARNING:torchdrug.core.logger:node log likelihood: -2.96991\n"
          ]
        },
        {
          "output_type": "stream",
          "name": "stdout",
          "text": [
            "21:37:29   node log likelihood: -2.96991\n"
          ]
        },
        {
          "output_type": "stream",
          "name": "stderr",
          "text": [
            "WARNING:torchdrug.core.logger:node mask / graph: 41.4\n"
          ]
        },
        {
          "output_type": "stream",
          "name": "stdout",
          "text": [
            "21:37:29   node mask / graph: 41.4\n"
          ]
        },
        {
          "output_type": "stream",
          "name": "stderr",
          "text": [
            "WARNING:torchdrug.core.logger:>>>>>>>>>>>>>>>>>>>>>>>>>>>>>>\n"
          ]
        },
        {
          "output_type": "stream",
          "name": "stdout",
          "text": [
            "21:37:33   >>>>>>>>>>>>>>>>>>>>>>>>>>>>>>\n"
          ]
        },
        {
          "output_type": "stream",
          "name": "stderr",
          "text": [
            "WARNING:torchdrug.core.logger:edge log likelihood: -1.01297\n"
          ]
        },
        {
          "output_type": "stream",
          "name": "stdout",
          "text": [
            "21:37:33   edge log likelihood: -1.01297\n"
          ]
        },
        {
          "output_type": "stream",
          "name": "stderr",
          "text": [
            "WARNING:torchdrug.core.logger:edge mask / graph: 386.4\n"
          ]
        },
        {
          "output_type": "stream",
          "name": "stdout",
          "text": [
            "21:37:33   edge mask / graph: 386.4\n"
          ]
        },
        {
          "output_type": "stream",
          "name": "stderr",
          "text": [
            "WARNING:torchdrug.core.logger:node log likelihood: -2.28421\n"
          ]
        },
        {
          "output_type": "stream",
          "name": "stdout",
          "text": [
            "21:37:33   node log likelihood: -2.28421\n"
          ]
        },
        {
          "output_type": "stream",
          "name": "stderr",
          "text": [
            "WARNING:torchdrug.core.logger:node mask / graph: 38.7\n"
          ]
        },
        {
          "output_type": "stream",
          "name": "stdout",
          "text": [
            "21:37:33   node mask / graph: 38.7\n"
          ]
        },
        {
          "output_type": "stream",
          "name": "stderr",
          "text": [
            "WARNING:torchdrug.core.logger:>>>>>>>>>>>>>>>>>>>>>>>>>>>>>>\n"
          ]
        },
        {
          "output_type": "stream",
          "name": "stdout",
          "text": [
            "21:37:36   >>>>>>>>>>>>>>>>>>>>>>>>>>>>>>\n"
          ]
        },
        {
          "output_type": "stream",
          "name": "stderr",
          "text": [
            "WARNING:torchdrug.core.logger:edge log likelihood: -1.03436\n"
          ]
        },
        {
          "output_type": "stream",
          "name": "stdout",
          "text": [
            "21:37:36   edge log likelihood: -1.03436\n"
          ]
        },
        {
          "output_type": "stream",
          "name": "stderr",
          "text": [
            "WARNING:torchdrug.core.logger:edge mask / graph: 387.6\n"
          ]
        },
        {
          "output_type": "stream",
          "name": "stdout",
          "text": [
            "21:37:36   edge mask / graph: 387.6\n"
          ]
        },
        {
          "output_type": "stream",
          "name": "stderr",
          "text": [
            "WARNING:torchdrug.core.logger:node log likelihood: -3.82915\n"
          ]
        },
        {
          "output_type": "stream",
          "name": "stdout",
          "text": [
            "21:37:36   node log likelihood: -3.82915\n"
          ]
        },
        {
          "output_type": "stream",
          "name": "stderr",
          "text": [
            "WARNING:torchdrug.core.logger:node mask / graph: 38.8\n"
          ]
        },
        {
          "output_type": "stream",
          "name": "stdout",
          "text": [
            "21:37:36   node mask / graph: 38.8\n"
          ]
        },
        {
          "output_type": "stream",
          "name": "stderr",
          "text": [
            "WARNING:torchdrug.core.logger:>>>>>>>>>>>>>>>>>>>>>>>>>>>>>>\n"
          ]
        },
        {
          "output_type": "stream",
          "name": "stdout",
          "text": [
            "21:37:40   >>>>>>>>>>>>>>>>>>>>>>>>>>>>>>\n"
          ]
        },
        {
          "output_type": "stream",
          "name": "stderr",
          "text": [
            "WARNING:torchdrug.core.logger:edge log likelihood: -1.02529\n"
          ]
        },
        {
          "output_type": "stream",
          "name": "stdout",
          "text": [
            "21:37:40   edge log likelihood: -1.02529\n"
          ]
        },
        {
          "output_type": "stream",
          "name": "stderr",
          "text": [
            "WARNING:torchdrug.core.logger:edge mask / graph: 416.4\n"
          ]
        },
        {
          "output_type": "stream",
          "name": "stdout",
          "text": [
            "21:37:40   edge mask / graph: 416.4\n"
          ]
        },
        {
          "output_type": "stream",
          "name": "stderr",
          "text": [
            "WARNING:torchdrug.core.logger:node log likelihood: -5.50172\n"
          ]
        },
        {
          "output_type": "stream",
          "name": "stdout",
          "text": [
            "21:37:40   node log likelihood: -5.50172\n"
          ]
        },
        {
          "output_type": "stream",
          "name": "stderr",
          "text": [
            "WARNING:torchdrug.core.logger:node mask / graph: 41.2\n"
          ]
        },
        {
          "output_type": "stream",
          "name": "stdout",
          "text": [
            "21:37:40   node mask / graph: 41.2\n"
          ]
        },
        {
          "output_type": "stream",
          "name": "stderr",
          "text": [
            "WARNING:torchdrug.core.logger:>>>>>>>>>>>>>>>>>>>>>>>>>>>>>>\n"
          ]
        },
        {
          "output_type": "stream",
          "name": "stdout",
          "text": [
            "21:37:43   >>>>>>>>>>>>>>>>>>>>>>>>>>>>>>\n"
          ]
        },
        {
          "output_type": "stream",
          "name": "stderr",
          "text": [
            "WARNING:torchdrug.core.logger:edge log likelihood: -0.997153\n"
          ]
        },
        {
          "output_type": "stream",
          "name": "stdout",
          "text": [
            "21:37:43   edge log likelihood: -0.997153\n"
          ]
        },
        {
          "output_type": "stream",
          "name": "stderr",
          "text": [
            "WARNING:torchdrug.core.logger:edge mask / graph: 448.8\n"
          ]
        },
        {
          "output_type": "stream",
          "name": "stdout",
          "text": [
            "21:37:43   edge mask / graph: 448.8\n"
          ]
        },
        {
          "output_type": "stream",
          "name": "stderr",
          "text": [
            "WARNING:torchdrug.core.logger:node log likelihood: -3.66967\n"
          ]
        },
        {
          "output_type": "stream",
          "name": "stdout",
          "text": [
            "21:37:43   node log likelihood: -3.66967\n"
          ]
        },
        {
          "output_type": "stream",
          "name": "stderr",
          "text": [
            "WARNING:torchdrug.core.logger:node mask / graph: 43.9\n"
          ]
        },
        {
          "output_type": "stream",
          "name": "stdout",
          "text": [
            "21:37:43   node mask / graph: 43.9\n"
          ]
        },
        {
          "output_type": "stream",
          "name": "stderr",
          "text": [
            "WARNING:torchdrug.core.logger:>>>>>>>>>>>>>>>>>>>>>>>>>>>>>>\n"
          ]
        },
        {
          "output_type": "stream",
          "name": "stdout",
          "text": [
            "21:37:47   >>>>>>>>>>>>>>>>>>>>>>>>>>>>>>\n"
          ]
        },
        {
          "output_type": "stream",
          "name": "stderr",
          "text": [
            "WARNING:torchdrug.core.logger:edge log likelihood: -1.0022\n"
          ]
        },
        {
          "output_type": "stream",
          "name": "stdout",
          "text": [
            "21:37:47   edge log likelihood: -1.0022\n"
          ]
        },
        {
          "output_type": "stream",
          "name": "stderr",
          "text": [
            "WARNING:torchdrug.core.logger:edge mask / graph: 364.8\n"
          ]
        },
        {
          "output_type": "stream",
          "name": "stdout",
          "text": [
            "21:37:47   edge mask / graph: 364.8\n"
          ]
        },
        {
          "output_type": "stream",
          "name": "stderr",
          "text": [
            "WARNING:torchdrug.core.logger:node log likelihood: -2.00318\n"
          ]
        },
        {
          "output_type": "stream",
          "name": "stdout",
          "text": [
            "21:37:47   node log likelihood: -2.00318\n"
          ]
        },
        {
          "output_type": "stream",
          "name": "stderr",
          "text": [
            "WARNING:torchdrug.core.logger:node mask / graph: 36.9\n"
          ]
        },
        {
          "output_type": "stream",
          "name": "stdout",
          "text": [
            "21:37:47   node mask / graph: 36.9\n"
          ]
        },
        {
          "output_type": "stream",
          "name": "stderr",
          "text": [
            "WARNING:torchdrug.core.logger:>>>>>>>>>>>>>>>>>>>>>>>>>>>>>>\n"
          ]
        },
        {
          "output_type": "stream",
          "name": "stdout",
          "text": [
            "21:37:50   >>>>>>>>>>>>>>>>>>>>>>>>>>>>>>\n"
          ]
        },
        {
          "output_type": "stream",
          "name": "stderr",
          "text": [
            "WARNING:torchdrug.core.logger:edge log likelihood: -0.962368\n"
          ]
        },
        {
          "output_type": "stream",
          "name": "stdout",
          "text": [
            "21:37:50   edge log likelihood: -0.962368\n"
          ]
        },
        {
          "output_type": "stream",
          "name": "stderr",
          "text": [
            "WARNING:torchdrug.core.logger:edge mask / graph: 399.6\n"
          ]
        },
        {
          "output_type": "stream",
          "name": "stdout",
          "text": [
            "21:37:50   edge mask / graph: 399.6\n"
          ]
        },
        {
          "output_type": "stream",
          "name": "stderr",
          "text": [
            "WARNING:torchdrug.core.logger:node log likelihood: -2.53333\n"
          ]
        },
        {
          "output_type": "stream",
          "name": "stdout",
          "text": [
            "21:37:50   node log likelihood: -2.53333\n"
          ]
        },
        {
          "output_type": "stream",
          "name": "stderr",
          "text": [
            "WARNING:torchdrug.core.logger:node mask / graph: 39.8\n"
          ]
        },
        {
          "output_type": "stream",
          "name": "stdout",
          "text": [
            "21:37:50   node mask / graph: 39.8\n"
          ]
        },
        {
          "output_type": "stream",
          "name": "stderr",
          "text": [
            "WARNING:torchdrug.core.logger:>>>>>>>>>>>>>>>>>>>>>>>>>>>>>>\n"
          ]
        },
        {
          "output_type": "stream",
          "name": "stdout",
          "text": [
            "21:37:53   >>>>>>>>>>>>>>>>>>>>>>>>>>>>>>\n"
          ]
        },
        {
          "output_type": "stream",
          "name": "stderr",
          "text": [
            "WARNING:torchdrug.core.logger:edge log likelihood: -0.978845\n"
          ]
        },
        {
          "output_type": "stream",
          "name": "stdout",
          "text": [
            "21:37:53   edge log likelihood: -0.978845\n"
          ]
        },
        {
          "output_type": "stream",
          "name": "stderr",
          "text": [
            "WARNING:torchdrug.core.logger:edge mask / graph: 398.4\n"
          ]
        },
        {
          "output_type": "stream",
          "name": "stdout",
          "text": [
            "21:37:53   edge mask / graph: 398.4\n"
          ]
        },
        {
          "output_type": "stream",
          "name": "stderr",
          "text": [
            "WARNING:torchdrug.core.logger:node log likelihood: -6.63509\n"
          ]
        },
        {
          "output_type": "stream",
          "name": "stdout",
          "text": [
            "21:37:53   node log likelihood: -6.63509\n"
          ]
        },
        {
          "output_type": "stream",
          "name": "stderr",
          "text": [
            "WARNING:torchdrug.core.logger:node mask / graph: 39.7\n"
          ]
        },
        {
          "output_type": "stream",
          "name": "stdout",
          "text": [
            "21:37:53   node mask / graph: 39.7\n"
          ]
        },
        {
          "output_type": "stream",
          "name": "stderr",
          "text": [
            "WARNING:torchdrug.core.logger:>>>>>>>>>>>>>>>>>>>>>>>>>>>>>>\n"
          ]
        },
        {
          "output_type": "stream",
          "name": "stdout",
          "text": [
            "21:37:56   >>>>>>>>>>>>>>>>>>>>>>>>>>>>>>\n"
          ]
        },
        {
          "output_type": "stream",
          "name": "stderr",
          "text": [
            "WARNING:torchdrug.core.logger:edge log likelihood: -1.0175\n"
          ]
        },
        {
          "output_type": "stream",
          "name": "stdout",
          "text": [
            "21:37:56   edge log likelihood: -1.0175\n"
          ]
        },
        {
          "output_type": "stream",
          "name": "stderr",
          "text": [
            "WARNING:torchdrug.core.logger:edge mask / graph: 333.6\n"
          ]
        },
        {
          "output_type": "stream",
          "name": "stdout",
          "text": [
            "21:37:56   edge mask / graph: 333.6\n"
          ]
        },
        {
          "output_type": "stream",
          "name": "stderr",
          "text": [
            "WARNING:torchdrug.core.logger:node log likelihood: -4.43326\n"
          ]
        },
        {
          "output_type": "stream",
          "name": "stdout",
          "text": [
            "21:37:56   node log likelihood: -4.43326\n"
          ]
        },
        {
          "output_type": "stream",
          "name": "stderr",
          "text": [
            "WARNING:torchdrug.core.logger:node mask / graph: 34.3\n"
          ]
        },
        {
          "output_type": "stream",
          "name": "stdout",
          "text": [
            "21:37:56   node mask / graph: 34.3\n"
          ]
        },
        {
          "output_type": "stream",
          "name": "stderr",
          "text": [
            "WARNING:torchdrug.core.logger:>>>>>>>>>>>>>>>>>>>>>>>>>>>>>>\n"
          ]
        },
        {
          "output_type": "stream",
          "name": "stdout",
          "text": [
            "21:38:00   >>>>>>>>>>>>>>>>>>>>>>>>>>>>>>\n"
          ]
        },
        {
          "output_type": "stream",
          "name": "stderr",
          "text": [
            "WARNING:torchdrug.core.logger:edge log likelihood: -1.01108\n"
          ]
        },
        {
          "output_type": "stream",
          "name": "stdout",
          "text": [
            "21:38:00   edge log likelihood: -1.01108\n"
          ]
        },
        {
          "output_type": "stream",
          "name": "stderr",
          "text": [
            "WARNING:torchdrug.core.logger:edge mask / graph: 363.6\n"
          ]
        },
        {
          "output_type": "stream",
          "name": "stdout",
          "text": [
            "21:38:00   edge mask / graph: 363.6\n"
          ]
        },
        {
          "output_type": "stream",
          "name": "stderr",
          "text": [
            "WARNING:torchdrug.core.logger:node log likelihood: -2.44972\n"
          ]
        },
        {
          "output_type": "stream",
          "name": "stdout",
          "text": [
            "21:38:00   node log likelihood: -2.44972\n"
          ]
        },
        {
          "output_type": "stream",
          "name": "stderr",
          "text": [
            "WARNING:torchdrug.core.logger:node mask / graph: 36.8\n"
          ]
        },
        {
          "output_type": "stream",
          "name": "stdout",
          "text": [
            "21:38:00   node mask / graph: 36.8\n"
          ]
        },
        {
          "output_type": "stream",
          "name": "stderr",
          "text": [
            "WARNING:torchdrug.core.logger:>>>>>>>>>>>>>>>>>>>>>>>>>>>>>>\n"
          ]
        },
        {
          "output_type": "stream",
          "name": "stdout",
          "text": [
            "21:38:03   >>>>>>>>>>>>>>>>>>>>>>>>>>>>>>\n"
          ]
        },
        {
          "output_type": "stream",
          "name": "stderr",
          "text": [
            "WARNING:torchdrug.core.logger:edge log likelihood: -1.01015\n"
          ]
        },
        {
          "output_type": "stream",
          "name": "stdout",
          "text": [
            "21:38:03   edge log likelihood: -1.01015\n"
          ]
        },
        {
          "output_type": "stream",
          "name": "stderr",
          "text": [
            "WARNING:torchdrug.core.logger:edge mask / graph: 499.2\n"
          ]
        },
        {
          "output_type": "stream",
          "name": "stdout",
          "text": [
            "21:38:03   edge mask / graph: 499.2\n"
          ]
        },
        {
          "output_type": "stream",
          "name": "stderr",
          "text": [
            "WARNING:torchdrug.core.logger:node log likelihood: -2.33029\n"
          ]
        },
        {
          "output_type": "stream",
          "name": "stdout",
          "text": [
            "21:38:03   node log likelihood: -2.33029\n"
          ]
        },
        {
          "output_type": "stream",
          "name": "stderr",
          "text": [
            "WARNING:torchdrug.core.logger:node mask / graph: 48.1\n"
          ]
        },
        {
          "output_type": "stream",
          "name": "stdout",
          "text": [
            "21:38:03   node mask / graph: 48.1\n"
          ]
        },
        {
          "output_type": "stream",
          "name": "stderr",
          "text": [
            "WARNING:torchdrug.core.logger:>>>>>>>>>>>>>>>>>>>>>>>>>>>>>>\n"
          ]
        },
        {
          "output_type": "stream",
          "name": "stdout",
          "text": [
            "21:38:06   >>>>>>>>>>>>>>>>>>>>>>>>>>>>>>\n"
          ]
        },
        {
          "output_type": "stream",
          "name": "stderr",
          "text": [
            "WARNING:torchdrug.core.logger:edge log likelihood: -1.01289\n"
          ]
        },
        {
          "output_type": "stream",
          "name": "stdout",
          "text": [
            "21:38:06   edge log likelihood: -1.01289\n"
          ]
        },
        {
          "output_type": "stream",
          "name": "stderr",
          "text": [
            "WARNING:torchdrug.core.logger:edge mask / graph: 391.2\n"
          ]
        },
        {
          "output_type": "stream",
          "name": "stdout",
          "text": [
            "21:38:06   edge mask / graph: 391.2\n"
          ]
        },
        {
          "output_type": "stream",
          "name": "stderr",
          "text": [
            "WARNING:torchdrug.core.logger:node log likelihood: -1.94693\n"
          ]
        },
        {
          "output_type": "stream",
          "name": "stdout",
          "text": [
            "21:38:06   node log likelihood: -1.94693\n"
          ]
        },
        {
          "output_type": "stream",
          "name": "stderr",
          "text": [
            "WARNING:torchdrug.core.logger:node mask / graph: 39.1\n"
          ]
        },
        {
          "output_type": "stream",
          "name": "stdout",
          "text": [
            "21:38:06   node mask / graph: 39.1\n"
          ]
        },
        {
          "output_type": "stream",
          "name": "stderr",
          "text": [
            "WARNING:torchdrug.core.logger:>>>>>>>>>>>>>>>>>>>>>>>>>>>>>>\n"
          ]
        },
        {
          "output_type": "stream",
          "name": "stdout",
          "text": [
            "21:38:10   >>>>>>>>>>>>>>>>>>>>>>>>>>>>>>\n"
          ]
        },
        {
          "output_type": "stream",
          "name": "stderr",
          "text": [
            "WARNING:torchdrug.core.logger:edge log likelihood: -0.971088\n"
          ]
        },
        {
          "output_type": "stream",
          "name": "stdout",
          "text": [
            "21:38:10   edge log likelihood: -0.971088\n"
          ]
        },
        {
          "output_type": "stream",
          "name": "stderr",
          "text": [
            "WARNING:torchdrug.core.logger:edge mask / graph: 520.8\n"
          ]
        },
        {
          "output_type": "stream",
          "name": "stdout",
          "text": [
            "21:38:10   edge mask / graph: 520.8\n"
          ]
        },
        {
          "output_type": "stream",
          "name": "stderr",
          "text": [
            "WARNING:torchdrug.core.logger:node log likelihood: -1.82669\n"
          ]
        },
        {
          "output_type": "stream",
          "name": "stdout",
          "text": [
            "21:38:10   node log likelihood: -1.82669\n"
          ]
        },
        {
          "output_type": "stream",
          "name": "stderr",
          "text": [
            "WARNING:torchdrug.core.logger:node mask / graph: 49.9\n"
          ]
        },
        {
          "output_type": "stream",
          "name": "stdout",
          "text": [
            "21:38:10   node mask / graph: 49.9\n"
          ]
        },
        {
          "output_type": "stream",
          "name": "stderr",
          "text": [
            "WARNING:torchdrug.core.logger:>>>>>>>>>>>>>>>>>>>>>>>>>>>>>>\n"
          ]
        },
        {
          "output_type": "stream",
          "name": "stdout",
          "text": [
            "21:38:14   >>>>>>>>>>>>>>>>>>>>>>>>>>>>>>\n"
          ]
        },
        {
          "output_type": "stream",
          "name": "stderr",
          "text": [
            "WARNING:torchdrug.core.logger:edge log likelihood: -0.965485\n"
          ]
        },
        {
          "output_type": "stream",
          "name": "stdout",
          "text": [
            "21:38:14   edge log likelihood: -0.965485\n"
          ]
        },
        {
          "output_type": "stream",
          "name": "stderr",
          "text": [
            "WARNING:torchdrug.core.logger:edge mask / graph: 459.6\n"
          ]
        },
        {
          "output_type": "stream",
          "name": "stdout",
          "text": [
            "21:38:14   edge mask / graph: 459.6\n"
          ]
        },
        {
          "output_type": "stream",
          "name": "stderr",
          "text": [
            "WARNING:torchdrug.core.logger:node log likelihood: -7.17074\n"
          ]
        },
        {
          "output_type": "stream",
          "name": "stdout",
          "text": [
            "21:38:14   node log likelihood: -7.17074\n"
          ]
        },
        {
          "output_type": "stream",
          "name": "stderr",
          "text": [
            "WARNING:torchdrug.core.logger:node mask / graph: 44.8\n"
          ]
        },
        {
          "output_type": "stream",
          "name": "stdout",
          "text": [
            "21:38:14   node mask / graph: 44.8\n"
          ]
        },
        {
          "output_type": "stream",
          "name": "stderr",
          "text": [
            "WARNING:torchdrug.core.logger:>>>>>>>>>>>>>>>>>>>>>>>>>>>>>>\n"
          ]
        },
        {
          "output_type": "stream",
          "name": "stdout",
          "text": [
            "21:38:17   >>>>>>>>>>>>>>>>>>>>>>>>>>>>>>\n"
          ]
        },
        {
          "output_type": "stream",
          "name": "stderr",
          "text": [
            "WARNING:torchdrug.core.logger:edge log likelihood: -0.994842\n"
          ]
        },
        {
          "output_type": "stream",
          "name": "stdout",
          "text": [
            "21:38:17   edge log likelihood: -0.994842\n"
          ]
        },
        {
          "output_type": "stream",
          "name": "stderr",
          "text": [
            "WARNING:torchdrug.core.logger:edge mask / graph: 327.6\n"
          ]
        },
        {
          "output_type": "stream",
          "name": "stdout",
          "text": [
            "21:38:17   edge mask / graph: 327.6\n"
          ]
        },
        {
          "output_type": "stream",
          "name": "stderr",
          "text": [
            "WARNING:torchdrug.core.logger:node log likelihood: -2.37034\n"
          ]
        },
        {
          "output_type": "stream",
          "name": "stdout",
          "text": [
            "21:38:17   node log likelihood: -2.37034\n"
          ]
        },
        {
          "output_type": "stream",
          "name": "stderr",
          "text": [
            "WARNING:torchdrug.core.logger:node mask / graph: 33.8\n"
          ]
        },
        {
          "output_type": "stream",
          "name": "stdout",
          "text": [
            "21:38:17   node mask / graph: 33.8\n"
          ]
        },
        {
          "output_type": "stream",
          "name": "stderr",
          "text": [
            "WARNING:torchdrug.core.logger:>>>>>>>>>>>>>>>>>>>>>>>>>>>>>>\n"
          ]
        },
        {
          "output_type": "stream",
          "name": "stdout",
          "text": [
            "21:38:20   >>>>>>>>>>>>>>>>>>>>>>>>>>>>>>\n"
          ]
        },
        {
          "output_type": "stream",
          "name": "stderr",
          "text": [
            "WARNING:torchdrug.core.logger:edge log likelihood: -0.990519\n"
          ]
        },
        {
          "output_type": "stream",
          "name": "stdout",
          "text": [
            "21:38:20   edge log likelihood: -0.990519\n"
          ]
        },
        {
          "output_type": "stream",
          "name": "stderr",
          "text": [
            "WARNING:torchdrug.core.logger:edge mask / graph: 418.8\n"
          ]
        },
        {
          "output_type": "stream",
          "name": "stdout",
          "text": [
            "21:38:20   edge mask / graph: 418.8\n"
          ]
        },
        {
          "output_type": "stream",
          "name": "stderr",
          "text": [
            "WARNING:torchdrug.core.logger:node log likelihood: -5.08742\n"
          ]
        },
        {
          "output_type": "stream",
          "name": "stdout",
          "text": [
            "21:38:20   node log likelihood: -5.08742\n"
          ]
        },
        {
          "output_type": "stream",
          "name": "stderr",
          "text": [
            "WARNING:torchdrug.core.logger:node mask / graph: 41.4\n"
          ]
        },
        {
          "output_type": "stream",
          "name": "stdout",
          "text": [
            "21:38:20   node mask / graph: 41.4\n"
          ]
        },
        {
          "output_type": "stream",
          "name": "stderr",
          "text": [
            "WARNING:torchdrug.core.logger:>>>>>>>>>>>>>>>>>>>>>>>>>>>>>>\n"
          ]
        },
        {
          "output_type": "stream",
          "name": "stdout",
          "text": [
            "21:38:24   >>>>>>>>>>>>>>>>>>>>>>>>>>>>>>\n"
          ]
        },
        {
          "output_type": "stream",
          "name": "stderr",
          "text": [
            "WARNING:torchdrug.core.logger:edge log likelihood: -0.959941\n"
          ]
        },
        {
          "output_type": "stream",
          "name": "stdout",
          "text": [
            "21:38:24   edge log likelihood: -0.959941\n"
          ]
        },
        {
          "output_type": "stream",
          "name": "stderr",
          "text": [
            "WARNING:torchdrug.core.logger:edge mask / graph: 340.8\n"
          ]
        },
        {
          "output_type": "stream",
          "name": "stdout",
          "text": [
            "21:38:24   edge mask / graph: 340.8\n"
          ]
        },
        {
          "output_type": "stream",
          "name": "stderr",
          "text": [
            "WARNING:torchdrug.core.logger:node log likelihood: -2.91756\n"
          ]
        },
        {
          "output_type": "stream",
          "name": "stdout",
          "text": [
            "21:38:24   node log likelihood: -2.91756\n"
          ]
        },
        {
          "output_type": "stream",
          "name": "stderr",
          "text": [
            "WARNING:torchdrug.core.logger:node mask / graph: 34.9\n"
          ]
        },
        {
          "output_type": "stream",
          "name": "stdout",
          "text": [
            "21:38:24   node mask / graph: 34.9\n"
          ]
        },
        {
          "output_type": "stream",
          "name": "stderr",
          "text": [
            "WARNING:torchdrug.core.logger:>>>>>>>>>>>>>>>>>>>>>>>>>>>>>>\n"
          ]
        },
        {
          "output_type": "stream",
          "name": "stdout",
          "text": [
            "21:38:27   >>>>>>>>>>>>>>>>>>>>>>>>>>>>>>\n"
          ]
        },
        {
          "output_type": "stream",
          "name": "stderr",
          "text": [
            "WARNING:torchdrug.core.logger:edge log likelihood: -0.995688\n"
          ]
        },
        {
          "output_type": "stream",
          "name": "stdout",
          "text": [
            "21:38:27   edge log likelihood: -0.995688\n"
          ]
        },
        {
          "output_type": "stream",
          "name": "stderr",
          "text": [
            "WARNING:torchdrug.core.logger:edge mask / graph: 328.8\n"
          ]
        },
        {
          "output_type": "stream",
          "name": "stdout",
          "text": [
            "21:38:27   edge mask / graph: 328.8\n"
          ]
        },
        {
          "output_type": "stream",
          "name": "stderr",
          "text": [
            "WARNING:torchdrug.core.logger:node log likelihood: -2.35071\n"
          ]
        },
        {
          "output_type": "stream",
          "name": "stdout",
          "text": [
            "21:38:27   node log likelihood: -2.35071\n"
          ]
        },
        {
          "output_type": "stream",
          "name": "stderr",
          "text": [
            "WARNING:torchdrug.core.logger:node mask / graph: 33.9\n"
          ]
        },
        {
          "output_type": "stream",
          "name": "stdout",
          "text": [
            "21:38:27   node mask / graph: 33.9\n"
          ]
        },
        {
          "output_type": "stream",
          "name": "stderr",
          "text": [
            "WARNING:torchdrug.core.logger:>>>>>>>>>>>>>>>>>>>>>>>>>>>>>>\n"
          ]
        },
        {
          "output_type": "stream",
          "name": "stdout",
          "text": [
            "21:38:30   >>>>>>>>>>>>>>>>>>>>>>>>>>>>>>\n"
          ]
        },
        {
          "output_type": "stream",
          "name": "stderr",
          "text": [
            "WARNING:torchdrug.core.logger:edge log likelihood: -1.00404\n"
          ]
        },
        {
          "output_type": "stream",
          "name": "stdout",
          "text": [
            "21:38:30   edge log likelihood: -1.00404\n"
          ]
        },
        {
          "output_type": "stream",
          "name": "stderr",
          "text": [
            "WARNING:torchdrug.core.logger:edge mask / graph: 417.6\n"
          ]
        },
        {
          "output_type": "stream",
          "name": "stdout",
          "text": [
            "21:38:30   edge mask / graph: 417.6\n"
          ]
        },
        {
          "output_type": "stream",
          "name": "stderr",
          "text": [
            "WARNING:torchdrug.core.logger:node log likelihood: -2.5654\n"
          ]
        },
        {
          "output_type": "stream",
          "name": "stdout",
          "text": [
            "21:38:30   node log likelihood: -2.5654\n"
          ]
        },
        {
          "output_type": "stream",
          "name": "stderr",
          "text": [
            "WARNING:torchdrug.core.logger:node mask / graph: 41.3\n"
          ]
        },
        {
          "output_type": "stream",
          "name": "stdout",
          "text": [
            "21:38:30   node mask / graph: 41.3\n"
          ]
        },
        {
          "output_type": "stream",
          "name": "stderr",
          "text": [
            "WARNING:torchdrug.core.logger:>>>>>>>>>>>>>>>>>>>>>>>>>>>>>>\n"
          ]
        },
        {
          "output_type": "stream",
          "name": "stdout",
          "text": [
            "21:38:33   >>>>>>>>>>>>>>>>>>>>>>>>>>>>>>\n"
          ]
        },
        {
          "output_type": "stream",
          "name": "stderr",
          "text": [
            "WARNING:torchdrug.core.logger:edge log likelihood: -1.04408\n"
          ]
        },
        {
          "output_type": "stream",
          "name": "stdout",
          "text": [
            "21:38:33   edge log likelihood: -1.04408\n"
          ]
        },
        {
          "output_type": "stream",
          "name": "stderr",
          "text": [
            "WARNING:torchdrug.core.logger:edge mask / graph: 384\n"
          ]
        },
        {
          "output_type": "stream",
          "name": "stdout",
          "text": [
            "21:38:33   edge mask / graph: 384\n"
          ]
        },
        {
          "output_type": "stream",
          "name": "stderr",
          "text": [
            "WARNING:torchdrug.core.logger:node log likelihood: -1.98762\n"
          ]
        },
        {
          "output_type": "stream",
          "name": "stdout",
          "text": [
            "21:38:33   node log likelihood: -1.98762\n"
          ]
        },
        {
          "output_type": "stream",
          "name": "stderr",
          "text": [
            "WARNING:torchdrug.core.logger:node mask / graph: 38.5\n"
          ]
        },
        {
          "output_type": "stream",
          "name": "stdout",
          "text": [
            "21:38:33   node mask / graph: 38.5\n"
          ]
        },
        {
          "output_type": "stream",
          "name": "stderr",
          "text": [
            "WARNING:torchdrug.core.logger:>>>>>>>>>>>>>>>>>>>>>>>>>>>>>>\n"
          ]
        },
        {
          "output_type": "stream",
          "name": "stdout",
          "text": [
            "21:38:37   >>>>>>>>>>>>>>>>>>>>>>>>>>>>>>\n"
          ]
        },
        {
          "output_type": "stream",
          "name": "stderr",
          "text": [
            "WARNING:torchdrug.core.logger:edge log likelihood: -0.9757\n"
          ]
        },
        {
          "output_type": "stream",
          "name": "stdout",
          "text": [
            "21:38:37   edge log likelihood: -0.9757\n"
          ]
        },
        {
          "output_type": "stream",
          "name": "stderr",
          "text": [
            "WARNING:torchdrug.core.logger:edge mask / graph: 369.6\n"
          ]
        },
        {
          "output_type": "stream",
          "name": "stdout",
          "text": [
            "21:38:37   edge mask / graph: 369.6\n"
          ]
        },
        {
          "output_type": "stream",
          "name": "stderr",
          "text": [
            "WARNING:torchdrug.core.logger:node log likelihood: -1.37721\n"
          ]
        },
        {
          "output_type": "stream",
          "name": "stdout",
          "text": [
            "21:38:37   node log likelihood: -1.37721\n"
          ]
        },
        {
          "output_type": "stream",
          "name": "stderr",
          "text": [
            "WARNING:torchdrug.core.logger:node mask / graph: 37.3\n"
          ]
        },
        {
          "output_type": "stream",
          "name": "stdout",
          "text": [
            "21:38:37   node mask / graph: 37.3\n"
          ]
        },
        {
          "output_type": "stream",
          "name": "stderr",
          "text": [
            "WARNING:torchdrug.core.logger:>>>>>>>>>>>>>>>>>>>>>>>>>>>>>>\n"
          ]
        },
        {
          "output_type": "stream",
          "name": "stdout",
          "text": [
            "21:38:40   >>>>>>>>>>>>>>>>>>>>>>>>>>>>>>\n"
          ]
        },
        {
          "output_type": "stream",
          "name": "stderr",
          "text": [
            "WARNING:torchdrug.core.logger:edge log likelihood: -1.04815\n"
          ]
        },
        {
          "output_type": "stream",
          "name": "stdout",
          "text": [
            "21:38:40   edge log likelihood: -1.04815\n"
          ]
        },
        {
          "output_type": "stream",
          "name": "stderr",
          "text": [
            "WARNING:torchdrug.core.logger:edge mask / graph: 375.6\n"
          ]
        },
        {
          "output_type": "stream",
          "name": "stdout",
          "text": [
            "21:38:40   edge mask / graph: 375.6\n"
          ]
        },
        {
          "output_type": "stream",
          "name": "stderr",
          "text": [
            "WARNING:torchdrug.core.logger:node log likelihood: -1.54184\n"
          ]
        },
        {
          "output_type": "stream",
          "name": "stdout",
          "text": [
            "21:38:40   node log likelihood: -1.54184\n"
          ]
        },
        {
          "output_type": "stream",
          "name": "stderr",
          "text": [
            "WARNING:torchdrug.core.logger:node mask / graph: 37.8\n"
          ]
        },
        {
          "output_type": "stream",
          "name": "stdout",
          "text": [
            "21:38:40   node mask / graph: 37.8\n"
          ]
        },
        {
          "output_type": "stream",
          "name": "stderr",
          "text": [
            "WARNING:torchdrug.core.meter:>>>>>>>>>>>>>>>>>>>>>>>>>>>>>>\n"
          ]
        },
        {
          "output_type": "stream",
          "name": "stdout",
          "text": [
            "21:38:40   >>>>>>>>>>>>>>>>>>>>>>>>>>>>>>\n"
          ]
        },
        {
          "output_type": "stream",
          "name": "stderr",
          "text": [
            "WARNING:torchdrug.core.meter:Epoch 2 end\n"
          ]
        },
        {
          "output_type": "stream",
          "name": "stdout",
          "text": [
            "21:38:40   Epoch 2 end\n"
          ]
        },
        {
          "output_type": "stream",
          "name": "stderr",
          "text": [
            "WARNING:torchdrug.core.meter:duration: 2.74 mins\n"
          ]
        },
        {
          "output_type": "stream",
          "name": "stdout",
          "text": [
            "21:38:40   duration: 2.74 mins\n"
          ]
        },
        {
          "output_type": "stream",
          "name": "stderr",
          "text": [
            "WARNING:torchdrug.core.meter:speed: 2.93 batch / sec\n"
          ]
        },
        {
          "output_type": "stream",
          "name": "stdout",
          "text": [
            "21:38:40   speed: 2.93 batch / sec\n"
          ]
        },
        {
          "output_type": "stream",
          "name": "stderr",
          "text": [
            "WARNING:torchdrug.core.meter:ETA: 5.45 mins\n"
          ]
        },
        {
          "output_type": "stream",
          "name": "stdout",
          "text": [
            "21:38:40   ETA: 5.45 mins\n"
          ]
        },
        {
          "output_type": "stream",
          "name": "stderr",
          "text": [
            "WARNING:torchdrug.core.meter:max GPU memory: 3038.2 MiB\n"
          ]
        },
        {
          "output_type": "stream",
          "name": "stdout",
          "text": [
            "21:38:40   max GPU memory: 3038.2 MiB\n"
          ]
        },
        {
          "output_type": "stream",
          "name": "stderr",
          "text": [
            "WARNING:torchdrug.core.logger:------------------------------\n"
          ]
        },
        {
          "output_type": "stream",
          "name": "stdout",
          "text": [
            "21:38:40   ------------------------------\n"
          ]
        },
        {
          "output_type": "stream",
          "name": "stderr",
          "text": [
            "WARNING:torchdrug.core.logger:average edge log likelihood: -1.00786\n"
          ]
        },
        {
          "output_type": "stream",
          "name": "stdout",
          "text": [
            "21:38:40   average edge log likelihood: -1.00786\n"
          ]
        },
        {
          "output_type": "stream",
          "name": "stderr",
          "text": [
            "WARNING:torchdrug.core.logger:average edge mask / graph: 394.788\n"
          ]
        },
        {
          "output_type": "stream",
          "name": "stdout",
          "text": [
            "21:38:40   average edge mask / graph: 394.788\n"
          ]
        },
        {
          "output_type": "stream",
          "name": "stderr",
          "text": [
            "WARNING:torchdrug.core.logger:average node log likelihood: -3.15261\n"
          ]
        },
        {
          "output_type": "stream",
          "name": "stdout",
          "text": [
            "21:38:40   average node log likelihood: -3.15261\n"
          ]
        },
        {
          "output_type": "stream",
          "name": "stderr",
          "text": [
            "WARNING:torchdrug.core.logger:average node mask / graph: 39.399\n"
          ]
        },
        {
          "output_type": "stream",
          "name": "stdout",
          "text": [
            "21:38:40   average node mask / graph: 39.399\n"
          ]
        },
        {
          "output_type": "stream",
          "name": "stderr",
          "text": [
            "WARNING:torchdrug.core.meter:>>>>>>>>>>>>>>>>>>>>>>>>>>>>>>\n"
          ]
        },
        {
          "output_type": "stream",
          "name": "stdout",
          "text": [
            "21:38:40   >>>>>>>>>>>>>>>>>>>>>>>>>>>>>>\n"
          ]
        },
        {
          "output_type": "stream",
          "name": "stderr",
          "text": [
            "WARNING:torchdrug.core.meter:Epoch 3 begin\n"
          ]
        },
        {
          "output_type": "stream",
          "name": "stdout",
          "text": [
            "21:38:40   Epoch 3 begin\n"
          ]
        },
        {
          "output_type": "stream",
          "name": "stderr",
          "text": [
            "WARNING:torchdrug.core.logger:>>>>>>>>>>>>>>>>>>>>>>>>>>>>>>\n"
          ]
        },
        {
          "output_type": "stream",
          "name": "stdout",
          "text": [
            "21:38:43   >>>>>>>>>>>>>>>>>>>>>>>>>>>>>>\n"
          ]
        },
        {
          "output_type": "stream",
          "name": "stderr",
          "text": [
            "WARNING:torchdrug.core.logger:edge log likelihood: -0.934323\n"
          ]
        },
        {
          "output_type": "stream",
          "name": "stdout",
          "text": [
            "21:38:43   edge log likelihood: -0.934323\n"
          ]
        },
        {
          "output_type": "stream",
          "name": "stderr",
          "text": [
            "WARNING:torchdrug.core.logger:edge mask / graph: 446.4\n"
          ]
        },
        {
          "output_type": "stream",
          "name": "stdout",
          "text": [
            "21:38:43   edge mask / graph: 446.4\n"
          ]
        },
        {
          "output_type": "stream",
          "name": "stderr",
          "text": [
            "WARNING:torchdrug.core.logger:node log likelihood: -1.79142\n"
          ]
        },
        {
          "output_type": "stream",
          "name": "stdout",
          "text": [
            "21:38:43   node log likelihood: -1.79142\n"
          ]
        },
        {
          "output_type": "stream",
          "name": "stderr",
          "text": [
            "WARNING:torchdrug.core.logger:node mask / graph: 43.7\n"
          ]
        },
        {
          "output_type": "stream",
          "name": "stdout",
          "text": [
            "21:38:43   node mask / graph: 43.7\n"
          ]
        },
        {
          "output_type": "stream",
          "name": "stderr",
          "text": [
            "WARNING:torchdrug.core.logger:>>>>>>>>>>>>>>>>>>>>>>>>>>>>>>\n"
          ]
        },
        {
          "output_type": "stream",
          "name": "stdout",
          "text": [
            "21:38:47   >>>>>>>>>>>>>>>>>>>>>>>>>>>>>>\n"
          ]
        },
        {
          "output_type": "stream",
          "name": "stderr",
          "text": [
            "WARNING:torchdrug.core.logger:edge log likelihood: -1.02209\n"
          ]
        },
        {
          "output_type": "stream",
          "name": "stdout",
          "text": [
            "21:38:47   edge log likelihood: -1.02209\n"
          ]
        },
        {
          "output_type": "stream",
          "name": "stderr",
          "text": [
            "WARNING:torchdrug.core.logger:edge mask / graph: 416.4\n"
          ]
        },
        {
          "output_type": "stream",
          "name": "stdout",
          "text": [
            "21:38:47   edge mask / graph: 416.4\n"
          ]
        },
        {
          "output_type": "stream",
          "name": "stderr",
          "text": [
            "WARNING:torchdrug.core.logger:node log likelihood: -1.15223\n"
          ]
        },
        {
          "output_type": "stream",
          "name": "stdout",
          "text": [
            "21:38:47   node log likelihood: -1.15223\n"
          ]
        },
        {
          "output_type": "stream",
          "name": "stderr",
          "text": [
            "WARNING:torchdrug.core.logger:node mask / graph: 41.2\n"
          ]
        },
        {
          "output_type": "stream",
          "name": "stdout",
          "text": [
            "21:38:47   node mask / graph: 41.2\n"
          ]
        },
        {
          "output_type": "stream",
          "name": "stderr",
          "text": [
            "WARNING:torchdrug.core.logger:>>>>>>>>>>>>>>>>>>>>>>>>>>>>>>\n"
          ]
        },
        {
          "output_type": "stream",
          "name": "stdout",
          "text": [
            "21:38:50   >>>>>>>>>>>>>>>>>>>>>>>>>>>>>>\n"
          ]
        },
        {
          "output_type": "stream",
          "name": "stderr",
          "text": [
            "WARNING:torchdrug.core.logger:edge log likelihood: -0.99347\n"
          ]
        },
        {
          "output_type": "stream",
          "name": "stdout",
          "text": [
            "21:38:50   edge log likelihood: -0.99347\n"
          ]
        },
        {
          "output_type": "stream",
          "name": "stderr",
          "text": [
            "WARNING:torchdrug.core.logger:edge mask / graph: 393.6\n"
          ]
        },
        {
          "output_type": "stream",
          "name": "stdout",
          "text": [
            "21:38:50   edge mask / graph: 393.6\n"
          ]
        },
        {
          "output_type": "stream",
          "name": "stderr",
          "text": [
            "WARNING:torchdrug.core.logger:node log likelihood: -1.01932\n"
          ]
        },
        {
          "output_type": "stream",
          "name": "stdout",
          "text": [
            "21:38:50   node log likelihood: -1.01932\n"
          ]
        },
        {
          "output_type": "stream",
          "name": "stderr",
          "text": [
            "WARNING:torchdrug.core.logger:node mask / graph: 39.3\n"
          ]
        },
        {
          "output_type": "stream",
          "name": "stdout",
          "text": [
            "21:38:50   node mask / graph: 39.3\n"
          ]
        },
        {
          "output_type": "stream",
          "name": "stderr",
          "text": [
            "WARNING:torchdrug.core.logger:>>>>>>>>>>>>>>>>>>>>>>>>>>>>>>\n"
          ]
        },
        {
          "output_type": "stream",
          "name": "stdout",
          "text": [
            "21:38:54   >>>>>>>>>>>>>>>>>>>>>>>>>>>>>>\n"
          ]
        },
        {
          "output_type": "stream",
          "name": "stderr",
          "text": [
            "WARNING:torchdrug.core.logger:edge log likelihood: -1.01521\n"
          ]
        },
        {
          "output_type": "stream",
          "name": "stdout",
          "text": [
            "21:38:54   edge log likelihood: -1.01521\n"
          ]
        },
        {
          "output_type": "stream",
          "name": "stderr",
          "text": [
            "WARNING:torchdrug.core.logger:edge mask / graph: 340.8\n"
          ]
        },
        {
          "output_type": "stream",
          "name": "stdout",
          "text": [
            "21:38:54   edge mask / graph: 340.8\n"
          ]
        },
        {
          "output_type": "stream",
          "name": "stderr",
          "text": [
            "WARNING:torchdrug.core.logger:node log likelihood: -1.09877\n"
          ]
        },
        {
          "output_type": "stream",
          "name": "stdout",
          "text": [
            "21:38:54   node log likelihood: -1.09877\n"
          ]
        },
        {
          "output_type": "stream",
          "name": "stderr",
          "text": [
            "WARNING:torchdrug.core.logger:node mask / graph: 34.9\n"
          ]
        },
        {
          "output_type": "stream",
          "name": "stdout",
          "text": [
            "21:38:54   node mask / graph: 34.9\n"
          ]
        },
        {
          "output_type": "stream",
          "name": "stderr",
          "text": [
            "WARNING:torchdrug.core.logger:>>>>>>>>>>>>>>>>>>>>>>>>>>>>>>\n"
          ]
        },
        {
          "output_type": "stream",
          "name": "stdout",
          "text": [
            "21:38:57   >>>>>>>>>>>>>>>>>>>>>>>>>>>>>>\n"
          ]
        },
        {
          "output_type": "stream",
          "name": "stderr",
          "text": [
            "WARNING:torchdrug.core.logger:edge log likelihood: -0.970472\n"
          ]
        },
        {
          "output_type": "stream",
          "name": "stdout",
          "text": [
            "21:38:57   edge log likelihood: -0.970472\n"
          ]
        },
        {
          "output_type": "stream",
          "name": "stderr",
          "text": [
            "WARNING:torchdrug.core.logger:edge mask / graph: 397.2\n"
          ]
        },
        {
          "output_type": "stream",
          "name": "stdout",
          "text": [
            "21:38:57   edge mask / graph: 397.2\n"
          ]
        },
        {
          "output_type": "stream",
          "name": "stderr",
          "text": [
            "WARNING:torchdrug.core.logger:node log likelihood: -1.93796\n"
          ]
        },
        {
          "output_type": "stream",
          "name": "stdout",
          "text": [
            "21:38:57   node log likelihood: -1.93796\n"
          ]
        },
        {
          "output_type": "stream",
          "name": "stderr",
          "text": [
            "WARNING:torchdrug.core.logger:node mask / graph: 39.6\n"
          ]
        },
        {
          "output_type": "stream",
          "name": "stdout",
          "text": [
            "21:38:57   node mask / graph: 39.6\n"
          ]
        },
        {
          "output_type": "stream",
          "name": "stderr",
          "text": [
            "WARNING:torchdrug.core.logger:>>>>>>>>>>>>>>>>>>>>>>>>>>>>>>\n"
          ]
        },
        {
          "output_type": "stream",
          "name": "stdout",
          "text": [
            "21:39:01   >>>>>>>>>>>>>>>>>>>>>>>>>>>>>>\n"
          ]
        },
        {
          "output_type": "stream",
          "name": "stderr",
          "text": [
            "WARNING:torchdrug.core.logger:edge log likelihood: -0.974785\n"
          ]
        },
        {
          "output_type": "stream",
          "name": "stdout",
          "text": [
            "21:39:01   edge log likelihood: -0.974785\n"
          ]
        },
        {
          "output_type": "stream",
          "name": "stderr",
          "text": [
            "WARNING:torchdrug.core.logger:edge mask / graph: 381.6\n"
          ]
        },
        {
          "output_type": "stream",
          "name": "stdout",
          "text": [
            "21:39:01   edge mask / graph: 381.6\n"
          ]
        },
        {
          "output_type": "stream",
          "name": "stderr",
          "text": [
            "WARNING:torchdrug.core.logger:node log likelihood: -22.0288\n"
          ]
        },
        {
          "output_type": "stream",
          "name": "stdout",
          "text": [
            "21:39:01   node log likelihood: -22.0288\n"
          ]
        },
        {
          "output_type": "stream",
          "name": "stderr",
          "text": [
            "WARNING:torchdrug.core.logger:node mask / graph: 38.3\n"
          ]
        },
        {
          "output_type": "stream",
          "name": "stdout",
          "text": [
            "21:39:01   node mask / graph: 38.3\n"
          ]
        },
        {
          "output_type": "stream",
          "name": "stderr",
          "text": [
            "WARNING:torchdrug.core.logger:>>>>>>>>>>>>>>>>>>>>>>>>>>>>>>\n"
          ]
        },
        {
          "output_type": "stream",
          "name": "stdout",
          "text": [
            "21:39:05   >>>>>>>>>>>>>>>>>>>>>>>>>>>>>>\n"
          ]
        },
        {
          "output_type": "stream",
          "name": "stderr",
          "text": [
            "WARNING:torchdrug.core.logger:edge log likelihood: -1.03423\n"
          ]
        },
        {
          "output_type": "stream",
          "name": "stdout",
          "text": [
            "21:39:05   edge log likelihood: -1.03423\n"
          ]
        },
        {
          "output_type": "stream",
          "name": "stderr",
          "text": [
            "WARNING:torchdrug.core.logger:edge mask / graph: 300\n"
          ]
        },
        {
          "output_type": "stream",
          "name": "stdout",
          "text": [
            "21:39:05   edge mask / graph: 300\n"
          ]
        },
        {
          "output_type": "stream",
          "name": "stderr",
          "text": [
            "WARNING:torchdrug.core.logger:node log likelihood: -22.0836\n"
          ]
        },
        {
          "output_type": "stream",
          "name": "stdout",
          "text": [
            "21:39:05   node log likelihood: -22.0836\n"
          ]
        },
        {
          "output_type": "stream",
          "name": "stderr",
          "text": [
            "WARNING:torchdrug.core.logger:node mask / graph: 31.5\n"
          ]
        },
        {
          "output_type": "stream",
          "name": "stdout",
          "text": [
            "21:39:05   node mask / graph: 31.5\n"
          ]
        },
        {
          "output_type": "stream",
          "name": "stderr",
          "text": [
            "WARNING:torchdrug.core.logger:>>>>>>>>>>>>>>>>>>>>>>>>>>>>>>\n"
          ]
        },
        {
          "output_type": "stream",
          "name": "stdout",
          "text": [
            "21:39:08   >>>>>>>>>>>>>>>>>>>>>>>>>>>>>>\n"
          ]
        },
        {
          "output_type": "stream",
          "name": "stderr",
          "text": [
            "WARNING:torchdrug.core.logger:edge log likelihood: -0.960324\n"
          ]
        },
        {
          "output_type": "stream",
          "name": "stdout",
          "text": [
            "21:39:08   edge log likelihood: -0.960324\n"
          ]
        },
        {
          "output_type": "stream",
          "name": "stderr",
          "text": [
            "WARNING:torchdrug.core.logger:edge mask / graph: 388.8\n"
          ]
        },
        {
          "output_type": "stream",
          "name": "stdout",
          "text": [
            "21:39:08   edge mask / graph: 388.8\n"
          ]
        },
        {
          "output_type": "stream",
          "name": "stderr",
          "text": [
            "WARNING:torchdrug.core.logger:node log likelihood: -4.129\n"
          ]
        },
        {
          "output_type": "stream",
          "name": "stdout",
          "text": [
            "21:39:08   node log likelihood: -4.129\n"
          ]
        },
        {
          "output_type": "stream",
          "name": "stderr",
          "text": [
            "WARNING:torchdrug.core.logger:node mask / graph: 38.9\n"
          ]
        },
        {
          "output_type": "stream",
          "name": "stdout",
          "text": [
            "21:39:08   node mask / graph: 38.9\n"
          ]
        },
        {
          "output_type": "stream",
          "name": "stderr",
          "text": [
            "WARNING:torchdrug.core.logger:>>>>>>>>>>>>>>>>>>>>>>>>>>>>>>\n"
          ]
        },
        {
          "output_type": "stream",
          "name": "stdout",
          "text": [
            "21:39:11   >>>>>>>>>>>>>>>>>>>>>>>>>>>>>>\n"
          ]
        },
        {
          "output_type": "stream",
          "name": "stderr",
          "text": [
            "WARNING:torchdrug.core.logger:edge log likelihood: -1.04577\n"
          ]
        },
        {
          "output_type": "stream",
          "name": "stdout",
          "text": [
            "21:39:11   edge log likelihood: -1.04577\n"
          ]
        },
        {
          "output_type": "stream",
          "name": "stderr",
          "text": [
            "WARNING:torchdrug.core.logger:edge mask / graph: 423.6\n"
          ]
        },
        {
          "output_type": "stream",
          "name": "stdout",
          "text": [
            "21:39:11   edge mask / graph: 423.6\n"
          ]
        },
        {
          "output_type": "stream",
          "name": "stderr",
          "text": [
            "WARNING:torchdrug.core.logger:node log likelihood: -5.54405\n"
          ]
        },
        {
          "output_type": "stream",
          "name": "stdout",
          "text": [
            "21:39:11   node log likelihood: -5.54405\n"
          ]
        },
        {
          "output_type": "stream",
          "name": "stderr",
          "text": [
            "WARNING:torchdrug.core.logger:node mask / graph: 41.8\n"
          ]
        },
        {
          "output_type": "stream",
          "name": "stdout",
          "text": [
            "21:39:11   node mask / graph: 41.8\n"
          ]
        },
        {
          "output_type": "stream",
          "name": "stderr",
          "text": [
            "WARNING:torchdrug.core.logger:>>>>>>>>>>>>>>>>>>>>>>>>>>>>>>\n"
          ]
        },
        {
          "output_type": "stream",
          "name": "stdout",
          "text": [
            "21:39:15   >>>>>>>>>>>>>>>>>>>>>>>>>>>>>>\n"
          ]
        },
        {
          "output_type": "stream",
          "name": "stderr",
          "text": [
            "WARNING:torchdrug.core.logger:edge log likelihood: -0.98459\n"
          ]
        },
        {
          "output_type": "stream",
          "name": "stdout",
          "text": [
            "21:39:15   edge log likelihood: -0.98459\n"
          ]
        },
        {
          "output_type": "stream",
          "name": "stderr",
          "text": [
            "WARNING:torchdrug.core.logger:edge mask / graph: 415.2\n"
          ]
        },
        {
          "output_type": "stream",
          "name": "stdout",
          "text": [
            "21:39:15   edge mask / graph: 415.2\n"
          ]
        },
        {
          "output_type": "stream",
          "name": "stderr",
          "text": [
            "WARNING:torchdrug.core.logger:node log likelihood: -8.93701\n"
          ]
        },
        {
          "output_type": "stream",
          "name": "stdout",
          "text": [
            "21:39:15   node log likelihood: -8.93701\n"
          ]
        },
        {
          "output_type": "stream",
          "name": "stderr",
          "text": [
            "WARNING:torchdrug.core.logger:node mask / graph: 41.1\n"
          ]
        },
        {
          "output_type": "stream",
          "name": "stdout",
          "text": [
            "21:39:15   node mask / graph: 41.1\n"
          ]
        },
        {
          "output_type": "stream",
          "name": "stderr",
          "text": [
            "WARNING:torchdrug.core.logger:>>>>>>>>>>>>>>>>>>>>>>>>>>>>>>\n"
          ]
        },
        {
          "output_type": "stream",
          "name": "stdout",
          "text": [
            "21:39:18   >>>>>>>>>>>>>>>>>>>>>>>>>>>>>>\n"
          ]
        },
        {
          "output_type": "stream",
          "name": "stderr",
          "text": [
            "WARNING:torchdrug.core.logger:edge log likelihood: -0.97188\n"
          ]
        },
        {
          "output_type": "stream",
          "name": "stdout",
          "text": [
            "21:39:18   edge log likelihood: -0.97188\n"
          ]
        },
        {
          "output_type": "stream",
          "name": "stderr",
          "text": [
            "WARNING:torchdrug.core.logger:edge mask / graph: 430.8\n"
          ]
        },
        {
          "output_type": "stream",
          "name": "stdout",
          "text": [
            "21:39:18   edge mask / graph: 430.8\n"
          ]
        },
        {
          "output_type": "stream",
          "name": "stderr",
          "text": [
            "WARNING:torchdrug.core.logger:node log likelihood: -2.30385\n"
          ]
        },
        {
          "output_type": "stream",
          "name": "stdout",
          "text": [
            "21:39:18   node log likelihood: -2.30385\n"
          ]
        },
        {
          "output_type": "stream",
          "name": "stderr",
          "text": [
            "WARNING:torchdrug.core.logger:node mask / graph: 42.4\n"
          ]
        },
        {
          "output_type": "stream",
          "name": "stdout",
          "text": [
            "21:39:18   node mask / graph: 42.4\n"
          ]
        },
        {
          "output_type": "stream",
          "name": "stderr",
          "text": [
            "WARNING:torchdrug.core.logger:>>>>>>>>>>>>>>>>>>>>>>>>>>>>>>\n"
          ]
        },
        {
          "output_type": "stream",
          "name": "stdout",
          "text": [
            "21:39:22   >>>>>>>>>>>>>>>>>>>>>>>>>>>>>>\n"
          ]
        },
        {
          "output_type": "stream",
          "name": "stderr",
          "text": [
            "WARNING:torchdrug.core.logger:edge log likelihood: -1.04297\n"
          ]
        },
        {
          "output_type": "stream",
          "name": "stdout",
          "text": [
            "21:39:22   edge log likelihood: -1.04297\n"
          ]
        },
        {
          "output_type": "stream",
          "name": "stderr",
          "text": [
            "WARNING:torchdrug.core.logger:edge mask / graph: 384\n"
          ]
        },
        {
          "output_type": "stream",
          "name": "stdout",
          "text": [
            "21:39:22   edge mask / graph: 384\n"
          ]
        },
        {
          "output_type": "stream",
          "name": "stderr",
          "text": [
            "WARNING:torchdrug.core.logger:node log likelihood: -3.67686\n"
          ]
        },
        {
          "output_type": "stream",
          "name": "stdout",
          "text": [
            "21:39:22   node log likelihood: -3.67686\n"
          ]
        },
        {
          "output_type": "stream",
          "name": "stderr",
          "text": [
            "WARNING:torchdrug.core.logger:node mask / graph: 38.5\n"
          ]
        },
        {
          "output_type": "stream",
          "name": "stdout",
          "text": [
            "21:39:22   node mask / graph: 38.5\n"
          ]
        },
        {
          "output_type": "stream",
          "name": "stderr",
          "text": [
            "WARNING:torchdrug.core.logger:>>>>>>>>>>>>>>>>>>>>>>>>>>>>>>\n"
          ]
        },
        {
          "output_type": "stream",
          "name": "stdout",
          "text": [
            "21:39:25   >>>>>>>>>>>>>>>>>>>>>>>>>>>>>>\n"
          ]
        },
        {
          "output_type": "stream",
          "name": "stderr",
          "text": [
            "WARNING:torchdrug.core.logger:edge log likelihood: -0.988293\n"
          ]
        },
        {
          "output_type": "stream",
          "name": "stdout",
          "text": [
            "21:39:25   edge log likelihood: -0.988293\n"
          ]
        },
        {
          "output_type": "stream",
          "name": "stderr",
          "text": [
            "WARNING:torchdrug.core.logger:edge mask / graph: 404.4\n"
          ]
        },
        {
          "output_type": "stream",
          "name": "stdout",
          "text": [
            "21:39:25   edge mask / graph: 404.4\n"
          ]
        },
        {
          "output_type": "stream",
          "name": "stderr",
          "text": [
            "WARNING:torchdrug.core.logger:node log likelihood: -1.95736\n"
          ]
        },
        {
          "output_type": "stream",
          "name": "stdout",
          "text": [
            "21:39:25   node log likelihood: -1.95736\n"
          ]
        },
        {
          "output_type": "stream",
          "name": "stderr",
          "text": [
            "WARNING:torchdrug.core.logger:node mask / graph: 40.2\n"
          ]
        },
        {
          "output_type": "stream",
          "name": "stdout",
          "text": [
            "21:39:25   node mask / graph: 40.2\n"
          ]
        },
        {
          "output_type": "stream",
          "name": "stderr",
          "text": [
            "WARNING:torchdrug.core.logger:>>>>>>>>>>>>>>>>>>>>>>>>>>>>>>\n"
          ]
        },
        {
          "output_type": "stream",
          "name": "stdout",
          "text": [
            "21:39:28   >>>>>>>>>>>>>>>>>>>>>>>>>>>>>>\n"
          ]
        },
        {
          "output_type": "stream",
          "name": "stderr",
          "text": [
            "WARNING:torchdrug.core.logger:edge log likelihood: -1.03702\n"
          ]
        },
        {
          "output_type": "stream",
          "name": "stdout",
          "text": [
            "21:39:28   edge log likelihood: -1.03702\n"
          ]
        },
        {
          "output_type": "stream",
          "name": "stderr",
          "text": [
            "WARNING:torchdrug.core.logger:edge mask / graph: 410.4\n"
          ]
        },
        {
          "output_type": "stream",
          "name": "stdout",
          "text": [
            "21:39:28   edge mask / graph: 410.4\n"
          ]
        },
        {
          "output_type": "stream",
          "name": "stderr",
          "text": [
            "WARNING:torchdrug.core.logger:node log likelihood: -1.56254\n"
          ]
        },
        {
          "output_type": "stream",
          "name": "stdout",
          "text": [
            "21:39:28   node log likelihood: -1.56254\n"
          ]
        },
        {
          "output_type": "stream",
          "name": "stderr",
          "text": [
            "WARNING:torchdrug.core.logger:node mask / graph: 40.7\n"
          ]
        },
        {
          "output_type": "stream",
          "name": "stdout",
          "text": [
            "21:39:28   node mask / graph: 40.7\n"
          ]
        },
        {
          "output_type": "stream",
          "name": "stderr",
          "text": [
            "WARNING:torchdrug.core.logger:>>>>>>>>>>>>>>>>>>>>>>>>>>>>>>\n"
          ]
        },
        {
          "output_type": "stream",
          "name": "stdout",
          "text": [
            "21:39:32   >>>>>>>>>>>>>>>>>>>>>>>>>>>>>>\n"
          ]
        },
        {
          "output_type": "stream",
          "name": "stderr",
          "text": [
            "WARNING:torchdrug.core.logger:edge log likelihood: -1.01169\n"
          ]
        },
        {
          "output_type": "stream",
          "name": "stdout",
          "text": [
            "21:39:32   edge log likelihood: -1.01169\n"
          ]
        },
        {
          "output_type": "stream",
          "name": "stderr",
          "text": [
            "WARNING:torchdrug.core.logger:edge mask / graph: 381.6\n"
          ]
        },
        {
          "output_type": "stream",
          "name": "stdout",
          "text": [
            "21:39:32   edge mask / graph: 381.6\n"
          ]
        },
        {
          "output_type": "stream",
          "name": "stderr",
          "text": [
            "WARNING:torchdrug.core.logger:node log likelihood: -1.44796\n"
          ]
        },
        {
          "output_type": "stream",
          "name": "stdout",
          "text": [
            "21:39:32   node log likelihood: -1.44796\n"
          ]
        },
        {
          "output_type": "stream",
          "name": "stderr",
          "text": [
            "WARNING:torchdrug.core.logger:node mask / graph: 38.3\n"
          ]
        },
        {
          "output_type": "stream",
          "name": "stdout",
          "text": [
            "21:39:32   node mask / graph: 38.3\n"
          ]
        },
        {
          "output_type": "stream",
          "name": "stderr",
          "text": [
            "WARNING:torchdrug.core.logger:>>>>>>>>>>>>>>>>>>>>>>>>>>>>>>\n"
          ]
        },
        {
          "output_type": "stream",
          "name": "stdout",
          "text": [
            "21:39:35   >>>>>>>>>>>>>>>>>>>>>>>>>>>>>>\n"
          ]
        },
        {
          "output_type": "stream",
          "name": "stderr",
          "text": [
            "WARNING:torchdrug.core.logger:edge log likelihood: -0.977617\n"
          ]
        },
        {
          "output_type": "stream",
          "name": "stdout",
          "text": [
            "21:39:35   edge log likelihood: -0.977617\n"
          ]
        },
        {
          "output_type": "stream",
          "name": "stderr",
          "text": [
            "WARNING:torchdrug.core.logger:edge mask / graph: 414\n"
          ]
        },
        {
          "output_type": "stream",
          "name": "stdout",
          "text": [
            "21:39:35   edge mask / graph: 414\n"
          ]
        },
        {
          "output_type": "stream",
          "name": "stderr",
          "text": [
            "WARNING:torchdrug.core.logger:node log likelihood: -1.58015\n"
          ]
        },
        {
          "output_type": "stream",
          "name": "stdout",
          "text": [
            "21:39:35   node log likelihood: -1.58015\n"
          ]
        },
        {
          "output_type": "stream",
          "name": "stderr",
          "text": [
            "WARNING:torchdrug.core.logger:node mask / graph: 41\n"
          ]
        },
        {
          "output_type": "stream",
          "name": "stdout",
          "text": [
            "21:39:35   node mask / graph: 41\n"
          ]
        },
        {
          "output_type": "stream",
          "name": "stderr",
          "text": [
            "WARNING:torchdrug.core.logger:>>>>>>>>>>>>>>>>>>>>>>>>>>>>>>\n"
          ]
        },
        {
          "output_type": "stream",
          "name": "stdout",
          "text": [
            "21:39:38   >>>>>>>>>>>>>>>>>>>>>>>>>>>>>>\n"
          ]
        },
        {
          "output_type": "stream",
          "name": "stderr",
          "text": [
            "WARNING:torchdrug.core.logger:edge log likelihood: -1.00283\n"
          ]
        },
        {
          "output_type": "stream",
          "name": "stdout",
          "text": [
            "21:39:38   edge log likelihood: -1.00283\n"
          ]
        },
        {
          "output_type": "stream",
          "name": "stderr",
          "text": [
            "WARNING:torchdrug.core.logger:edge mask / graph: 390\n"
          ]
        },
        {
          "output_type": "stream",
          "name": "stdout",
          "text": [
            "21:39:38   edge mask / graph: 390\n"
          ]
        },
        {
          "output_type": "stream",
          "name": "stderr",
          "text": [
            "WARNING:torchdrug.core.logger:node log likelihood: -1.47991\n"
          ]
        },
        {
          "output_type": "stream",
          "name": "stdout",
          "text": [
            "21:39:38   node log likelihood: -1.47991\n"
          ]
        },
        {
          "output_type": "stream",
          "name": "stderr",
          "text": [
            "WARNING:torchdrug.core.logger:node mask / graph: 39\n"
          ]
        },
        {
          "output_type": "stream",
          "name": "stdout",
          "text": [
            "21:39:38   node mask / graph: 39\n"
          ]
        },
        {
          "output_type": "stream",
          "name": "stderr",
          "text": [
            "WARNING:torchdrug.core.logger:>>>>>>>>>>>>>>>>>>>>>>>>>>>>>>\n"
          ]
        },
        {
          "output_type": "stream",
          "name": "stdout",
          "text": [
            "21:39:42   >>>>>>>>>>>>>>>>>>>>>>>>>>>>>>\n"
          ]
        },
        {
          "output_type": "stream",
          "name": "stderr",
          "text": [
            "WARNING:torchdrug.core.logger:edge log likelihood: -0.961776\n"
          ]
        },
        {
          "output_type": "stream",
          "name": "stdout",
          "text": [
            "21:39:42   edge log likelihood: -0.961776\n"
          ]
        },
        {
          "output_type": "stream",
          "name": "stderr",
          "text": [
            "WARNING:torchdrug.core.logger:edge mask / graph: 388.8\n"
          ]
        },
        {
          "output_type": "stream",
          "name": "stdout",
          "text": [
            "21:39:42   edge mask / graph: 388.8\n"
          ]
        },
        {
          "output_type": "stream",
          "name": "stderr",
          "text": [
            "WARNING:torchdrug.core.logger:node log likelihood: -1.29888\n"
          ]
        },
        {
          "output_type": "stream",
          "name": "stdout",
          "text": [
            "21:39:42   node log likelihood: -1.29888\n"
          ]
        },
        {
          "output_type": "stream",
          "name": "stderr",
          "text": [
            "WARNING:torchdrug.core.logger:node mask / graph: 38.9\n"
          ]
        },
        {
          "output_type": "stream",
          "name": "stdout",
          "text": [
            "21:39:42   node mask / graph: 38.9\n"
          ]
        },
        {
          "output_type": "stream",
          "name": "stderr",
          "text": [
            "WARNING:torchdrug.core.logger:>>>>>>>>>>>>>>>>>>>>>>>>>>>>>>\n"
          ]
        },
        {
          "output_type": "stream",
          "name": "stdout",
          "text": [
            "21:39:46   >>>>>>>>>>>>>>>>>>>>>>>>>>>>>>\n"
          ]
        },
        {
          "output_type": "stream",
          "name": "stderr",
          "text": [
            "WARNING:torchdrug.core.logger:edge log likelihood: -1.03242\n"
          ]
        },
        {
          "output_type": "stream",
          "name": "stdout",
          "text": [
            "21:39:46   edge log likelihood: -1.03242\n"
          ]
        },
        {
          "output_type": "stream",
          "name": "stderr",
          "text": [
            "WARNING:torchdrug.core.logger:edge mask / graph: 315.6\n"
          ]
        },
        {
          "output_type": "stream",
          "name": "stdout",
          "text": [
            "21:39:46   edge mask / graph: 315.6\n"
          ]
        },
        {
          "output_type": "stream",
          "name": "stderr",
          "text": [
            "WARNING:torchdrug.core.logger:node log likelihood: -1.27143\n"
          ]
        },
        {
          "output_type": "stream",
          "name": "stdout",
          "text": [
            "21:39:46   node log likelihood: -1.27143\n"
          ]
        },
        {
          "output_type": "stream",
          "name": "stderr",
          "text": [
            "WARNING:torchdrug.core.logger:node mask / graph: 32.8\n"
          ]
        },
        {
          "output_type": "stream",
          "name": "stdout",
          "text": [
            "21:39:46   node mask / graph: 32.8\n"
          ]
        },
        {
          "output_type": "stream",
          "name": "stderr",
          "text": [
            "WARNING:torchdrug.core.logger:>>>>>>>>>>>>>>>>>>>>>>>>>>>>>>\n"
          ]
        },
        {
          "output_type": "stream",
          "name": "stdout",
          "text": [
            "21:39:49   >>>>>>>>>>>>>>>>>>>>>>>>>>>>>>\n"
          ]
        },
        {
          "output_type": "stream",
          "name": "stderr",
          "text": [
            "WARNING:torchdrug.core.logger:edge log likelihood: -0.998426\n"
          ]
        },
        {
          "output_type": "stream",
          "name": "stdout",
          "text": [
            "21:39:49   edge log likelihood: -0.998426\n"
          ]
        },
        {
          "output_type": "stream",
          "name": "stderr",
          "text": [
            "WARNING:torchdrug.core.logger:edge mask / graph: 412.8\n"
          ]
        },
        {
          "output_type": "stream",
          "name": "stdout",
          "text": [
            "21:39:49   edge mask / graph: 412.8\n"
          ]
        },
        {
          "output_type": "stream",
          "name": "stderr",
          "text": [
            "WARNING:torchdrug.core.logger:node log likelihood: -1.35803\n"
          ]
        },
        {
          "output_type": "stream",
          "name": "stdout",
          "text": [
            "21:39:49   node log likelihood: -1.35803\n"
          ]
        },
        {
          "output_type": "stream",
          "name": "stderr",
          "text": [
            "WARNING:torchdrug.core.logger:node mask / graph: 40.9\n"
          ]
        },
        {
          "output_type": "stream",
          "name": "stdout",
          "text": [
            "21:39:49   node mask / graph: 40.9\n"
          ]
        },
        {
          "output_type": "stream",
          "name": "stderr",
          "text": [
            "WARNING:torchdrug.core.logger:>>>>>>>>>>>>>>>>>>>>>>>>>>>>>>\n"
          ]
        },
        {
          "output_type": "stream",
          "name": "stdout",
          "text": [
            "21:39:52   >>>>>>>>>>>>>>>>>>>>>>>>>>>>>>\n"
          ]
        },
        {
          "output_type": "stream",
          "name": "stderr",
          "text": [
            "WARNING:torchdrug.core.logger:edge log likelihood: -0.989412\n"
          ]
        },
        {
          "output_type": "stream",
          "name": "stdout",
          "text": [
            "21:39:52   edge log likelihood: -0.989412\n"
          ]
        },
        {
          "output_type": "stream",
          "name": "stderr",
          "text": [
            "WARNING:torchdrug.core.logger:edge mask / graph: 337.2\n"
          ]
        },
        {
          "output_type": "stream",
          "name": "stdout",
          "text": [
            "21:39:52   edge mask / graph: 337.2\n"
          ]
        },
        {
          "output_type": "stream",
          "name": "stderr",
          "text": [
            "WARNING:torchdrug.core.logger:node log likelihood: -1.87762\n"
          ]
        },
        {
          "output_type": "stream",
          "name": "stdout",
          "text": [
            "21:39:52   node log likelihood: -1.87762\n"
          ]
        },
        {
          "output_type": "stream",
          "name": "stderr",
          "text": [
            "WARNING:torchdrug.core.logger:node mask / graph: 34.6\n"
          ]
        },
        {
          "output_type": "stream",
          "name": "stdout",
          "text": [
            "21:39:52   node mask / graph: 34.6\n"
          ]
        },
        {
          "output_type": "stream",
          "name": "stderr",
          "text": [
            "WARNING:torchdrug.core.logger:>>>>>>>>>>>>>>>>>>>>>>>>>>>>>>\n"
          ]
        },
        {
          "output_type": "stream",
          "name": "stdout",
          "text": [
            "21:39:55   >>>>>>>>>>>>>>>>>>>>>>>>>>>>>>\n"
          ]
        },
        {
          "output_type": "stream",
          "name": "stderr",
          "text": [
            "WARNING:torchdrug.core.logger:edge log likelihood: -0.995213\n"
          ]
        },
        {
          "output_type": "stream",
          "name": "stdout",
          "text": [
            "21:39:55   edge log likelihood: -0.995213\n"
          ]
        },
        {
          "output_type": "stream",
          "name": "stderr",
          "text": [
            "WARNING:torchdrug.core.logger:edge mask / graph: 375.6\n"
          ]
        },
        {
          "output_type": "stream",
          "name": "stdout",
          "text": [
            "21:39:55   edge mask / graph: 375.6\n"
          ]
        },
        {
          "output_type": "stream",
          "name": "stderr",
          "text": [
            "WARNING:torchdrug.core.logger:node log likelihood: -1.59496\n"
          ]
        },
        {
          "output_type": "stream",
          "name": "stdout",
          "text": [
            "21:39:56   node log likelihood: -1.59496\n"
          ]
        },
        {
          "output_type": "stream",
          "name": "stderr",
          "text": [
            "WARNING:torchdrug.core.logger:node mask / graph: 37.8\n"
          ]
        },
        {
          "output_type": "stream",
          "name": "stdout",
          "text": [
            "21:39:56   node mask / graph: 37.8\n"
          ]
        },
        {
          "output_type": "stream",
          "name": "stderr",
          "text": [
            "WARNING:torchdrug.core.logger:>>>>>>>>>>>>>>>>>>>>>>>>>>>>>>\n"
          ]
        },
        {
          "output_type": "stream",
          "name": "stdout",
          "text": [
            "21:39:59   >>>>>>>>>>>>>>>>>>>>>>>>>>>>>>\n"
          ]
        },
        {
          "output_type": "stream",
          "name": "stderr",
          "text": [
            "WARNING:torchdrug.core.logger:edge log likelihood: -1.03303\n"
          ]
        },
        {
          "output_type": "stream",
          "name": "stdout",
          "text": [
            "21:39:59   edge log likelihood: -1.03303\n"
          ]
        },
        {
          "output_type": "stream",
          "name": "stderr",
          "text": [
            "WARNING:torchdrug.core.logger:edge mask / graph: 387.6\n"
          ]
        },
        {
          "output_type": "stream",
          "name": "stdout",
          "text": [
            "21:39:59   edge mask / graph: 387.6\n"
          ]
        },
        {
          "output_type": "stream",
          "name": "stderr",
          "text": [
            "WARNING:torchdrug.core.logger:node log likelihood: -1.21377\n"
          ]
        },
        {
          "output_type": "stream",
          "name": "stdout",
          "text": [
            "21:39:59   node log likelihood: -1.21377\n"
          ]
        },
        {
          "output_type": "stream",
          "name": "stderr",
          "text": [
            "WARNING:torchdrug.core.logger:node mask / graph: 38.8\n"
          ]
        },
        {
          "output_type": "stream",
          "name": "stdout",
          "text": [
            "21:39:59   node mask / graph: 38.8\n"
          ]
        },
        {
          "output_type": "stream",
          "name": "stderr",
          "text": [
            "WARNING:torchdrug.core.logger:>>>>>>>>>>>>>>>>>>>>>>>>>>>>>>\n"
          ]
        },
        {
          "output_type": "stream",
          "name": "stdout",
          "text": [
            "21:40:02   >>>>>>>>>>>>>>>>>>>>>>>>>>>>>>\n"
          ]
        },
        {
          "output_type": "stream",
          "name": "stderr",
          "text": [
            "WARNING:torchdrug.core.logger:edge log likelihood: -1.00467\n"
          ]
        },
        {
          "output_type": "stream",
          "name": "stdout",
          "text": [
            "21:40:02   edge log likelihood: -1.00467\n"
          ]
        },
        {
          "output_type": "stream",
          "name": "stderr",
          "text": [
            "WARNING:torchdrug.core.logger:edge mask / graph: 336\n"
          ]
        },
        {
          "output_type": "stream",
          "name": "stdout",
          "text": [
            "21:40:02   edge mask / graph: 336\n"
          ]
        },
        {
          "output_type": "stream",
          "name": "stderr",
          "text": [
            "WARNING:torchdrug.core.logger:node log likelihood: -1.18588\n"
          ]
        },
        {
          "output_type": "stream",
          "name": "stdout",
          "text": [
            "21:40:02   node log likelihood: -1.18588\n"
          ]
        },
        {
          "output_type": "stream",
          "name": "stderr",
          "text": [
            "WARNING:torchdrug.core.logger:node mask / graph: 34.5\n"
          ]
        },
        {
          "output_type": "stream",
          "name": "stdout",
          "text": [
            "21:40:02   node mask / graph: 34.5\n"
          ]
        },
        {
          "output_type": "stream",
          "name": "stderr",
          "text": [
            "WARNING:torchdrug.core.logger:>>>>>>>>>>>>>>>>>>>>>>>>>>>>>>\n"
          ]
        },
        {
          "output_type": "stream",
          "name": "stdout",
          "text": [
            "21:40:05   >>>>>>>>>>>>>>>>>>>>>>>>>>>>>>\n"
          ]
        },
        {
          "output_type": "stream",
          "name": "stderr",
          "text": [
            "WARNING:torchdrug.core.logger:edge log likelihood: -0.979075\n"
          ]
        },
        {
          "output_type": "stream",
          "name": "stdout",
          "text": [
            "21:40:05   edge log likelihood: -0.979075\n"
          ]
        },
        {
          "output_type": "stream",
          "name": "stderr",
          "text": [
            "WARNING:torchdrug.core.logger:edge mask / graph: 396\n"
          ]
        },
        {
          "output_type": "stream",
          "name": "stdout",
          "text": [
            "21:40:05   edge mask / graph: 396\n"
          ]
        },
        {
          "output_type": "stream",
          "name": "stderr",
          "text": [
            "WARNING:torchdrug.core.logger:node log likelihood: -1.18331\n"
          ]
        },
        {
          "output_type": "stream",
          "name": "stdout",
          "text": [
            "21:40:05   node log likelihood: -1.18331\n"
          ]
        },
        {
          "output_type": "stream",
          "name": "stderr",
          "text": [
            "WARNING:torchdrug.core.logger:node mask / graph: 39.5\n"
          ]
        },
        {
          "output_type": "stream",
          "name": "stdout",
          "text": [
            "21:40:05   node mask / graph: 39.5\n"
          ]
        },
        {
          "output_type": "stream",
          "name": "stderr",
          "text": [
            "WARNING:torchdrug.core.logger:>>>>>>>>>>>>>>>>>>>>>>>>>>>>>>\n"
          ]
        },
        {
          "output_type": "stream",
          "name": "stdout",
          "text": [
            "21:40:09   >>>>>>>>>>>>>>>>>>>>>>>>>>>>>>\n"
          ]
        },
        {
          "output_type": "stream",
          "name": "stderr",
          "text": [
            "WARNING:torchdrug.core.logger:edge log likelihood: -0.976816\n"
          ]
        },
        {
          "output_type": "stream",
          "name": "stdout",
          "text": [
            "21:40:09   edge log likelihood: -0.976816\n"
          ]
        },
        {
          "output_type": "stream",
          "name": "stderr",
          "text": [
            "WARNING:torchdrug.core.logger:edge mask / graph: 421.2\n"
          ]
        },
        {
          "output_type": "stream",
          "name": "stdout",
          "text": [
            "21:40:09   edge mask / graph: 421.2\n"
          ]
        },
        {
          "output_type": "stream",
          "name": "stderr",
          "text": [
            "WARNING:torchdrug.core.logger:node log likelihood: -1.97187\n"
          ]
        },
        {
          "output_type": "stream",
          "name": "stdout",
          "text": [
            "21:40:09   node log likelihood: -1.97187\n"
          ]
        },
        {
          "output_type": "stream",
          "name": "stderr",
          "text": [
            "WARNING:torchdrug.core.logger:node mask / graph: 41.6\n"
          ]
        },
        {
          "output_type": "stream",
          "name": "stdout",
          "text": [
            "21:40:09   node mask / graph: 41.6\n"
          ]
        },
        {
          "output_type": "stream",
          "name": "stderr",
          "text": [
            "WARNING:torchdrug.core.logger:>>>>>>>>>>>>>>>>>>>>>>>>>>>>>>\n"
          ]
        },
        {
          "output_type": "stream",
          "name": "stdout",
          "text": [
            "21:40:12   >>>>>>>>>>>>>>>>>>>>>>>>>>>>>>\n"
          ]
        },
        {
          "output_type": "stream",
          "name": "stderr",
          "text": [
            "WARNING:torchdrug.core.logger:edge log likelihood: -0.995868\n"
          ]
        },
        {
          "output_type": "stream",
          "name": "stdout",
          "text": [
            "21:40:12   edge log likelihood: -0.995868\n"
          ]
        },
        {
          "output_type": "stream",
          "name": "stderr",
          "text": [
            "WARNING:torchdrug.core.logger:edge mask / graph: 390\n"
          ]
        },
        {
          "output_type": "stream",
          "name": "stdout",
          "text": [
            "21:40:12   edge mask / graph: 390\n"
          ]
        },
        {
          "output_type": "stream",
          "name": "stderr",
          "text": [
            "WARNING:torchdrug.core.logger:node log likelihood: -1.49183\n"
          ]
        },
        {
          "output_type": "stream",
          "name": "stdout",
          "text": [
            "21:40:12   node log likelihood: -1.49183\n"
          ]
        },
        {
          "output_type": "stream",
          "name": "stderr",
          "text": [
            "WARNING:torchdrug.core.logger:node mask / graph: 39\n"
          ]
        },
        {
          "output_type": "stream",
          "name": "stdout",
          "text": [
            "21:40:12   node mask / graph: 39\n"
          ]
        },
        {
          "output_type": "stream",
          "name": "stderr",
          "text": [
            "WARNING:torchdrug.core.logger:>>>>>>>>>>>>>>>>>>>>>>>>>>>>>>\n"
          ]
        },
        {
          "output_type": "stream",
          "name": "stdout",
          "text": [
            "21:40:16   >>>>>>>>>>>>>>>>>>>>>>>>>>>>>>\n"
          ]
        },
        {
          "output_type": "stream",
          "name": "stderr",
          "text": [
            "WARNING:torchdrug.core.logger:edge log likelihood: -1.03958\n"
          ]
        },
        {
          "output_type": "stream",
          "name": "stdout",
          "text": [
            "21:40:16   edge log likelihood: -1.03958\n"
          ]
        },
        {
          "output_type": "stream",
          "name": "stderr",
          "text": [
            "WARNING:torchdrug.core.logger:edge mask / graph: 362.4\n"
          ]
        },
        {
          "output_type": "stream",
          "name": "stdout",
          "text": [
            "21:40:16   edge mask / graph: 362.4\n"
          ]
        },
        {
          "output_type": "stream",
          "name": "stderr",
          "text": [
            "WARNING:torchdrug.core.logger:node log likelihood: -2.27607\n"
          ]
        },
        {
          "output_type": "stream",
          "name": "stdout",
          "text": [
            "21:40:16   node log likelihood: -2.27607\n"
          ]
        },
        {
          "output_type": "stream",
          "name": "stderr",
          "text": [
            "WARNING:torchdrug.core.logger:node mask / graph: 36.7\n"
          ]
        },
        {
          "output_type": "stream",
          "name": "stdout",
          "text": [
            "21:40:16   node mask / graph: 36.7\n"
          ]
        },
        {
          "output_type": "stream",
          "name": "stderr",
          "text": [
            "WARNING:torchdrug.core.logger:>>>>>>>>>>>>>>>>>>>>>>>>>>>>>>\n"
          ]
        },
        {
          "output_type": "stream",
          "name": "stdout",
          "text": [
            "21:40:19   >>>>>>>>>>>>>>>>>>>>>>>>>>>>>>\n"
          ]
        },
        {
          "output_type": "stream",
          "name": "stderr",
          "text": [
            "WARNING:torchdrug.core.logger:edge log likelihood: -1.01878\n"
          ]
        },
        {
          "output_type": "stream",
          "name": "stdout",
          "text": [
            "21:40:19   edge log likelihood: -1.01878\n"
          ]
        },
        {
          "output_type": "stream",
          "name": "stderr",
          "text": [
            "WARNING:torchdrug.core.logger:edge mask / graph: 374.4\n"
          ]
        },
        {
          "output_type": "stream",
          "name": "stdout",
          "text": [
            "21:40:19   edge mask / graph: 374.4\n"
          ]
        },
        {
          "output_type": "stream",
          "name": "stderr",
          "text": [
            "WARNING:torchdrug.core.logger:node log likelihood: -3.11801\n"
          ]
        },
        {
          "output_type": "stream",
          "name": "stdout",
          "text": [
            "21:40:19   node log likelihood: -3.11801\n"
          ]
        },
        {
          "output_type": "stream",
          "name": "stderr",
          "text": [
            "WARNING:torchdrug.core.logger:node mask / graph: 37.7\n"
          ]
        },
        {
          "output_type": "stream",
          "name": "stdout",
          "text": [
            "21:40:19   node mask / graph: 37.7\n"
          ]
        },
        {
          "output_type": "stream",
          "name": "stderr",
          "text": [
            "WARNING:torchdrug.core.logger:>>>>>>>>>>>>>>>>>>>>>>>>>>>>>>\n"
          ]
        },
        {
          "output_type": "stream",
          "name": "stdout",
          "text": [
            "21:40:23   >>>>>>>>>>>>>>>>>>>>>>>>>>>>>>\n"
          ]
        },
        {
          "output_type": "stream",
          "name": "stderr",
          "text": [
            "WARNING:torchdrug.core.logger:edge log likelihood: -0.979052\n"
          ]
        },
        {
          "output_type": "stream",
          "name": "stdout",
          "text": [
            "21:40:23   edge log likelihood: -0.979052\n"
          ]
        },
        {
          "output_type": "stream",
          "name": "stderr",
          "text": [
            "WARNING:torchdrug.core.logger:edge mask / graph: 367.2\n"
          ]
        },
        {
          "output_type": "stream",
          "name": "stdout",
          "text": [
            "21:40:23   edge mask / graph: 367.2\n"
          ]
        },
        {
          "output_type": "stream",
          "name": "stderr",
          "text": [
            "WARNING:torchdrug.core.logger:node log likelihood: -1.1904\n"
          ]
        },
        {
          "output_type": "stream",
          "name": "stdout",
          "text": [
            "21:40:23   node log likelihood: -1.1904\n"
          ]
        },
        {
          "output_type": "stream",
          "name": "stderr",
          "text": [
            "WARNING:torchdrug.core.logger:node mask / graph: 37.1\n"
          ]
        },
        {
          "output_type": "stream",
          "name": "stdout",
          "text": [
            "21:40:23   node mask / graph: 37.1\n"
          ]
        },
        {
          "output_type": "stream",
          "name": "stderr",
          "text": [
            "WARNING:torchdrug.core.logger:>>>>>>>>>>>>>>>>>>>>>>>>>>>>>>\n"
          ]
        },
        {
          "output_type": "stream",
          "name": "stdout",
          "text": [
            "21:40:26   >>>>>>>>>>>>>>>>>>>>>>>>>>>>>>\n"
          ]
        },
        {
          "output_type": "stream",
          "name": "stderr",
          "text": [
            "WARNING:torchdrug.core.logger:edge log likelihood: -0.984544\n"
          ]
        },
        {
          "output_type": "stream",
          "name": "stdout",
          "text": [
            "21:40:26   edge log likelihood: -0.984544\n"
          ]
        },
        {
          "output_type": "stream",
          "name": "stderr",
          "text": [
            "WARNING:torchdrug.core.logger:edge mask / graph: 363.6\n"
          ]
        },
        {
          "output_type": "stream",
          "name": "stdout",
          "text": [
            "21:40:26   edge mask / graph: 363.6\n"
          ]
        },
        {
          "output_type": "stream",
          "name": "stderr",
          "text": [
            "WARNING:torchdrug.core.logger:node log likelihood: -1.02954\n"
          ]
        },
        {
          "output_type": "stream",
          "name": "stdout",
          "text": [
            "21:40:26   node log likelihood: -1.02954\n"
          ]
        },
        {
          "output_type": "stream",
          "name": "stderr",
          "text": [
            "WARNING:torchdrug.core.logger:node mask / graph: 36.8\n"
          ]
        },
        {
          "output_type": "stream",
          "name": "stdout",
          "text": [
            "21:40:26   node mask / graph: 36.8\n"
          ]
        },
        {
          "output_type": "stream",
          "name": "stderr",
          "text": [
            "WARNING:torchdrug.core.logger:>>>>>>>>>>>>>>>>>>>>>>>>>>>>>>\n"
          ]
        },
        {
          "output_type": "stream",
          "name": "stdout",
          "text": [
            "21:40:29   >>>>>>>>>>>>>>>>>>>>>>>>>>>>>>\n"
          ]
        },
        {
          "output_type": "stream",
          "name": "stderr",
          "text": [
            "WARNING:torchdrug.core.logger:edge log likelihood: -0.996729\n"
          ]
        },
        {
          "output_type": "stream",
          "name": "stdout",
          "text": [
            "21:40:29   edge log likelihood: -0.996729\n"
          ]
        },
        {
          "output_type": "stream",
          "name": "stderr",
          "text": [
            "WARNING:torchdrug.core.logger:edge mask / graph: 384\n"
          ]
        },
        {
          "output_type": "stream",
          "name": "stdout",
          "text": [
            "21:40:29   edge mask / graph: 384\n"
          ]
        },
        {
          "output_type": "stream",
          "name": "stderr",
          "text": [
            "WARNING:torchdrug.core.logger:node log likelihood: -1.53857\n"
          ]
        },
        {
          "output_type": "stream",
          "name": "stdout",
          "text": [
            "21:40:29   node log likelihood: -1.53857\n"
          ]
        },
        {
          "output_type": "stream",
          "name": "stderr",
          "text": [
            "WARNING:torchdrug.core.logger:node mask / graph: 38.5\n"
          ]
        },
        {
          "output_type": "stream",
          "name": "stdout",
          "text": [
            "21:40:29   node mask / graph: 38.5\n"
          ]
        },
        {
          "output_type": "stream",
          "name": "stderr",
          "text": [
            "WARNING:torchdrug.core.logger:>>>>>>>>>>>>>>>>>>>>>>>>>>>>>>\n"
          ]
        },
        {
          "output_type": "stream",
          "name": "stdout",
          "text": [
            "21:40:33   >>>>>>>>>>>>>>>>>>>>>>>>>>>>>>\n"
          ]
        },
        {
          "output_type": "stream",
          "name": "stderr",
          "text": [
            "WARNING:torchdrug.core.logger:edge log likelihood: -0.991257\n"
          ]
        },
        {
          "output_type": "stream",
          "name": "stdout",
          "text": [
            "21:40:33   edge log likelihood: -0.991257\n"
          ]
        },
        {
          "output_type": "stream",
          "name": "stderr",
          "text": [
            "WARNING:torchdrug.core.logger:edge mask / graph: 441.6\n"
          ]
        },
        {
          "output_type": "stream",
          "name": "stdout",
          "text": [
            "21:40:33   edge mask / graph: 441.6\n"
          ]
        },
        {
          "output_type": "stream",
          "name": "stderr",
          "text": [
            "WARNING:torchdrug.core.logger:node log likelihood: -1.34245\n"
          ]
        },
        {
          "output_type": "stream",
          "name": "stdout",
          "text": [
            "21:40:33   node log likelihood: -1.34245\n"
          ]
        },
        {
          "output_type": "stream",
          "name": "stderr",
          "text": [
            "WARNING:torchdrug.core.logger:node mask / graph: 43.3\n"
          ]
        },
        {
          "output_type": "stream",
          "name": "stdout",
          "text": [
            "21:40:33   node mask / graph: 43.3\n"
          ]
        },
        {
          "output_type": "stream",
          "name": "stderr",
          "text": [
            "WARNING:torchdrug.core.logger:>>>>>>>>>>>>>>>>>>>>>>>>>>>>>>\n"
          ]
        },
        {
          "output_type": "stream",
          "name": "stdout",
          "text": [
            "21:40:36   >>>>>>>>>>>>>>>>>>>>>>>>>>>>>>\n"
          ]
        },
        {
          "output_type": "stream",
          "name": "stderr",
          "text": [
            "WARNING:torchdrug.core.logger:edge log likelihood: -0.990499\n"
          ]
        },
        {
          "output_type": "stream",
          "name": "stdout",
          "text": [
            "21:40:36   edge log likelihood: -0.990499\n"
          ]
        },
        {
          "output_type": "stream",
          "name": "stderr",
          "text": [
            "WARNING:torchdrug.core.logger:edge mask / graph: 435.6\n"
          ]
        },
        {
          "output_type": "stream",
          "name": "stdout",
          "text": [
            "21:40:36   edge mask / graph: 435.6\n"
          ]
        },
        {
          "output_type": "stream",
          "name": "stderr",
          "text": [
            "WARNING:torchdrug.core.logger:node log likelihood: -1.60184\n"
          ]
        },
        {
          "output_type": "stream",
          "name": "stdout",
          "text": [
            "21:40:36   node log likelihood: -1.60184\n"
          ]
        },
        {
          "output_type": "stream",
          "name": "stderr",
          "text": [
            "WARNING:torchdrug.core.logger:node mask / graph: 42.8\n"
          ]
        },
        {
          "output_type": "stream",
          "name": "stdout",
          "text": [
            "21:40:36   node mask / graph: 42.8\n"
          ]
        },
        {
          "output_type": "stream",
          "name": "stderr",
          "text": [
            "WARNING:torchdrug.core.logger:>>>>>>>>>>>>>>>>>>>>>>>>>>>>>>\n"
          ]
        },
        {
          "output_type": "stream",
          "name": "stdout",
          "text": [
            "21:40:40   >>>>>>>>>>>>>>>>>>>>>>>>>>>>>>\n"
          ]
        },
        {
          "output_type": "stream",
          "name": "stderr",
          "text": [
            "WARNING:torchdrug.core.logger:edge log likelihood: -0.998133\n"
          ]
        },
        {
          "output_type": "stream",
          "name": "stdout",
          "text": [
            "21:40:40   edge log likelihood: -0.998133\n"
          ]
        },
        {
          "output_type": "stream",
          "name": "stderr",
          "text": [
            "WARNING:torchdrug.core.logger:edge mask / graph: 496.8\n"
          ]
        },
        {
          "output_type": "stream",
          "name": "stdout",
          "text": [
            "21:40:40   edge mask / graph: 496.8\n"
          ]
        },
        {
          "output_type": "stream",
          "name": "stderr",
          "text": [
            "WARNING:torchdrug.core.logger:node log likelihood: -1.87487\n"
          ]
        },
        {
          "output_type": "stream",
          "name": "stdout",
          "text": [
            "21:40:40   node log likelihood: -1.87487\n"
          ]
        },
        {
          "output_type": "stream",
          "name": "stderr",
          "text": [
            "WARNING:torchdrug.core.logger:node mask / graph: 47.9\n"
          ]
        },
        {
          "output_type": "stream",
          "name": "stdout",
          "text": [
            "21:40:40   node mask / graph: 47.9\n"
          ]
        },
        {
          "output_type": "stream",
          "name": "stderr",
          "text": [
            "WARNING:torchdrug.core.logger:>>>>>>>>>>>>>>>>>>>>>>>>>>>>>>\n"
          ]
        },
        {
          "output_type": "stream",
          "name": "stdout",
          "text": [
            "21:40:43   >>>>>>>>>>>>>>>>>>>>>>>>>>>>>>\n"
          ]
        },
        {
          "output_type": "stream",
          "name": "stderr",
          "text": [
            "WARNING:torchdrug.core.logger:edge log likelihood: -1.00724\n"
          ]
        },
        {
          "output_type": "stream",
          "name": "stdout",
          "text": [
            "21:40:43   edge log likelihood: -1.00724\n"
          ]
        },
        {
          "output_type": "stream",
          "name": "stderr",
          "text": [
            "WARNING:torchdrug.core.logger:edge mask / graph: 376.8\n"
          ]
        },
        {
          "output_type": "stream",
          "name": "stdout",
          "text": [
            "21:40:43   edge mask / graph: 376.8\n"
          ]
        },
        {
          "output_type": "stream",
          "name": "stderr",
          "text": [
            "WARNING:torchdrug.core.logger:node log likelihood: -6.00838\n"
          ]
        },
        {
          "output_type": "stream",
          "name": "stdout",
          "text": [
            "21:40:43   node log likelihood: -6.00838\n"
          ]
        },
        {
          "output_type": "stream",
          "name": "stderr",
          "text": [
            "WARNING:torchdrug.core.logger:node mask / graph: 37.9\n"
          ]
        },
        {
          "output_type": "stream",
          "name": "stdout",
          "text": [
            "21:40:43   node mask / graph: 37.9\n"
          ]
        },
        {
          "output_type": "stream",
          "name": "stderr",
          "text": [
            "WARNING:torchdrug.core.logger:>>>>>>>>>>>>>>>>>>>>>>>>>>>>>>\n"
          ]
        },
        {
          "output_type": "stream",
          "name": "stdout",
          "text": [
            "21:40:47   >>>>>>>>>>>>>>>>>>>>>>>>>>>>>>\n"
          ]
        },
        {
          "output_type": "stream",
          "name": "stderr",
          "text": [
            "WARNING:torchdrug.core.logger:edge log likelihood: -0.982507\n"
          ]
        },
        {
          "output_type": "stream",
          "name": "stdout",
          "text": [
            "21:40:47   edge log likelihood: -0.982507\n"
          ]
        },
        {
          "output_type": "stream",
          "name": "stderr",
          "text": [
            "WARNING:torchdrug.core.logger:edge mask / graph: 412.8\n"
          ]
        },
        {
          "output_type": "stream",
          "name": "stdout",
          "text": [
            "21:40:47   edge mask / graph: 412.8\n"
          ]
        },
        {
          "output_type": "stream",
          "name": "stderr",
          "text": [
            "WARNING:torchdrug.core.logger:node log likelihood: -1.93459\n"
          ]
        },
        {
          "output_type": "stream",
          "name": "stdout",
          "text": [
            "21:40:47   node log likelihood: -1.93459\n"
          ]
        },
        {
          "output_type": "stream",
          "name": "stderr",
          "text": [
            "WARNING:torchdrug.core.logger:node mask / graph: 40.9\n"
          ]
        },
        {
          "output_type": "stream",
          "name": "stdout",
          "text": [
            "21:40:47   node mask / graph: 40.9\n"
          ]
        },
        {
          "output_type": "stream",
          "name": "stderr",
          "text": [
            "WARNING:torchdrug.core.logger:>>>>>>>>>>>>>>>>>>>>>>>>>>>>>>\n"
          ]
        },
        {
          "output_type": "stream",
          "name": "stdout",
          "text": [
            "21:40:50   >>>>>>>>>>>>>>>>>>>>>>>>>>>>>>\n"
          ]
        },
        {
          "output_type": "stream",
          "name": "stderr",
          "text": [
            "WARNING:torchdrug.core.logger:edge log likelihood: -0.974535\n"
          ]
        },
        {
          "output_type": "stream",
          "name": "stdout",
          "text": [
            "21:40:50   edge log likelihood: -0.974535\n"
          ]
        },
        {
          "output_type": "stream",
          "name": "stderr",
          "text": [
            "WARNING:torchdrug.core.logger:edge mask / graph: 352.8\n"
          ]
        },
        {
          "output_type": "stream",
          "name": "stdout",
          "text": [
            "21:40:50   edge mask / graph: 352.8\n"
          ]
        },
        {
          "output_type": "stream",
          "name": "stderr",
          "text": [
            "WARNING:torchdrug.core.logger:node log likelihood: -1.72888\n"
          ]
        },
        {
          "output_type": "stream",
          "name": "stdout",
          "text": [
            "21:40:50   node log likelihood: -1.72888\n"
          ]
        },
        {
          "output_type": "stream",
          "name": "stderr",
          "text": [
            "WARNING:torchdrug.core.logger:node mask / graph: 35.9\n"
          ]
        },
        {
          "output_type": "stream",
          "name": "stdout",
          "text": [
            "21:40:50   node mask / graph: 35.9\n"
          ]
        },
        {
          "output_type": "stream",
          "name": "stderr",
          "text": [
            "WARNING:torchdrug.core.logger:>>>>>>>>>>>>>>>>>>>>>>>>>>>>>>\n"
          ]
        },
        {
          "output_type": "stream",
          "name": "stdout",
          "text": [
            "21:40:53   >>>>>>>>>>>>>>>>>>>>>>>>>>>>>>\n"
          ]
        },
        {
          "output_type": "stream",
          "name": "stderr",
          "text": [
            "WARNING:torchdrug.core.logger:edge log likelihood: -0.972845\n"
          ]
        },
        {
          "output_type": "stream",
          "name": "stdout",
          "text": [
            "21:40:53   edge log likelihood: -0.972845\n"
          ]
        },
        {
          "output_type": "stream",
          "name": "stderr",
          "text": [
            "WARNING:torchdrug.core.logger:edge mask / graph: 367.2\n"
          ]
        },
        {
          "output_type": "stream",
          "name": "stdout",
          "text": [
            "21:40:53   edge mask / graph: 367.2\n"
          ]
        },
        {
          "output_type": "stream",
          "name": "stderr",
          "text": [
            "WARNING:torchdrug.core.logger:node log likelihood: -1.10686\n"
          ]
        },
        {
          "output_type": "stream",
          "name": "stdout",
          "text": [
            "21:40:53   node log likelihood: -1.10686\n"
          ]
        },
        {
          "output_type": "stream",
          "name": "stderr",
          "text": [
            "WARNING:torchdrug.core.logger:node mask / graph: 37.1\n"
          ]
        },
        {
          "output_type": "stream",
          "name": "stdout",
          "text": [
            "21:40:53   node mask / graph: 37.1\n"
          ]
        },
        {
          "output_type": "stream",
          "name": "stderr",
          "text": [
            "WARNING:torchdrug.core.logger:>>>>>>>>>>>>>>>>>>>>>>>>>>>>>>\n"
          ]
        },
        {
          "output_type": "stream",
          "name": "stdout",
          "text": [
            "21:40:57   >>>>>>>>>>>>>>>>>>>>>>>>>>>>>>\n"
          ]
        },
        {
          "output_type": "stream",
          "name": "stderr",
          "text": [
            "WARNING:torchdrug.core.logger:edge log likelihood: -0.943237\n"
          ]
        },
        {
          "output_type": "stream",
          "name": "stdout",
          "text": [
            "21:40:57   edge log likelihood: -0.943237\n"
          ]
        },
        {
          "output_type": "stream",
          "name": "stderr",
          "text": [
            "WARNING:torchdrug.core.logger:edge mask / graph: 333.6\n"
          ]
        },
        {
          "output_type": "stream",
          "name": "stdout",
          "text": [
            "21:40:57   edge mask / graph: 333.6\n"
          ]
        },
        {
          "output_type": "stream",
          "name": "stderr",
          "text": [
            "WARNING:torchdrug.core.logger:node log likelihood: -1.32325\n"
          ]
        },
        {
          "output_type": "stream",
          "name": "stdout",
          "text": [
            "21:40:57   node log likelihood: -1.32325\n"
          ]
        },
        {
          "output_type": "stream",
          "name": "stderr",
          "text": [
            "WARNING:torchdrug.core.logger:node mask / graph: 34.3\n"
          ]
        },
        {
          "output_type": "stream",
          "name": "stdout",
          "text": [
            "21:40:57   node mask / graph: 34.3\n"
          ]
        },
        {
          "output_type": "stream",
          "name": "stderr",
          "text": [
            "WARNING:torchdrug.core.logger:>>>>>>>>>>>>>>>>>>>>>>>>>>>>>>\n"
          ]
        },
        {
          "output_type": "stream",
          "name": "stdout",
          "text": [
            "21:41:00   >>>>>>>>>>>>>>>>>>>>>>>>>>>>>>\n"
          ]
        },
        {
          "output_type": "stream",
          "name": "stderr",
          "text": [
            "WARNING:torchdrug.core.logger:edge log likelihood: -0.98758\n"
          ]
        },
        {
          "output_type": "stream",
          "name": "stdout",
          "text": [
            "21:41:00   edge log likelihood: -0.98758\n"
          ]
        },
        {
          "output_type": "stream",
          "name": "stderr",
          "text": [
            "WARNING:torchdrug.core.logger:edge mask / graph: 348\n"
          ]
        },
        {
          "output_type": "stream",
          "name": "stdout",
          "text": [
            "21:41:00   edge mask / graph: 348\n"
          ]
        },
        {
          "output_type": "stream",
          "name": "stderr",
          "text": [
            "WARNING:torchdrug.core.logger:node log likelihood: -1.99191\n"
          ]
        },
        {
          "output_type": "stream",
          "name": "stdout",
          "text": [
            "21:41:00   node log likelihood: -1.99191\n"
          ]
        },
        {
          "output_type": "stream",
          "name": "stderr",
          "text": [
            "WARNING:torchdrug.core.logger:node mask / graph: 35.5\n"
          ]
        },
        {
          "output_type": "stream",
          "name": "stdout",
          "text": [
            "21:41:00   node mask / graph: 35.5\n"
          ]
        },
        {
          "output_type": "stream",
          "name": "stderr",
          "text": [
            "WARNING:torchdrug.core.logger:>>>>>>>>>>>>>>>>>>>>>>>>>>>>>>\n"
          ]
        },
        {
          "output_type": "stream",
          "name": "stdout",
          "text": [
            "21:41:04   >>>>>>>>>>>>>>>>>>>>>>>>>>>>>>\n"
          ]
        },
        {
          "output_type": "stream",
          "name": "stderr",
          "text": [
            "WARNING:torchdrug.core.logger:edge log likelihood: -0.970863\n"
          ]
        },
        {
          "output_type": "stream",
          "name": "stdout",
          "text": [
            "21:41:04   edge log likelihood: -0.970863\n"
          ]
        },
        {
          "output_type": "stream",
          "name": "stderr",
          "text": [
            "WARNING:torchdrug.core.logger:edge mask / graph: 388.8\n"
          ]
        },
        {
          "output_type": "stream",
          "name": "stdout",
          "text": [
            "21:41:04   edge mask / graph: 388.8\n"
          ]
        },
        {
          "output_type": "stream",
          "name": "stderr",
          "text": [
            "WARNING:torchdrug.core.logger:node log likelihood: -2.80586\n"
          ]
        },
        {
          "output_type": "stream",
          "name": "stdout",
          "text": [
            "21:41:04   node log likelihood: -2.80586\n"
          ]
        },
        {
          "output_type": "stream",
          "name": "stderr",
          "text": [
            "WARNING:torchdrug.core.logger:node mask / graph: 38.9\n"
          ]
        },
        {
          "output_type": "stream",
          "name": "stdout",
          "text": [
            "21:41:04   node mask / graph: 38.9\n"
          ]
        },
        {
          "output_type": "stream",
          "name": "stderr",
          "text": [
            "WARNING:torchdrug.core.logger:>>>>>>>>>>>>>>>>>>>>>>>>>>>>>>\n"
          ]
        },
        {
          "output_type": "stream",
          "name": "stdout",
          "text": [
            "21:41:07   >>>>>>>>>>>>>>>>>>>>>>>>>>>>>>\n"
          ]
        },
        {
          "output_type": "stream",
          "name": "stderr",
          "text": [
            "WARNING:torchdrug.core.logger:edge log likelihood: -0.990035\n"
          ]
        },
        {
          "output_type": "stream",
          "name": "stdout",
          "text": [
            "21:41:07   edge log likelihood: -0.990035\n"
          ]
        },
        {
          "output_type": "stream",
          "name": "stderr",
          "text": [
            "WARNING:torchdrug.core.logger:edge mask / graph: 432\n"
          ]
        },
        {
          "output_type": "stream",
          "name": "stdout",
          "text": [
            "21:41:07   edge mask / graph: 432\n"
          ]
        },
        {
          "output_type": "stream",
          "name": "stderr",
          "text": [
            "WARNING:torchdrug.core.logger:node log likelihood: -2.672\n"
          ]
        },
        {
          "output_type": "stream",
          "name": "stdout",
          "text": [
            "21:41:07   node log likelihood: -2.672\n"
          ]
        },
        {
          "output_type": "stream",
          "name": "stderr",
          "text": [
            "WARNING:torchdrug.core.logger:node mask / graph: 42.5\n"
          ]
        },
        {
          "output_type": "stream",
          "name": "stdout",
          "text": [
            "21:41:07   node mask / graph: 42.5\n"
          ]
        },
        {
          "output_type": "stream",
          "name": "stderr",
          "text": [
            "WARNING:torchdrug.core.logger:>>>>>>>>>>>>>>>>>>>>>>>>>>>>>>\n"
          ]
        },
        {
          "output_type": "stream",
          "name": "stdout",
          "text": [
            "21:41:11   >>>>>>>>>>>>>>>>>>>>>>>>>>>>>>\n"
          ]
        },
        {
          "output_type": "stream",
          "name": "stderr",
          "text": [
            "WARNING:torchdrug.core.logger:edge log likelihood: -0.97937\n"
          ]
        },
        {
          "output_type": "stream",
          "name": "stdout",
          "text": [
            "21:41:11   edge log likelihood: -0.97937\n"
          ]
        },
        {
          "output_type": "stream",
          "name": "stderr",
          "text": [
            "WARNING:torchdrug.core.logger:edge mask / graph: 430.8\n"
          ]
        },
        {
          "output_type": "stream",
          "name": "stdout",
          "text": [
            "21:41:11   edge mask / graph: 430.8\n"
          ]
        },
        {
          "output_type": "stream",
          "name": "stderr",
          "text": [
            "WARNING:torchdrug.core.logger:node log likelihood: -1.8882\n"
          ]
        },
        {
          "output_type": "stream",
          "name": "stdout",
          "text": [
            "21:41:11   node log likelihood: -1.8882\n"
          ]
        },
        {
          "output_type": "stream",
          "name": "stderr",
          "text": [
            "WARNING:torchdrug.core.logger:node mask / graph: 42.4\n"
          ]
        },
        {
          "output_type": "stream",
          "name": "stdout",
          "text": [
            "21:41:11   node mask / graph: 42.4\n"
          ]
        },
        {
          "output_type": "stream",
          "name": "stderr",
          "text": [
            "WARNING:torchdrug.core.logger:>>>>>>>>>>>>>>>>>>>>>>>>>>>>>>\n"
          ]
        },
        {
          "output_type": "stream",
          "name": "stdout",
          "text": [
            "21:41:14   >>>>>>>>>>>>>>>>>>>>>>>>>>>>>>\n"
          ]
        },
        {
          "output_type": "stream",
          "name": "stderr",
          "text": [
            "WARNING:torchdrug.core.logger:edge log likelihood: -1.00674\n"
          ]
        },
        {
          "output_type": "stream",
          "name": "stdout",
          "text": [
            "21:41:14   edge log likelihood: -1.00674\n"
          ]
        },
        {
          "output_type": "stream",
          "name": "stderr",
          "text": [
            "WARNING:torchdrug.core.logger:edge mask / graph: 441.6\n"
          ]
        },
        {
          "output_type": "stream",
          "name": "stdout",
          "text": [
            "21:41:14   edge mask / graph: 441.6\n"
          ]
        },
        {
          "output_type": "stream",
          "name": "stderr",
          "text": [
            "WARNING:torchdrug.core.logger:node log likelihood: -3.77147\n"
          ]
        },
        {
          "output_type": "stream",
          "name": "stdout",
          "text": [
            "21:41:14   node log likelihood: -3.77147\n"
          ]
        },
        {
          "output_type": "stream",
          "name": "stderr",
          "text": [
            "WARNING:torchdrug.core.logger:node mask / graph: 43.3\n"
          ]
        },
        {
          "output_type": "stream",
          "name": "stdout",
          "text": [
            "21:41:14   node mask / graph: 43.3\n"
          ]
        },
        {
          "output_type": "stream",
          "name": "stderr",
          "text": [
            "WARNING:torchdrug.core.logger:>>>>>>>>>>>>>>>>>>>>>>>>>>>>>>\n"
          ]
        },
        {
          "output_type": "stream",
          "name": "stdout",
          "text": [
            "21:41:17   >>>>>>>>>>>>>>>>>>>>>>>>>>>>>>\n"
          ]
        },
        {
          "output_type": "stream",
          "name": "stderr",
          "text": [
            "WARNING:torchdrug.core.logger:edge log likelihood: -0.960001\n"
          ]
        },
        {
          "output_type": "stream",
          "name": "stdout",
          "text": [
            "21:41:17   edge log likelihood: -0.960001\n"
          ]
        },
        {
          "output_type": "stream",
          "name": "stderr",
          "text": [
            "WARNING:torchdrug.core.logger:edge mask / graph: 504\n"
          ]
        },
        {
          "output_type": "stream",
          "name": "stdout",
          "text": [
            "21:41:17   edge mask / graph: 504\n"
          ]
        },
        {
          "output_type": "stream",
          "name": "stderr",
          "text": [
            "WARNING:torchdrug.core.logger:node log likelihood: -4.71287\n"
          ]
        },
        {
          "output_type": "stream",
          "name": "stdout",
          "text": [
            "21:41:17   node log likelihood: -4.71287\n"
          ]
        },
        {
          "output_type": "stream",
          "name": "stderr",
          "text": [
            "WARNING:torchdrug.core.logger:node mask / graph: 48.5\n"
          ]
        },
        {
          "output_type": "stream",
          "name": "stdout",
          "text": [
            "21:41:17   node mask / graph: 48.5\n"
          ]
        },
        {
          "output_type": "stream",
          "name": "stderr",
          "text": [
            "WARNING:torchdrug.core.logger:>>>>>>>>>>>>>>>>>>>>>>>>>>>>>>\n"
          ]
        },
        {
          "output_type": "stream",
          "name": "stdout",
          "text": [
            "21:41:21   >>>>>>>>>>>>>>>>>>>>>>>>>>>>>>\n"
          ]
        },
        {
          "output_type": "stream",
          "name": "stderr",
          "text": [
            "WARNING:torchdrug.core.logger:edge log likelihood: -0.963662\n"
          ]
        },
        {
          "output_type": "stream",
          "name": "stdout",
          "text": [
            "21:41:21   edge log likelihood: -0.963662\n"
          ]
        },
        {
          "output_type": "stream",
          "name": "stderr",
          "text": [
            "WARNING:torchdrug.core.logger:edge mask / graph: 370.8\n"
          ]
        },
        {
          "output_type": "stream",
          "name": "stdout",
          "text": [
            "21:41:21   edge mask / graph: 370.8\n"
          ]
        },
        {
          "output_type": "stream",
          "name": "stderr",
          "text": [
            "WARNING:torchdrug.core.logger:node log likelihood: -2.24176\n"
          ]
        },
        {
          "output_type": "stream",
          "name": "stdout",
          "text": [
            "21:41:21   node log likelihood: -2.24176\n"
          ]
        },
        {
          "output_type": "stream",
          "name": "stderr",
          "text": [
            "WARNING:torchdrug.core.logger:node mask / graph: 37.4\n"
          ]
        },
        {
          "output_type": "stream",
          "name": "stdout",
          "text": [
            "21:41:21   node mask / graph: 37.4\n"
          ]
        },
        {
          "output_type": "stream",
          "name": "stderr",
          "text": [
            "WARNING:torchdrug.core.logger:>>>>>>>>>>>>>>>>>>>>>>>>>>>>>>\n"
          ]
        },
        {
          "output_type": "stream",
          "name": "stdout",
          "text": [
            "21:41:24   >>>>>>>>>>>>>>>>>>>>>>>>>>>>>>\n"
          ]
        },
        {
          "output_type": "stream",
          "name": "stderr",
          "text": [
            "WARNING:torchdrug.core.logger:edge log likelihood: -0.998397\n"
          ]
        },
        {
          "output_type": "stream",
          "name": "stdout",
          "text": [
            "21:41:24   edge log likelihood: -0.998397\n"
          ]
        },
        {
          "output_type": "stream",
          "name": "stderr",
          "text": [
            "WARNING:torchdrug.core.logger:edge mask / graph: 392.4\n"
          ]
        },
        {
          "output_type": "stream",
          "name": "stdout",
          "text": [
            "21:41:24   edge mask / graph: 392.4\n"
          ]
        },
        {
          "output_type": "stream",
          "name": "stderr",
          "text": [
            "WARNING:torchdrug.core.logger:node log likelihood: -1.90074\n"
          ]
        },
        {
          "output_type": "stream",
          "name": "stdout",
          "text": [
            "21:41:24   node log likelihood: -1.90074\n"
          ]
        },
        {
          "output_type": "stream",
          "name": "stderr",
          "text": [
            "WARNING:torchdrug.core.logger:node mask / graph: 39.2\n"
          ]
        },
        {
          "output_type": "stream",
          "name": "stdout",
          "text": [
            "21:41:24   node mask / graph: 39.2\n"
          ]
        },
        {
          "output_type": "stream",
          "name": "stderr",
          "text": [
            "WARNING:torchdrug.core.meter:>>>>>>>>>>>>>>>>>>>>>>>>>>>>>>\n"
          ]
        },
        {
          "output_type": "stream",
          "name": "stdout",
          "text": [
            "21:41:25   >>>>>>>>>>>>>>>>>>>>>>>>>>>>>>\n"
          ]
        },
        {
          "output_type": "stream",
          "name": "stderr",
          "text": [
            "WARNING:torchdrug.core.meter:Epoch 3 end\n"
          ]
        },
        {
          "output_type": "stream",
          "name": "stdout",
          "text": [
            "21:41:25   Epoch 3 end\n"
          ]
        },
        {
          "output_type": "stream",
          "name": "stderr",
          "text": [
            "WARNING:torchdrug.core.meter:duration: 2.75 mins\n"
          ]
        },
        {
          "output_type": "stream",
          "name": "stdout",
          "text": [
            "21:41:25   duration: 2.75 mins\n"
          ]
        },
        {
          "output_type": "stream",
          "name": "stderr",
          "text": [
            "WARNING:torchdrug.core.meter:speed: 2.92 batch / sec\n"
          ]
        },
        {
          "output_type": "stream",
          "name": "stdout",
          "text": [
            "21:41:25   speed: 2.92 batch / sec\n"
          ]
        },
        {
          "output_type": "stream",
          "name": "stderr",
          "text": [
            "WARNING:torchdrug.core.meter:ETA: 2.73 mins\n"
          ]
        },
        {
          "output_type": "stream",
          "name": "stdout",
          "text": [
            "21:41:25   ETA: 2.73 mins\n"
          ]
        },
        {
          "output_type": "stream",
          "name": "stderr",
          "text": [
            "WARNING:torchdrug.core.meter:max GPU memory: 3446.7 MiB\n"
          ]
        },
        {
          "output_type": "stream",
          "name": "stdout",
          "text": [
            "21:41:25   max GPU memory: 3446.7 MiB\n"
          ]
        },
        {
          "output_type": "stream",
          "name": "stderr",
          "text": [
            "WARNING:torchdrug.core.logger:------------------------------\n"
          ]
        },
        {
          "output_type": "stream",
          "name": "stdout",
          "text": [
            "21:41:25   ------------------------------\n"
          ]
        },
        {
          "output_type": "stream",
          "name": "stderr",
          "text": [
            "WARNING:torchdrug.core.logger:average edge log likelihood: -0.99464\n"
          ]
        },
        {
          "output_type": "stream",
          "name": "stdout",
          "text": [
            "21:41:25   average edge log likelihood: -0.99464\n"
          ]
        },
        {
          "output_type": "stream",
          "name": "stderr",
          "text": [
            "WARNING:torchdrug.core.logger:average edge mask / graph: 394.8\n"
          ]
        },
        {
          "output_type": "stream",
          "name": "stdout",
          "text": [
            "21:41:25   average edge mask / graph: 394.8\n"
          ]
        },
        {
          "output_type": "stream",
          "name": "stderr",
          "text": [
            "WARNING:torchdrug.core.logger:average node log likelihood: -3.01622\n"
          ]
        },
        {
          "output_type": "stream",
          "name": "stdout",
          "text": [
            "21:41:25   average node log likelihood: -3.01622\n"
          ]
        },
        {
          "output_type": "stream",
          "name": "stderr",
          "text": [
            "WARNING:torchdrug.core.logger:average node mask / graph: 39.4\n"
          ]
        },
        {
          "output_type": "stream",
          "name": "stdout",
          "text": [
            "21:41:25   average node mask / graph: 39.4\n"
          ]
        },
        {
          "output_type": "stream",
          "name": "stderr",
          "text": [
            "WARNING:torchdrug.core.meter:>>>>>>>>>>>>>>>>>>>>>>>>>>>>>>\n"
          ]
        },
        {
          "output_type": "stream",
          "name": "stdout",
          "text": [
            "21:41:25   >>>>>>>>>>>>>>>>>>>>>>>>>>>>>>\n"
          ]
        },
        {
          "output_type": "stream",
          "name": "stderr",
          "text": [
            "WARNING:torchdrug.core.meter:Epoch 4 begin\n"
          ]
        },
        {
          "output_type": "stream",
          "name": "stdout",
          "text": [
            "21:41:25   Epoch 4 begin\n"
          ]
        },
        {
          "output_type": "stream",
          "name": "stderr",
          "text": [
            "WARNING:torchdrug.core.logger:>>>>>>>>>>>>>>>>>>>>>>>>>>>>>>\n"
          ]
        },
        {
          "output_type": "stream",
          "name": "stdout",
          "text": [
            "21:41:28   >>>>>>>>>>>>>>>>>>>>>>>>>>>>>>\n"
          ]
        },
        {
          "output_type": "stream",
          "name": "stderr",
          "text": [
            "WARNING:torchdrug.core.logger:edge log likelihood: -0.997141\n"
          ]
        },
        {
          "output_type": "stream",
          "name": "stdout",
          "text": [
            "21:41:28   edge log likelihood: -0.997141\n"
          ]
        },
        {
          "output_type": "stream",
          "name": "stderr",
          "text": [
            "WARNING:torchdrug.core.logger:edge mask / graph: 421.2\n"
          ]
        },
        {
          "output_type": "stream",
          "name": "stdout",
          "text": [
            "21:41:28   edge mask / graph: 421.2\n"
          ]
        },
        {
          "output_type": "stream",
          "name": "stderr",
          "text": [
            "WARNING:torchdrug.core.logger:node log likelihood: -3.74055\n"
          ]
        },
        {
          "output_type": "stream",
          "name": "stdout",
          "text": [
            "21:41:28   node log likelihood: -3.74055\n"
          ]
        },
        {
          "output_type": "stream",
          "name": "stderr",
          "text": [
            "WARNING:torchdrug.core.logger:node mask / graph: 41.6\n"
          ]
        },
        {
          "output_type": "stream",
          "name": "stdout",
          "text": [
            "21:41:28   node mask / graph: 41.6\n"
          ]
        },
        {
          "output_type": "stream",
          "name": "stderr",
          "text": [
            "WARNING:torchdrug.core.logger:>>>>>>>>>>>>>>>>>>>>>>>>>>>>>>\n"
          ]
        },
        {
          "output_type": "stream",
          "name": "stdout",
          "text": [
            "21:41:31   >>>>>>>>>>>>>>>>>>>>>>>>>>>>>>\n"
          ]
        },
        {
          "output_type": "stream",
          "name": "stderr",
          "text": [
            "WARNING:torchdrug.core.logger:edge log likelihood: -0.985018\n"
          ]
        },
        {
          "output_type": "stream",
          "name": "stdout",
          "text": [
            "21:41:31   edge log likelihood: -0.985018\n"
          ]
        },
        {
          "output_type": "stream",
          "name": "stderr",
          "text": [
            "WARNING:torchdrug.core.logger:edge mask / graph: 321.6\n"
          ]
        },
        {
          "output_type": "stream",
          "name": "stdout",
          "text": [
            "21:41:31   edge mask / graph: 321.6\n"
          ]
        },
        {
          "output_type": "stream",
          "name": "stderr",
          "text": [
            "WARNING:torchdrug.core.logger:node log likelihood: -1.6174\n"
          ]
        },
        {
          "output_type": "stream",
          "name": "stdout",
          "text": [
            "21:41:31   node log likelihood: -1.6174\n"
          ]
        },
        {
          "output_type": "stream",
          "name": "stderr",
          "text": [
            "WARNING:torchdrug.core.logger:node mask / graph: 33.3\n"
          ]
        },
        {
          "output_type": "stream",
          "name": "stdout",
          "text": [
            "21:41:31   node mask / graph: 33.3\n"
          ]
        },
        {
          "output_type": "stream",
          "name": "stderr",
          "text": [
            "WARNING:torchdrug.core.logger:>>>>>>>>>>>>>>>>>>>>>>>>>>>>>>\n"
          ]
        },
        {
          "output_type": "stream",
          "name": "stdout",
          "text": [
            "21:41:35   >>>>>>>>>>>>>>>>>>>>>>>>>>>>>>\n"
          ]
        },
        {
          "output_type": "stream",
          "name": "stderr",
          "text": [
            "WARNING:torchdrug.core.logger:edge log likelihood: -1.03495\n"
          ]
        },
        {
          "output_type": "stream",
          "name": "stdout",
          "text": [
            "21:41:35   edge log likelihood: -1.03495\n"
          ]
        },
        {
          "output_type": "stream",
          "name": "stderr",
          "text": [
            "WARNING:torchdrug.core.logger:edge mask / graph: 414\n"
          ]
        },
        {
          "output_type": "stream",
          "name": "stdout",
          "text": [
            "21:41:35   edge mask / graph: 414\n"
          ]
        },
        {
          "output_type": "stream",
          "name": "stderr",
          "text": [
            "WARNING:torchdrug.core.logger:node log likelihood: -4.38563\n"
          ]
        },
        {
          "output_type": "stream",
          "name": "stdout",
          "text": [
            "21:41:35   node log likelihood: -4.38563\n"
          ]
        },
        {
          "output_type": "stream",
          "name": "stderr",
          "text": [
            "WARNING:torchdrug.core.logger:node mask / graph: 41\n"
          ]
        },
        {
          "output_type": "stream",
          "name": "stdout",
          "text": [
            "21:41:35   node mask / graph: 41\n"
          ]
        },
        {
          "output_type": "stream",
          "name": "stderr",
          "text": [
            "WARNING:torchdrug.core.logger:>>>>>>>>>>>>>>>>>>>>>>>>>>>>>>\n"
          ]
        },
        {
          "output_type": "stream",
          "name": "stdout",
          "text": [
            "21:41:38   >>>>>>>>>>>>>>>>>>>>>>>>>>>>>>\n"
          ]
        },
        {
          "output_type": "stream",
          "name": "stderr",
          "text": [
            "WARNING:torchdrug.core.logger:edge log likelihood: -0.993672\n"
          ]
        },
        {
          "output_type": "stream",
          "name": "stdout",
          "text": [
            "21:41:38   edge log likelihood: -0.993672\n"
          ]
        },
        {
          "output_type": "stream",
          "name": "stderr",
          "text": [
            "WARNING:torchdrug.core.logger:edge mask / graph: 382.8\n"
          ]
        },
        {
          "output_type": "stream",
          "name": "stdout",
          "text": [
            "21:41:38   edge mask / graph: 382.8\n"
          ]
        },
        {
          "output_type": "stream",
          "name": "stderr",
          "text": [
            "WARNING:torchdrug.core.logger:node log likelihood: -0.951393\n"
          ]
        },
        {
          "output_type": "stream",
          "name": "stdout",
          "text": [
            "21:41:38   node log likelihood: -0.951393\n"
          ]
        },
        {
          "output_type": "stream",
          "name": "stderr",
          "text": [
            "WARNING:torchdrug.core.logger:node mask / graph: 38.4\n"
          ]
        },
        {
          "output_type": "stream",
          "name": "stdout",
          "text": [
            "21:41:38   node mask / graph: 38.4\n"
          ]
        },
        {
          "output_type": "stream",
          "name": "stderr",
          "text": [
            "WARNING:torchdrug.core.logger:>>>>>>>>>>>>>>>>>>>>>>>>>>>>>>\n"
          ]
        },
        {
          "output_type": "stream",
          "name": "stdout",
          "text": [
            "21:41:41   >>>>>>>>>>>>>>>>>>>>>>>>>>>>>>\n"
          ]
        },
        {
          "output_type": "stream",
          "name": "stderr",
          "text": [
            "WARNING:torchdrug.core.logger:edge log likelihood: -0.974641\n"
          ]
        },
        {
          "output_type": "stream",
          "name": "stdout",
          "text": [
            "21:41:41   edge log likelihood: -0.974641\n"
          ]
        },
        {
          "output_type": "stream",
          "name": "stderr",
          "text": [
            "WARNING:torchdrug.core.logger:edge mask / graph: 442.8\n"
          ]
        },
        {
          "output_type": "stream",
          "name": "stdout",
          "text": [
            "21:41:41   edge mask / graph: 442.8\n"
          ]
        },
        {
          "output_type": "stream",
          "name": "stderr",
          "text": [
            "WARNING:torchdrug.core.logger:node log likelihood: -8.98568\n"
          ]
        },
        {
          "output_type": "stream",
          "name": "stdout",
          "text": [
            "21:41:41   node log likelihood: -8.98568\n"
          ]
        },
        {
          "output_type": "stream",
          "name": "stderr",
          "text": [
            "WARNING:torchdrug.core.logger:node mask / graph: 43.4\n"
          ]
        },
        {
          "output_type": "stream",
          "name": "stdout",
          "text": [
            "21:41:41   node mask / graph: 43.4\n"
          ]
        },
        {
          "output_type": "stream",
          "name": "stderr",
          "text": [
            "WARNING:torchdrug.core.logger:>>>>>>>>>>>>>>>>>>>>>>>>>>>>>>\n"
          ]
        },
        {
          "output_type": "stream",
          "name": "stdout",
          "text": [
            "21:41:45   >>>>>>>>>>>>>>>>>>>>>>>>>>>>>>\n"
          ]
        },
        {
          "output_type": "stream",
          "name": "stderr",
          "text": [
            "WARNING:torchdrug.core.logger:edge log likelihood: -1.06824\n"
          ]
        },
        {
          "output_type": "stream",
          "name": "stdout",
          "text": [
            "21:41:45   edge log likelihood: -1.06824\n"
          ]
        },
        {
          "output_type": "stream",
          "name": "stderr",
          "text": [
            "WARNING:torchdrug.core.logger:edge mask / graph: 320.4\n"
          ]
        },
        {
          "output_type": "stream",
          "name": "stdout",
          "text": [
            "21:41:45   edge mask / graph: 320.4\n"
          ]
        },
        {
          "output_type": "stream",
          "name": "stderr",
          "text": [
            "WARNING:torchdrug.core.logger:node log likelihood: -2.31935\n"
          ]
        },
        {
          "output_type": "stream",
          "name": "stdout",
          "text": [
            "21:41:45   node log likelihood: -2.31935\n"
          ]
        },
        {
          "output_type": "stream",
          "name": "stderr",
          "text": [
            "WARNING:torchdrug.core.logger:node mask / graph: 33.2\n"
          ]
        },
        {
          "output_type": "stream",
          "name": "stdout",
          "text": [
            "21:41:45   node mask / graph: 33.2\n"
          ]
        },
        {
          "output_type": "stream",
          "name": "stderr",
          "text": [
            "WARNING:torchdrug.core.logger:>>>>>>>>>>>>>>>>>>>>>>>>>>>>>>\n"
          ]
        },
        {
          "output_type": "stream",
          "name": "stdout",
          "text": [
            "21:41:48   >>>>>>>>>>>>>>>>>>>>>>>>>>>>>>\n"
          ]
        },
        {
          "output_type": "stream",
          "name": "stderr",
          "text": [
            "WARNING:torchdrug.core.logger:edge log likelihood: -1.01204\n"
          ]
        },
        {
          "output_type": "stream",
          "name": "stdout",
          "text": [
            "21:41:48   edge log likelihood: -1.01204\n"
          ]
        },
        {
          "output_type": "stream",
          "name": "stderr",
          "text": [
            "WARNING:torchdrug.core.logger:edge mask / graph: 404.4\n"
          ]
        },
        {
          "output_type": "stream",
          "name": "stdout",
          "text": [
            "21:41:48   edge mask / graph: 404.4\n"
          ]
        },
        {
          "output_type": "stream",
          "name": "stderr",
          "text": [
            "WARNING:torchdrug.core.logger:node log likelihood: -7.92644\n"
          ]
        },
        {
          "output_type": "stream",
          "name": "stdout",
          "text": [
            "21:41:48   node log likelihood: -7.92644\n"
          ]
        },
        {
          "output_type": "stream",
          "name": "stderr",
          "text": [
            "WARNING:torchdrug.core.logger:node mask / graph: 40.2\n"
          ]
        },
        {
          "output_type": "stream",
          "name": "stdout",
          "text": [
            "21:41:48   node mask / graph: 40.2\n"
          ]
        },
        {
          "output_type": "stream",
          "name": "stderr",
          "text": [
            "WARNING:torchdrug.core.logger:>>>>>>>>>>>>>>>>>>>>>>>>>>>>>>\n"
          ]
        },
        {
          "output_type": "stream",
          "name": "stdout",
          "text": [
            "21:41:51   >>>>>>>>>>>>>>>>>>>>>>>>>>>>>>\n"
          ]
        },
        {
          "output_type": "stream",
          "name": "stderr",
          "text": [
            "WARNING:torchdrug.core.logger:edge log likelihood: -0.986212\n"
          ]
        },
        {
          "output_type": "stream",
          "name": "stdout",
          "text": [
            "21:41:51   edge log likelihood: -0.986212\n"
          ]
        },
        {
          "output_type": "stream",
          "name": "stderr",
          "text": [
            "WARNING:torchdrug.core.logger:edge mask / graph: 380.4\n"
          ]
        },
        {
          "output_type": "stream",
          "name": "stdout",
          "text": [
            "21:41:51   edge mask / graph: 380.4\n"
          ]
        },
        {
          "output_type": "stream",
          "name": "stderr",
          "text": [
            "WARNING:torchdrug.core.logger:node log likelihood: -2.99288\n"
          ]
        },
        {
          "output_type": "stream",
          "name": "stdout",
          "text": [
            "21:41:51   node log likelihood: -2.99288\n"
          ]
        },
        {
          "output_type": "stream",
          "name": "stderr",
          "text": [
            "WARNING:torchdrug.core.logger:node mask / graph: 38.2\n"
          ]
        },
        {
          "output_type": "stream",
          "name": "stdout",
          "text": [
            "21:41:51   node mask / graph: 38.2\n"
          ]
        },
        {
          "output_type": "stream",
          "name": "stderr",
          "text": [
            "WARNING:torchdrug.core.logger:>>>>>>>>>>>>>>>>>>>>>>>>>>>>>>\n"
          ]
        },
        {
          "output_type": "stream",
          "name": "stdout",
          "text": [
            "21:41:55   >>>>>>>>>>>>>>>>>>>>>>>>>>>>>>\n"
          ]
        },
        {
          "output_type": "stream",
          "name": "stderr",
          "text": [
            "WARNING:torchdrug.core.logger:edge log likelihood: -0.992441\n"
          ]
        },
        {
          "output_type": "stream",
          "name": "stdout",
          "text": [
            "21:41:55   edge log likelihood: -0.992441\n"
          ]
        },
        {
          "output_type": "stream",
          "name": "stderr",
          "text": [
            "WARNING:torchdrug.core.logger:edge mask / graph: 456\n"
          ]
        },
        {
          "output_type": "stream",
          "name": "stdout",
          "text": [
            "21:41:55   edge mask / graph: 456\n"
          ]
        },
        {
          "output_type": "stream",
          "name": "stderr",
          "text": [
            "WARNING:torchdrug.core.logger:node log likelihood: -2.44429\n"
          ]
        },
        {
          "output_type": "stream",
          "name": "stdout",
          "text": [
            "21:41:55   node log likelihood: -2.44429\n"
          ]
        },
        {
          "output_type": "stream",
          "name": "stderr",
          "text": [
            "WARNING:torchdrug.core.logger:node mask / graph: 44.5\n"
          ]
        },
        {
          "output_type": "stream",
          "name": "stdout",
          "text": [
            "21:41:55   node mask / graph: 44.5\n"
          ]
        },
        {
          "output_type": "stream",
          "name": "stderr",
          "text": [
            "WARNING:torchdrug.core.logger:>>>>>>>>>>>>>>>>>>>>>>>>>>>>>>\n"
          ]
        },
        {
          "output_type": "stream",
          "name": "stdout",
          "text": [
            "21:41:58   >>>>>>>>>>>>>>>>>>>>>>>>>>>>>>\n"
          ]
        },
        {
          "output_type": "stream",
          "name": "stderr",
          "text": [
            "WARNING:torchdrug.core.logger:edge log likelihood: -0.984375\n"
          ]
        },
        {
          "output_type": "stream",
          "name": "stdout",
          "text": [
            "21:41:58   edge log likelihood: -0.984375\n"
          ]
        },
        {
          "output_type": "stream",
          "name": "stderr",
          "text": [
            "WARNING:torchdrug.core.logger:edge mask / graph: 421.2\n"
          ]
        },
        {
          "output_type": "stream",
          "name": "stdout",
          "text": [
            "21:41:58   edge mask / graph: 421.2\n"
          ]
        },
        {
          "output_type": "stream",
          "name": "stderr",
          "text": [
            "WARNING:torchdrug.core.logger:node log likelihood: -2.13066\n"
          ]
        },
        {
          "output_type": "stream",
          "name": "stdout",
          "text": [
            "21:41:58   node log likelihood: -2.13066\n"
          ]
        },
        {
          "output_type": "stream",
          "name": "stderr",
          "text": [
            "WARNING:torchdrug.core.logger:node mask / graph: 41.6\n"
          ]
        },
        {
          "output_type": "stream",
          "name": "stdout",
          "text": [
            "21:41:58   node mask / graph: 41.6\n"
          ]
        },
        {
          "output_type": "stream",
          "name": "stderr",
          "text": [
            "WARNING:torchdrug.core.logger:>>>>>>>>>>>>>>>>>>>>>>>>>>>>>>\n"
          ]
        },
        {
          "output_type": "stream",
          "name": "stdout",
          "text": [
            "21:42:01   >>>>>>>>>>>>>>>>>>>>>>>>>>>>>>\n"
          ]
        },
        {
          "output_type": "stream",
          "name": "stderr",
          "text": [
            "WARNING:torchdrug.core.logger:edge log likelihood: -0.996604\n"
          ]
        },
        {
          "output_type": "stream",
          "name": "stdout",
          "text": [
            "21:42:01   edge log likelihood: -0.996604\n"
          ]
        },
        {
          "output_type": "stream",
          "name": "stderr",
          "text": [
            "WARNING:torchdrug.core.logger:edge mask / graph: 352.8\n"
          ]
        },
        {
          "output_type": "stream",
          "name": "stdout",
          "text": [
            "21:42:01   edge mask / graph: 352.8\n"
          ]
        },
        {
          "output_type": "stream",
          "name": "stderr",
          "text": [
            "WARNING:torchdrug.core.logger:node log likelihood: -1.27289\n"
          ]
        },
        {
          "output_type": "stream",
          "name": "stdout",
          "text": [
            "21:42:01   node log likelihood: -1.27289\n"
          ]
        },
        {
          "output_type": "stream",
          "name": "stderr",
          "text": [
            "WARNING:torchdrug.core.logger:node mask / graph: 35.9\n"
          ]
        },
        {
          "output_type": "stream",
          "name": "stdout",
          "text": [
            "21:42:01   node mask / graph: 35.9\n"
          ]
        },
        {
          "output_type": "stream",
          "name": "stderr",
          "text": [
            "WARNING:torchdrug.core.logger:>>>>>>>>>>>>>>>>>>>>>>>>>>>>>>\n"
          ]
        },
        {
          "output_type": "stream",
          "name": "stdout",
          "text": [
            "21:42:05   >>>>>>>>>>>>>>>>>>>>>>>>>>>>>>\n"
          ]
        },
        {
          "output_type": "stream",
          "name": "stderr",
          "text": [
            "WARNING:torchdrug.core.logger:edge log likelihood: -1.00334\n"
          ]
        },
        {
          "output_type": "stream",
          "name": "stdout",
          "text": [
            "21:42:05   edge log likelihood: -1.00334\n"
          ]
        },
        {
          "output_type": "stream",
          "name": "stderr",
          "text": [
            "WARNING:torchdrug.core.logger:edge mask / graph: 381.6\n"
          ]
        },
        {
          "output_type": "stream",
          "name": "stdout",
          "text": [
            "21:42:05   edge mask / graph: 381.6\n"
          ]
        },
        {
          "output_type": "stream",
          "name": "stderr",
          "text": [
            "WARNING:torchdrug.core.logger:node log likelihood: -2.57759\n"
          ]
        },
        {
          "output_type": "stream",
          "name": "stdout",
          "text": [
            "21:42:05   node log likelihood: -2.57759\n"
          ]
        },
        {
          "output_type": "stream",
          "name": "stderr",
          "text": [
            "WARNING:torchdrug.core.logger:node mask / graph: 38.3\n"
          ]
        },
        {
          "output_type": "stream",
          "name": "stdout",
          "text": [
            "21:42:05   node mask / graph: 38.3\n"
          ]
        },
        {
          "output_type": "stream",
          "name": "stderr",
          "text": [
            "WARNING:torchdrug.core.logger:>>>>>>>>>>>>>>>>>>>>>>>>>>>>>>\n"
          ]
        },
        {
          "output_type": "stream",
          "name": "stdout",
          "text": [
            "21:42:08   >>>>>>>>>>>>>>>>>>>>>>>>>>>>>>\n"
          ]
        },
        {
          "output_type": "stream",
          "name": "stderr",
          "text": [
            "WARNING:torchdrug.core.logger:edge log likelihood: -1.0021\n"
          ]
        },
        {
          "output_type": "stream",
          "name": "stdout",
          "text": [
            "21:42:08   edge log likelihood: -1.0021\n"
          ]
        },
        {
          "output_type": "stream",
          "name": "stderr",
          "text": [
            "WARNING:torchdrug.core.logger:edge mask / graph: 410.4\n"
          ]
        },
        {
          "output_type": "stream",
          "name": "stdout",
          "text": [
            "21:42:08   edge mask / graph: 410.4\n"
          ]
        },
        {
          "output_type": "stream",
          "name": "stderr",
          "text": [
            "WARNING:torchdrug.core.logger:node log likelihood: -1.56854\n"
          ]
        },
        {
          "output_type": "stream",
          "name": "stdout",
          "text": [
            "21:42:08   node log likelihood: -1.56854\n"
          ]
        },
        {
          "output_type": "stream",
          "name": "stderr",
          "text": [
            "WARNING:torchdrug.core.logger:node mask / graph: 40.7\n"
          ]
        },
        {
          "output_type": "stream",
          "name": "stdout",
          "text": [
            "21:42:08   node mask / graph: 40.7\n"
          ]
        },
        {
          "output_type": "stream",
          "name": "stderr",
          "text": [
            "WARNING:torchdrug.core.logger:>>>>>>>>>>>>>>>>>>>>>>>>>>>>>>\n"
          ]
        },
        {
          "output_type": "stream",
          "name": "stdout",
          "text": [
            "21:42:11   >>>>>>>>>>>>>>>>>>>>>>>>>>>>>>\n"
          ]
        },
        {
          "output_type": "stream",
          "name": "stderr",
          "text": [
            "WARNING:torchdrug.core.logger:edge log likelihood: -0.937787\n"
          ]
        },
        {
          "output_type": "stream",
          "name": "stdout",
          "text": [
            "21:42:11   edge log likelihood: -0.937787\n"
          ]
        },
        {
          "output_type": "stream",
          "name": "stderr",
          "text": [
            "WARNING:torchdrug.core.logger:edge mask / graph: 367.2\n"
          ]
        },
        {
          "output_type": "stream",
          "name": "stdout",
          "text": [
            "21:42:11   edge mask / graph: 367.2\n"
          ]
        },
        {
          "output_type": "stream",
          "name": "stderr",
          "text": [
            "WARNING:torchdrug.core.logger:node log likelihood: -1.72989\n"
          ]
        },
        {
          "output_type": "stream",
          "name": "stdout",
          "text": [
            "21:42:11   node log likelihood: -1.72989\n"
          ]
        },
        {
          "output_type": "stream",
          "name": "stderr",
          "text": [
            "WARNING:torchdrug.core.logger:node mask / graph: 37.1\n"
          ]
        },
        {
          "output_type": "stream",
          "name": "stdout",
          "text": [
            "21:42:11   node mask / graph: 37.1\n"
          ]
        },
        {
          "output_type": "stream",
          "name": "stderr",
          "text": [
            "WARNING:torchdrug.core.logger:>>>>>>>>>>>>>>>>>>>>>>>>>>>>>>\n"
          ]
        },
        {
          "output_type": "stream",
          "name": "stdout",
          "text": [
            "21:42:15   >>>>>>>>>>>>>>>>>>>>>>>>>>>>>>\n"
          ]
        },
        {
          "output_type": "stream",
          "name": "stderr",
          "text": [
            "WARNING:torchdrug.core.logger:edge log likelihood: -0.963895\n"
          ]
        },
        {
          "output_type": "stream",
          "name": "stdout",
          "text": [
            "21:42:15   edge log likelihood: -0.963895\n"
          ]
        },
        {
          "output_type": "stream",
          "name": "stderr",
          "text": [
            "WARNING:torchdrug.core.logger:edge mask / graph: 466.8\n"
          ]
        },
        {
          "output_type": "stream",
          "name": "stdout",
          "text": [
            "21:42:15   edge mask / graph: 466.8\n"
          ]
        },
        {
          "output_type": "stream",
          "name": "stderr",
          "text": [
            "WARNING:torchdrug.core.logger:node log likelihood: -2.31705\n"
          ]
        },
        {
          "output_type": "stream",
          "name": "stdout",
          "text": [
            "21:42:15   node log likelihood: -2.31705\n"
          ]
        },
        {
          "output_type": "stream",
          "name": "stderr",
          "text": [
            "WARNING:torchdrug.core.logger:node mask / graph: 45.4\n"
          ]
        },
        {
          "output_type": "stream",
          "name": "stdout",
          "text": [
            "21:42:15   node mask / graph: 45.4\n"
          ]
        },
        {
          "output_type": "stream",
          "name": "stderr",
          "text": [
            "WARNING:torchdrug.core.logger:>>>>>>>>>>>>>>>>>>>>>>>>>>>>>>\n"
          ]
        },
        {
          "output_type": "stream",
          "name": "stdout",
          "text": [
            "21:42:18   >>>>>>>>>>>>>>>>>>>>>>>>>>>>>>\n"
          ]
        },
        {
          "output_type": "stream",
          "name": "stderr",
          "text": [
            "WARNING:torchdrug.core.logger:edge log likelihood: -0.975343\n"
          ]
        },
        {
          "output_type": "stream",
          "name": "stdout",
          "text": [
            "21:42:18   edge log likelihood: -0.975343\n"
          ]
        },
        {
          "output_type": "stream",
          "name": "stderr",
          "text": [
            "WARNING:torchdrug.core.logger:edge mask / graph: 382.8\n"
          ]
        },
        {
          "output_type": "stream",
          "name": "stdout",
          "text": [
            "21:42:18   edge mask / graph: 382.8\n"
          ]
        },
        {
          "output_type": "stream",
          "name": "stderr",
          "text": [
            "WARNING:torchdrug.core.logger:node log likelihood: -6.30979\n"
          ]
        },
        {
          "output_type": "stream",
          "name": "stdout",
          "text": [
            "21:42:18   node log likelihood: -6.30979\n"
          ]
        },
        {
          "output_type": "stream",
          "name": "stderr",
          "text": [
            "WARNING:torchdrug.core.logger:node mask / graph: 38.4\n"
          ]
        },
        {
          "output_type": "stream",
          "name": "stdout",
          "text": [
            "21:42:18   node mask / graph: 38.4\n"
          ]
        },
        {
          "output_type": "stream",
          "name": "stderr",
          "text": [
            "WARNING:torchdrug.core.logger:>>>>>>>>>>>>>>>>>>>>>>>>>>>>>>\n"
          ]
        },
        {
          "output_type": "stream",
          "name": "stdout",
          "text": [
            "21:42:22   >>>>>>>>>>>>>>>>>>>>>>>>>>>>>>\n"
          ]
        },
        {
          "output_type": "stream",
          "name": "stderr",
          "text": [
            "WARNING:torchdrug.core.logger:edge log likelihood: -0.987809\n"
          ]
        },
        {
          "output_type": "stream",
          "name": "stdout",
          "text": [
            "21:42:22   edge log likelihood: -0.987809\n"
          ]
        },
        {
          "output_type": "stream",
          "name": "stderr",
          "text": [
            "WARNING:torchdrug.core.logger:edge mask / graph: 382.8\n"
          ]
        },
        {
          "output_type": "stream",
          "name": "stdout",
          "text": [
            "21:42:22   edge mask / graph: 382.8\n"
          ]
        },
        {
          "output_type": "stream",
          "name": "stderr",
          "text": [
            "WARNING:torchdrug.core.logger:node log likelihood: -2.08446\n"
          ]
        },
        {
          "output_type": "stream",
          "name": "stdout",
          "text": [
            "21:42:22   node log likelihood: -2.08446\n"
          ]
        },
        {
          "output_type": "stream",
          "name": "stderr",
          "text": [
            "WARNING:torchdrug.core.logger:node mask / graph: 38.4\n"
          ]
        },
        {
          "output_type": "stream",
          "name": "stdout",
          "text": [
            "21:42:22   node mask / graph: 38.4\n"
          ]
        },
        {
          "output_type": "stream",
          "name": "stderr",
          "text": [
            "WARNING:torchdrug.core.logger:>>>>>>>>>>>>>>>>>>>>>>>>>>>>>>\n"
          ]
        },
        {
          "output_type": "stream",
          "name": "stdout",
          "text": [
            "21:42:25   >>>>>>>>>>>>>>>>>>>>>>>>>>>>>>\n"
          ]
        },
        {
          "output_type": "stream",
          "name": "stderr",
          "text": [
            "WARNING:torchdrug.core.logger:edge log likelihood: -1.02099\n"
          ]
        },
        {
          "output_type": "stream",
          "name": "stdout",
          "text": [
            "21:42:25   edge log likelihood: -1.02099\n"
          ]
        },
        {
          "output_type": "stream",
          "name": "stderr",
          "text": [
            "WARNING:torchdrug.core.logger:edge mask / graph: 400.8\n"
          ]
        },
        {
          "output_type": "stream",
          "name": "stdout",
          "text": [
            "21:42:25   edge mask / graph: 400.8\n"
          ]
        },
        {
          "output_type": "stream",
          "name": "stderr",
          "text": [
            "WARNING:torchdrug.core.logger:node log likelihood: -1.77689\n"
          ]
        },
        {
          "output_type": "stream",
          "name": "stdout",
          "text": [
            "21:42:25   node log likelihood: -1.77689\n"
          ]
        },
        {
          "output_type": "stream",
          "name": "stderr",
          "text": [
            "WARNING:torchdrug.core.logger:node mask / graph: 39.9\n"
          ]
        },
        {
          "output_type": "stream",
          "name": "stdout",
          "text": [
            "21:42:25   node mask / graph: 39.9\n"
          ]
        },
        {
          "output_type": "stream",
          "name": "stderr",
          "text": [
            "WARNING:torchdrug.core.logger:>>>>>>>>>>>>>>>>>>>>>>>>>>>>>>\n"
          ]
        },
        {
          "output_type": "stream",
          "name": "stdout",
          "text": [
            "21:42:28   >>>>>>>>>>>>>>>>>>>>>>>>>>>>>>\n"
          ]
        },
        {
          "output_type": "stream",
          "name": "stderr",
          "text": [
            "WARNING:torchdrug.core.logger:edge log likelihood: -0.992435\n"
          ]
        },
        {
          "output_type": "stream",
          "name": "stdout",
          "text": [
            "21:42:28   edge log likelihood: -0.992435\n"
          ]
        },
        {
          "output_type": "stream",
          "name": "stderr",
          "text": [
            "WARNING:torchdrug.core.logger:edge mask / graph: 421.2\n"
          ]
        },
        {
          "output_type": "stream",
          "name": "stdout",
          "text": [
            "21:42:28   edge mask / graph: 421.2\n"
          ]
        },
        {
          "output_type": "stream",
          "name": "stderr",
          "text": [
            "WARNING:torchdrug.core.logger:node log likelihood: -1.82969\n"
          ]
        },
        {
          "output_type": "stream",
          "name": "stdout",
          "text": [
            "21:42:28   node log likelihood: -1.82969\n"
          ]
        },
        {
          "output_type": "stream",
          "name": "stderr",
          "text": [
            "WARNING:torchdrug.core.logger:node mask / graph: 41.6\n"
          ]
        },
        {
          "output_type": "stream",
          "name": "stdout",
          "text": [
            "21:42:28   node mask / graph: 41.6\n"
          ]
        },
        {
          "output_type": "stream",
          "name": "stderr",
          "text": [
            "WARNING:torchdrug.core.logger:>>>>>>>>>>>>>>>>>>>>>>>>>>>>>>\n"
          ]
        },
        {
          "output_type": "stream",
          "name": "stdout",
          "text": [
            "21:42:32   >>>>>>>>>>>>>>>>>>>>>>>>>>>>>>\n"
          ]
        },
        {
          "output_type": "stream",
          "name": "stderr",
          "text": [
            "WARNING:torchdrug.core.logger:edge log likelihood: -0.964462\n"
          ]
        },
        {
          "output_type": "stream",
          "name": "stdout",
          "text": [
            "21:42:32   edge log likelihood: -0.964462\n"
          ]
        },
        {
          "output_type": "stream",
          "name": "stderr",
          "text": [
            "WARNING:torchdrug.core.logger:edge mask / graph: 381.6\n"
          ]
        },
        {
          "output_type": "stream",
          "name": "stdout",
          "text": [
            "21:42:32   edge mask / graph: 381.6\n"
          ]
        },
        {
          "output_type": "stream",
          "name": "stderr",
          "text": [
            "WARNING:torchdrug.core.logger:node log likelihood: -1.27716\n"
          ]
        },
        {
          "output_type": "stream",
          "name": "stdout",
          "text": [
            "21:42:32   node log likelihood: -1.27716\n"
          ]
        },
        {
          "output_type": "stream",
          "name": "stderr",
          "text": [
            "WARNING:torchdrug.core.logger:node mask / graph: 38.3\n"
          ]
        },
        {
          "output_type": "stream",
          "name": "stdout",
          "text": [
            "21:42:32   node mask / graph: 38.3\n"
          ]
        },
        {
          "output_type": "stream",
          "name": "stderr",
          "text": [
            "WARNING:torchdrug.core.logger:>>>>>>>>>>>>>>>>>>>>>>>>>>>>>>\n"
          ]
        },
        {
          "output_type": "stream",
          "name": "stdout",
          "text": [
            "21:42:35   >>>>>>>>>>>>>>>>>>>>>>>>>>>>>>\n"
          ]
        },
        {
          "output_type": "stream",
          "name": "stderr",
          "text": [
            "WARNING:torchdrug.core.logger:edge log likelihood: -1.00263\n"
          ]
        },
        {
          "output_type": "stream",
          "name": "stdout",
          "text": [
            "21:42:35   edge log likelihood: -1.00263\n"
          ]
        },
        {
          "output_type": "stream",
          "name": "stderr",
          "text": [
            "WARNING:torchdrug.core.logger:edge mask / graph: 396\n"
          ]
        },
        {
          "output_type": "stream",
          "name": "stdout",
          "text": [
            "21:42:35   edge mask / graph: 396\n"
          ]
        },
        {
          "output_type": "stream",
          "name": "stderr",
          "text": [
            "WARNING:torchdrug.core.logger:node log likelihood: -2.27467\n"
          ]
        },
        {
          "output_type": "stream",
          "name": "stdout",
          "text": [
            "21:42:35   node log likelihood: -2.27467\n"
          ]
        },
        {
          "output_type": "stream",
          "name": "stderr",
          "text": [
            "WARNING:torchdrug.core.logger:node mask / graph: 39.5\n"
          ]
        },
        {
          "output_type": "stream",
          "name": "stdout",
          "text": [
            "21:42:35   node mask / graph: 39.5\n"
          ]
        },
        {
          "output_type": "stream",
          "name": "stderr",
          "text": [
            "WARNING:torchdrug.core.logger:>>>>>>>>>>>>>>>>>>>>>>>>>>>>>>\n"
          ]
        },
        {
          "output_type": "stream",
          "name": "stdout",
          "text": [
            "21:42:39   >>>>>>>>>>>>>>>>>>>>>>>>>>>>>>\n"
          ]
        },
        {
          "output_type": "stream",
          "name": "stderr",
          "text": [
            "WARNING:torchdrug.core.logger:edge log likelihood: -0.980382\n"
          ]
        },
        {
          "output_type": "stream",
          "name": "stdout",
          "text": [
            "21:42:39   edge log likelihood: -0.980382\n"
          ]
        },
        {
          "output_type": "stream",
          "name": "stderr",
          "text": [
            "WARNING:torchdrug.core.logger:edge mask / graph: 450\n"
          ]
        },
        {
          "output_type": "stream",
          "name": "stdout",
          "text": [
            "21:42:39   edge mask / graph: 450\n"
          ]
        },
        {
          "output_type": "stream",
          "name": "stderr",
          "text": [
            "WARNING:torchdrug.core.logger:node log likelihood: -9.82022\n"
          ]
        },
        {
          "output_type": "stream",
          "name": "stdout",
          "text": [
            "21:42:39   node log likelihood: -9.82022\n"
          ]
        },
        {
          "output_type": "stream",
          "name": "stderr",
          "text": [
            "WARNING:torchdrug.core.logger:node mask / graph: 44\n"
          ]
        },
        {
          "output_type": "stream",
          "name": "stdout",
          "text": [
            "21:42:39   node mask / graph: 44\n"
          ]
        },
        {
          "output_type": "stream",
          "name": "stderr",
          "text": [
            "WARNING:torchdrug.core.logger:>>>>>>>>>>>>>>>>>>>>>>>>>>>>>>\n"
          ]
        },
        {
          "output_type": "stream",
          "name": "stdout",
          "text": [
            "21:42:42   >>>>>>>>>>>>>>>>>>>>>>>>>>>>>>\n"
          ]
        },
        {
          "output_type": "stream",
          "name": "stderr",
          "text": [
            "WARNING:torchdrug.core.logger:edge log likelihood: -0.997588\n"
          ]
        },
        {
          "output_type": "stream",
          "name": "stdout",
          "text": [
            "21:42:42   edge log likelihood: -0.997588\n"
          ]
        },
        {
          "output_type": "stream",
          "name": "stderr",
          "text": [
            "WARNING:torchdrug.core.logger:edge mask / graph: 358.8\n"
          ]
        },
        {
          "output_type": "stream",
          "name": "stdout",
          "text": [
            "21:42:42   edge mask / graph: 358.8\n"
          ]
        },
        {
          "output_type": "stream",
          "name": "stderr",
          "text": [
            "WARNING:torchdrug.core.logger:node log likelihood: -3.51255\n"
          ]
        },
        {
          "output_type": "stream",
          "name": "stdout",
          "text": [
            "21:42:42   node log likelihood: -3.51255\n"
          ]
        },
        {
          "output_type": "stream",
          "name": "stderr",
          "text": [
            "WARNING:torchdrug.core.logger:node mask / graph: 36.4\n"
          ]
        },
        {
          "output_type": "stream",
          "name": "stdout",
          "text": [
            "21:42:42   node mask / graph: 36.4\n"
          ]
        },
        {
          "output_type": "stream",
          "name": "stderr",
          "text": [
            "WARNING:torchdrug.core.logger:>>>>>>>>>>>>>>>>>>>>>>>>>>>>>>\n"
          ]
        },
        {
          "output_type": "stream",
          "name": "stdout",
          "text": [
            "21:42:45   >>>>>>>>>>>>>>>>>>>>>>>>>>>>>>\n"
          ]
        },
        {
          "output_type": "stream",
          "name": "stderr",
          "text": [
            "WARNING:torchdrug.core.logger:edge log likelihood: -0.999747\n"
          ]
        },
        {
          "output_type": "stream",
          "name": "stdout",
          "text": [
            "21:42:45   edge log likelihood: -0.999747\n"
          ]
        },
        {
          "output_type": "stream",
          "name": "stderr",
          "text": [
            "WARNING:torchdrug.core.logger:edge mask / graph: 379.2\n"
          ]
        },
        {
          "output_type": "stream",
          "name": "stdout",
          "text": [
            "21:42:45   edge mask / graph: 379.2\n"
          ]
        },
        {
          "output_type": "stream",
          "name": "stderr",
          "text": [
            "WARNING:torchdrug.core.logger:node log likelihood: -1.17806\n"
          ]
        },
        {
          "output_type": "stream",
          "name": "stdout",
          "text": [
            "21:42:45   node log likelihood: -1.17806\n"
          ]
        },
        {
          "output_type": "stream",
          "name": "stderr",
          "text": [
            "WARNING:torchdrug.core.logger:node mask / graph: 38.1\n"
          ]
        },
        {
          "output_type": "stream",
          "name": "stdout",
          "text": [
            "21:42:45   node mask / graph: 38.1\n"
          ]
        },
        {
          "output_type": "stream",
          "name": "stderr",
          "text": [
            "WARNING:torchdrug.core.logger:>>>>>>>>>>>>>>>>>>>>>>>>>>>>>>\n"
          ]
        },
        {
          "output_type": "stream",
          "name": "stdout",
          "text": [
            "21:42:49   >>>>>>>>>>>>>>>>>>>>>>>>>>>>>>\n"
          ]
        },
        {
          "output_type": "stream",
          "name": "stderr",
          "text": [
            "WARNING:torchdrug.core.logger:edge log likelihood: -0.91193\n"
          ]
        },
        {
          "output_type": "stream",
          "name": "stdout",
          "text": [
            "21:42:49   edge log likelihood: -0.91193\n"
          ]
        },
        {
          "output_type": "stream",
          "name": "stderr",
          "text": [
            "WARNING:torchdrug.core.logger:edge mask / graph: 463.2\n"
          ]
        },
        {
          "output_type": "stream",
          "name": "stdout",
          "text": [
            "21:42:49   edge mask / graph: 463.2\n"
          ]
        },
        {
          "output_type": "stream",
          "name": "stderr",
          "text": [
            "WARNING:torchdrug.core.logger:node log likelihood: -1.7245\n"
          ]
        },
        {
          "output_type": "stream",
          "name": "stdout",
          "text": [
            "21:42:49   node log likelihood: -1.7245\n"
          ]
        },
        {
          "output_type": "stream",
          "name": "stderr",
          "text": [
            "WARNING:torchdrug.core.logger:node mask / graph: 45.1\n"
          ]
        },
        {
          "output_type": "stream",
          "name": "stdout",
          "text": [
            "21:42:49   node mask / graph: 45.1\n"
          ]
        },
        {
          "output_type": "stream",
          "name": "stderr",
          "text": [
            "WARNING:torchdrug.core.logger:>>>>>>>>>>>>>>>>>>>>>>>>>>>>>>\n"
          ]
        },
        {
          "output_type": "stream",
          "name": "stdout",
          "text": [
            "21:42:53   >>>>>>>>>>>>>>>>>>>>>>>>>>>>>>\n"
          ]
        },
        {
          "output_type": "stream",
          "name": "stderr",
          "text": [
            "WARNING:torchdrug.core.logger:edge log likelihood: -0.977575\n"
          ]
        },
        {
          "output_type": "stream",
          "name": "stdout",
          "text": [
            "21:42:53   edge log likelihood: -0.977575\n"
          ]
        },
        {
          "output_type": "stream",
          "name": "stderr",
          "text": [
            "WARNING:torchdrug.core.logger:edge mask / graph: 427.2\n"
          ]
        },
        {
          "output_type": "stream",
          "name": "stdout",
          "text": [
            "21:42:53   edge mask / graph: 427.2\n"
          ]
        },
        {
          "output_type": "stream",
          "name": "stderr",
          "text": [
            "WARNING:torchdrug.core.logger:node log likelihood: -6.6041\n"
          ]
        },
        {
          "output_type": "stream",
          "name": "stdout",
          "text": [
            "21:42:53   node log likelihood: -6.6041\n"
          ]
        },
        {
          "output_type": "stream",
          "name": "stderr",
          "text": [
            "WARNING:torchdrug.core.logger:node mask / graph: 42.1\n"
          ]
        },
        {
          "output_type": "stream",
          "name": "stdout",
          "text": [
            "21:42:53   node mask / graph: 42.1\n"
          ]
        },
        {
          "output_type": "stream",
          "name": "stderr",
          "text": [
            "WARNING:torchdrug.core.logger:>>>>>>>>>>>>>>>>>>>>>>>>>>>>>>\n"
          ]
        },
        {
          "output_type": "stream",
          "name": "stdout",
          "text": [
            "21:42:56   >>>>>>>>>>>>>>>>>>>>>>>>>>>>>>\n"
          ]
        },
        {
          "output_type": "stream",
          "name": "stderr",
          "text": [
            "WARNING:torchdrug.core.logger:edge log likelihood: -1.02282\n"
          ]
        },
        {
          "output_type": "stream",
          "name": "stdout",
          "text": [
            "21:42:56   edge log likelihood: -1.02282\n"
          ]
        },
        {
          "output_type": "stream",
          "name": "stderr",
          "text": [
            "WARNING:torchdrug.core.logger:edge mask / graph: 344.4\n"
          ]
        },
        {
          "output_type": "stream",
          "name": "stdout",
          "text": [
            "21:42:56   edge mask / graph: 344.4\n"
          ]
        },
        {
          "output_type": "stream",
          "name": "stderr",
          "text": [
            "WARNING:torchdrug.core.logger:node log likelihood: -1.33227\n"
          ]
        },
        {
          "output_type": "stream",
          "name": "stdout",
          "text": [
            "21:42:56   node log likelihood: -1.33227\n"
          ]
        },
        {
          "output_type": "stream",
          "name": "stderr",
          "text": [
            "WARNING:torchdrug.core.logger:node mask / graph: 35.2\n"
          ]
        },
        {
          "output_type": "stream",
          "name": "stdout",
          "text": [
            "21:42:56   node mask / graph: 35.2\n"
          ]
        },
        {
          "output_type": "stream",
          "name": "stderr",
          "text": [
            "WARNING:torchdrug.core.logger:>>>>>>>>>>>>>>>>>>>>>>>>>>>>>>\n"
          ]
        },
        {
          "output_type": "stream",
          "name": "stdout",
          "text": [
            "21:42:59   >>>>>>>>>>>>>>>>>>>>>>>>>>>>>>\n"
          ]
        },
        {
          "output_type": "stream",
          "name": "stderr",
          "text": [
            "WARNING:torchdrug.core.logger:edge log likelihood: -0.986212\n"
          ]
        },
        {
          "output_type": "stream",
          "name": "stdout",
          "text": [
            "21:42:59   edge log likelihood: -0.986212\n"
          ]
        },
        {
          "output_type": "stream",
          "name": "stderr",
          "text": [
            "WARNING:torchdrug.core.logger:edge mask / graph: 422.4\n"
          ]
        },
        {
          "output_type": "stream",
          "name": "stdout",
          "text": [
            "21:42:59   edge mask / graph: 422.4\n"
          ]
        },
        {
          "output_type": "stream",
          "name": "stderr",
          "text": [
            "WARNING:torchdrug.core.logger:node log likelihood: -1.33166\n"
          ]
        },
        {
          "output_type": "stream",
          "name": "stdout",
          "text": [
            "21:42:59   node log likelihood: -1.33166\n"
          ]
        },
        {
          "output_type": "stream",
          "name": "stderr",
          "text": [
            "WARNING:torchdrug.core.logger:node mask / graph: 41.7\n"
          ]
        },
        {
          "output_type": "stream",
          "name": "stdout",
          "text": [
            "21:42:59   node mask / graph: 41.7\n"
          ]
        },
        {
          "output_type": "stream",
          "name": "stderr",
          "text": [
            "WARNING:torchdrug.core.logger:>>>>>>>>>>>>>>>>>>>>>>>>>>>>>>\n"
          ]
        },
        {
          "output_type": "stream",
          "name": "stdout",
          "text": [
            "21:43:03   >>>>>>>>>>>>>>>>>>>>>>>>>>>>>>\n"
          ]
        },
        {
          "output_type": "stream",
          "name": "stderr",
          "text": [
            "WARNING:torchdrug.core.logger:edge log likelihood: -0.991485\n"
          ]
        },
        {
          "output_type": "stream",
          "name": "stdout",
          "text": [
            "21:43:03   edge log likelihood: -0.991485\n"
          ]
        },
        {
          "output_type": "stream",
          "name": "stderr",
          "text": [
            "WARNING:torchdrug.core.logger:edge mask / graph: 384\n"
          ]
        },
        {
          "output_type": "stream",
          "name": "stdout",
          "text": [
            "21:43:03   edge mask / graph: 384\n"
          ]
        },
        {
          "output_type": "stream",
          "name": "stderr",
          "text": [
            "WARNING:torchdrug.core.logger:node log likelihood: -3.56454\n"
          ]
        },
        {
          "output_type": "stream",
          "name": "stdout",
          "text": [
            "21:43:03   node log likelihood: -3.56454\n"
          ]
        },
        {
          "output_type": "stream",
          "name": "stderr",
          "text": [
            "WARNING:torchdrug.core.logger:node mask / graph: 38.5\n"
          ]
        },
        {
          "output_type": "stream",
          "name": "stdout",
          "text": [
            "21:43:03   node mask / graph: 38.5\n"
          ]
        },
        {
          "output_type": "stream",
          "name": "stderr",
          "text": [
            "WARNING:torchdrug.core.logger:>>>>>>>>>>>>>>>>>>>>>>>>>>>>>>\n"
          ]
        },
        {
          "output_type": "stream",
          "name": "stdout",
          "text": [
            "21:43:06   >>>>>>>>>>>>>>>>>>>>>>>>>>>>>>\n"
          ]
        },
        {
          "output_type": "stream",
          "name": "stderr",
          "text": [
            "WARNING:torchdrug.core.logger:edge log likelihood: -0.971551\n"
          ]
        },
        {
          "output_type": "stream",
          "name": "stdout",
          "text": [
            "21:43:06   edge log likelihood: -0.971551\n"
          ]
        },
        {
          "output_type": "stream",
          "name": "stderr",
          "text": [
            "WARNING:torchdrug.core.logger:edge mask / graph: 382.8\n"
          ]
        },
        {
          "output_type": "stream",
          "name": "stdout",
          "text": [
            "21:43:06   edge mask / graph: 382.8\n"
          ]
        },
        {
          "output_type": "stream",
          "name": "stderr",
          "text": [
            "WARNING:torchdrug.core.logger:node log likelihood: -1.09536\n"
          ]
        },
        {
          "output_type": "stream",
          "name": "stdout",
          "text": [
            "21:43:06   node log likelihood: -1.09536\n"
          ]
        },
        {
          "output_type": "stream",
          "name": "stderr",
          "text": [
            "WARNING:torchdrug.core.logger:node mask / graph: 38.4\n"
          ]
        },
        {
          "output_type": "stream",
          "name": "stdout",
          "text": [
            "21:43:06   node mask / graph: 38.4\n"
          ]
        },
        {
          "output_type": "stream",
          "name": "stderr",
          "text": [
            "WARNING:torchdrug.core.logger:>>>>>>>>>>>>>>>>>>>>>>>>>>>>>>\n"
          ]
        },
        {
          "output_type": "stream",
          "name": "stdout",
          "text": [
            "21:43:09   >>>>>>>>>>>>>>>>>>>>>>>>>>>>>>\n"
          ]
        },
        {
          "output_type": "stream",
          "name": "stderr",
          "text": [
            "WARNING:torchdrug.core.logger:edge log likelihood: -0.966631\n"
          ]
        },
        {
          "output_type": "stream",
          "name": "stdout",
          "text": [
            "21:43:09   edge log likelihood: -0.966631\n"
          ]
        },
        {
          "output_type": "stream",
          "name": "stderr",
          "text": [
            "WARNING:torchdrug.core.logger:edge mask / graph: 410.4\n"
          ]
        },
        {
          "output_type": "stream",
          "name": "stdout",
          "text": [
            "21:43:09   edge mask / graph: 410.4\n"
          ]
        },
        {
          "output_type": "stream",
          "name": "stderr",
          "text": [
            "WARNING:torchdrug.core.logger:node log likelihood: -1.2712\n"
          ]
        },
        {
          "output_type": "stream",
          "name": "stdout",
          "text": [
            "21:43:09   node log likelihood: -1.2712\n"
          ]
        },
        {
          "output_type": "stream",
          "name": "stderr",
          "text": [
            "WARNING:torchdrug.core.logger:node mask / graph: 40.7\n"
          ]
        },
        {
          "output_type": "stream",
          "name": "stdout",
          "text": [
            "21:43:09   node mask / graph: 40.7\n"
          ]
        },
        {
          "output_type": "stream",
          "name": "stderr",
          "text": [
            "WARNING:torchdrug.core.logger:>>>>>>>>>>>>>>>>>>>>>>>>>>>>>>\n"
          ]
        },
        {
          "output_type": "stream",
          "name": "stdout",
          "text": [
            "21:43:13   >>>>>>>>>>>>>>>>>>>>>>>>>>>>>>\n"
          ]
        },
        {
          "output_type": "stream",
          "name": "stderr",
          "text": [
            "WARNING:torchdrug.core.logger:edge log likelihood: -0.970227\n"
          ]
        },
        {
          "output_type": "stream",
          "name": "stdout",
          "text": [
            "21:43:13   edge log likelihood: -0.970227\n"
          ]
        },
        {
          "output_type": "stream",
          "name": "stderr",
          "text": [
            "WARNING:torchdrug.core.logger:edge mask / graph: 394.8\n"
          ]
        },
        {
          "output_type": "stream",
          "name": "stdout",
          "text": [
            "21:43:13   edge mask / graph: 394.8\n"
          ]
        },
        {
          "output_type": "stream",
          "name": "stderr",
          "text": [
            "WARNING:torchdrug.core.logger:node log likelihood: -0.944404\n"
          ]
        },
        {
          "output_type": "stream",
          "name": "stdout",
          "text": [
            "21:43:13   node log likelihood: -0.944404\n"
          ]
        },
        {
          "output_type": "stream",
          "name": "stderr",
          "text": [
            "WARNING:torchdrug.core.logger:node mask / graph: 39.4\n"
          ]
        },
        {
          "output_type": "stream",
          "name": "stdout",
          "text": [
            "21:43:13   node mask / graph: 39.4\n"
          ]
        },
        {
          "output_type": "stream",
          "name": "stderr",
          "text": [
            "WARNING:torchdrug.core.logger:>>>>>>>>>>>>>>>>>>>>>>>>>>>>>>\n"
          ]
        },
        {
          "output_type": "stream",
          "name": "stdout",
          "text": [
            "21:43:16   >>>>>>>>>>>>>>>>>>>>>>>>>>>>>>\n"
          ]
        },
        {
          "output_type": "stream",
          "name": "stderr",
          "text": [
            "WARNING:torchdrug.core.logger:edge log likelihood: -0.962432\n"
          ]
        },
        {
          "output_type": "stream",
          "name": "stdout",
          "text": [
            "21:43:16   edge log likelihood: -0.962432\n"
          ]
        },
        {
          "output_type": "stream",
          "name": "stderr",
          "text": [
            "WARNING:torchdrug.core.logger:edge mask / graph: 415.2\n"
          ]
        },
        {
          "output_type": "stream",
          "name": "stdout",
          "text": [
            "21:43:16   edge mask / graph: 415.2\n"
          ]
        },
        {
          "output_type": "stream",
          "name": "stderr",
          "text": [
            "WARNING:torchdrug.core.logger:node log likelihood: -1.61951\n"
          ]
        },
        {
          "output_type": "stream",
          "name": "stdout",
          "text": [
            "21:43:16   node log likelihood: -1.61951\n"
          ]
        },
        {
          "output_type": "stream",
          "name": "stderr",
          "text": [
            "WARNING:torchdrug.core.logger:node mask / graph: 41.1\n"
          ]
        },
        {
          "output_type": "stream",
          "name": "stdout",
          "text": [
            "21:43:16   node mask / graph: 41.1\n"
          ]
        },
        {
          "output_type": "stream",
          "name": "stderr",
          "text": [
            "WARNING:torchdrug.core.logger:>>>>>>>>>>>>>>>>>>>>>>>>>>>>>>\n"
          ]
        },
        {
          "output_type": "stream",
          "name": "stdout",
          "text": [
            "21:43:20   >>>>>>>>>>>>>>>>>>>>>>>>>>>>>>\n"
          ]
        },
        {
          "output_type": "stream",
          "name": "stderr",
          "text": [
            "WARNING:torchdrug.core.logger:edge log likelihood: -0.990527\n"
          ]
        },
        {
          "output_type": "stream",
          "name": "stdout",
          "text": [
            "21:43:20   edge log likelihood: -0.990527\n"
          ]
        },
        {
          "output_type": "stream",
          "name": "stderr",
          "text": [
            "WARNING:torchdrug.core.logger:edge mask / graph: 387.6\n"
          ]
        },
        {
          "output_type": "stream",
          "name": "stdout",
          "text": [
            "21:43:20   edge mask / graph: 387.6\n"
          ]
        },
        {
          "output_type": "stream",
          "name": "stderr",
          "text": [
            "WARNING:torchdrug.core.logger:node log likelihood: -17.4086\n"
          ]
        },
        {
          "output_type": "stream",
          "name": "stdout",
          "text": [
            "21:43:20   node log likelihood: -17.4086\n"
          ]
        },
        {
          "output_type": "stream",
          "name": "stderr",
          "text": [
            "WARNING:torchdrug.core.logger:node mask / graph: 38.8\n"
          ]
        },
        {
          "output_type": "stream",
          "name": "stdout",
          "text": [
            "21:43:20   node mask / graph: 38.8\n"
          ]
        },
        {
          "output_type": "stream",
          "name": "stderr",
          "text": [
            "WARNING:torchdrug.core.logger:>>>>>>>>>>>>>>>>>>>>>>>>>>>>>>\n"
          ]
        },
        {
          "output_type": "stream",
          "name": "stdout",
          "text": [
            "21:43:23   >>>>>>>>>>>>>>>>>>>>>>>>>>>>>>\n"
          ]
        },
        {
          "output_type": "stream",
          "name": "stderr",
          "text": [
            "WARNING:torchdrug.core.logger:edge log likelihood: -0.953769\n"
          ]
        },
        {
          "output_type": "stream",
          "name": "stdout",
          "text": [
            "21:43:23   edge log likelihood: -0.953769\n"
          ]
        },
        {
          "output_type": "stream",
          "name": "stderr",
          "text": [
            "WARNING:torchdrug.core.logger:edge mask / graph: 462\n"
          ]
        },
        {
          "output_type": "stream",
          "name": "stdout",
          "text": [
            "21:43:23   edge mask / graph: 462\n"
          ]
        },
        {
          "output_type": "stream",
          "name": "stderr",
          "text": [
            "WARNING:torchdrug.core.logger:node log likelihood: -7.08667\n"
          ]
        },
        {
          "output_type": "stream",
          "name": "stdout",
          "text": [
            "21:43:23   node log likelihood: -7.08667\n"
          ]
        },
        {
          "output_type": "stream",
          "name": "stderr",
          "text": [
            "WARNING:torchdrug.core.logger:node mask / graph: 45\n"
          ]
        },
        {
          "output_type": "stream",
          "name": "stdout",
          "text": [
            "21:43:23   node mask / graph: 45\n"
          ]
        },
        {
          "output_type": "stream",
          "name": "stderr",
          "text": [
            "WARNING:torchdrug.core.logger:>>>>>>>>>>>>>>>>>>>>>>>>>>>>>>\n"
          ]
        },
        {
          "output_type": "stream",
          "name": "stdout",
          "text": [
            "21:43:27   >>>>>>>>>>>>>>>>>>>>>>>>>>>>>>\n"
          ]
        },
        {
          "output_type": "stream",
          "name": "stderr",
          "text": [
            "WARNING:torchdrug.core.logger:edge log likelihood: -0.970239\n"
          ]
        },
        {
          "output_type": "stream",
          "name": "stdout",
          "text": [
            "21:43:27   edge log likelihood: -0.970239\n"
          ]
        },
        {
          "output_type": "stream",
          "name": "stderr",
          "text": [
            "WARNING:torchdrug.core.logger:edge mask / graph: 411.6\n"
          ]
        },
        {
          "output_type": "stream",
          "name": "stdout",
          "text": [
            "21:43:27   edge mask / graph: 411.6\n"
          ]
        },
        {
          "output_type": "stream",
          "name": "stderr",
          "text": [
            "WARNING:torchdrug.core.logger:node log likelihood: -3.21997\n"
          ]
        },
        {
          "output_type": "stream",
          "name": "stdout",
          "text": [
            "21:43:27   node log likelihood: -3.21997\n"
          ]
        },
        {
          "output_type": "stream",
          "name": "stderr",
          "text": [
            "WARNING:torchdrug.core.logger:node mask / graph: 40.8\n"
          ]
        },
        {
          "output_type": "stream",
          "name": "stdout",
          "text": [
            "21:43:27   node mask / graph: 40.8\n"
          ]
        },
        {
          "output_type": "stream",
          "name": "stderr",
          "text": [
            "WARNING:torchdrug.core.logger:>>>>>>>>>>>>>>>>>>>>>>>>>>>>>>\n"
          ]
        },
        {
          "output_type": "stream",
          "name": "stdout",
          "text": [
            "21:43:30   >>>>>>>>>>>>>>>>>>>>>>>>>>>>>>\n"
          ]
        },
        {
          "output_type": "stream",
          "name": "stderr",
          "text": [
            "WARNING:torchdrug.core.logger:edge log likelihood: -0.940596\n"
          ]
        },
        {
          "output_type": "stream",
          "name": "stdout",
          "text": [
            "21:43:30   edge log likelihood: -0.940596\n"
          ]
        },
        {
          "output_type": "stream",
          "name": "stderr",
          "text": [
            "WARNING:torchdrug.core.logger:edge mask / graph: 361.2\n"
          ]
        },
        {
          "output_type": "stream",
          "name": "stdout",
          "text": [
            "21:43:30   edge mask / graph: 361.2\n"
          ]
        },
        {
          "output_type": "stream",
          "name": "stderr",
          "text": [
            "WARNING:torchdrug.core.logger:node log likelihood: -1.16588\n"
          ]
        },
        {
          "output_type": "stream",
          "name": "stdout",
          "text": [
            "21:43:30   node log likelihood: -1.16588\n"
          ]
        },
        {
          "output_type": "stream",
          "name": "stderr",
          "text": [
            "WARNING:torchdrug.core.logger:node mask / graph: 36.6\n"
          ]
        },
        {
          "output_type": "stream",
          "name": "stdout",
          "text": [
            "21:43:30   node mask / graph: 36.6\n"
          ]
        },
        {
          "output_type": "stream",
          "name": "stderr",
          "text": [
            "WARNING:torchdrug.core.logger:>>>>>>>>>>>>>>>>>>>>>>>>>>>>>>\n"
          ]
        },
        {
          "output_type": "stream",
          "name": "stdout",
          "text": [
            "21:43:34   >>>>>>>>>>>>>>>>>>>>>>>>>>>>>>\n"
          ]
        },
        {
          "output_type": "stream",
          "name": "stderr",
          "text": [
            "WARNING:torchdrug.core.logger:edge log likelihood: -0.989779\n"
          ]
        },
        {
          "output_type": "stream",
          "name": "stdout",
          "text": [
            "21:43:34   edge log likelihood: -0.989779\n"
          ]
        },
        {
          "output_type": "stream",
          "name": "stderr",
          "text": [
            "WARNING:torchdrug.core.logger:edge mask / graph: 436.8\n"
          ]
        },
        {
          "output_type": "stream",
          "name": "stdout",
          "text": [
            "21:43:34   edge mask / graph: 436.8\n"
          ]
        },
        {
          "output_type": "stream",
          "name": "stderr",
          "text": [
            "WARNING:torchdrug.core.logger:node log likelihood: -1.87369\n"
          ]
        },
        {
          "output_type": "stream",
          "name": "stdout",
          "text": [
            "21:43:34   node log likelihood: -1.87369\n"
          ]
        },
        {
          "output_type": "stream",
          "name": "stderr",
          "text": [
            "WARNING:torchdrug.core.logger:node mask / graph: 42.9\n"
          ]
        },
        {
          "output_type": "stream",
          "name": "stdout",
          "text": [
            "21:43:34   node mask / graph: 42.9\n"
          ]
        },
        {
          "output_type": "stream",
          "name": "stderr",
          "text": [
            "WARNING:torchdrug.core.logger:>>>>>>>>>>>>>>>>>>>>>>>>>>>>>>\n"
          ]
        },
        {
          "output_type": "stream",
          "name": "stdout",
          "text": [
            "21:43:37   >>>>>>>>>>>>>>>>>>>>>>>>>>>>>>\n"
          ]
        },
        {
          "output_type": "stream",
          "name": "stderr",
          "text": [
            "WARNING:torchdrug.core.logger:edge log likelihood: -0.948978\n"
          ]
        },
        {
          "output_type": "stream",
          "name": "stdout",
          "text": [
            "21:43:37   edge log likelihood: -0.948978\n"
          ]
        },
        {
          "output_type": "stream",
          "name": "stderr",
          "text": [
            "WARNING:torchdrug.core.logger:edge mask / graph: 484.8\n"
          ]
        },
        {
          "output_type": "stream",
          "name": "stdout",
          "text": [
            "21:43:37   edge mask / graph: 484.8\n"
          ]
        },
        {
          "output_type": "stream",
          "name": "stderr",
          "text": [
            "WARNING:torchdrug.core.logger:node log likelihood: -1.96118\n"
          ]
        },
        {
          "output_type": "stream",
          "name": "stdout",
          "text": [
            "21:43:37   node log likelihood: -1.96118\n"
          ]
        },
        {
          "output_type": "stream",
          "name": "stderr",
          "text": [
            "WARNING:torchdrug.core.logger:node mask / graph: 46.9\n"
          ]
        },
        {
          "output_type": "stream",
          "name": "stdout",
          "text": [
            "21:43:37   node mask / graph: 46.9\n"
          ]
        },
        {
          "output_type": "stream",
          "name": "stderr",
          "text": [
            "WARNING:torchdrug.core.logger:>>>>>>>>>>>>>>>>>>>>>>>>>>>>>>\n"
          ]
        },
        {
          "output_type": "stream",
          "name": "stdout",
          "text": [
            "21:43:41   >>>>>>>>>>>>>>>>>>>>>>>>>>>>>>\n"
          ]
        },
        {
          "output_type": "stream",
          "name": "stderr",
          "text": [
            "WARNING:torchdrug.core.logger:edge log likelihood: -0.952188\n"
          ]
        },
        {
          "output_type": "stream",
          "name": "stdout",
          "text": [
            "21:43:41   edge log likelihood: -0.952188\n"
          ]
        },
        {
          "output_type": "stream",
          "name": "stderr",
          "text": [
            "WARNING:torchdrug.core.logger:edge mask / graph: 392.4\n"
          ]
        },
        {
          "output_type": "stream",
          "name": "stdout",
          "text": [
            "21:43:41   edge mask / graph: 392.4\n"
          ]
        },
        {
          "output_type": "stream",
          "name": "stderr",
          "text": [
            "WARNING:torchdrug.core.logger:node log likelihood: -4.65194\n"
          ]
        },
        {
          "output_type": "stream",
          "name": "stdout",
          "text": [
            "21:43:41   node log likelihood: -4.65194\n"
          ]
        },
        {
          "output_type": "stream",
          "name": "stderr",
          "text": [
            "WARNING:torchdrug.core.logger:node mask / graph: 39.2\n"
          ]
        },
        {
          "output_type": "stream",
          "name": "stdout",
          "text": [
            "21:43:41   node mask / graph: 39.2\n"
          ]
        },
        {
          "output_type": "stream",
          "name": "stderr",
          "text": [
            "WARNING:torchdrug.core.logger:>>>>>>>>>>>>>>>>>>>>>>>>>>>>>>\n"
          ]
        },
        {
          "output_type": "stream",
          "name": "stdout",
          "text": [
            "21:43:44   >>>>>>>>>>>>>>>>>>>>>>>>>>>>>>\n"
          ]
        },
        {
          "output_type": "stream",
          "name": "stderr",
          "text": [
            "WARNING:torchdrug.core.logger:edge log likelihood: -0.999507\n"
          ]
        },
        {
          "output_type": "stream",
          "name": "stdout",
          "text": [
            "21:43:44   edge log likelihood: -0.999507\n"
          ]
        },
        {
          "output_type": "stream",
          "name": "stderr",
          "text": [
            "WARNING:torchdrug.core.logger:edge mask / graph: 465.6\n"
          ]
        },
        {
          "output_type": "stream",
          "name": "stdout",
          "text": [
            "21:43:44   edge mask / graph: 465.6\n"
          ]
        },
        {
          "output_type": "stream",
          "name": "stderr",
          "text": [
            "WARNING:torchdrug.core.logger:node log likelihood: -1.72044\n"
          ]
        },
        {
          "output_type": "stream",
          "name": "stdout",
          "text": [
            "21:43:44   node log likelihood: -1.72044\n"
          ]
        },
        {
          "output_type": "stream",
          "name": "stderr",
          "text": [
            "WARNING:torchdrug.core.logger:node mask / graph: 45.3\n"
          ]
        },
        {
          "output_type": "stream",
          "name": "stdout",
          "text": [
            "21:43:44   node mask / graph: 45.3\n"
          ]
        },
        {
          "output_type": "stream",
          "name": "stderr",
          "text": [
            "WARNING:torchdrug.core.logger:>>>>>>>>>>>>>>>>>>>>>>>>>>>>>>\n"
          ]
        },
        {
          "output_type": "stream",
          "name": "stdout",
          "text": [
            "21:43:47   >>>>>>>>>>>>>>>>>>>>>>>>>>>>>>\n"
          ]
        },
        {
          "output_type": "stream",
          "name": "stderr",
          "text": [
            "WARNING:torchdrug.core.logger:edge log likelihood: -0.962867\n"
          ]
        },
        {
          "output_type": "stream",
          "name": "stdout",
          "text": [
            "21:43:47   edge log likelihood: -0.962867\n"
          ]
        },
        {
          "output_type": "stream",
          "name": "stderr",
          "text": [
            "WARNING:torchdrug.core.logger:edge mask / graph: 309.6\n"
          ]
        },
        {
          "output_type": "stream",
          "name": "stdout",
          "text": [
            "21:43:47   edge mask / graph: 309.6\n"
          ]
        },
        {
          "output_type": "stream",
          "name": "stderr",
          "text": [
            "WARNING:torchdrug.core.logger:node log likelihood: -0.968264\n"
          ]
        },
        {
          "output_type": "stream",
          "name": "stdout",
          "text": [
            "21:43:47   node log likelihood: -0.968264\n"
          ]
        },
        {
          "output_type": "stream",
          "name": "stderr",
          "text": [
            "WARNING:torchdrug.core.logger:node mask / graph: 32.3\n"
          ]
        },
        {
          "output_type": "stream",
          "name": "stdout",
          "text": [
            "21:43:47   node mask / graph: 32.3\n"
          ]
        },
        {
          "output_type": "stream",
          "name": "stderr",
          "text": [
            "WARNING:torchdrug.core.logger:>>>>>>>>>>>>>>>>>>>>>>>>>>>>>>\n"
          ]
        },
        {
          "output_type": "stream",
          "name": "stdout",
          "text": [
            "21:43:51   >>>>>>>>>>>>>>>>>>>>>>>>>>>>>>\n"
          ]
        },
        {
          "output_type": "stream",
          "name": "stderr",
          "text": [
            "WARNING:torchdrug.core.logger:edge log likelihood: -0.961977\n"
          ]
        },
        {
          "output_type": "stream",
          "name": "stdout",
          "text": [
            "21:43:51   edge log likelihood: -0.961977\n"
          ]
        },
        {
          "output_type": "stream",
          "name": "stderr",
          "text": [
            "WARNING:torchdrug.core.logger:edge mask / graph: 357.6\n"
          ]
        },
        {
          "output_type": "stream",
          "name": "stdout",
          "text": [
            "21:43:51   edge mask / graph: 357.6\n"
          ]
        },
        {
          "output_type": "stream",
          "name": "stderr",
          "text": [
            "WARNING:torchdrug.core.logger:node log likelihood: -0.95789\n"
          ]
        },
        {
          "output_type": "stream",
          "name": "stdout",
          "text": [
            "21:43:51   node log likelihood: -0.95789\n"
          ]
        },
        {
          "output_type": "stream",
          "name": "stderr",
          "text": [
            "WARNING:torchdrug.core.logger:node mask / graph: 36.3\n"
          ]
        },
        {
          "output_type": "stream",
          "name": "stdout",
          "text": [
            "21:43:51   node mask / graph: 36.3\n"
          ]
        },
        {
          "output_type": "stream",
          "name": "stderr",
          "text": [
            "WARNING:torchdrug.core.logger:>>>>>>>>>>>>>>>>>>>>>>>>>>>>>>\n"
          ]
        },
        {
          "output_type": "stream",
          "name": "stdout",
          "text": [
            "21:43:54   >>>>>>>>>>>>>>>>>>>>>>>>>>>>>>\n"
          ]
        },
        {
          "output_type": "stream",
          "name": "stderr",
          "text": [
            "WARNING:torchdrug.core.logger:edge log likelihood: -0.980461\n"
          ]
        },
        {
          "output_type": "stream",
          "name": "stdout",
          "text": [
            "21:43:54   edge log likelihood: -0.980461\n"
          ]
        },
        {
          "output_type": "stream",
          "name": "stderr",
          "text": [
            "WARNING:torchdrug.core.logger:edge mask / graph: 333.6\n"
          ]
        },
        {
          "output_type": "stream",
          "name": "stdout",
          "text": [
            "21:43:54   edge mask / graph: 333.6\n"
          ]
        },
        {
          "output_type": "stream",
          "name": "stderr",
          "text": [
            "WARNING:torchdrug.core.logger:node log likelihood: -1.4411\n"
          ]
        },
        {
          "output_type": "stream",
          "name": "stdout",
          "text": [
            "21:43:54   node log likelihood: -1.4411\n"
          ]
        },
        {
          "output_type": "stream",
          "name": "stderr",
          "text": [
            "WARNING:torchdrug.core.logger:node mask / graph: 34.3\n"
          ]
        },
        {
          "output_type": "stream",
          "name": "stdout",
          "text": [
            "21:43:54   node mask / graph: 34.3\n"
          ]
        },
        {
          "output_type": "stream",
          "name": "stderr",
          "text": [
            "WARNING:torchdrug.core.logger:>>>>>>>>>>>>>>>>>>>>>>>>>>>>>>\n"
          ]
        },
        {
          "output_type": "stream",
          "name": "stdout",
          "text": [
            "21:43:57   >>>>>>>>>>>>>>>>>>>>>>>>>>>>>>\n"
          ]
        },
        {
          "output_type": "stream",
          "name": "stderr",
          "text": [
            "WARNING:torchdrug.core.logger:edge log likelihood: -0.96727\n"
          ]
        },
        {
          "output_type": "stream",
          "name": "stdout",
          "text": [
            "21:43:57   edge log likelihood: -0.96727\n"
          ]
        },
        {
          "output_type": "stream",
          "name": "stderr",
          "text": [
            "WARNING:torchdrug.core.logger:edge mask / graph: 368.4\n"
          ]
        },
        {
          "output_type": "stream",
          "name": "stdout",
          "text": [
            "21:43:57   edge mask / graph: 368.4\n"
          ]
        },
        {
          "output_type": "stream",
          "name": "stderr",
          "text": [
            "WARNING:torchdrug.core.logger:node log likelihood: -1.11428\n"
          ]
        },
        {
          "output_type": "stream",
          "name": "stdout",
          "text": [
            "21:43:57   node log likelihood: -1.11428\n"
          ]
        },
        {
          "output_type": "stream",
          "name": "stderr",
          "text": [
            "WARNING:torchdrug.core.logger:node mask / graph: 37.2\n"
          ]
        },
        {
          "output_type": "stream",
          "name": "stdout",
          "text": [
            "21:43:57   node mask / graph: 37.2\n"
          ]
        },
        {
          "output_type": "stream",
          "name": "stderr",
          "text": [
            "WARNING:torchdrug.core.logger:>>>>>>>>>>>>>>>>>>>>>>>>>>>>>>\n"
          ]
        },
        {
          "output_type": "stream",
          "name": "stdout",
          "text": [
            "21:44:01   >>>>>>>>>>>>>>>>>>>>>>>>>>>>>>\n"
          ]
        },
        {
          "output_type": "stream",
          "name": "stderr",
          "text": [
            "WARNING:torchdrug.core.logger:edge log likelihood: -1.03008\n"
          ]
        },
        {
          "output_type": "stream",
          "name": "stdout",
          "text": [
            "21:44:01   edge log likelihood: -1.03008\n"
          ]
        },
        {
          "output_type": "stream",
          "name": "stderr",
          "text": [
            "WARNING:torchdrug.core.logger:edge mask / graph: 421.2\n"
          ]
        },
        {
          "output_type": "stream",
          "name": "stdout",
          "text": [
            "21:44:01   edge mask / graph: 421.2\n"
          ]
        },
        {
          "output_type": "stream",
          "name": "stderr",
          "text": [
            "WARNING:torchdrug.core.logger:node log likelihood: -2.36255\n"
          ]
        },
        {
          "output_type": "stream",
          "name": "stdout",
          "text": [
            "21:44:01   node log likelihood: -2.36255\n"
          ]
        },
        {
          "output_type": "stream",
          "name": "stderr",
          "text": [
            "WARNING:torchdrug.core.logger:node mask / graph: 41.6\n"
          ]
        },
        {
          "output_type": "stream",
          "name": "stdout",
          "text": [
            "21:44:01   node mask / graph: 41.6\n"
          ]
        },
        {
          "output_type": "stream",
          "name": "stderr",
          "text": [
            "WARNING:torchdrug.core.logger:>>>>>>>>>>>>>>>>>>>>>>>>>>>>>>\n"
          ]
        },
        {
          "output_type": "stream",
          "name": "stdout",
          "text": [
            "21:44:05   >>>>>>>>>>>>>>>>>>>>>>>>>>>>>>\n"
          ]
        },
        {
          "output_type": "stream",
          "name": "stderr",
          "text": [
            "WARNING:torchdrug.core.logger:edge log likelihood: -0.988713\n"
          ]
        },
        {
          "output_type": "stream",
          "name": "stdout",
          "text": [
            "21:44:05   edge log likelihood: -0.988713\n"
          ]
        },
        {
          "output_type": "stream",
          "name": "stderr",
          "text": [
            "WARNING:torchdrug.core.logger:edge mask / graph: 373.2\n"
          ]
        },
        {
          "output_type": "stream",
          "name": "stdout",
          "text": [
            "21:44:05   edge mask / graph: 373.2\n"
          ]
        },
        {
          "output_type": "stream",
          "name": "stderr",
          "text": [
            "WARNING:torchdrug.core.logger:node log likelihood: -7.86153\n"
          ]
        },
        {
          "output_type": "stream",
          "name": "stdout",
          "text": [
            "21:44:05   node log likelihood: -7.86153\n"
          ]
        },
        {
          "output_type": "stream",
          "name": "stderr",
          "text": [
            "WARNING:torchdrug.core.logger:node mask / graph: 37.6\n"
          ]
        },
        {
          "output_type": "stream",
          "name": "stdout",
          "text": [
            "21:44:05   node mask / graph: 37.6\n"
          ]
        },
        {
          "output_type": "stream",
          "name": "stderr",
          "text": [
            "WARNING:torchdrug.core.logger:>>>>>>>>>>>>>>>>>>>>>>>>>>>>>>\n"
          ]
        },
        {
          "output_type": "stream",
          "name": "stdout",
          "text": [
            "21:44:08   >>>>>>>>>>>>>>>>>>>>>>>>>>>>>>\n"
          ]
        },
        {
          "output_type": "stream",
          "name": "stderr",
          "text": [
            "WARNING:torchdrug.core.logger:edge log likelihood: -1.01667\n"
          ]
        },
        {
          "output_type": "stream",
          "name": "stdout",
          "text": [
            "21:44:08   edge log likelihood: -1.01667\n"
          ]
        },
        {
          "output_type": "stream",
          "name": "stderr",
          "text": [
            "WARNING:torchdrug.core.logger:edge mask / graph: 397.2\n"
          ]
        },
        {
          "output_type": "stream",
          "name": "stdout",
          "text": [
            "21:44:08   edge mask / graph: 397.2\n"
          ]
        },
        {
          "output_type": "stream",
          "name": "stderr",
          "text": [
            "WARNING:torchdrug.core.logger:node log likelihood: -1.44089\n"
          ]
        },
        {
          "output_type": "stream",
          "name": "stdout",
          "text": [
            "21:44:08   node log likelihood: -1.44089\n"
          ]
        },
        {
          "output_type": "stream",
          "name": "stderr",
          "text": [
            "WARNING:torchdrug.core.logger:node mask / graph: 39.6\n"
          ]
        },
        {
          "output_type": "stream",
          "name": "stdout",
          "text": [
            "21:44:08   node mask / graph: 39.6\n"
          ]
        },
        {
          "output_type": "stream",
          "name": "stderr",
          "text": [
            "WARNING:torchdrug.core.meter:>>>>>>>>>>>>>>>>>>>>>>>>>>>>>>\n"
          ]
        },
        {
          "output_type": "stream",
          "name": "stdout",
          "text": [
            "21:44:10   >>>>>>>>>>>>>>>>>>>>>>>>>>>>>>\n"
          ]
        },
        {
          "output_type": "stream",
          "name": "stderr",
          "text": [
            "WARNING:torchdrug.core.meter:Epoch 4 end\n"
          ]
        },
        {
          "output_type": "stream",
          "name": "stdout",
          "text": [
            "21:44:10   Epoch 4 end\n"
          ]
        },
        {
          "output_type": "stream",
          "name": "stderr",
          "text": [
            "WARNING:torchdrug.core.meter:duration: 2.74 mins\n"
          ]
        },
        {
          "output_type": "stream",
          "name": "stdout",
          "text": [
            "21:44:10   duration: 2.74 mins\n"
          ]
        },
        {
          "output_type": "stream",
          "name": "stderr",
          "text": [
            "WARNING:torchdrug.core.meter:speed: 2.93 batch / sec\n"
          ]
        },
        {
          "output_type": "stream",
          "name": "stdout",
          "text": [
            "21:44:10   speed: 2.93 batch / sec\n"
          ]
        },
        {
          "output_type": "stream",
          "name": "stderr",
          "text": [
            "WARNING:torchdrug.core.meter:ETA: 0.00 secs\n"
          ]
        },
        {
          "output_type": "stream",
          "name": "stdout",
          "text": [
            "21:44:10   ETA: 0.00 secs\n"
          ]
        },
        {
          "output_type": "stream",
          "name": "stderr",
          "text": [
            "WARNING:torchdrug.core.meter:max GPU memory: 3126.1 MiB\n"
          ]
        },
        {
          "output_type": "stream",
          "name": "stdout",
          "text": [
            "21:44:10   max GPU memory: 3126.1 MiB\n"
          ]
        },
        {
          "output_type": "stream",
          "name": "stderr",
          "text": [
            "WARNING:torchdrug.core.logger:------------------------------\n"
          ]
        },
        {
          "output_type": "stream",
          "name": "stdout",
          "text": [
            "21:44:10   ------------------------------\n"
          ]
        },
        {
          "output_type": "stream",
          "name": "stderr",
          "text": [
            "WARNING:torchdrug.core.logger:average edge log likelihood: -0.982575\n"
          ]
        },
        {
          "output_type": "stream",
          "name": "stdout",
          "text": [
            "21:44:10   average edge log likelihood: -0.982575\n"
          ]
        },
        {
          "output_type": "stream",
          "name": "stderr",
          "text": [
            "WARNING:torchdrug.core.logger:average edge mask / graph: 394.76\n"
          ]
        },
        {
          "output_type": "stream",
          "name": "stdout",
          "text": [
            "21:44:10   average edge mask / graph: 394.76\n"
          ]
        },
        {
          "output_type": "stream",
          "name": "stderr",
          "text": [
            "WARNING:torchdrug.core.logger:average node log likelihood: -2.7538\n"
          ]
        },
        {
          "output_type": "stream",
          "name": "stdout",
          "text": [
            "21:44:10   average node log likelihood: -2.7538\n"
          ]
        },
        {
          "output_type": "stream",
          "name": "stderr",
          "text": [
            "WARNING:torchdrug.core.logger:average node mask / graph: 39.3967\n"
          ]
        },
        {
          "output_type": "stream",
          "name": "stdout",
          "text": [
            "21:44:10   average node mask / graph: 39.3967\n"
          ]
        },
        {
          "output_type": "stream",
          "name": "stderr",
          "text": [
            "WARNING:torchdrug.core.engine:Save checkpoint to graphaf_WB3.pkl\n"
          ]
        },
        {
          "output_type": "stream",
          "name": "stdout",
          "text": [
            "21:44:10   Save checkpoint to graphaf_WB3.pkl\n"
          ]
        }
      ]
    },
    {
      "cell_type": "code",
      "source": [
        "import torch\n",
        "torch.cuda.empty_cache()"
      ],
      "metadata": {
        "id": "Yd5WpDvFwFNG"
      },
      "execution_count": null,
      "outputs": []
    },
    {
      "cell_type": "code",
      "source": [
        "from collections import defaultdict\n",
        "\n",
        "solver.load(\"graphaf_WB3.pkl\")\n",
        "results = task.generate(num_sample=32)\n",
        "print(results.to_smiles())"
      ],
      "metadata": {
        "colab": {
          "base_uri": "https://localhost:8080/"
        },
        "id": "xloHBpl5kUne",
        "outputId": "86863119-ca44-436a-c69e-ee7803511a62"
      },
      "execution_count": null,
      "outputs": [
        {
          "output_type": "stream",
          "name": "stderr",
          "text": [
            "WARNING:torchdrug.core.engine:Load checkpoint from graphaf_WB3.pkl\n"
          ]
        },
        {
          "output_type": "stream",
          "name": "stdout",
          "text": [
            "21:44:36   Load checkpoint from graphaf_WB3.pkl\n",
            "['CCCC', 'CC=C(C)CCC', 'CCC=C(CC)CC', 'C=C(Cl)Br', 'C', 'CC1=CC1', 'C=CC(C)CCC', 'C=CCC', 'C=C1C=CCC(=CC)C=C(C)C1=CC', 'C=CC(C)(C)C(C)(C)CC', 'C=CC1=NC1C', 'C=CC=C(C)C(C)=CC', 'C=CC1=C(CBr)CC1', 'C=CC1C=C(CC)C(CC)=N1', 'C=CC(CC)C(C)(C)C(C)C', 'C', 'CCC(C)(C)C1(C)C=CC=C1', 'C=CC', 'C=C(C)C', 'CCC(C)C(C)C', 'C=CC1CC(C)C1(C)CC', 'C1=CCC=C1', 'CC=C(C)C1=C=C=CC(C(C)C)C=C(CCC)C=C1C', 'C1=CC=CC=CC=C1', 'CCC1C(C)=CC=CC=C(C)C2=C3C=CC(C)=[SH]21C3', 'CCC(C)(C)C', 'CC=CC(=CC)C1C=C1', 'CCC1(C)C(C)C=C(O)C1(C)C', 'CC1=CC=C1C', 'CC1(C)C2=S3CC(=C2)C31C', 'CC=CC(C)=CCC']\n"
          ]
        }
      ]
    }
  ]
}