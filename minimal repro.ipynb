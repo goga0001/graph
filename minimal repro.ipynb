{
  "nbformat": 4,
  "nbformat_minor": 0,
  "metadata": {
    "colab": {
      "provenance": [],
      "include_colab_link": true
    },
    "kernelspec": {
      "name": "python3",
      "display_name": "Python 3"
    },
    "language_info": {
      "name": "python"
    },
    "accelerator": "GPU",
    "gpuClass": "standard"
  },
  "cells": [
    {
      "cell_type": "markdown",
      "metadata": {
        "id": "view-in-github",
        "colab_type": "text"
      },
      "source": [
        "<a href=\"https://colab.research.google.com/github/goga0001/graph/blob/main/minimal%20repro.ipynb\" target=\"_parent\"><img src=\"https://colab.research.google.com/assets/colab-badge.svg\" alt=\"Open In Colab\"/></a>"
      ]
    },
    {
      "cell_type": "markdown",
      "source": [
        "# **Manual Steps**\n",
        "\n",
        "---\n",
        "\n",
        "\n",
        "\n",
        "\n",
        "> Set the runtime to GPU via \"Runtime > Change runtime type...\"\n",
        "\n",
        "\n",
        "\n",
        "\n",
        "\n"
      ],
      "metadata": {
        "id": "ch8szVrIIkwK"
      }
    },
    {
      "cell_type": "markdown",
      "source": [
        "# **Clone Git repository**"
      ],
      "metadata": {
        "id": "f5cttStjITfz"
      }
    },
    {
      "cell_type": "code",
      "execution_count": 1,
      "metadata": {
        "colab": {
          "base_uri": "https://localhost:8080/"
        },
        "id": "It4pOlhdUfmb",
        "outputId": "684f30b6-b24a-4a8c-c415-32d23542a45c"
      },
      "outputs": [
        {
          "output_type": "stream",
          "name": "stdout",
          "text": [
            "Cloning into 'torchdrug'...\n",
            "remote: Enumerating objects: 1231, done.\u001b[K\n",
            "remote: Counting objects: 100% (601/601), done.\u001b[K\n",
            "remote: Compressing objects: 100% (265/265), done.\u001b[K\n",
            "remote: Total 1231 (delta 363), reused 486 (delta 321), pack-reused 630\u001b[K\n",
            "Receiving objects: 100% (1231/1231), 2.62 MiB | 27.42 MiB/s, done.\n",
            "Resolving deltas: 100% (629/629), done.\n"
          ]
        }
      ],
      "source": [
        "!git clone https://github.com/DeepGraphLearning/torchdrug"
      ]
    },
    {
      "cell_type": "code",
      "source": [
        "cd torchdrug"
      ],
      "metadata": {
        "colab": {
          "base_uri": "https://localhost:8080/"
        },
        "id": "sSUnsjtQbdKy",
        "outputId": "af3ba3f9-a2f4-40f6-abd1-b4a054f4a95e"
      },
      "execution_count": 2,
      "outputs": [
        {
          "output_type": "stream",
          "name": "stdout",
          "text": [
            "/content/torchdrug\n"
          ]
        }
      ]
    },
    {
      "cell_type": "markdown",
      "source": [
        "# **Install requirements**"
      ],
      "metadata": {
        "id": "vR09nEPUGAT9"
      }
    },
    {
      "cell_type": "code",
      "source": [
        "!pip install decorator  rdkit rdkit-pypi torch_geometric==2.0.4 matplotlib  tqdm  networkx   jinja2  lmdb  fair-esm "
      ],
      "metadata": {
        "id": "bhuItqMHvw8d",
        "collapsed": true
      },
      "execution_count": null,
      "outputs": []
    },
    {
      "cell_type": "code",
      "source": [
        "!pip install --no-index torch-scatter -f https://pytorch-geometric.com/whl/torch-1.12.1+cu113.html\n",
        "!pip install --no-index torch-sparse -f https://pytorch-geometric.com/whl/torch-1.12.1+cu113.html\n",
        "!pip install --no-index torch-cluster -f https://pytorch-geometric.com/whl/torch-1.12.1+cu113.html\n",
        "!pip install --no-index torch-spline-conv -f https://pytorch-geometric.com/whl/torch-1.12.1+cu113.html"
      ],
      "metadata": {
        "id": "X4br3u8Wg60I",
        "collapsed": true
      },
      "execution_count": null,
      "outputs": []
    },
    {
      "cell_type": "code",
      "source": [
        "pip install fair-esm==0.1.0"
      ],
      "metadata": {
        "id": "ou91Bthtx_cX",
        "collapsed": true,
        "outputId": "f53efdc2-d4c2-4a42-9f4a-492775078efd",
        "colab": {
          "base_uri": "https://localhost:8080/"
        }
      },
      "execution_count": 6,
      "outputs": [
        {
          "output_type": "stream",
          "name": "stdout",
          "text": [
            "Looking in indexes: https://pypi.org/simple, https://us-python.pkg.dev/colab-wheels/public/simple/\n",
            "Collecting fair-esm==0.1.0\n",
            "  Downloading fair_esm-0.1.0-py3-none-any.whl (23 kB)\n",
            "Installing collected packages: fair-esm\n",
            "  Attempting uninstall: fair-esm\n",
            "    Found existing installation: fair-esm 2.0.0\n",
            "    Uninstalling fair-esm-2.0.0:\n",
            "      Successfully uninstalled fair-esm-2.0.0\n",
            "Successfully installed fair-esm-0.1.0\n"
          ]
        }
      ]
    },
    {
      "cell_type": "code",
      "source": [
        "!pip install Ninja==1.10.2.4"
      ],
      "metadata": {
        "id": "RyDGjm4t5K5w",
        "outputId": "2f6b60c2-8715-4064-a0c7-9b2345f897c8",
        "colab": {
          "base_uri": "https://localhost:8080/"
        }
      },
      "execution_count": 5,
      "outputs": [
        {
          "output_type": "stream",
          "name": "stdout",
          "text": [
            "Looking in indexes: https://pypi.org/simple, https://us-python.pkg.dev/colab-wheels/public/simple/\n",
            "Collecting Ninja==1.10.2.4\n",
            "  Downloading ninja-1.10.2.4-py2.py3-none-manylinux_2_5_x86_64.manylinux1_x86_64.whl (120 kB)\n",
            "\u001b[K     |████████████████████████████████| 120 kB 30.6 MB/s \n",
            "\u001b[?25hInstalling collected packages: Ninja\n",
            "Successfully installed Ninja-1.10.2.4\n"
          ]
        }
      ]
    },
    {
      "cell_type": "code",
      "source": [
        "pip install torch torchvision"
      ],
      "metadata": {
        "id": "lbTycvFjkmM2",
        "outputId": "1fb07eab-1b18-43e1-c41f-ad2be82c4170",
        "colab": {
          "base_uri": "https://localhost:8080/"
        }
      },
      "execution_count": 7,
      "outputs": [
        {
          "output_type": "stream",
          "name": "stdout",
          "text": [
            "Looking in indexes: https://pypi.org/simple, https://us-python.pkg.dev/colab-wheels/public/simple/\n",
            "Requirement already satisfied: torch in /usr/local/lib/python3.7/dist-packages (1.12.1+cu113)\n",
            "Requirement already satisfied: torchvision in /usr/local/lib/python3.7/dist-packages (0.13.1+cu113)\n",
            "Requirement already satisfied: typing-extensions in /usr/local/lib/python3.7/dist-packages (from torch) (4.1.1)\n",
            "Requirement already satisfied: numpy in /usr/local/lib/python3.7/dist-packages (from torchvision) (1.21.6)\n",
            "Requirement already satisfied: requests in /usr/local/lib/python3.7/dist-packages (from torchvision) (2.23.0)\n",
            "Requirement already satisfied: pillow!=8.3.*,>=5.3.0 in /usr/local/lib/python3.7/dist-packages (from torchvision) (7.1.2)\n",
            "Requirement already satisfied: certifi>=2017.4.17 in /usr/local/lib/python3.7/dist-packages (from requests->torchvision) (2022.9.24)\n",
            "Requirement already satisfied: chardet<4,>=3.0.2 in /usr/local/lib/python3.7/dist-packages (from requests->torchvision) (3.0.4)\n",
            "Requirement already satisfied: urllib3!=1.25.0,!=1.25.1,<1.26,>=1.21.1 in /usr/local/lib/python3.7/dist-packages (from requests->torchvision) (1.24.3)\n",
            "Requirement already satisfied: idna<3,>=2.5 in /usr/local/lib/python3.7/dist-packages (from requests->torchvision) (2.10)\n"
          ]
        }
      ]
    },
    {
      "cell_type": "markdown",
      "source": [
        "# **Run setup.py**"
      ],
      "metadata": {
        "id": "1_ttU8GxGo1L"
      }
    },
    {
      "cell_type": "code",
      "source": [
        "!python setup.py install"
      ],
      "metadata": {
        "id": "Oqlw4XW6dL2V",
        "collapsed": true
      },
      "execution_count": null,
      "outputs": []
    },
    {
      "cell_type": "markdown",
      "source": [
        "# **Prepare the Pretraining Dataset(5 min)**"
      ],
      "metadata": {
        "id": "w1gaxOzxGttx"
      }
    },
    {
      "cell_type": "markdown",
      "source": [
        " Before registering new dataset- upload csv(https://raw.githubusercontent.com/goga0001/graph/main/data.csv) into dataset folder"
      ],
      "metadata": {
        "id": "QKxdwuYDT7Jg"
      }
    },
    {
      "cell_type": "code",
      "source": [
        "import os\n",
        "\n",
        "from torchdrug import data, utils\n",
        "from torchdrug.core import Registry as R\n",
        "from collections import defaultdict\n",
        "\n",
        "from torch.utils import data as torch_data\n",
        "\n",
        "from torchdrug import data\n",
        "from torchdrug.utils import doc\n",
        "\n",
        "\n",
        "@R.register(\"datasets.WB6\")\n",
        "@utils.copy_args(data.MoleculeDataset.load_csv, ignore=(\"smiles_field\", \"target_fields\"))\n",
        "class WB6(data.MoleculeDataset):\n",
        "    \"\"\"\n",
        "    Subset of random compound database for virtual screening.\n",
        "\n",
        "    Statistics:\n",
        "        - #Molecule:  4806\n",
        "        - #Regression task: 2\n",
        "\n",
        "    Parameters:\n",
        "        path (str): path to store the dataset\n",
        "        verbose (int, optional): output verbose level\n",
        "        **kwargs\n",
        "    \"\"\"\n",
        "\n",
        "    csv_file = \"/content/torchdrug/torchdrug/datasets/data.csv\"\n",
        "    target_fields = [\"logP\",\"qed\"]\n",
        "\n",
        "    def __init__(self, path, verbose=1, **kwargs ):\n",
        "        self.load_csv(self.csv_file, smiles_field=\"smiles\", target_fields=self.target_fields,\n",
        "                      verbose=verbose, **kwargs)"
      ],
      "metadata": {
        "id": "tAcylILge186"
      },
      "execution_count": 9,
      "outputs": []
    },
    {
      "cell_type": "code",
      "source": [
        "cd datasets/ "
      ],
      "metadata": {
        "colab": {
          "base_uri": "https://localhost:8080/"
        },
        "id": "XZBm7NW0MmZ5",
        "outputId": "4219e81f-17e2-4af6-d46b-966eb09927ef"
      },
      "execution_count": 17,
      "outputs": [
        {
          "output_type": "stream",
          "name": "stdout",
          "text": [
            "/content/torchdrug/torchdrug/datasets\n"
          ]
        }
      ]
    },
    {
      "cell_type": "code",
      "source": [
        "import torch\n",
        "from torchdrug import core, models, tasks\n",
        "\n",
        "\n",
        "dataset = WB6(\"/content/torchdrug/torchdrug/datasets/data.csv\", kekulize=True,\n",
        "                            atom_feature=\"symbol\")\n",
        "\n",
        "\n",
        "\n",
        "\n"
      ],
      "metadata": {
        "id": "IUIk87mn6vXT",
        "outputId": "975b08e7-70ed-48af-9bbb-a992318091cb",
        "colab": {
          "base_uri": "https://localhost:8080/"
        }
      },
      "execution_count": 18,
      "outputs": [
        {
          "output_type": "stream",
          "name": "stderr",
          "text": [
            "Loading /content/torchdrug/torchdrug/datasets/data.csv: 4807it [00:00, 59662.42it/s]            \n",
            "Constructing molecules from SMILES: 100%|██████████| 4806/4806 [00:08<00:00, 538.50it/s]\n"
          ]
        }
      ]
    },
    {
      "cell_type": "markdown",
      "source": [
        "# **Define the Model: GraphAF (30sec)**"
      ],
      "metadata": {
        "id": "Y4XR-lzMG9NQ"
      }
    },
    {
      "cell_type": "code",
      "source": [
        "from torchdrug import core, models, tasks\n",
        "from torchdrug.layers import distribution\n",
        "\n",
        "model = models.RGCN(input_dim=dataset.num_atom_type,\n",
        "                    num_relation=dataset.num_bond_type,\n",
        "                    hidden_dims=[256, 256, 256], batch_norm=True)\n",
        "\n",
        "num_atom_type = dataset.num_atom_type\n",
        "# add one class for non-edge\n",
        "num_bond_type = dataset.num_bond_type + 1\n",
        "\n",
        "node_prior = distribution.IndependentGaussian(torch.zeros(num_atom_type),\n",
        "                                              torch.ones(num_atom_type))\n",
        "edge_prior = distribution.IndependentGaussian(torch.zeros(num_bond_type),\n",
        "                                              torch.ones(num_bond_type))\n",
        "node_flow = models.GraphAF(model, node_prior, num_layer=12)\n",
        "edge_flow = models.GraphAF(model, edge_prior, use_edge=True, num_layer=12)\n",
        "\n",
        "task = tasks.AutoregressiveGeneration(node_flow, edge_flow,\n",
        "                                      max_node=38, max_edge_unroll=12,\n",
        "                                      criterion=\"nll\")"
      ],
      "metadata": {
        "id": "_6TcKm0Ovo4p"
      },
      "execution_count": 19,
      "outputs": []
    },
    {
      "cell_type": "code",
      "source": [
        "dataset.num_bond_type"
      ],
      "metadata": {
        "id": "Xk5ebiWKh6r1",
        "outputId": "7fdbdbb3-f067-4f78-fa89-cdf66807c4a4",
        "colab": {
          "base_uri": "https://localhost:8080/"
        }
      },
      "execution_count": 20,
      "outputs": [
        {
          "output_type": "execute_result",
          "data": {
            "text/plain": [
              "2"
            ]
          },
          "metadata": {},
          "execution_count": 20
        }
      ]
    },
    {
      "cell_type": "code",
      "source": [
        "model.layers[0].num_relation"
      ],
      "metadata": {
        "id": "dAbr1bp2gUs2",
        "outputId": "276d4b9e-0088-4317-d855-99714e0c29a3",
        "colab": {
          "base_uri": "https://localhost:8080/"
        }
      },
      "execution_count": 21,
      "outputs": [
        {
          "output_type": "execute_result",
          "data": {
            "text/plain": [
              "2"
            ]
          },
          "metadata": {},
          "execution_count": 21
        }
      ]
    },
    {
      "cell_type": "code",
      "source": [
        "dataset[2][\"graph\"].num_relation\n",
        "\n",
        "for data in dataset:\n",
        "  data['graph'].num_relation = torch.tensor(2)"
      ],
      "metadata": {
        "id": "al72RbTbgZjO"
      },
      "execution_count": 23,
      "outputs": []
    },
    {
      "cell_type": "code",
      "source": [
        "dataset[2][\"graph\"].num_relation"
      ],
      "metadata": {
        "id": "nWR5B3Hz7s3A",
        "outputId": "75dc754d-229c-4dc3-b2d9-5c26d1628c3d",
        "colab": {
          "base_uri": "https://localhost:8080/"
        }
      },
      "execution_count": 24,
      "outputs": [
        {
          "output_type": "execute_result",
          "data": {
            "text/plain": [
              "tensor(2)"
            ]
          },
          "metadata": {},
          "execution_count": 24
        }
      ]
    },
    {
      "cell_type": "markdown",
      "source": [
        "# **Pretraining and Generation: GraphAF**"
      ],
      "metadata": {
        "id": "DAFclFUMHBuL"
      }
    },
    {
      "cell_type": "code",
      "source": [
        "from torch import nn, optim\n",
        "optimizer = optim.Adam(task.parameters(), lr = 1e-3)\n",
        "solver = core.Engine(task, dataset, None, None, optimizer,\n",
        "                     gpus=(0,), batch_size=128, log_interval=10)\n",
        "\n",
        "solver.train(num_epoch=1)\n",
        "solver.save(\"graphaf_WB.pkl\")"
      ],
      "metadata": {
        "id": "UFcUn1WVYoew",
        "outputId": "e92ffd77-6670-4f46-eaff-85669dad840b",
        "colab": {
          "base_uri": "https://localhost:8080/",
          "height": 1000
        }
      },
      "execution_count": 28,
      "outputs": [
        {
          "output_type": "stream",
          "name": "stderr",
          "text": [
            "WARNING:torchdrug.core.engine:Preprocess training set\n"
          ]
        },
        {
          "output_type": "stream",
          "name": "stdout",
          "text": [
            "04:39:59   Preprocess training set\n"
          ]
        },
        {
          "output_type": "stream",
          "name": "stderr",
          "text": [
            "WARNING:torchdrug.core.logger:{'batch_size': 128,\n",
            " 'class': 'core.Engine',\n",
            " 'gpus': (0,),\n",
            " 'gradient_interval': 1,\n",
            " 'log_interval': 10,\n",
            " 'logger': 'logging',\n",
            " 'num_worker': 0,\n",
            " 'optimizer': {'amsgrad': False,\n",
            "               'betas': (0.9, 0.999),\n",
            "               'capturable': False,\n",
            "               'class': 'optim.Adam',\n",
            "               'eps': 1e-08,\n",
            "               'foreach': None,\n",
            "               'lr': 0.001,\n",
            "               'maximize': False,\n",
            "               'weight_decay': 0},\n",
            " 'scheduler': None,\n",
            " 'task': {'agent_update_interval': 5,\n",
            "          'baseline_momentum': 0.9,\n",
            "          'class': 'tasks.AutoregressiveGeneration',\n",
            "          'criterion': 'nll',\n",
            "          'edge_model': {'class': 'models.GraphAF',\n",
            "                         'dequantization_noise': 0.9,\n",
            "                         'model': {'activation': 'relu',\n",
            "                                   'batch_norm': True,\n",
            "                                   'class': 'models.RGCN',\n",
            "                                   'concat_hidden': False,\n",
            "                                   'edge_input_dim': None,\n",
            "                                   'hidden_dims': [256, 256, 256],\n",
            "                                   'input_dim': 7,\n",
            "                                   'num_relation': 2,\n",
            "                                   'readout': 'sum',\n",
            "                                   'short_cut': False},\n",
            "                         'num_layer': 12,\n",
            "                         'num_mlp_layer': 2,\n",
            "                         'prior': IndependentGaussian(),\n",
            "                         'use_edge': True},\n",
            "          'gamma': 0.9,\n",
            "          'max_edge_unroll': 12,\n",
            "          'max_node': 38,\n",
            "          'node_model': {'class': 'models.GraphAF',\n",
            "                         'dequantization_noise': 0.9,\n",
            "                         'model': {'activation': 'relu',\n",
            "                                   'batch_norm': True,\n",
            "                                   'class': 'models.RGCN',\n",
            "                                   'concat_hidden': False,\n",
            "                                   'edge_input_dim': None,\n",
            "                                   'hidden_dims': [256, 256, 256],\n",
            "                                   'input_dim': 7,\n",
            "                                   'num_relation': 2,\n",
            "                                   'readout': 'sum',\n",
            "                                   'short_cut': False},\n",
            "                         'num_layer': 12,\n",
            "                         'num_mlp_layer': 2,\n",
            "                         'prior': IndependentGaussian(),\n",
            "                         'use_edge': False},\n",
            "          'num_edge_sample': -1,\n",
            "          'num_node_sample': -1,\n",
            "          'reward_temperature': 1,\n",
            "          'task': ()},\n",
            " 'test_set': None,\n",
            " 'train_set': {'atom_feature': 'symbol',\n",
            "               'class': 'datasets.WB6',\n",
            "               'kekulize': True,\n",
            "               'path': '/content/torchdrug/torchdrug/datasets/data.csv',\n",
            "               'verbose': 1},\n",
            " 'valid_set': None}\n"
          ]
        },
        {
          "output_type": "stream",
          "name": "stdout",
          "text": [
            "04:39:59   {'batch_size': 128,\n",
            " 'class': 'core.Engine',\n",
            " 'gpus': (0,),\n",
            " 'gradient_interval': 1,\n",
            " 'log_interval': 10,\n",
            " 'logger': 'logging',\n",
            " 'num_worker': 0,\n",
            " 'optimizer': {'amsgrad': False,\n",
            "               'betas': (0.9, 0.999),\n",
            "               'capturable': False,\n",
            "               'class': 'optim.Adam',\n",
            "               'eps': 1e-08,\n",
            "               'foreach': None,\n",
            "               'lr': 0.001,\n",
            "               'maximize': False,\n",
            "               'weight_decay': 0},\n",
            " 'scheduler': None,\n",
            " 'task': {'agent_update_interval': 5,\n",
            "          'baseline_momentum': 0.9,\n",
            "          'class': 'tasks.AutoregressiveGeneration',\n",
            "          'criterion': 'nll',\n",
            "          'edge_model': {'class': 'models.GraphAF',\n",
            "                         'dequantization_noise': 0.9,\n",
            "                         'model': {'activation': 'relu',\n",
            "                                   'batch_norm': True,\n",
            "                                   'class': 'models.RGCN',\n",
            "                                   'concat_hidden': False,\n",
            "                                   'edge_input_dim': None,\n",
            "                                   'hidden_dims': [256, 256, 256],\n",
            "                                   'input_dim': 7,\n",
            "                                   'num_relation': 2,\n",
            "                                   'readout': 'sum',\n",
            "                                   'short_cut': False},\n",
            "                         'num_layer': 12,\n",
            "                         'num_mlp_layer': 2,\n",
            "                         'prior': IndependentGaussian(),\n",
            "                         'use_edge': True},\n",
            "          'gamma': 0.9,\n",
            "          'max_edge_unroll': 12,\n",
            "          'max_node': 38,\n",
            "          'node_model': {'class': 'models.GraphAF',\n",
            "                         'dequantization_noise': 0.9,\n",
            "                         'model': {'activation': 'relu',\n",
            "                                   'batch_norm': True,\n",
            "                                   'class': 'models.RGCN',\n",
            "                                   'concat_hidden': False,\n",
            "                                   'edge_input_dim': None,\n",
            "                                   'hidden_dims': [256, 256, 256],\n",
            "                                   'input_dim': 7,\n",
            "                                   'num_relation': 2,\n",
            "                                   'readout': 'sum',\n",
            "                                   'short_cut': False},\n",
            "                         'num_layer': 12,\n",
            "                         'num_mlp_layer': 2,\n",
            "                         'prior': IndependentGaussian(),\n",
            "                         'use_edge': False},\n",
            "          'num_edge_sample': -1,\n",
            "          'num_node_sample': -1,\n",
            "          'reward_temperature': 1,\n",
            "          'task': ()},\n",
            " 'test_set': None,\n",
            " 'train_set': {'atom_feature': 'symbol',\n",
            "               'class': 'datasets.WB6',\n",
            "               'kekulize': True,\n",
            "               'path': '/content/torchdrug/torchdrug/datasets/data.csv',\n",
            "               'verbose': 1},\n",
            " 'valid_set': None}\n"
          ]
        },
        {
          "output_type": "stream",
          "name": "stderr",
          "text": [
            "WARNING:torchdrug.core.meter:>>>>>>>>>>>>>>>>>>>>>>>>>>>>>>\n"
          ]
        },
        {
          "output_type": "stream",
          "name": "stdout",
          "text": [
            "04:39:59   >>>>>>>>>>>>>>>>>>>>>>>>>>>>>>\n"
          ]
        },
        {
          "output_type": "stream",
          "name": "stderr",
          "text": [
            "WARNING:torchdrug.core.meter:Epoch 0 begin\n"
          ]
        },
        {
          "output_type": "stream",
          "name": "stdout",
          "text": [
            "04:39:59   Epoch 0 begin\n"
          ]
        },
        {
          "output_type": "error",
          "ename": "AssertionError",
          "evalue": "ignored",
          "traceback": [
            "\u001b[0;31m---------------------------------------------------------------------------\u001b[0m",
            "\u001b[0;31mAssertionError\u001b[0m                            Traceback (most recent call last)",
            "\u001b[0;32m<ipython-input-28-f4378a07ccb4>\u001b[0m in \u001b[0;36m<module>\u001b[0;34m\u001b[0m\n\u001b[1;32m      4\u001b[0m                      gpus=(0,), batch_size=128, log_interval=10)\n\u001b[1;32m      5\u001b[0m \u001b[0;34m\u001b[0m\u001b[0m\n\u001b[0;32m----> 6\u001b[0;31m \u001b[0msolver\u001b[0m\u001b[0;34m.\u001b[0m\u001b[0mtrain\u001b[0m\u001b[0;34m(\u001b[0m\u001b[0mnum_epoch\u001b[0m\u001b[0;34m=\u001b[0m\u001b[0;36m1\u001b[0m\u001b[0;34m)\u001b[0m\u001b[0;34m\u001b[0m\u001b[0;34m\u001b[0m\u001b[0m\n\u001b[0m\u001b[1;32m      7\u001b[0m \u001b[0msolver\u001b[0m\u001b[0;34m.\u001b[0m\u001b[0msave\u001b[0m\u001b[0;34m(\u001b[0m\u001b[0;34m\"graphaf_WB.pkl\"\u001b[0m\u001b[0;34m)\u001b[0m\u001b[0;34m\u001b[0m\u001b[0;34m\u001b[0m\u001b[0m\n",
            "\u001b[0;32m/content/torchdrug/torchdrug/core/engine.py\u001b[0m in \u001b[0;36mtrain\u001b[0;34m(self, num_epoch, batch_per_epoch)\u001b[0m\n\u001b[1;32m    153\u001b[0m                     \u001b[0mbatch\u001b[0m \u001b[0;34m=\u001b[0m \u001b[0mutils\u001b[0m\u001b[0;34m.\u001b[0m\u001b[0mcuda\u001b[0m\u001b[0;34m(\u001b[0m\u001b[0mbatch\u001b[0m\u001b[0;34m,\u001b[0m \u001b[0mdevice\u001b[0m\u001b[0;34m=\u001b[0m\u001b[0mself\u001b[0m\u001b[0;34m.\u001b[0m\u001b[0mdevice\u001b[0m\u001b[0;34m)\u001b[0m\u001b[0;34m\u001b[0m\u001b[0;34m\u001b[0m\u001b[0m\n\u001b[1;32m    154\u001b[0m \u001b[0;34m\u001b[0m\u001b[0m\n\u001b[0;32m--> 155\u001b[0;31m                 \u001b[0mloss\u001b[0m\u001b[0;34m,\u001b[0m \u001b[0mmetric\u001b[0m \u001b[0;34m=\u001b[0m \u001b[0mmodel\u001b[0m\u001b[0;34m(\u001b[0m\u001b[0mbatch\u001b[0m\u001b[0;34m)\u001b[0m\u001b[0;34m\u001b[0m\u001b[0;34m\u001b[0m\u001b[0m\n\u001b[0m\u001b[1;32m    156\u001b[0m                 \u001b[0;32mif\u001b[0m \u001b[0;32mnot\u001b[0m \u001b[0mloss\u001b[0m\u001b[0;34m.\u001b[0m\u001b[0mrequires_grad\u001b[0m\u001b[0;34m:\u001b[0m\u001b[0;34m\u001b[0m\u001b[0;34m\u001b[0m\u001b[0m\n\u001b[1;32m    157\u001b[0m                     \u001b[0;32mraise\u001b[0m \u001b[0mRuntimeError\u001b[0m\u001b[0;34m(\u001b[0m\u001b[0;34m\"Loss doesn't require grad. Did you define any loss in the task?\"\u001b[0m\u001b[0;34m)\u001b[0m\u001b[0;34m\u001b[0m\u001b[0;34m\u001b[0m\u001b[0m\n",
            "\u001b[0;32m/usr/local/lib/python3.7/dist-packages/torch/nn/modules/module.py\u001b[0m in \u001b[0;36m_call_impl\u001b[0;34m(self, *input, **kwargs)\u001b[0m\n\u001b[1;32m   1128\u001b[0m         if not (self._backward_hooks or self._forward_hooks or self._forward_pre_hooks or _global_backward_hooks\n\u001b[1;32m   1129\u001b[0m                 or _global_forward_hooks or _global_forward_pre_hooks):\n\u001b[0;32m-> 1130\u001b[0;31m             \u001b[0;32mreturn\u001b[0m \u001b[0mforward_call\u001b[0m\u001b[0;34m(\u001b[0m\u001b[0;34m*\u001b[0m\u001b[0minput\u001b[0m\u001b[0;34m,\u001b[0m \u001b[0;34m**\u001b[0m\u001b[0mkwargs\u001b[0m\u001b[0;34m)\u001b[0m\u001b[0;34m\u001b[0m\u001b[0;34m\u001b[0m\u001b[0m\n\u001b[0m\u001b[1;32m   1131\u001b[0m         \u001b[0;31m# Do not call functions when jit is used\u001b[0m\u001b[0;34m\u001b[0m\u001b[0;34m\u001b[0m\u001b[0;34m\u001b[0m\u001b[0m\n\u001b[1;32m   1132\u001b[0m         \u001b[0mfull_backward_hooks\u001b[0m\u001b[0;34m,\u001b[0m \u001b[0mnon_full_backward_hooks\u001b[0m \u001b[0;34m=\u001b[0m \u001b[0;34m[\u001b[0m\u001b[0;34m]\u001b[0m\u001b[0;34m,\u001b[0m \u001b[0;34m[\u001b[0m\u001b[0;34m]\u001b[0m\u001b[0;34m\u001b[0m\u001b[0;34m\u001b[0m\u001b[0m\n",
            "\u001b[0;32m/content/torchdrug/torchdrug/tasks/generation.py\u001b[0m in \u001b[0;36mforward\u001b[0;34m(self, batch)\u001b[0m\n\u001b[1;32m    119\u001b[0m         \u001b[0;32mfor\u001b[0m \u001b[0mcriterion\u001b[0m\u001b[0;34m,\u001b[0m \u001b[0mweight\u001b[0m \u001b[0;32min\u001b[0m \u001b[0mself\u001b[0m\u001b[0;34m.\u001b[0m\u001b[0mcriterion\u001b[0m\u001b[0;34m.\u001b[0m\u001b[0mitems\u001b[0m\u001b[0;34m(\u001b[0m\u001b[0;34m)\u001b[0m\u001b[0;34m:\u001b[0m\u001b[0;34m\u001b[0m\u001b[0;34m\u001b[0m\u001b[0m\n\u001b[1;32m    120\u001b[0m             \u001b[0;32mif\u001b[0m \u001b[0mcriterion\u001b[0m \u001b[0;34m==\u001b[0m \u001b[0;34m\"nll\"\u001b[0m\u001b[0;34m:\u001b[0m\u001b[0;34m\u001b[0m\u001b[0;34m\u001b[0m\u001b[0m\n\u001b[0;32m--> 121\u001b[0;31m                 \u001b[0m_loss\u001b[0m\u001b[0;34m,\u001b[0m \u001b[0m_metric\u001b[0m \u001b[0;34m=\u001b[0m \u001b[0mself\u001b[0m\u001b[0;34m.\u001b[0m\u001b[0mdensity_estimation_forward\u001b[0m\u001b[0;34m(\u001b[0m\u001b[0mbatch\u001b[0m\u001b[0;34m)\u001b[0m\u001b[0;34m\u001b[0m\u001b[0;34m\u001b[0m\u001b[0m\n\u001b[0m\u001b[1;32m    122\u001b[0m                 \u001b[0mall_loss\u001b[0m \u001b[0;34m+=\u001b[0m \u001b[0m_loss\u001b[0m \u001b[0;34m*\u001b[0m \u001b[0mweight\u001b[0m\u001b[0;34m\u001b[0m\u001b[0;34m\u001b[0m\u001b[0m\n\u001b[1;32m    123\u001b[0m                 \u001b[0mmetric\u001b[0m\u001b[0;34m.\u001b[0m\u001b[0mupdate\u001b[0m\u001b[0;34m(\u001b[0m\u001b[0m_metric\u001b[0m\u001b[0;34m)\u001b[0m\u001b[0;34m\u001b[0m\u001b[0;34m\u001b[0m\u001b[0m\n",
            "\u001b[0;32m/content/torchdrug/torchdrug/tasks/generation.py\u001b[0m in \u001b[0;36mdensity_estimation_forward\u001b[0;34m(self, batch)\u001b[0m\n\u001b[1;32m    251\u001b[0m         \u001b[0mgraph\u001b[0m \u001b[0;34m=\u001b[0m \u001b[0mbatch\u001b[0m\u001b[0;34m[\u001b[0m\u001b[0;34m\"graph\"\u001b[0m\u001b[0;34m]\u001b[0m\u001b[0;34m\u001b[0m\u001b[0;34m\u001b[0m\u001b[0m\n\u001b[1;32m    252\u001b[0m         \u001b[0mmasked_graph\u001b[0m\u001b[0;34m,\u001b[0m \u001b[0mnode_target\u001b[0m \u001b[0;34m=\u001b[0m \u001b[0mself\u001b[0m\u001b[0;34m.\u001b[0m\u001b[0mmask_node\u001b[0m\u001b[0;34m(\u001b[0m\u001b[0mgraph\u001b[0m\u001b[0;34m,\u001b[0m \u001b[0mmetric\u001b[0m\u001b[0;34m)\u001b[0m\u001b[0;34m\u001b[0m\u001b[0;34m\u001b[0m\u001b[0m\n\u001b[0;32m--> 253\u001b[0;31m         \u001b[0mlog_likelihood\u001b[0m \u001b[0;34m=\u001b[0m \u001b[0mself\u001b[0m\u001b[0;34m.\u001b[0m\u001b[0mnode_model\u001b[0m\u001b[0;34m(\u001b[0m\u001b[0mmasked_graph\u001b[0m\u001b[0;34m,\u001b[0m \u001b[0mnode_target\u001b[0m\u001b[0;34m,\u001b[0m \u001b[0;32mNone\u001b[0m\u001b[0;34m,\u001b[0m \u001b[0mall_loss\u001b[0m\u001b[0;34m,\u001b[0m \u001b[0mmetric\u001b[0m\u001b[0;34m)\u001b[0m\u001b[0;34m\u001b[0m\u001b[0;34m\u001b[0m\u001b[0m\n\u001b[0m\u001b[1;32m    254\u001b[0m         \u001b[0mlog_likelihood\u001b[0m \u001b[0;34m=\u001b[0m \u001b[0mlog_likelihood\u001b[0m\u001b[0;34m.\u001b[0m\u001b[0mmean\u001b[0m\u001b[0;34m(\u001b[0m\u001b[0;34m)\u001b[0m\u001b[0;34m\u001b[0m\u001b[0;34m\u001b[0m\u001b[0m\n\u001b[1;32m    255\u001b[0m         \u001b[0mmetric\u001b[0m\u001b[0;34m[\u001b[0m\u001b[0;34m\"node log likelihood\"\u001b[0m\u001b[0;34m]\u001b[0m \u001b[0;34m=\u001b[0m \u001b[0mlog_likelihood\u001b[0m\u001b[0;34m\u001b[0m\u001b[0;34m\u001b[0m\u001b[0m\n",
            "\u001b[0;32m/usr/local/lib/python3.7/dist-packages/torch/nn/modules/module.py\u001b[0m in \u001b[0;36m_call_impl\u001b[0;34m(self, *input, **kwargs)\u001b[0m\n\u001b[1;32m   1128\u001b[0m         if not (self._backward_hooks or self._forward_hooks or self._forward_pre_hooks or _global_backward_hooks\n\u001b[1;32m   1129\u001b[0m                 or _global_forward_hooks or _global_forward_pre_hooks):\n\u001b[0;32m-> 1130\u001b[0;31m             \u001b[0;32mreturn\u001b[0m \u001b[0mforward_call\u001b[0m\u001b[0;34m(\u001b[0m\u001b[0;34m*\u001b[0m\u001b[0minput\u001b[0m\u001b[0;34m,\u001b[0m \u001b[0;34m**\u001b[0m\u001b[0mkwargs\u001b[0m\u001b[0;34m)\u001b[0m\u001b[0;34m\u001b[0m\u001b[0;34m\u001b[0m\u001b[0m\n\u001b[0m\u001b[1;32m   1131\u001b[0m         \u001b[0;31m# Do not call functions when jit is used\u001b[0m\u001b[0;34m\u001b[0m\u001b[0;34m\u001b[0m\u001b[0;34m\u001b[0m\u001b[0m\n\u001b[1;32m   1132\u001b[0m         \u001b[0mfull_backward_hooks\u001b[0m\u001b[0;34m,\u001b[0m \u001b[0mnon_full_backward_hooks\u001b[0m \u001b[0;34m=\u001b[0m \u001b[0;34m[\u001b[0m\u001b[0;34m]\u001b[0m\u001b[0;34m,\u001b[0m \u001b[0;34m[\u001b[0m\u001b[0;34m]\u001b[0m\u001b[0;34m\u001b[0m\u001b[0;34m\u001b[0m\u001b[0m\n",
            "\u001b[0;32m/content/torchdrug/torchdrug/models/flow.py\u001b[0m in \u001b[0;36mforward\u001b[0;34m(self, graph, input, edge, all_loss, metric)\u001b[0m\n\u001b[1;32m     64\u001b[0m         \u001b[0medge\u001b[0m \u001b[0;34m=\u001b[0m \u001b[0mself\u001b[0m\u001b[0;34m.\u001b[0m\u001b[0m_standarize_edge\u001b[0m\u001b[0;34m(\u001b[0m\u001b[0mgraph\u001b[0m\u001b[0;34m,\u001b[0m \u001b[0medge\u001b[0m\u001b[0;34m)\u001b[0m\u001b[0;34m\u001b[0m\u001b[0;34m\u001b[0m\u001b[0m\n\u001b[1;32m     65\u001b[0m \u001b[0;34m\u001b[0m\u001b[0m\n\u001b[0;32m---> 66\u001b[0;31m         \u001b[0mnode_feature\u001b[0m \u001b[0;34m=\u001b[0m \u001b[0mfunctional\u001b[0m\u001b[0;34m.\u001b[0m\u001b[0mone_hot\u001b[0m\u001b[0;34m(\u001b[0m\u001b[0mgraph\u001b[0m\u001b[0;34m.\u001b[0m\u001b[0matom_type\u001b[0m\u001b[0;34m,\u001b[0m \u001b[0mself\u001b[0m\u001b[0;34m.\u001b[0m\u001b[0mmodel\u001b[0m\u001b[0;34m.\u001b[0m\u001b[0minput_dim\u001b[0m\u001b[0;34m)\u001b[0m\u001b[0;34m\u001b[0m\u001b[0;34m\u001b[0m\u001b[0m\n\u001b[0m\u001b[1;32m     67\u001b[0m         \u001b[0mfeature\u001b[0m \u001b[0;34m=\u001b[0m \u001b[0mself\u001b[0m\u001b[0;34m.\u001b[0m\u001b[0mmodel\u001b[0m\u001b[0;34m(\u001b[0m\u001b[0mgraph\u001b[0m\u001b[0;34m,\u001b[0m \u001b[0mnode_feature\u001b[0m\u001b[0;34m,\u001b[0m \u001b[0mall_loss\u001b[0m\u001b[0;34m,\u001b[0m \u001b[0mmetric\u001b[0m\u001b[0;34m)\u001b[0m\u001b[0;34m\u001b[0m\u001b[0;34m\u001b[0m\u001b[0m\n\u001b[1;32m     68\u001b[0m         \u001b[0mnode_feature\u001b[0m \u001b[0;34m=\u001b[0m \u001b[0mfeature\u001b[0m\u001b[0;34m[\u001b[0m\u001b[0;34m\"node_feature\"\u001b[0m\u001b[0;34m]\u001b[0m\u001b[0;34m\u001b[0m\u001b[0;34m\u001b[0m\u001b[0m\n",
            "\u001b[0;32m/content/torchdrug/torchdrug/layers/functional/functional.py\u001b[0m in \u001b[0;36mone_hot\u001b[0;34m(index, size)\u001b[0m\n\u001b[1;32m    530\u001b[0m     \u001b[0mresult\u001b[0m \u001b[0;34m=\u001b[0m \u001b[0mtorch\u001b[0m\u001b[0;34m.\u001b[0m\u001b[0mzeros\u001b[0m\u001b[0;34m(\u001b[0m\u001b[0mshape\u001b[0m\u001b[0;34m,\u001b[0m \u001b[0mdevice\u001b[0m\u001b[0;34m=\u001b[0m\u001b[0mindex\u001b[0m\u001b[0;34m.\u001b[0m\u001b[0mdevice\u001b[0m\u001b[0;34m)\u001b[0m\u001b[0;34m\u001b[0m\u001b[0;34m\u001b[0m\u001b[0m\n\u001b[1;32m    531\u001b[0m     \u001b[0;32mif\u001b[0m \u001b[0mindex\u001b[0m\u001b[0;34m.\u001b[0m\u001b[0mnumel\u001b[0m\u001b[0;34m(\u001b[0m\u001b[0;34m)\u001b[0m\u001b[0;34m:\u001b[0m\u001b[0;34m\u001b[0m\u001b[0;34m\u001b[0m\u001b[0m\n\u001b[0;32m--> 532\u001b[0;31m         \u001b[0;32massert\u001b[0m \u001b[0mindex\u001b[0m\u001b[0;34m.\u001b[0m\u001b[0mmin\u001b[0m\u001b[0;34m(\u001b[0m\u001b[0;34m)\u001b[0m \u001b[0;34m>=\u001b[0m \u001b[0;36m0\u001b[0m\u001b[0;34m\u001b[0m\u001b[0;34m\u001b[0m\u001b[0m\n\u001b[0m\u001b[1;32m    533\u001b[0m         \u001b[0;32massert\u001b[0m \u001b[0mindex\u001b[0m\u001b[0;34m.\u001b[0m\u001b[0mmax\u001b[0m\u001b[0;34m(\u001b[0m\u001b[0;34m)\u001b[0m \u001b[0;34m<\u001b[0m \u001b[0msize\u001b[0m\u001b[0;34m\u001b[0m\u001b[0;34m\u001b[0m\u001b[0m\n\u001b[1;32m    534\u001b[0m         \u001b[0mresult\u001b[0m\u001b[0;34m.\u001b[0m\u001b[0mscatter_\u001b[0m\u001b[0;34m(\u001b[0m\u001b[0;34m-\u001b[0m\u001b[0;36m1\u001b[0m\u001b[0;34m,\u001b[0m \u001b[0mindex\u001b[0m\u001b[0;34m.\u001b[0m\u001b[0munsqueeze\u001b[0m\u001b[0;34m(\u001b[0m\u001b[0;34m-\u001b[0m\u001b[0;36m1\u001b[0m\u001b[0;34m)\u001b[0m\u001b[0;34m,\u001b[0m \u001b[0;36m1\u001b[0m\u001b[0;34m)\u001b[0m\u001b[0;34m\u001b[0m\u001b[0;34m\u001b[0m\u001b[0m\n",
            "\u001b[0;31mAssertionError\u001b[0m: "
          ]
        }
      ]
    },
    {
      "cell_type": "code",
      "source": [
        " \n",
        "torch.cuda.empty_cache()"
      ],
      "metadata": {
        "id": "QbxbfCGbPApG"
      },
      "execution_count": 27,
      "outputs": []
    },
    {
      "cell_type": "code",
      "source": [
        "from collections import defaultdict\n",
        "\n",
        "solver.load(\"graphaf_WB.pkl\")\n",
        "results = task.generate(num_sample=32)\n",
        "print(results.to_smiles())"
      ],
      "metadata": {
        "colab": {
          "base_uri": "https://localhost:8080/"
        },
        "id": "xloHBpl5kUne",
        "outputId": "07f77119-fcd8-4c2a-9bef-6d99cbdf4211"
      },
      "execution_count": null,
      "outputs": [
        {
          "output_type": "stream",
          "name": "stderr",
          "text": [
            "WARNING:torchdrug.core.engine:Load checkpoint from graphaf_flavonoid_1epoch.pkl\n"
          ]
        },
        {
          "output_type": "stream",
          "name": "stdout",
          "text": [
            "17:17:52   Load checkpoint from graphaf_flavonoid_1epoch.pkl\n"
          ]
        },
        {
          "output_type": "stream",
          "name": "stderr",
          "text": [
            "/usr/local/lib/python3.7/dist-packages/torch/nn/functional.py:1949: UserWarning: nn.functional.tanh is deprecated. Use torch.tanh instead.\n",
            "  warnings.warn(\"nn.functional.tanh is deprecated. Use torch.tanh instead.\")\n"
          ]
        },
        {
          "output_type": "stream",
          "name": "stdout",
          "text": [
            "['NCl', 'P', 'Br', 'ClP1(Cl)=P(P(Cl)(Cl)(Cl)P2=P3=S=2(Cl)S3(Cl)(Cl)(Cl)P(Cl)(Cl)(Cl)Cl)=P1', 'Cl', 'O', 'Cl[SH]12(OBr)P=P13PN32', 'P=[PH]1P23=P4(Cl)P5(Cl)=P6=S5(Cl)(Br)S612=P43Cl', 'ClP12(Cl)N=N[PH]1=N2', 'S', 'ClSBr', 'O', 'P', 'CBr', 'Cl', 'CCl', 'S', 'NBr', 'Cl', 'P', 'ClBr', 'PBr', 'ClCl', 'N', 'OCCl', 'N', 'P=S', 'Cl', 'S', 'SCl', 'O', 'C=O']\n"
          ]
        }
      ]
    }
  ]
}