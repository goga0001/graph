{
  "nbformat": 4,
  "nbformat_minor": 0,
  "metadata": {
    "colab": {
      "provenance": [],
      "include_colab_link": true
    },
    "kernelspec": {
      "name": "python3",
      "display_name": "Python 3"
    },
    "language_info": {
      "name": "python"
    },
    "accelerator": "GPU",
    "gpuClass": "standard"
  },
  "cells": [
    {
      "cell_type": "markdown",
      "metadata": {
        "id": "view-in-github",
        "colab_type": "text"
      },
      "source": [
        "<a href=\"https://colab.research.google.com/github/goga0001/graph/blob/main/minimal%20repro.ipynb\" target=\"_parent\"><img src=\"https://colab.research.google.com/assets/colab-badge.svg\" alt=\"Open In Colab\"/></a>"
      ]
    },
    {
      "cell_type": "markdown",
      "source": [
        "# **Manual Steps**\n",
        "\n",
        "---\n",
        "\n",
        "\n",
        "\n",
        "\n",
        "> Set the runtime to GPU via \"Runtime > Change runtime type...\"\n",
        "\n",
        "\n",
        "\n",
        "\n",
        "\n"
      ],
      "metadata": {
        "id": "ch8szVrIIkwK"
      }
    },
    {
      "cell_type": "markdown",
      "source": [
        "# **Clone Git repository**"
      ],
      "metadata": {
        "id": "f5cttStjITfz"
      }
    },
    {
      "cell_type": "code",
      "execution_count": 1,
      "metadata": {
        "colab": {
          "base_uri": "https://localhost:8080/"
        },
        "id": "It4pOlhdUfmb",
        "outputId": "9d2db298-cf07-4189-c5cd-30d2e6fd2406"
      },
      "outputs": [
        {
          "output_type": "stream",
          "name": "stdout",
          "text": [
            "Cloning into 'torchdrug'...\n",
            "remote: Enumerating objects: 1231, done.\u001b[K\n",
            "remote: Counting objects: 100% (605/605), done.\u001b[K\n",
            "remote: Compressing objects: 100% (268/268), done.\u001b[K\n",
            "remote: Total 1231 (delta 366), reused 488 (delta 322), pack-reused 626\u001b[K\n",
            "Receiving objects: 100% (1231/1231), 2.63 MiB | 9.03 MiB/s, done.\n",
            "Resolving deltas: 100% (630/630), done.\n"
          ]
        }
      ],
      "source": [
        "!git clone https://github.com/DeepGraphLearning/torchdrug"
      ]
    },
    {
      "cell_type": "code",
      "source": [
        "cd torchdrug"
      ],
      "metadata": {
        "colab": {
          "base_uri": "https://localhost:8080/"
        },
        "id": "sSUnsjtQbdKy",
        "outputId": "817e52b7-85b6-4a55-c242-6597a8596b8a"
      },
      "execution_count": 2,
      "outputs": [
        {
          "output_type": "stream",
          "name": "stdout",
          "text": [
            "/content/torchdrug\n"
          ]
        }
      ]
    },
    {
      "cell_type": "markdown",
      "source": [
        "# **Install requirements**"
      ],
      "metadata": {
        "id": "vR09nEPUGAT9"
      }
    },
    {
      "cell_type": "code",
      "source": [
        "!pip install decorator  rdkit rdkit-pypi torch_geometric==2.0.4 matplotlib  tqdm  networkx   jinja2  lmdb  fair-esm "
      ],
      "metadata": {
        "id": "bhuItqMHvw8d",
        "collapsed": true,
        "outputId": "43a03004-5510-493a-c033-9901554ee879",
        "colab": {
          "base_uri": "https://localhost:8080/"
        }
      },
      "execution_count": 3,
      "outputs": [
        {
          "output_type": "stream",
          "name": "stdout",
          "text": [
            "Looking in indexes: https://pypi.org/simple, https://us-python.pkg.dev/colab-wheels/public/simple/\n",
            "Requirement already satisfied: decorator in /usr/local/lib/python3.7/dist-packages (4.4.2)\n",
            "Collecting rdkit\n",
            "  Downloading rdkit-2022.9.2-cp37-cp37m-manylinux_2_17_x86_64.manylinux2014_x86_64.whl (29.1 MB)\n",
            "\u001b[K     |████████████████████████████████| 29.1 MB 1.5 MB/s \n",
            "\u001b[?25hCollecting rdkit-pypi\n",
            "  Downloading rdkit_pypi-2022.9.2-cp37-cp37m-manylinux_2_17_x86_64.manylinux2014_x86_64.whl (29.1 MB)\n",
            "\u001b[K     |████████████████████████████████| 29.1 MB 98 kB/s \n",
            "\u001b[?25hCollecting torch_geometric==2.0.4\n",
            "  Downloading torch_geometric-2.0.4.tar.gz (407 kB)\n",
            "\u001b[K     |████████████████████████████████| 407 kB 59.9 MB/s \n",
            "\u001b[?25hRequirement already satisfied: matplotlib in /usr/local/lib/python3.7/dist-packages (3.2.2)\n",
            "Requirement already satisfied: tqdm in /usr/local/lib/python3.7/dist-packages (4.64.1)\n",
            "Requirement already satisfied: networkx in /usr/local/lib/python3.7/dist-packages (2.6.3)\n",
            "Requirement already satisfied: jinja2 in /usr/local/lib/python3.7/dist-packages (2.11.3)\n",
            "Requirement already satisfied: lmdb in /usr/local/lib/python3.7/dist-packages (0.99)\n",
            "Collecting fair-esm\n",
            "  Downloading fair_esm-2.0.0-py3-none-any.whl (93 kB)\n",
            "\u001b[K     |████████████████████████████████| 93 kB 809 kB/s \n",
            "\u001b[?25hRequirement already satisfied: numpy in /usr/local/lib/python3.7/dist-packages (from torch_geometric==2.0.4) (1.21.6)\n",
            "Requirement already satisfied: scipy in /usr/local/lib/python3.7/dist-packages (from torch_geometric==2.0.4) (1.7.3)\n",
            "Requirement already satisfied: pandas in /usr/local/lib/python3.7/dist-packages (from torch_geometric==2.0.4) (1.3.5)\n",
            "Requirement already satisfied: requests in /usr/local/lib/python3.7/dist-packages (from torch_geometric==2.0.4) (2.23.0)\n",
            "Requirement already satisfied: pyparsing in /usr/local/lib/python3.7/dist-packages (from torch_geometric==2.0.4) (3.0.9)\n",
            "Requirement already satisfied: scikit-learn in /usr/local/lib/python3.7/dist-packages (from torch_geometric==2.0.4) (1.0.2)\n",
            "Requirement already satisfied: Pillow in /usr/local/lib/python3.7/dist-packages (from rdkit) (7.1.2)\n",
            "Requirement already satisfied: python-dateutil>=2.1 in /usr/local/lib/python3.7/dist-packages (from matplotlib) (2.8.2)\n",
            "Requirement already satisfied: cycler>=0.10 in /usr/local/lib/python3.7/dist-packages (from matplotlib) (0.11.0)\n",
            "Requirement already satisfied: kiwisolver>=1.0.1 in /usr/local/lib/python3.7/dist-packages (from matplotlib) (1.4.4)\n",
            "Requirement already satisfied: typing-extensions in /usr/local/lib/python3.7/dist-packages (from kiwisolver>=1.0.1->matplotlib) (4.1.1)\n",
            "Requirement already satisfied: six>=1.5 in /usr/local/lib/python3.7/dist-packages (from python-dateutil>=2.1->matplotlib) (1.15.0)\n",
            "Requirement already satisfied: MarkupSafe>=0.23 in /usr/local/lib/python3.7/dist-packages (from jinja2) (2.0.1)\n",
            "Requirement already satisfied: pytz>=2017.3 in /usr/local/lib/python3.7/dist-packages (from pandas->torch_geometric==2.0.4) (2022.6)\n",
            "Requirement already satisfied: idna<3,>=2.5 in /usr/local/lib/python3.7/dist-packages (from requests->torch_geometric==2.0.4) (2.10)\n",
            "Requirement already satisfied: certifi>=2017.4.17 in /usr/local/lib/python3.7/dist-packages (from requests->torch_geometric==2.0.4) (2022.9.24)\n",
            "Requirement already satisfied: urllib3!=1.25.0,!=1.25.1,<1.26,>=1.21.1 in /usr/local/lib/python3.7/dist-packages (from requests->torch_geometric==2.0.4) (1.24.3)\n",
            "Requirement already satisfied: chardet<4,>=3.0.2 in /usr/local/lib/python3.7/dist-packages (from requests->torch_geometric==2.0.4) (3.0.4)\n",
            "Requirement already satisfied: threadpoolctl>=2.0.0 in /usr/local/lib/python3.7/dist-packages (from scikit-learn->torch_geometric==2.0.4) (3.1.0)\n",
            "Requirement already satisfied: joblib>=0.11 in /usr/local/lib/python3.7/dist-packages (from scikit-learn->torch_geometric==2.0.4) (1.2.0)\n",
            "Building wheels for collected packages: torch-geometric\n",
            "  Building wheel for torch-geometric (setup.py) ... \u001b[?25l\u001b[?25hdone\n",
            "  Created wheel for torch-geometric: filename=torch_geometric-2.0.4-py3-none-any.whl size=616602 sha256=c504886a7838a27de8c601435ed6bdf6044dfc465f3a898ff6d94256e9d314d0\n",
            "  Stored in directory: /root/.cache/pip/wheels/18/a6/a4/ca18c3051fcead866fe7b85700ee2240d883562a1bc70ce421\n",
            "Successfully built torch-geometric\n",
            "Installing collected packages: torch-geometric, rdkit-pypi, rdkit, fair-esm\n",
            "Successfully installed fair-esm-2.0.0 rdkit-2022.9.2 rdkit-pypi-2022.9.2 torch-geometric-2.0.4\n"
          ]
        }
      ]
    },
    {
      "cell_type": "code",
      "source": [
        "!pip install --no-index torch-scatter -f https://pytorch-geometric.com/whl/torch-1.12.1+cu113.html\n",
        "!pip install --no-index torch-sparse -f https://pytorch-geometric.com/whl/torch-1.12.1+cu113.html\n",
        "!pip install --no-index torch-cluster -f https://pytorch-geometric.com/whl/torch-1.12.1+cu113.html\n",
        "!pip install --no-index torch-spline-conv -f https://pytorch-geometric.com/whl/torch-1.12.1+cu113.html"
      ],
      "metadata": {
        "id": "X4br3u8Wg60I",
        "collapsed": true,
        "outputId": "e5538996-d626-47a4-86c6-7dc791d87875",
        "colab": {
          "base_uri": "https://localhost:8080/"
        }
      },
      "execution_count": 4,
      "outputs": [
        {
          "output_type": "stream",
          "name": "stdout",
          "text": [
            "Looking in links: https://pytorch-geometric.com/whl/torch-1.12.1+cu113.html\n",
            "Collecting torch-scatter\n",
            "  Downloading https://data.pyg.org/whl/torch-1.12.0%2Bcu113/torch_scatter-2.1.0%2Bpt112cu113-cp37-cp37m-linux_x86_64.whl (8.9 MB)\n",
            "\u001b[K     |████████████████████████████████| 8.9 MB 32.6 MB/s \n",
            "\u001b[?25hInstalling collected packages: torch-scatter\n",
            "Successfully installed torch-scatter-2.1.0+pt112cu113\n",
            "Looking in links: https://pytorch-geometric.com/whl/torch-1.12.1+cu113.html\n",
            "Collecting torch-sparse\n",
            "  Downloading https://data.pyg.org/whl/torch-1.12.0%2Bcu113/torch_sparse-0.6.15%2Bpt112cu113-cp37-cp37m-linux_x86_64.whl (3.5 MB)\n",
            "\u001b[K     |████████████████████████████████| 3.5 MB 30.0 MB/s \n",
            "\u001b[?25hRequirement already satisfied: scipy in /usr/local/lib/python3.7/dist-packages (from torch-sparse) (1.7.3)\n",
            "Requirement already satisfied: numpy<1.23.0,>=1.16.5 in /usr/local/lib/python3.7/dist-packages (from scipy->torch-sparse) (1.21.6)\n",
            "Installing collected packages: torch-sparse\n",
            "Successfully installed torch-sparse-0.6.15+pt112cu113\n",
            "Looking in links: https://pytorch-geometric.com/whl/torch-1.12.1+cu113.html\n",
            "Collecting torch-cluster\n",
            "  Downloading https://data.pyg.org/whl/torch-1.12.0%2Bcu113/torch_cluster-1.6.0%2Bpt112cu113-cp37-cp37m-linux_x86_64.whl (2.5 MB)\n",
            "\u001b[K     |████████████████████████████████| 2.5 MB 33.0 MB/s \n",
            "\u001b[?25hRequirement already satisfied: scipy in /usr/local/lib/python3.7/dist-packages (from torch-cluster) (1.7.3)\n",
            "Requirement already satisfied: numpy<1.23.0,>=1.16.5 in /usr/local/lib/python3.7/dist-packages (from scipy->torch-cluster) (1.21.6)\n",
            "Installing collected packages: torch-cluster\n",
            "Successfully installed torch-cluster-1.6.0+pt112cu113\n",
            "Looking in links: https://pytorch-geometric.com/whl/torch-1.12.1+cu113.html\n",
            "Collecting torch-spline-conv\n",
            "  Downloading https://data.pyg.org/whl/torch-1.12.0%2Bcu113/torch_spline_conv-1.2.1%2Bpt112cu113-cp37-cp37m-linux_x86_64.whl (722 kB)\n",
            "\u001b[K     |████████████████████████████████| 722 kB 29.3 MB/s \n",
            "\u001b[?25hInstalling collected packages: torch-spline-conv\n",
            "Successfully installed torch-spline-conv-1.2.1+pt112cu113\n"
          ]
        }
      ]
    },
    {
      "cell_type": "code",
      "source": [
        "pip install fair-esm==0.1.0"
      ],
      "metadata": {
        "id": "ou91Bthtx_cX",
        "collapsed": true,
        "outputId": "e7695201-efbe-4538-b9c4-b3d794b78e50",
        "colab": {
          "base_uri": "https://localhost:8080/"
        }
      },
      "execution_count": 5,
      "outputs": [
        {
          "output_type": "stream",
          "name": "stdout",
          "text": [
            "Looking in indexes: https://pypi.org/simple, https://us-python.pkg.dev/colab-wheels/public/simple/\n",
            "Collecting fair-esm==0.1.0\n",
            "  Downloading fair_esm-0.1.0-py3-none-any.whl (23 kB)\n",
            "Installing collected packages: fair-esm\n",
            "  Attempting uninstall: fair-esm\n",
            "    Found existing installation: fair-esm 2.0.0\n",
            "    Uninstalling fair-esm-2.0.0:\n",
            "      Successfully uninstalled fair-esm-2.0.0\n",
            "Successfully installed fair-esm-0.1.0\n"
          ]
        }
      ]
    },
    {
      "cell_type": "code",
      "source": [
        "!pip install Ninja==1.10.2.4"
      ],
      "metadata": {
        "id": "RyDGjm4t5K5w",
        "outputId": "45c5784c-b5d0-4c26-9457-597a94d43596",
        "colab": {
          "base_uri": "https://localhost:8080/"
        }
      },
      "execution_count": 6,
      "outputs": [
        {
          "output_type": "stream",
          "name": "stdout",
          "text": [
            "Looking in indexes: https://pypi.org/simple, https://us-python.pkg.dev/colab-wheels/public/simple/\n",
            "Collecting Ninja==1.10.2.4\n",
            "  Downloading ninja-1.10.2.4-py2.py3-none-manylinux_2_5_x86_64.manylinux1_x86_64.whl (120 kB)\n",
            "\u001b[K     |████████████████████████████████| 120 kB 17.6 MB/s \n",
            "\u001b[?25hInstalling collected packages: Ninja\n",
            "Successfully installed Ninja-1.10.2.4\n"
          ]
        }
      ]
    },
    {
      "cell_type": "code",
      "source": [
        "pip install torch torchvision"
      ],
      "metadata": {
        "id": "lbTycvFjkmM2",
        "outputId": "3e4a41cd-506d-4fa5-c875-a936ee026969",
        "colab": {
          "base_uri": "https://localhost:8080/"
        }
      },
      "execution_count": 7,
      "outputs": [
        {
          "output_type": "stream",
          "name": "stdout",
          "text": [
            "Looking in indexes: https://pypi.org/simple, https://us-python.pkg.dev/colab-wheels/public/simple/\n",
            "Requirement already satisfied: torch in /usr/local/lib/python3.7/dist-packages (1.12.1+cu113)\n",
            "Requirement already satisfied: torchvision in /usr/local/lib/python3.7/dist-packages (0.13.1+cu113)\n",
            "Requirement already satisfied: typing-extensions in /usr/local/lib/python3.7/dist-packages (from torch) (4.1.1)\n",
            "Requirement already satisfied: pillow!=8.3.*,>=5.3.0 in /usr/local/lib/python3.7/dist-packages (from torchvision) (7.1.2)\n",
            "Requirement already satisfied: numpy in /usr/local/lib/python3.7/dist-packages (from torchvision) (1.21.6)\n",
            "Requirement already satisfied: requests in /usr/local/lib/python3.7/dist-packages (from torchvision) (2.23.0)\n",
            "Requirement already satisfied: certifi>=2017.4.17 in /usr/local/lib/python3.7/dist-packages (from requests->torchvision) (2022.9.24)\n",
            "Requirement already satisfied: urllib3!=1.25.0,!=1.25.1,<1.26,>=1.21.1 in /usr/local/lib/python3.7/dist-packages (from requests->torchvision) (1.24.3)\n",
            "Requirement already satisfied: chardet<4,>=3.0.2 in /usr/local/lib/python3.7/dist-packages (from requests->torchvision) (3.0.4)\n",
            "Requirement already satisfied: idna<3,>=2.5 in /usr/local/lib/python3.7/dist-packages (from requests->torchvision) (2.10)\n"
          ]
        }
      ]
    },
    {
      "cell_type": "code",
      "source": [
        "pip list"
      ],
      "metadata": {
        "collapsed": true,
        "id": "FyaXCPRA-AVQ"
      },
      "execution_count": null,
      "outputs": []
    },
    {
      "cell_type": "code",
      "source": [
        "pip -V"
      ],
      "metadata": {
        "colab": {
          "base_uri": "https://localhost:8080/"
        },
        "id": "Zh2KiMmEMeR2",
        "outputId": "ffdb8e80-ac97-4e0a-c737-9755f530294e"
      },
      "execution_count": 8,
      "outputs": [
        {
          "output_type": "stream",
          "name": "stdout",
          "text": [
            "pip 21.1.3 from /usr/local/lib/python3.7/dist-packages/pip (python 3.7)\n"
          ]
        }
      ]
    },
    {
      "cell_type": "code",
      "source": [
        " pip list | grep torch"
      ],
      "metadata": {
        "colab": {
          "base_uri": "https://localhost:8080/"
        },
        "id": "5rJ7MnmetdxF",
        "outputId": "ce884663-ae3d-4624-af19-d67c12e9fb93"
      },
      "execution_count": 9,
      "outputs": [
        {
          "output_type": "stream",
          "name": "stdout",
          "text": [
            "torch                         1.12.1+cu113\n",
            "torch-cluster                 1.6.0\n",
            "torch-geometric               2.0.4\n",
            "torch-scatter                 2.0.9\n",
            "torch-sparse                  0.6.15\n",
            "torch-spline-conv             1.2.1\n",
            "torchaudio                    0.12.1+cu113\n",
            "torchsummary                  1.5.1\n",
            "torchtext                     0.13.1\n",
            "torchvision                   0.13.1+cu113\n"
          ]
        }
      ]
    },
    {
      "cell_type": "markdown",
      "source": [
        "# **Run setup.py**"
      ],
      "metadata": {
        "id": "1_ttU8GxGo1L"
      }
    },
    {
      "cell_type": "code",
      "source": [
        "!python setup.py install"
      ],
      "metadata": {
        "id": "Oqlw4XW6dL2V",
        "collapsed": true,
        "colab": {
          "base_uri": "https://localhost:8080/"
        },
        "outputId": "86cda05e-7b88-4185-b640-c53372070e03"
      },
      "execution_count": 141,
      "outputs": [
        {
          "output_type": "stream",
          "name": "stdout",
          "text": [
            "python3: can't open file 'setup.py': [Errno 2] No such file or directory\n"
          ]
        }
      ]
    },
    {
      "cell_type": "markdown",
      "source": [
        "# **Prepare the Pretraining Dataset(5 min)**"
      ],
      "metadata": {
        "id": "w1gaxOzxGttx"
      }
    },
    {
      "cell_type": "markdown",
      "source": [
        " Before registering new dataset- upload csv(https://raw.githubusercontent.com/goga0001/graph/main/data.csv) into dataset folder"
      ],
      "metadata": {
        "id": "QKxdwuYDT7Jg"
      }
    },
    {
      "cell_type": "code",
      "source": [
        "import os\n",
        "\n",
        "from torchdrug import data, utils\n",
        "from torchdrug.core import Registry as R\n",
        "from collections import defaultdict\n",
        "\n",
        "from torch.utils import data as torch_data\n",
        "\n",
        "from torchdrug import data\n",
        "from torchdrug.utils import doc\n",
        "\n",
        "\n",
        "@R.register(\"datasets.WB\")\n",
        "@utils.copy_args(data.MoleculeDataset.load_csv, ignore=(\"smiles_field\", \"target_fields\"))\n",
        "class WB(data.MoleculeDataset):\n",
        "    \"\"\"\n",
        "    Subset of random compound database for virtual screening.\n",
        "\n",
        "    Statistics:\n",
        "        - #Molecule:  4806\n",
        "        - #Regression task: 2\n",
        "\n",
        "    Parameters:\n",
        "        path (str): path to store the dataset\n",
        "        verbose (int, optional): output verbose level\n",
        "        **kwargs\n",
        "    \"\"\"\n",
        "\n",
        "    csv_file = \"/content/torchdrug/torchdrug/datasets/data.csv\"\n",
        "    target_fields = [\"logP\",\"qed\"]\n",
        "\n",
        "    def __init__(self, path, verbose=1, **kwargs):\n",
        "        self.load_csv(self.csv_file, smiles_field=\"smiles\", target_fields=self.target_fields,\n",
        "                      verbose=verbose, **kwargs)"
      ],
      "metadata": {
        "id": "tAcylILge186"
      },
      "execution_count": 9,
      "outputs": []
    },
    {
      "cell_type": "code",
      "source": [
        "cd /content/torchdrug/torchdrug/datasets"
      ],
      "metadata": {
        "colab": {
          "base_uri": "https://localhost:8080/"
        },
        "id": "XZBm7NW0MmZ5",
        "outputId": "f95c0ca9-4a8d-41bc-f167-b897d4e9edeb"
      },
      "execution_count": 10,
      "outputs": [
        {
          "output_type": "stream",
          "name": "stdout",
          "text": [
            "/content/torchdrug/torchdrug/datasets\n"
          ]
        }
      ]
    },
    {
      "cell_type": "code",
      "source": [
        "import torch\n",
        "from torchdrug import core, models, tasks\n",
        "\n",
        "\n",
        "dataset = WB(\"/content/torchdrug/torchdrug/datasets/data.csv\", kekulize=True,\n",
        "                            atom_feature=\"symbol\" )\n",
        "\n",
        "\n",
        "\n",
        "\n"
      ],
      "metadata": {
        "id": "IUIk87mn6vXT",
        "outputId": "01aa679a-9d4d-4fb4-e9db-170a7174db63",
        "colab": {
          "base_uri": "https://localhost:8080/"
        }
      },
      "execution_count": 190,
      "outputs": [
        {
          "output_type": "stream",
          "name": "stderr",
          "text": [
            "Loading /content/torchdrug/torchdrug/datasets/data.csv: 4807it [00:00, 78051.76it/s]            \n",
            "Constructing molecules from SMILES: 100%|██████████| 4806/4806 [00:08<00:00, 581.06it/s]\n"
          ]
        }
      ]
    },
    {
      "cell_type": "markdown",
      "source": [
        "# **Define the Model: GraphAF (30sec)**"
      ],
      "metadata": {
        "id": "Y4XR-lzMG9NQ"
      }
    },
    {
      "cell_type": "code",
      "source": [
        "from torchdrug import core, models, tasks\n",
        "from torchdrug.layers import distribution\n",
        "\n",
        "model = models.RGCN(input_dim=dataset.num_atom_type,\n",
        "                    num_relation=dataset.num_bond_type,\n",
        "                    hidden_dims=[256, 256, 256], batch_norm=True)\n",
        "\n",
        "num_atom_type = dataset.num_atom_type\n",
        "# add one class for non-edge\n",
        "num_bond_type = dataset.num_bond_type + 1\n",
        "\n",
        "node_prior = distribution.IndependentGaussian(torch.zeros(num_atom_type),\n",
        "                                              torch.ones(num_atom_type))\n",
        "edge_prior = distribution.IndependentGaussian(torch.zeros(num_bond_type),\n",
        "                                              torch.ones(num_bond_type))\n",
        "node_flow = models.GraphAF(model, node_prior, num_layer=12)\n",
        "edge_flow = models.GraphAF(model, edge_prior, use_edge=True, num_layer=12)\n",
        "\n",
        "task = tasks.AutoregressiveGeneration(node_flow, edge_flow,\n",
        "                                      max_node=38, max_edge_unroll=12,\n",
        "                                      criterion=\"nll\")"
      ],
      "metadata": {
        "id": "_6TcKm0Ovo4p"
      },
      "execution_count": 193,
      "outputs": []
    },
    {
      "cell_type": "markdown",
      "source": [
        "# **Pretraining and Generation: GraphAF**"
      ],
      "metadata": {
        "id": "DAFclFUMHBuL"
      }
    },
    {
      "cell_type": "code",
      "source": [
        "from torch import nn, optim\n",
        "optimizer = optim.Adam(task.parameters(), lr = 1e-3)\n",
        "solver = core.Engine(task, dataset, None, None, optimizer,\n",
        "                     gpus=(0,), batch_size=128, log_interval=10)\n",
        "\n",
        "solver.train(num_epoch=10)\n",
        "solver.save(\"graphaf_WB.pkl\")"
      ],
      "metadata": {
        "id": "UFcUn1WVYoew"
      },
      "execution_count": null,
      "outputs": []
    },
    {
      "cell_type": "code",
      "source": [
        "from collections import defaultdict\n",
        "\n",
        "solver.load(\"graphaf_WB.pkl\")\n",
        "results = task.generate(num_sample=32)\n",
        "print(results.to_smiles())"
      ],
      "metadata": {
        "colab": {
          "base_uri": "https://localhost:8080/"
        },
        "id": "xloHBpl5kUne",
        "outputId": "07f77119-fcd8-4c2a-9bef-6d99cbdf4211"
      },
      "execution_count": 29,
      "outputs": [
        {
          "output_type": "stream",
          "name": "stderr",
          "text": [
            "WARNING:torchdrug.core.engine:Load checkpoint from graphaf_flavonoid_1epoch.pkl\n"
          ]
        },
        {
          "output_type": "stream",
          "name": "stdout",
          "text": [
            "17:17:52   Load checkpoint from graphaf_flavonoid_1epoch.pkl\n"
          ]
        },
        {
          "output_type": "stream",
          "name": "stderr",
          "text": [
            "/usr/local/lib/python3.7/dist-packages/torch/nn/functional.py:1949: UserWarning: nn.functional.tanh is deprecated. Use torch.tanh instead.\n",
            "  warnings.warn(\"nn.functional.tanh is deprecated. Use torch.tanh instead.\")\n"
          ]
        },
        {
          "output_type": "stream",
          "name": "stdout",
          "text": [
            "['NCl', 'P', 'Br', 'ClP1(Cl)=P(P(Cl)(Cl)(Cl)P2=P3=S=2(Cl)S3(Cl)(Cl)(Cl)P(Cl)(Cl)(Cl)Cl)=P1', 'Cl', 'O', 'Cl[SH]12(OBr)P=P13PN32', 'P=[PH]1P23=P4(Cl)P5(Cl)=P6=S5(Cl)(Br)S612=P43Cl', 'ClP12(Cl)N=N[PH]1=N2', 'S', 'ClSBr', 'O', 'P', 'CBr', 'Cl', 'CCl', 'S', 'NBr', 'Cl', 'P', 'ClBr', 'PBr', 'ClCl', 'N', 'OCCl', 'N', 'P=S', 'Cl', 'S', 'SCl', 'O', 'C=O']\n"
          ]
        }
      ]
    }
  ]
}