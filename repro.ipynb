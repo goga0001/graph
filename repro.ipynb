{
  "nbformat": 4,
  "nbformat_minor": 0,
  "metadata": {
    "colab": {
      "provenance": [],
      "toc_visible": true,
      "include_colab_link": true
    },
    "kernelspec": {
      "name": "python3",
      "display_name": "Python 3"
    },
    "language_info": {
      "name": "python"
    },
    "accelerator": "GPU",
    "gpuClass": "standard"
  },
  "cells": [
    {
      "cell_type": "markdown",
      "metadata": {
        "id": "view-in-github",
        "colab_type": "text"
      },
      "source": [
        "<a href=\"https://colab.research.google.com/github/goga0001/graph/blob/main/repro.ipynb\" target=\"_parent\"><img src=\"https://colab.research.google.com/assets/colab-badge.svg\" alt=\"Open In Colab\"/></a>"
      ]
    },
    {
      "cell_type": "markdown",
      "source": [
        "# **Manual Steps**\n",
        "\n",
        "---\n",
        "\n",
        "\n",
        "\n",
        "\n",
        "> Set the runtime to GPU via \"Runtime > Change runtime type...\"\n",
        "\n",
        "\n",
        "\n",
        "\n",
        "\n"
      ],
      "metadata": {
        "id": "ch8szVrIIkwK"
      }
    },
    {
      "cell_type": "markdown",
      "source": [
        "# **Clone Git repository**"
      ],
      "metadata": {
        "id": "f5cttStjITfz"
      }
    },
    {
      "cell_type": "code",
      "execution_count": 1,
      "metadata": {
        "colab": {
          "base_uri": "https://localhost:8080/"
        },
        "id": "It4pOlhdUfmb",
        "outputId": "d6eae05c-ffc8-46d1-e2fd-e5cb53967a8c"
      },
      "outputs": [
        {
          "output_type": "stream",
          "name": "stdout",
          "text": [
            "Cloning into 'torchdrug'...\n",
            "remote: Enumerating objects: 1231, done.\u001b[K\n",
            "remote: Counting objects: 100% (601/601), done.\u001b[K\n",
            "remote: Compressing objects: 100% (265/265), done.\u001b[K\n",
            "remote: Total 1231 (delta 363), reused 486 (delta 321), pack-reused 630\u001b[K\n",
            "Receiving objects: 100% (1231/1231), 2.62 MiB | 10.33 MiB/s, done.\n",
            "Resolving deltas: 100% (629/629), done.\n"
          ]
        }
      ],
      "source": [
        "!git clone https://github.com/DeepGraphLearning/torchdrug"
      ]
    },
    {
      "cell_type": "code",
      "source": [
        "cd torchdrug"
      ],
      "metadata": {
        "colab": {
          "base_uri": "https://localhost:8080/"
        },
        "id": "sSUnsjtQbdKy",
        "outputId": "9f9a4e6c-67b9-4214-f092-f78fe25b6056"
      },
      "execution_count": 2,
      "outputs": [
        {
          "output_type": "stream",
          "name": "stdout",
          "text": [
            "/content/torchdrug\n"
          ]
        }
      ]
    },
    {
      "cell_type": "markdown",
      "source": [
        "# **Install requirements**"
      ],
      "metadata": {
        "id": "vR09nEPUGAT9"
      }
    },
    {
      "cell_type": "code",
      "source": [
        "!pip install decorator  rdkit rdkit-pypi torch_geometric==2.0.4 matplotlib  tqdm  networkx   jinja2  lmdb  fair-esm "
      ],
      "metadata": {
        "id": "bhuItqMHvw8d",
        "collapsed": true,
        "outputId": "e845ade9-eb4b-4706-eeae-05f457b572f0",
        "colab": {
          "base_uri": "https://localhost:8080/"
        }
      },
      "execution_count": 3,
      "outputs": [
        {
          "output_type": "stream",
          "name": "stdout",
          "text": [
            "Looking in indexes: https://pypi.org/simple, https://us-python.pkg.dev/colab-wheels/public/simple/\n",
            "Requirement already satisfied: decorator in /usr/local/lib/python3.7/dist-packages (4.4.2)\n",
            "Collecting rdkit\n",
            "  Downloading rdkit-2022.9.2-cp37-cp37m-manylinux_2_17_x86_64.manylinux2014_x86_64.whl (29.1 MB)\n",
            "\u001b[K     |████████████████████████████████| 29.1 MB 2.0 MB/s \n",
            "\u001b[?25hCollecting rdkit-pypi\n",
            "  Downloading rdkit_pypi-2022.9.2-cp37-cp37m-manylinux_2_17_x86_64.manylinux2014_x86_64.whl (29.1 MB)\n",
            "\u001b[K     |████████████████████████████████| 29.1 MB 1.3 MB/s \n",
            "\u001b[?25hCollecting torch_geometric==2.0.4\n",
            "  Downloading torch_geometric-2.0.4.tar.gz (407 kB)\n",
            "\u001b[K     |████████████████████████████████| 407 kB 66.7 MB/s \n",
            "\u001b[?25hRequirement already satisfied: matplotlib in /usr/local/lib/python3.7/dist-packages (3.2.2)\n",
            "Requirement already satisfied: tqdm in /usr/local/lib/python3.7/dist-packages (4.64.1)\n",
            "Requirement already satisfied: networkx in /usr/local/lib/python3.7/dist-packages (2.6.3)\n",
            "Requirement already satisfied: jinja2 in /usr/local/lib/python3.7/dist-packages (2.11.3)\n",
            "Requirement already satisfied: lmdb in /usr/local/lib/python3.7/dist-packages (0.99)\n",
            "Collecting fair-esm\n",
            "  Downloading fair_esm-2.0.0-py3-none-any.whl (93 kB)\n",
            "\u001b[K     |████████████████████████████████| 93 kB 759 kB/s \n",
            "\u001b[?25hRequirement already satisfied: numpy in /usr/local/lib/python3.7/dist-packages (from torch_geometric==2.0.4) (1.21.6)\n",
            "Requirement already satisfied: scipy in /usr/local/lib/python3.7/dist-packages (from torch_geometric==2.0.4) (1.7.3)\n",
            "Requirement already satisfied: pandas in /usr/local/lib/python3.7/dist-packages (from torch_geometric==2.0.4) (1.3.5)\n",
            "Requirement already satisfied: requests in /usr/local/lib/python3.7/dist-packages (from torch_geometric==2.0.4) (2.23.0)\n",
            "Requirement already satisfied: pyparsing in /usr/local/lib/python3.7/dist-packages (from torch_geometric==2.0.4) (3.0.9)\n",
            "Requirement already satisfied: scikit-learn in /usr/local/lib/python3.7/dist-packages (from torch_geometric==2.0.4) (1.0.2)\n",
            "Requirement already satisfied: Pillow in /usr/local/lib/python3.7/dist-packages (from rdkit) (7.1.2)\n",
            "Requirement already satisfied: kiwisolver>=1.0.1 in /usr/local/lib/python3.7/dist-packages (from matplotlib) (1.4.4)\n",
            "Requirement already satisfied: python-dateutil>=2.1 in /usr/local/lib/python3.7/dist-packages (from matplotlib) (2.8.2)\n",
            "Requirement already satisfied: cycler>=0.10 in /usr/local/lib/python3.7/dist-packages (from matplotlib) (0.11.0)\n",
            "Requirement already satisfied: typing-extensions in /usr/local/lib/python3.7/dist-packages (from kiwisolver>=1.0.1->matplotlib) (4.1.1)\n",
            "Requirement already satisfied: six>=1.5 in /usr/local/lib/python3.7/dist-packages (from python-dateutil>=2.1->matplotlib) (1.15.0)\n",
            "Requirement already satisfied: MarkupSafe>=0.23 in /usr/local/lib/python3.7/dist-packages (from jinja2) (2.0.1)\n",
            "Requirement already satisfied: pytz>=2017.3 in /usr/local/lib/python3.7/dist-packages (from pandas->torch_geometric==2.0.4) (2022.6)\n",
            "Requirement already satisfied: chardet<4,>=3.0.2 in /usr/local/lib/python3.7/dist-packages (from requests->torch_geometric==2.0.4) (3.0.4)\n",
            "Requirement already satisfied: urllib3!=1.25.0,!=1.25.1,<1.26,>=1.21.1 in /usr/local/lib/python3.7/dist-packages (from requests->torch_geometric==2.0.4) (1.24.3)\n",
            "Requirement already satisfied: idna<3,>=2.5 in /usr/local/lib/python3.7/dist-packages (from requests->torch_geometric==2.0.4) (2.10)\n",
            "Requirement already satisfied: certifi>=2017.4.17 in /usr/local/lib/python3.7/dist-packages (from requests->torch_geometric==2.0.4) (2022.9.24)\n",
            "Requirement already satisfied: threadpoolctl>=2.0.0 in /usr/local/lib/python3.7/dist-packages (from scikit-learn->torch_geometric==2.0.4) (3.1.0)\n",
            "Requirement already satisfied: joblib>=0.11 in /usr/local/lib/python3.7/dist-packages (from scikit-learn->torch_geometric==2.0.4) (1.2.0)\n",
            "Building wheels for collected packages: torch-geometric\n",
            "  Building wheel for torch-geometric (setup.py) ... \u001b[?25l\u001b[?25hdone\n",
            "  Created wheel for torch-geometric: filename=torch_geometric-2.0.4-py3-none-any.whl size=616602 sha256=964685ae7267c3c216b26ed3cd36a1f63f814d469c3c9bea60193df4951201fd\n",
            "  Stored in directory: /root/.cache/pip/wheels/18/a6/a4/ca18c3051fcead866fe7b85700ee2240d883562a1bc70ce421\n",
            "Successfully built torch-geometric\n",
            "Installing collected packages: torch-geometric, rdkit-pypi, rdkit, fair-esm\n",
            "Successfully installed fair-esm-2.0.0 rdkit-2022.9.2 rdkit-pypi-2022.9.2 torch-geometric-2.0.4\n"
          ]
        }
      ]
    },
    {
      "cell_type": "code",
      "source": [
        "!pip install --no-index torch-scatter -f https://pytorch-geometric.com/whl/torch-1.12.1+cu113.html\n",
        "!pip install --no-index torch-sparse -f https://pytorch-geometric.com/whl/torch-1.12.1+cu113.html\n",
        "!pip install --no-index torch-cluster -f https://pytorch-geometric.com/whl/torch-1.12.1+cu113.html\n",
        "!pip install --no-index torch-spline-conv -f https://pytorch-geometric.com/whl/torch-1.12.1+cu113.html"
      ],
      "metadata": {
        "id": "X4br3u8Wg60I",
        "collapsed": true,
        "outputId": "14803f33-a5cb-491e-f10b-851a3fd738e4",
        "colab": {
          "base_uri": "https://localhost:8080/"
        }
      },
      "execution_count": 4,
      "outputs": [
        {
          "output_type": "stream",
          "name": "stdout",
          "text": [
            "Looking in links: https://pytorch-geometric.com/whl/torch-1.12.1+cu113.html\n",
            "Collecting torch-scatter\n",
            "  Downloading https://data.pyg.org/whl/torch-1.12.0%2Bcu113/torch_scatter-2.1.0%2Bpt112cu113-cp37-cp37m-linux_x86_64.whl (8.9 MB)\n",
            "\u001b[K     |████████████████████████████████| 8.9 MB 11.4 MB/s \n",
            "\u001b[?25hInstalling collected packages: torch-scatter\n",
            "Successfully installed torch-scatter-2.1.0+pt112cu113\n",
            "Looking in links: https://pytorch-geometric.com/whl/torch-1.12.1+cu113.html\n",
            "Collecting torch-sparse\n",
            "  Downloading https://data.pyg.org/whl/torch-1.12.0%2Bcu113/torch_sparse-0.6.15%2Bpt112cu113-cp37-cp37m-linux_x86_64.whl (3.5 MB)\n",
            "\u001b[K     |████████████████████████████████| 3.5 MB 16.3 MB/s \n",
            "\u001b[?25hRequirement already satisfied: scipy in /usr/local/lib/python3.7/dist-packages (from torch-sparse) (1.7.3)\n",
            "Requirement already satisfied: numpy<1.23.0,>=1.16.5 in /usr/local/lib/python3.7/dist-packages (from scipy->torch-sparse) (1.21.6)\n",
            "Installing collected packages: torch-sparse\n",
            "Successfully installed torch-sparse-0.6.15+pt112cu113\n",
            "Looking in links: https://pytorch-geometric.com/whl/torch-1.12.1+cu113.html\n",
            "Collecting torch-cluster\n",
            "  Downloading https://data.pyg.org/whl/torch-1.12.0%2Bcu113/torch_cluster-1.6.0%2Bpt112cu113-cp37-cp37m-linux_x86_64.whl (2.5 MB)\n",
            "\u001b[K     |████████████████████████████████| 2.5 MB 7.0 MB/s \n",
            "\u001b[?25hRequirement already satisfied: scipy in /usr/local/lib/python3.7/dist-packages (from torch-cluster) (1.7.3)\n",
            "Requirement already satisfied: numpy<1.23.0,>=1.16.5 in /usr/local/lib/python3.7/dist-packages (from scipy->torch-cluster) (1.21.6)\n",
            "Installing collected packages: torch-cluster\n",
            "Successfully installed torch-cluster-1.6.0+pt112cu113\n",
            "Looking in links: https://pytorch-geometric.com/whl/torch-1.12.1+cu113.html\n",
            "Collecting torch-spline-conv\n",
            "  Downloading https://data.pyg.org/whl/torch-1.12.0%2Bcu113/torch_spline_conv-1.2.1%2Bpt112cu113-cp37-cp37m-linux_x86_64.whl (722 kB)\n",
            "\u001b[K     |████████████████████████████████| 722 kB 8.7 MB/s \n",
            "\u001b[?25hInstalling collected packages: torch-spline-conv\n",
            "Successfully installed torch-spline-conv-1.2.1+pt112cu113\n"
          ]
        }
      ]
    },
    {
      "cell_type": "code",
      "source": [
        "pip install fair-esm==0.1.0"
      ],
      "metadata": {
        "id": "ou91Bthtx_cX",
        "collapsed": true,
        "outputId": "66b3c90e-a4b3-4a47-9f7e-fed7e0c2ed06",
        "colab": {
          "base_uri": "https://localhost:8080/"
        }
      },
      "execution_count": 5,
      "outputs": [
        {
          "output_type": "stream",
          "name": "stdout",
          "text": [
            "Looking in indexes: https://pypi.org/simple, https://us-python.pkg.dev/colab-wheels/public/simple/\n",
            "Collecting fair-esm==0.1.0\n",
            "  Downloading fair_esm-0.1.0-py3-none-any.whl (23 kB)\n",
            "Installing collected packages: fair-esm\n",
            "  Attempting uninstall: fair-esm\n",
            "    Found existing installation: fair-esm 2.0.0\n",
            "    Uninstalling fair-esm-2.0.0:\n",
            "      Successfully uninstalled fair-esm-2.0.0\n",
            "Successfully installed fair-esm-0.1.0\n"
          ]
        }
      ]
    },
    {
      "cell_type": "code",
      "source": [
        "!pip install Ninja==1.10.2.4"
      ],
      "metadata": {
        "id": "RyDGjm4t5K5w",
        "outputId": "8992d22a-7820-4209-be01-bae614b7892e",
        "colab": {
          "base_uri": "https://localhost:8080/"
        }
      },
      "execution_count": 6,
      "outputs": [
        {
          "output_type": "stream",
          "name": "stdout",
          "text": [
            "Looking in indexes: https://pypi.org/simple, https://us-python.pkg.dev/colab-wheels/public/simple/\n",
            "Collecting Ninja==1.10.2.4\n",
            "  Downloading ninja-1.10.2.4-py2.py3-none-manylinux_2_5_x86_64.manylinux1_x86_64.whl (120 kB)\n",
            "\u001b[K     |████████████████████████████████| 120 kB 12.9 MB/s \n",
            "\u001b[?25hInstalling collected packages: Ninja\n",
            "Successfully installed Ninja-1.10.2.4\n"
          ]
        }
      ]
    },
    {
      "cell_type": "code",
      "source": [
        "pip install torch torchvision"
      ],
      "metadata": {
        "id": "lbTycvFjkmM2",
        "outputId": "25d444cd-3e61-4000-ba00-23a44de57e31",
        "colab": {
          "base_uri": "https://localhost:8080/"
        }
      },
      "execution_count": 7,
      "outputs": [
        {
          "output_type": "stream",
          "name": "stdout",
          "text": [
            "Looking in indexes: https://pypi.org/simple, https://us-python.pkg.dev/colab-wheels/public/simple/\n",
            "Requirement already satisfied: torch in /usr/local/lib/python3.7/dist-packages (1.12.1+cu113)\n",
            "Requirement already satisfied: torchvision in /usr/local/lib/python3.7/dist-packages (0.13.1+cu113)\n",
            "Requirement already satisfied: typing-extensions in /usr/local/lib/python3.7/dist-packages (from torch) (4.1.1)\n",
            "Requirement already satisfied: requests in /usr/local/lib/python3.7/dist-packages (from torchvision) (2.23.0)\n",
            "Requirement already satisfied: numpy in /usr/local/lib/python3.7/dist-packages (from torchvision) (1.21.6)\n",
            "Requirement already satisfied: pillow!=8.3.*,>=5.3.0 in /usr/local/lib/python3.7/dist-packages (from torchvision) (7.1.2)\n",
            "Requirement already satisfied: certifi>=2017.4.17 in /usr/local/lib/python3.7/dist-packages (from requests->torchvision) (2022.9.24)\n",
            "Requirement already satisfied: chardet<4,>=3.0.2 in /usr/local/lib/python3.7/dist-packages (from requests->torchvision) (3.0.4)\n",
            "Requirement already satisfied: urllib3!=1.25.0,!=1.25.1,<1.26,>=1.21.1 in /usr/local/lib/python3.7/dist-packages (from requests->torchvision) (1.24.3)\n",
            "Requirement already satisfied: idna<3,>=2.5 in /usr/local/lib/python3.7/dist-packages (from requests->torchvision) (2.10)\n"
          ]
        }
      ]
    },
    {
      "cell_type": "markdown",
      "source": [
        "# **Run setup.py**"
      ],
      "metadata": {
        "id": "1_ttU8GxGo1L"
      }
    },
    {
      "cell_type": "code",
      "source": [
        "!python setup.py install"
      ],
      "metadata": {
        "id": "Oqlw4XW6dL2V",
        "collapsed": true,
        "colab": {
          "base_uri": "https://localhost:8080/"
        },
        "outputId": "52cf2da0-d6b3-41ef-9206-5a80ac791f93"
      },
      "execution_count": 8,
      "outputs": [
        {
          "output_type": "stream",
          "name": "stdout",
          "text": [
            "running install\n",
            "running bdist_egg\n",
            "running egg_info\n",
            "creating torchdrug.egg-info\n",
            "writing torchdrug.egg-info/PKG-INFO\n",
            "writing dependency_links to torchdrug.egg-info/dependency_links.txt\n",
            "writing requirements to torchdrug.egg-info/requires.txt\n",
            "writing top-level names to torchdrug.egg-info/top_level.txt\n",
            "writing manifest file 'torchdrug.egg-info/SOURCES.txt'\n",
            "adding license file 'LICENSE'\n",
            "writing manifest file 'torchdrug.egg-info/SOURCES.txt'\n",
            "installing library code to build/bdist.linux-x86_64/egg\n",
            "running install_lib\n",
            "running build_py\n",
            "creating build\n",
            "creating build/lib\n",
            "creating build/lib/torchdrug\n",
            "copying torchdrug/patch.py -> build/lib/torchdrug\n",
            "copying torchdrug/__init__.py -> build/lib/torchdrug\n",
            "creating build/lib/torchdrug/transforms\n",
            "copying torchdrug/transforms/transform.py -> build/lib/torchdrug/transforms\n",
            "copying torchdrug/transforms/__init__.py -> build/lib/torchdrug/transforms\n",
            "creating build/lib/torchdrug/data\n",
            "copying torchdrug/data/feature.py -> build/lib/torchdrug/data\n",
            "copying torchdrug/data/molecule.py -> build/lib/torchdrug/data\n",
            "copying torchdrug/data/dictionary.py -> build/lib/torchdrug/data\n",
            "copying torchdrug/data/dataset.py -> build/lib/torchdrug/data\n",
            "copying torchdrug/data/graph.py -> build/lib/torchdrug/data\n",
            "copying torchdrug/data/dataloader.py -> build/lib/torchdrug/data\n",
            "copying torchdrug/data/protein.py -> build/lib/torchdrug/data\n",
            "copying torchdrug/data/constant.py -> build/lib/torchdrug/data\n",
            "copying torchdrug/data/__init__.py -> build/lib/torchdrug/data\n",
            "creating build/lib/torchdrug/models\n",
            "copying torchdrug/models/physicochemical.py -> build/lib/torchdrug/models\n",
            "copying torchdrug/models/gcn.py -> build/lib/torchdrug/models\n",
            "copying torchdrug/models/flow.py -> build/lib/torchdrug/models\n",
            "copying torchdrug/models/infograph.py -> build/lib/torchdrug/models\n",
            "copying torchdrug/models/gin.py -> build/lib/torchdrug/models\n",
            "copying torchdrug/models/esm.py -> build/lib/torchdrug/models\n",
            "copying torchdrug/models/bert.py -> build/lib/torchdrug/models\n",
            "copying torchdrug/models/lstm.py -> build/lib/torchdrug/models\n",
            "copying torchdrug/models/mpnn.py -> build/lib/torchdrug/models\n",
            "copying torchdrug/models/embedding.py -> build/lib/torchdrug/models\n",
            "copying torchdrug/models/neurallp.py -> build/lib/torchdrug/models\n",
            "copying torchdrug/models/schnet.py -> build/lib/torchdrug/models\n",
            "copying torchdrug/models/neuralfp.py -> build/lib/torchdrug/models\n",
            "copying torchdrug/models/kbgat.py -> build/lib/torchdrug/models\n",
            "copying torchdrug/models/statistic.py -> build/lib/torchdrug/models\n",
            "copying torchdrug/models/cnn.py -> build/lib/torchdrug/models\n",
            "copying torchdrug/models/gat.py -> build/lib/torchdrug/models\n",
            "copying torchdrug/models/chebnet.py -> build/lib/torchdrug/models\n",
            "copying torchdrug/models/gearnet.py -> build/lib/torchdrug/models\n",
            "copying torchdrug/models/__init__.py -> build/lib/torchdrug/models\n",
            "creating build/lib/torchdrug/tasks\n",
            "copying torchdrug/tasks/retrosynthesis.py -> build/lib/torchdrug/tasks\n",
            "copying torchdrug/tasks/generation.py -> build/lib/torchdrug/tasks\n",
            "copying torchdrug/tasks/task.py -> build/lib/torchdrug/tasks\n",
            "copying torchdrug/tasks/reasoning.py -> build/lib/torchdrug/tasks\n",
            "copying torchdrug/tasks/property_prediction.py -> build/lib/torchdrug/tasks\n",
            "copying torchdrug/tasks/pretrain.py -> build/lib/torchdrug/tasks\n",
            "copying torchdrug/tasks/contact_prediction.py -> build/lib/torchdrug/tasks\n",
            "copying torchdrug/tasks/__init__.py -> build/lib/torchdrug/tasks\n",
            "creating build/lib/torchdrug/metrics\n",
            "copying torchdrug/metrics/metric.py -> build/lib/torchdrug/metrics\n",
            "copying torchdrug/metrics/__init__.py -> build/lib/torchdrug/metrics\n",
            "creating build/lib/torchdrug/datasets\n",
            "copying torchdrug/datasets/chembl_filtered.py -> build/lib/torchdrug/datasets\n",
            "copying torchdrug/datasets/delaney.py -> build/lib/torchdrug/datasets\n",
            "copying torchdrug/datasets/bindingdb.py -> build/lib/torchdrug/datasets\n",
            "copying torchdrug/datasets/toxcast.py -> build/lib/torchdrug/datasets\n",
            "copying torchdrug/datasets/proteinnet.py -> build/lib/torchdrug/datasets\n",
            "copying torchdrug/datasets/pdbbind.py -> build/lib/torchdrug/datasets\n",
            "copying torchdrug/datasets/pubmed.py -> build/lib/torchdrug/datasets\n",
            "copying torchdrug/datasets/human_ppi.py -> build/lib/torchdrug/datasets\n",
            "copying torchdrug/datasets/muv.py -> build/lib/torchdrug/datasets\n",
            "copying torchdrug/datasets/cep.py -> build/lib/torchdrug/datasets\n",
            "copying torchdrug/datasets/zinc250k.py -> build/lib/torchdrug/datasets\n",
            "copying torchdrug/datasets/zinc2m.py -> build/lib/torchdrug/datasets\n",
            "copying torchdrug/datasets/alphafolddb.py -> build/lib/torchdrug/datasets\n",
            "copying torchdrug/datasets/malaria.py -> build/lib/torchdrug/datasets\n",
            "copying torchdrug/datasets/yeast_ppi.py -> build/lib/torchdrug/datasets\n",
            "copying torchdrug/datasets/ppi_affinity.py -> build/lib/torchdrug/datasets\n",
            "copying torchdrug/datasets/citeseer.py -> build/lib/torchdrug/datasets\n",
            "copying torchdrug/datasets/sider.py -> build/lib/torchdrug/datasets\n",
            "copying torchdrug/datasets/qm9.py -> build/lib/torchdrug/datasets\n",
            "copying torchdrug/datasets/clintox.py -> build/lib/torchdrug/datasets\n",
            "copying torchdrug/datasets/hiv.py -> build/lib/torchdrug/datasets\n",
            "copying torchdrug/datasets/pubchem110m.py -> build/lib/torchdrug/datasets\n",
            "copying torchdrug/datasets/fb15k.py -> build/lib/torchdrug/datasets\n",
            "copying torchdrug/datasets/gene_ontology.py -> build/lib/torchdrug/datasets\n",
            "copying torchdrug/datasets/binary_localization.py -> build/lib/torchdrug/datasets\n",
            "copying torchdrug/datasets/uspto50k.py -> build/lib/torchdrug/datasets\n",
            "copying torchdrug/datasets/bace.py -> build/lib/torchdrug/datasets\n",
            "copying torchdrug/datasets/tox21.py -> build/lib/torchdrug/datasets\n",
            "copying torchdrug/datasets/hetionet.py -> build/lib/torchdrug/datasets\n",
            "copying torchdrug/datasets/enzyme_commission.py -> build/lib/torchdrug/datasets\n",
            "copying torchdrug/datasets/pcqm4m.py -> build/lib/torchdrug/datasets\n",
            "copying torchdrug/datasets/bbbp.py -> build/lib/torchdrug/datasets\n",
            "copying torchdrug/datasets/secondary_structure.py -> build/lib/torchdrug/datasets\n",
            "copying torchdrug/datasets/freesolv.py -> build/lib/torchdrug/datasets\n",
            "copying torchdrug/datasets/solubility.py -> build/lib/torchdrug/datasets\n",
            "copying torchdrug/datasets/subcellular_localization.py -> build/lib/torchdrug/datasets\n",
            "copying torchdrug/datasets/cora.py -> build/lib/torchdrug/datasets\n",
            "copying torchdrug/datasets/beta_lactamase.py -> build/lib/torchdrug/datasets\n",
            "copying torchdrug/datasets/wn18.py -> build/lib/torchdrug/datasets\n",
            "copying torchdrug/datasets/moses.py -> build/lib/torchdrug/datasets\n",
            "copying torchdrug/datasets/opv.py -> build/lib/torchdrug/datasets\n",
            "copying torchdrug/datasets/stability.py -> build/lib/torchdrug/datasets\n",
            "copying torchdrug/datasets/fluorescence.py -> build/lib/torchdrug/datasets\n",
            "copying torchdrug/datasets/lipophilicity.py -> build/lib/torchdrug/datasets\n",
            "copying torchdrug/datasets/qm8.py -> build/lib/torchdrug/datasets\n",
            "copying torchdrug/datasets/fold.py -> build/lib/torchdrug/datasets\n",
            "copying torchdrug/datasets/__init__.py -> build/lib/torchdrug/datasets\n",
            "creating build/lib/torchdrug/utils\n",
            "copying torchdrug/utils/comm.py -> build/lib/torchdrug/utils\n",
            "copying torchdrug/utils/file.py -> build/lib/torchdrug/utils\n",
            "copying torchdrug/utils/io.py -> build/lib/torchdrug/utils\n",
            "copying torchdrug/utils/pretty.py -> build/lib/torchdrug/utils\n",
            "copying torchdrug/utils/plot.py -> build/lib/torchdrug/utils\n",
            "copying torchdrug/utils/torch.py -> build/lib/torchdrug/utils\n",
            "copying torchdrug/utils/decorator.py -> build/lib/torchdrug/utils\n",
            "copying torchdrug/utils/doc.py -> build/lib/torchdrug/utils\n",
            "copying torchdrug/utils/__init__.py -> build/lib/torchdrug/utils\n",
            "creating build/lib/torchdrug/core\n",
            "copying torchdrug/core/engine.py -> build/lib/torchdrug/core\n",
            "copying torchdrug/core/meter.py -> build/lib/torchdrug/core\n",
            "copying torchdrug/core/logger.py -> build/lib/torchdrug/core\n",
            "copying torchdrug/core/core.py -> build/lib/torchdrug/core\n",
            "copying torchdrug/core/__init__.py -> build/lib/torchdrug/core\n",
            "creating build/lib/torchdrug/layers\n",
            "copying torchdrug/layers/pool.py -> build/lib/torchdrug/layers\n",
            "copying torchdrug/layers/flow.py -> build/lib/torchdrug/layers\n",
            "copying torchdrug/layers/common.py -> build/lib/torchdrug/layers\n",
            "copying torchdrug/layers/sampler.py -> build/lib/torchdrug/layers\n",
            "copying torchdrug/layers/block.py -> build/lib/torchdrug/layers\n",
            "copying torchdrug/layers/conv.py -> build/lib/torchdrug/layers\n",
            "copying torchdrug/layers/readout.py -> build/lib/torchdrug/layers\n",
            "copying torchdrug/layers/distribution.py -> build/lib/torchdrug/layers\n",
            "copying torchdrug/layers/__init__.py -> build/lib/torchdrug/layers\n",
            "creating build/lib/torchdrug/data/rdkit\n",
            "copying torchdrug/data/rdkit/draw.py -> build/lib/torchdrug/data/rdkit\n",
            "copying torchdrug/data/rdkit/__init__.py -> build/lib/torchdrug/data/rdkit\n",
            "creating build/lib/torchdrug/metrics/rdkit\n",
            "copying torchdrug/metrics/rdkit/sascorer.py -> build/lib/torchdrug/metrics/rdkit\n",
            "copying torchdrug/metrics/rdkit/__init__.py -> build/lib/torchdrug/metrics/rdkit\n",
            "creating build/lib/torchdrug/utils/extension\n",
            "copying torchdrug/utils/extension/__init__.py -> build/lib/torchdrug/utils/extension\n",
            "creating build/lib/torchdrug/layers/functional\n",
            "copying torchdrug/layers/functional/embedding.py -> build/lib/torchdrug/layers/functional\n",
            "copying torchdrug/layers/functional/spmm.py -> build/lib/torchdrug/layers/functional\n",
            "copying torchdrug/layers/functional/__init__.py -> build/lib/torchdrug/layers/functional\n",
            "copying torchdrug/layers/functional/functional.py -> build/lib/torchdrug/layers/functional\n",
            "creating build/lib/torchdrug/layers/geometry\n",
            "copying torchdrug/layers/geometry/function.py -> build/lib/torchdrug/layers/geometry\n",
            "copying torchdrug/layers/geometry/graph.py -> build/lib/torchdrug/layers/geometry\n",
            "copying torchdrug/layers/geometry/__init__.py -> build/lib/torchdrug/layers/geometry\n",
            "creating build/lib/torchdrug/layers/functional/extension\n",
            "copying torchdrug/layers/functional/extension/__init__.py -> build/lib/torchdrug/layers/functional/extension\n",
            "copying torchdrug/layers/functional/extension/embedding.h -> build/lib/torchdrug/layers/functional/extension\n",
            "copying torchdrug/layers/functional/extension/spmm.h -> build/lib/torchdrug/layers/functional/extension\n",
            "copying torchdrug/layers/functional/extension/rspmm.h -> build/lib/torchdrug/layers/functional/extension\n",
            "copying torchdrug/layers/functional/extension/operator.cuh -> build/lib/torchdrug/layers/functional/extension\n",
            "copying torchdrug/layers/functional/extension/util.cuh -> build/lib/torchdrug/layers/functional/extension\n",
            "copying torchdrug/layers/functional/extension/rspmm.cpp -> build/lib/torchdrug/layers/functional/extension\n",
            "copying torchdrug/layers/functional/extension/spmm.cpp -> build/lib/torchdrug/layers/functional/extension\n",
            "copying torchdrug/layers/functional/extension/embedding.cpp -> build/lib/torchdrug/layers/functional/extension\n",
            "copying torchdrug/layers/functional/extension/embedding.cu -> build/lib/torchdrug/layers/functional/extension\n",
            "copying torchdrug/layers/functional/extension/spmm.cu -> build/lib/torchdrug/layers/functional/extension\n",
            "copying torchdrug/layers/functional/extension/rspmm.cu -> build/lib/torchdrug/layers/functional/extension\n",
            "copying torchdrug/utils/extension/torch_ext.cpp -> build/lib/torchdrug/utils/extension\n",
            "creating build/lib/torchdrug/utils/template\n",
            "copying torchdrug/utils/template/echarts.html -> build/lib/torchdrug/utils/template\n",
            "creating build/bdist.linux-x86_64\n",
            "creating build/bdist.linux-x86_64/egg\n",
            "creating build/bdist.linux-x86_64/egg/torchdrug\n",
            "creating build/bdist.linux-x86_64/egg/torchdrug/transforms\n",
            "copying build/lib/torchdrug/transforms/transform.py -> build/bdist.linux-x86_64/egg/torchdrug/transforms\n",
            "copying build/lib/torchdrug/transforms/__init__.py -> build/bdist.linux-x86_64/egg/torchdrug/transforms\n",
            "creating build/bdist.linux-x86_64/egg/torchdrug/data\n",
            "copying build/lib/torchdrug/data/feature.py -> build/bdist.linux-x86_64/egg/torchdrug/data\n",
            "copying build/lib/torchdrug/data/molecule.py -> build/bdist.linux-x86_64/egg/torchdrug/data\n",
            "creating build/bdist.linux-x86_64/egg/torchdrug/data/rdkit\n",
            "copying build/lib/torchdrug/data/rdkit/draw.py -> build/bdist.linux-x86_64/egg/torchdrug/data/rdkit\n",
            "copying build/lib/torchdrug/data/rdkit/__init__.py -> build/bdist.linux-x86_64/egg/torchdrug/data/rdkit\n",
            "copying build/lib/torchdrug/data/dictionary.py -> build/bdist.linux-x86_64/egg/torchdrug/data\n",
            "copying build/lib/torchdrug/data/dataset.py -> build/bdist.linux-x86_64/egg/torchdrug/data\n",
            "copying build/lib/torchdrug/data/graph.py -> build/bdist.linux-x86_64/egg/torchdrug/data\n",
            "copying build/lib/torchdrug/data/dataloader.py -> build/bdist.linux-x86_64/egg/torchdrug/data\n",
            "copying build/lib/torchdrug/data/protein.py -> build/bdist.linux-x86_64/egg/torchdrug/data\n",
            "copying build/lib/torchdrug/data/constant.py -> build/bdist.linux-x86_64/egg/torchdrug/data\n",
            "copying build/lib/torchdrug/data/__init__.py -> build/bdist.linux-x86_64/egg/torchdrug/data\n",
            "creating build/bdist.linux-x86_64/egg/torchdrug/models\n",
            "copying build/lib/torchdrug/models/physicochemical.py -> build/bdist.linux-x86_64/egg/torchdrug/models\n",
            "copying build/lib/torchdrug/models/gcn.py -> build/bdist.linux-x86_64/egg/torchdrug/models\n",
            "copying build/lib/torchdrug/models/flow.py -> build/bdist.linux-x86_64/egg/torchdrug/models\n",
            "copying build/lib/torchdrug/models/infograph.py -> build/bdist.linux-x86_64/egg/torchdrug/models\n",
            "copying build/lib/torchdrug/models/gin.py -> build/bdist.linux-x86_64/egg/torchdrug/models\n",
            "copying build/lib/torchdrug/models/esm.py -> build/bdist.linux-x86_64/egg/torchdrug/models\n",
            "copying build/lib/torchdrug/models/bert.py -> build/bdist.linux-x86_64/egg/torchdrug/models\n",
            "copying build/lib/torchdrug/models/lstm.py -> build/bdist.linux-x86_64/egg/torchdrug/models\n",
            "copying build/lib/torchdrug/models/mpnn.py -> build/bdist.linux-x86_64/egg/torchdrug/models\n",
            "copying build/lib/torchdrug/models/embedding.py -> build/bdist.linux-x86_64/egg/torchdrug/models\n",
            "copying build/lib/torchdrug/models/neurallp.py -> build/bdist.linux-x86_64/egg/torchdrug/models\n",
            "copying build/lib/torchdrug/models/schnet.py -> build/bdist.linux-x86_64/egg/torchdrug/models\n",
            "copying build/lib/torchdrug/models/neuralfp.py -> build/bdist.linux-x86_64/egg/torchdrug/models\n",
            "copying build/lib/torchdrug/models/kbgat.py -> build/bdist.linux-x86_64/egg/torchdrug/models\n",
            "copying build/lib/torchdrug/models/statistic.py -> build/bdist.linux-x86_64/egg/torchdrug/models\n",
            "copying build/lib/torchdrug/models/cnn.py -> build/bdist.linux-x86_64/egg/torchdrug/models\n",
            "copying build/lib/torchdrug/models/gat.py -> build/bdist.linux-x86_64/egg/torchdrug/models\n",
            "copying build/lib/torchdrug/models/chebnet.py -> build/bdist.linux-x86_64/egg/torchdrug/models\n",
            "copying build/lib/torchdrug/models/gearnet.py -> build/bdist.linux-x86_64/egg/torchdrug/models\n",
            "copying build/lib/torchdrug/models/__init__.py -> build/bdist.linux-x86_64/egg/torchdrug/models\n",
            "copying build/lib/torchdrug/patch.py -> build/bdist.linux-x86_64/egg/torchdrug\n",
            "creating build/bdist.linux-x86_64/egg/torchdrug/tasks\n",
            "copying build/lib/torchdrug/tasks/retrosynthesis.py -> build/bdist.linux-x86_64/egg/torchdrug/tasks\n",
            "copying build/lib/torchdrug/tasks/generation.py -> build/bdist.linux-x86_64/egg/torchdrug/tasks\n",
            "copying build/lib/torchdrug/tasks/task.py -> build/bdist.linux-x86_64/egg/torchdrug/tasks\n",
            "copying build/lib/torchdrug/tasks/reasoning.py -> build/bdist.linux-x86_64/egg/torchdrug/tasks\n",
            "copying build/lib/torchdrug/tasks/property_prediction.py -> build/bdist.linux-x86_64/egg/torchdrug/tasks\n",
            "copying build/lib/torchdrug/tasks/pretrain.py -> build/bdist.linux-x86_64/egg/torchdrug/tasks\n",
            "copying build/lib/torchdrug/tasks/contact_prediction.py -> build/bdist.linux-x86_64/egg/torchdrug/tasks\n",
            "copying build/lib/torchdrug/tasks/__init__.py -> build/bdist.linux-x86_64/egg/torchdrug/tasks\n",
            "creating build/bdist.linux-x86_64/egg/torchdrug/metrics\n",
            "creating build/bdist.linux-x86_64/egg/torchdrug/metrics/rdkit\n",
            "copying build/lib/torchdrug/metrics/rdkit/sascorer.py -> build/bdist.linux-x86_64/egg/torchdrug/metrics/rdkit\n",
            "copying build/lib/torchdrug/metrics/rdkit/__init__.py -> build/bdist.linux-x86_64/egg/torchdrug/metrics/rdkit\n",
            "copying build/lib/torchdrug/metrics/metric.py -> build/bdist.linux-x86_64/egg/torchdrug/metrics\n",
            "copying build/lib/torchdrug/metrics/__init__.py -> build/bdist.linux-x86_64/egg/torchdrug/metrics\n",
            "creating build/bdist.linux-x86_64/egg/torchdrug/datasets\n",
            "copying build/lib/torchdrug/datasets/chembl_filtered.py -> build/bdist.linux-x86_64/egg/torchdrug/datasets\n",
            "copying build/lib/torchdrug/datasets/delaney.py -> build/bdist.linux-x86_64/egg/torchdrug/datasets\n",
            "copying build/lib/torchdrug/datasets/bindingdb.py -> build/bdist.linux-x86_64/egg/torchdrug/datasets\n",
            "copying build/lib/torchdrug/datasets/toxcast.py -> build/bdist.linux-x86_64/egg/torchdrug/datasets\n",
            "copying build/lib/torchdrug/datasets/proteinnet.py -> build/bdist.linux-x86_64/egg/torchdrug/datasets\n",
            "copying build/lib/torchdrug/datasets/pdbbind.py -> build/bdist.linux-x86_64/egg/torchdrug/datasets\n",
            "copying build/lib/torchdrug/datasets/pubmed.py -> build/bdist.linux-x86_64/egg/torchdrug/datasets\n",
            "copying build/lib/torchdrug/datasets/human_ppi.py -> build/bdist.linux-x86_64/egg/torchdrug/datasets\n",
            "copying build/lib/torchdrug/datasets/muv.py -> build/bdist.linux-x86_64/egg/torchdrug/datasets\n",
            "copying build/lib/torchdrug/datasets/cep.py -> build/bdist.linux-x86_64/egg/torchdrug/datasets\n",
            "copying build/lib/torchdrug/datasets/zinc250k.py -> build/bdist.linux-x86_64/egg/torchdrug/datasets\n",
            "copying build/lib/torchdrug/datasets/zinc2m.py -> build/bdist.linux-x86_64/egg/torchdrug/datasets\n",
            "copying build/lib/torchdrug/datasets/alphafolddb.py -> build/bdist.linux-x86_64/egg/torchdrug/datasets\n",
            "copying build/lib/torchdrug/datasets/malaria.py -> build/bdist.linux-x86_64/egg/torchdrug/datasets\n",
            "copying build/lib/torchdrug/datasets/yeast_ppi.py -> build/bdist.linux-x86_64/egg/torchdrug/datasets\n",
            "copying build/lib/torchdrug/datasets/ppi_affinity.py -> build/bdist.linux-x86_64/egg/torchdrug/datasets\n",
            "copying build/lib/torchdrug/datasets/citeseer.py -> build/bdist.linux-x86_64/egg/torchdrug/datasets\n",
            "copying build/lib/torchdrug/datasets/sider.py -> build/bdist.linux-x86_64/egg/torchdrug/datasets\n",
            "copying build/lib/torchdrug/datasets/qm9.py -> build/bdist.linux-x86_64/egg/torchdrug/datasets\n",
            "copying build/lib/torchdrug/datasets/clintox.py -> build/bdist.linux-x86_64/egg/torchdrug/datasets\n",
            "copying build/lib/torchdrug/datasets/hiv.py -> build/bdist.linux-x86_64/egg/torchdrug/datasets\n",
            "copying build/lib/torchdrug/datasets/pubchem110m.py -> build/bdist.linux-x86_64/egg/torchdrug/datasets\n",
            "copying build/lib/torchdrug/datasets/fb15k.py -> build/bdist.linux-x86_64/egg/torchdrug/datasets\n",
            "copying build/lib/torchdrug/datasets/gene_ontology.py -> build/bdist.linux-x86_64/egg/torchdrug/datasets\n",
            "copying build/lib/torchdrug/datasets/binary_localization.py -> build/bdist.linux-x86_64/egg/torchdrug/datasets\n",
            "copying build/lib/torchdrug/datasets/uspto50k.py -> build/bdist.linux-x86_64/egg/torchdrug/datasets\n",
            "copying build/lib/torchdrug/datasets/bace.py -> build/bdist.linux-x86_64/egg/torchdrug/datasets\n",
            "copying build/lib/torchdrug/datasets/tox21.py -> build/bdist.linux-x86_64/egg/torchdrug/datasets\n",
            "copying build/lib/torchdrug/datasets/hetionet.py -> build/bdist.linux-x86_64/egg/torchdrug/datasets\n",
            "copying build/lib/torchdrug/datasets/enzyme_commission.py -> build/bdist.linux-x86_64/egg/torchdrug/datasets\n",
            "copying build/lib/torchdrug/datasets/pcqm4m.py -> build/bdist.linux-x86_64/egg/torchdrug/datasets\n",
            "copying build/lib/torchdrug/datasets/bbbp.py -> build/bdist.linux-x86_64/egg/torchdrug/datasets\n",
            "copying build/lib/torchdrug/datasets/secondary_structure.py -> build/bdist.linux-x86_64/egg/torchdrug/datasets\n",
            "copying build/lib/torchdrug/datasets/freesolv.py -> build/bdist.linux-x86_64/egg/torchdrug/datasets\n",
            "copying build/lib/torchdrug/datasets/solubility.py -> build/bdist.linux-x86_64/egg/torchdrug/datasets\n",
            "copying build/lib/torchdrug/datasets/subcellular_localization.py -> build/bdist.linux-x86_64/egg/torchdrug/datasets\n",
            "copying build/lib/torchdrug/datasets/cora.py -> build/bdist.linux-x86_64/egg/torchdrug/datasets\n",
            "copying build/lib/torchdrug/datasets/beta_lactamase.py -> build/bdist.linux-x86_64/egg/torchdrug/datasets\n",
            "copying build/lib/torchdrug/datasets/wn18.py -> build/bdist.linux-x86_64/egg/torchdrug/datasets\n",
            "copying build/lib/torchdrug/datasets/moses.py -> build/bdist.linux-x86_64/egg/torchdrug/datasets\n",
            "copying build/lib/torchdrug/datasets/opv.py -> build/bdist.linux-x86_64/egg/torchdrug/datasets\n",
            "copying build/lib/torchdrug/datasets/stability.py -> build/bdist.linux-x86_64/egg/torchdrug/datasets\n",
            "copying build/lib/torchdrug/datasets/fluorescence.py -> build/bdist.linux-x86_64/egg/torchdrug/datasets\n",
            "copying build/lib/torchdrug/datasets/lipophilicity.py -> build/bdist.linux-x86_64/egg/torchdrug/datasets\n",
            "copying build/lib/torchdrug/datasets/qm8.py -> build/bdist.linux-x86_64/egg/torchdrug/datasets\n",
            "copying build/lib/torchdrug/datasets/fold.py -> build/bdist.linux-x86_64/egg/torchdrug/datasets\n",
            "copying build/lib/torchdrug/datasets/__init__.py -> build/bdist.linux-x86_64/egg/torchdrug/datasets\n",
            "creating build/bdist.linux-x86_64/egg/torchdrug/utils\n",
            "copying build/lib/torchdrug/utils/comm.py -> build/bdist.linux-x86_64/egg/torchdrug/utils\n",
            "copying build/lib/torchdrug/utils/file.py -> build/bdist.linux-x86_64/egg/torchdrug/utils\n",
            "copying build/lib/torchdrug/utils/io.py -> build/bdist.linux-x86_64/egg/torchdrug/utils\n",
            "creating build/bdist.linux-x86_64/egg/torchdrug/utils/template\n",
            "copying build/lib/torchdrug/utils/template/echarts.html -> build/bdist.linux-x86_64/egg/torchdrug/utils/template\n",
            "copying build/lib/torchdrug/utils/pretty.py -> build/bdist.linux-x86_64/egg/torchdrug/utils\n",
            "copying build/lib/torchdrug/utils/plot.py -> build/bdist.linux-x86_64/egg/torchdrug/utils\n",
            "copying build/lib/torchdrug/utils/torch.py -> build/bdist.linux-x86_64/egg/torchdrug/utils\n",
            "copying build/lib/torchdrug/utils/decorator.py -> build/bdist.linux-x86_64/egg/torchdrug/utils\n",
            "creating build/bdist.linux-x86_64/egg/torchdrug/utils/extension\n",
            "copying build/lib/torchdrug/utils/extension/torch_ext.cpp -> build/bdist.linux-x86_64/egg/torchdrug/utils/extension\n",
            "copying build/lib/torchdrug/utils/extension/__init__.py -> build/bdist.linux-x86_64/egg/torchdrug/utils/extension\n",
            "copying build/lib/torchdrug/utils/doc.py -> build/bdist.linux-x86_64/egg/torchdrug/utils\n",
            "copying build/lib/torchdrug/utils/__init__.py -> build/bdist.linux-x86_64/egg/torchdrug/utils\n",
            "creating build/bdist.linux-x86_64/egg/torchdrug/core\n",
            "copying build/lib/torchdrug/core/engine.py -> build/bdist.linux-x86_64/egg/torchdrug/core\n",
            "copying build/lib/torchdrug/core/meter.py -> build/bdist.linux-x86_64/egg/torchdrug/core\n",
            "copying build/lib/torchdrug/core/logger.py -> build/bdist.linux-x86_64/egg/torchdrug/core\n",
            "copying build/lib/torchdrug/core/core.py -> build/bdist.linux-x86_64/egg/torchdrug/core\n",
            "copying build/lib/torchdrug/core/__init__.py -> build/bdist.linux-x86_64/egg/torchdrug/core\n",
            "copying build/lib/torchdrug/__init__.py -> build/bdist.linux-x86_64/egg/torchdrug\n",
            "creating build/bdist.linux-x86_64/egg/torchdrug/layers\n",
            "copying build/lib/torchdrug/layers/pool.py -> build/bdist.linux-x86_64/egg/torchdrug/layers\n",
            "copying build/lib/torchdrug/layers/flow.py -> build/bdist.linux-x86_64/egg/torchdrug/layers\n",
            "creating build/bdist.linux-x86_64/egg/torchdrug/layers/functional\n",
            "copying build/lib/torchdrug/layers/functional/embedding.py -> build/bdist.linux-x86_64/egg/torchdrug/layers/functional\n",
            "creating build/bdist.linux-x86_64/egg/torchdrug/layers/functional/extension\n",
            "copying build/lib/torchdrug/layers/functional/extension/operator.cuh -> build/bdist.linux-x86_64/egg/torchdrug/layers/functional/extension\n",
            "copying build/lib/torchdrug/layers/functional/extension/embedding.cu -> build/bdist.linux-x86_64/egg/torchdrug/layers/functional/extension\n",
            "copying build/lib/torchdrug/layers/functional/extension/spmm.cu -> build/bdist.linux-x86_64/egg/torchdrug/layers/functional/extension\n",
            "copying build/lib/torchdrug/layers/functional/extension/embedding.h -> build/bdist.linux-x86_64/egg/torchdrug/layers/functional/extension\n",
            "copying build/lib/torchdrug/layers/functional/extension/rspmm.cpp -> build/bdist.linux-x86_64/egg/torchdrug/layers/functional/extension\n",
            "copying build/lib/torchdrug/layers/functional/extension/spmm.h -> build/bdist.linux-x86_64/egg/torchdrug/layers/functional/extension\n",
            "copying build/lib/torchdrug/layers/functional/extension/spmm.cpp -> build/bdist.linux-x86_64/egg/torchdrug/layers/functional/extension\n",
            "copying build/lib/torchdrug/layers/functional/extension/rspmm.cu -> build/bdist.linux-x86_64/egg/torchdrug/layers/functional/extension\n",
            "copying build/lib/torchdrug/layers/functional/extension/util.cuh -> build/bdist.linux-x86_64/egg/torchdrug/layers/functional/extension\n",
            "copying build/lib/torchdrug/layers/functional/extension/embedding.cpp -> build/bdist.linux-x86_64/egg/torchdrug/layers/functional/extension\n",
            "copying build/lib/torchdrug/layers/functional/extension/rspmm.h -> build/bdist.linux-x86_64/egg/torchdrug/layers/functional/extension\n",
            "copying build/lib/torchdrug/layers/functional/extension/__init__.py -> build/bdist.linux-x86_64/egg/torchdrug/layers/functional/extension\n",
            "copying build/lib/torchdrug/layers/functional/spmm.py -> build/bdist.linux-x86_64/egg/torchdrug/layers/functional\n",
            "copying build/lib/torchdrug/layers/functional/__init__.py -> build/bdist.linux-x86_64/egg/torchdrug/layers/functional\n",
            "copying build/lib/torchdrug/layers/functional/functional.py -> build/bdist.linux-x86_64/egg/torchdrug/layers/functional\n",
            "copying build/lib/torchdrug/layers/common.py -> build/bdist.linux-x86_64/egg/torchdrug/layers\n",
            "copying build/lib/torchdrug/layers/sampler.py -> build/bdist.linux-x86_64/egg/torchdrug/layers\n",
            "copying build/lib/torchdrug/layers/block.py -> build/bdist.linux-x86_64/egg/torchdrug/layers\n",
            "copying build/lib/torchdrug/layers/conv.py -> build/bdist.linux-x86_64/egg/torchdrug/layers\n",
            "copying build/lib/torchdrug/layers/readout.py -> build/bdist.linux-x86_64/egg/torchdrug/layers\n",
            "copying build/lib/torchdrug/layers/distribution.py -> build/bdist.linux-x86_64/egg/torchdrug/layers\n",
            "creating build/bdist.linux-x86_64/egg/torchdrug/layers/geometry\n",
            "copying build/lib/torchdrug/layers/geometry/function.py -> build/bdist.linux-x86_64/egg/torchdrug/layers/geometry\n",
            "copying build/lib/torchdrug/layers/geometry/graph.py -> build/bdist.linux-x86_64/egg/torchdrug/layers/geometry\n",
            "copying build/lib/torchdrug/layers/geometry/__init__.py -> build/bdist.linux-x86_64/egg/torchdrug/layers/geometry\n",
            "copying build/lib/torchdrug/layers/__init__.py -> build/bdist.linux-x86_64/egg/torchdrug/layers\n",
            "byte-compiling build/bdist.linux-x86_64/egg/torchdrug/transforms/transform.py to transform.cpython-37.pyc\n",
            "byte-compiling build/bdist.linux-x86_64/egg/torchdrug/transforms/__init__.py to __init__.cpython-37.pyc\n",
            "byte-compiling build/bdist.linux-x86_64/egg/torchdrug/data/feature.py to feature.cpython-37.pyc\n",
            "byte-compiling build/bdist.linux-x86_64/egg/torchdrug/data/molecule.py to molecule.cpython-37.pyc\n",
            "byte-compiling build/bdist.linux-x86_64/egg/torchdrug/data/rdkit/draw.py to draw.cpython-37.pyc\n",
            "byte-compiling build/bdist.linux-x86_64/egg/torchdrug/data/rdkit/__init__.py to __init__.cpython-37.pyc\n",
            "byte-compiling build/bdist.linux-x86_64/egg/torchdrug/data/dictionary.py to dictionary.cpython-37.pyc\n",
            "byte-compiling build/bdist.linux-x86_64/egg/torchdrug/data/dataset.py to dataset.cpython-37.pyc\n",
            "byte-compiling build/bdist.linux-x86_64/egg/torchdrug/data/graph.py to graph.cpython-37.pyc\n",
            "byte-compiling build/bdist.linux-x86_64/egg/torchdrug/data/dataloader.py to dataloader.cpython-37.pyc\n",
            "byte-compiling build/bdist.linux-x86_64/egg/torchdrug/data/protein.py to protein.cpython-37.pyc\n",
            "byte-compiling build/bdist.linux-x86_64/egg/torchdrug/data/constant.py to constant.cpython-37.pyc\n",
            "byte-compiling build/bdist.linux-x86_64/egg/torchdrug/data/__init__.py to __init__.cpython-37.pyc\n",
            "byte-compiling build/bdist.linux-x86_64/egg/torchdrug/models/physicochemical.py to physicochemical.cpython-37.pyc\n",
            "byte-compiling build/bdist.linux-x86_64/egg/torchdrug/models/gcn.py to gcn.cpython-37.pyc\n",
            "byte-compiling build/bdist.linux-x86_64/egg/torchdrug/models/flow.py to flow.cpython-37.pyc\n",
            "byte-compiling build/bdist.linux-x86_64/egg/torchdrug/models/infograph.py to infograph.cpython-37.pyc\n",
            "byte-compiling build/bdist.linux-x86_64/egg/torchdrug/models/gin.py to gin.cpython-37.pyc\n",
            "byte-compiling build/bdist.linux-x86_64/egg/torchdrug/models/esm.py to esm.cpython-37.pyc\n",
            "byte-compiling build/bdist.linux-x86_64/egg/torchdrug/models/bert.py to bert.cpython-37.pyc\n",
            "byte-compiling build/bdist.linux-x86_64/egg/torchdrug/models/lstm.py to lstm.cpython-37.pyc\n",
            "byte-compiling build/bdist.linux-x86_64/egg/torchdrug/models/mpnn.py to mpnn.cpython-37.pyc\n",
            "byte-compiling build/bdist.linux-x86_64/egg/torchdrug/models/embedding.py to embedding.cpython-37.pyc\n",
            "byte-compiling build/bdist.linux-x86_64/egg/torchdrug/models/neurallp.py to neurallp.cpython-37.pyc\n",
            "byte-compiling build/bdist.linux-x86_64/egg/torchdrug/models/schnet.py to schnet.cpython-37.pyc\n",
            "byte-compiling build/bdist.linux-x86_64/egg/torchdrug/models/neuralfp.py to neuralfp.cpython-37.pyc\n",
            "byte-compiling build/bdist.linux-x86_64/egg/torchdrug/models/kbgat.py to kbgat.cpython-37.pyc\n",
            "byte-compiling build/bdist.linux-x86_64/egg/torchdrug/models/statistic.py to statistic.cpython-37.pyc\n",
            "byte-compiling build/bdist.linux-x86_64/egg/torchdrug/models/cnn.py to cnn.cpython-37.pyc\n",
            "byte-compiling build/bdist.linux-x86_64/egg/torchdrug/models/gat.py to gat.cpython-37.pyc\n",
            "byte-compiling build/bdist.linux-x86_64/egg/torchdrug/models/chebnet.py to chebnet.cpython-37.pyc\n",
            "byte-compiling build/bdist.linux-x86_64/egg/torchdrug/models/gearnet.py to gearnet.cpython-37.pyc\n",
            "byte-compiling build/bdist.linux-x86_64/egg/torchdrug/models/__init__.py to __init__.cpython-37.pyc\n",
            "byte-compiling build/bdist.linux-x86_64/egg/torchdrug/patch.py to patch.cpython-37.pyc\n",
            "byte-compiling build/bdist.linux-x86_64/egg/torchdrug/tasks/retrosynthesis.py to retrosynthesis.cpython-37.pyc\n",
            "byte-compiling build/bdist.linux-x86_64/egg/torchdrug/tasks/generation.py to generation.cpython-37.pyc\n",
            "byte-compiling build/bdist.linux-x86_64/egg/torchdrug/tasks/task.py to task.cpython-37.pyc\n",
            "byte-compiling build/bdist.linux-x86_64/egg/torchdrug/tasks/reasoning.py to reasoning.cpython-37.pyc\n",
            "byte-compiling build/bdist.linux-x86_64/egg/torchdrug/tasks/property_prediction.py to property_prediction.cpython-37.pyc\n",
            "byte-compiling build/bdist.linux-x86_64/egg/torchdrug/tasks/pretrain.py to pretrain.cpython-37.pyc\n",
            "byte-compiling build/bdist.linux-x86_64/egg/torchdrug/tasks/contact_prediction.py to contact_prediction.cpython-37.pyc\n",
            "byte-compiling build/bdist.linux-x86_64/egg/torchdrug/tasks/__init__.py to __init__.cpython-37.pyc\n",
            "byte-compiling build/bdist.linux-x86_64/egg/torchdrug/metrics/rdkit/sascorer.py to sascorer.cpython-37.pyc\n",
            "byte-compiling build/bdist.linux-x86_64/egg/torchdrug/metrics/rdkit/__init__.py to __init__.cpython-37.pyc\n",
            "byte-compiling build/bdist.linux-x86_64/egg/torchdrug/metrics/metric.py to metric.cpython-37.pyc\n",
            "byte-compiling build/bdist.linux-x86_64/egg/torchdrug/metrics/__init__.py to __init__.cpython-37.pyc\n",
            "byte-compiling build/bdist.linux-x86_64/egg/torchdrug/datasets/chembl_filtered.py to chembl_filtered.cpython-37.pyc\n",
            "byte-compiling build/bdist.linux-x86_64/egg/torchdrug/datasets/delaney.py to delaney.cpython-37.pyc\n",
            "byte-compiling build/bdist.linux-x86_64/egg/torchdrug/datasets/bindingdb.py to bindingdb.cpython-37.pyc\n",
            "byte-compiling build/bdist.linux-x86_64/egg/torchdrug/datasets/toxcast.py to toxcast.cpython-37.pyc\n",
            "byte-compiling build/bdist.linux-x86_64/egg/torchdrug/datasets/proteinnet.py to proteinnet.cpython-37.pyc\n",
            "byte-compiling build/bdist.linux-x86_64/egg/torchdrug/datasets/pdbbind.py to pdbbind.cpython-37.pyc\n",
            "byte-compiling build/bdist.linux-x86_64/egg/torchdrug/datasets/pubmed.py to pubmed.cpython-37.pyc\n",
            "byte-compiling build/bdist.linux-x86_64/egg/torchdrug/datasets/human_ppi.py to human_ppi.cpython-37.pyc\n",
            "byte-compiling build/bdist.linux-x86_64/egg/torchdrug/datasets/muv.py to muv.cpython-37.pyc\n",
            "byte-compiling build/bdist.linux-x86_64/egg/torchdrug/datasets/cep.py to cep.cpython-37.pyc\n",
            "byte-compiling build/bdist.linux-x86_64/egg/torchdrug/datasets/zinc250k.py to zinc250k.cpython-37.pyc\n",
            "byte-compiling build/bdist.linux-x86_64/egg/torchdrug/datasets/zinc2m.py to zinc2m.cpython-37.pyc\n",
            "byte-compiling build/bdist.linux-x86_64/egg/torchdrug/datasets/alphafolddb.py to alphafolddb.cpython-37.pyc\n",
            "byte-compiling build/bdist.linux-x86_64/egg/torchdrug/datasets/malaria.py to malaria.cpython-37.pyc\n",
            "byte-compiling build/bdist.linux-x86_64/egg/torchdrug/datasets/yeast_ppi.py to yeast_ppi.cpython-37.pyc\n",
            "byte-compiling build/bdist.linux-x86_64/egg/torchdrug/datasets/ppi_affinity.py to ppi_affinity.cpython-37.pyc\n",
            "byte-compiling build/bdist.linux-x86_64/egg/torchdrug/datasets/citeseer.py to citeseer.cpython-37.pyc\n",
            "byte-compiling build/bdist.linux-x86_64/egg/torchdrug/datasets/sider.py to sider.cpython-37.pyc\n",
            "byte-compiling build/bdist.linux-x86_64/egg/torchdrug/datasets/qm9.py to qm9.cpython-37.pyc\n",
            "byte-compiling build/bdist.linux-x86_64/egg/torchdrug/datasets/clintox.py to clintox.cpython-37.pyc\n",
            "byte-compiling build/bdist.linux-x86_64/egg/torchdrug/datasets/hiv.py to hiv.cpython-37.pyc\n",
            "byte-compiling build/bdist.linux-x86_64/egg/torchdrug/datasets/pubchem110m.py to pubchem110m.cpython-37.pyc\n",
            "byte-compiling build/bdist.linux-x86_64/egg/torchdrug/datasets/fb15k.py to fb15k.cpython-37.pyc\n",
            "byte-compiling build/bdist.linux-x86_64/egg/torchdrug/datasets/gene_ontology.py to gene_ontology.cpython-37.pyc\n",
            "byte-compiling build/bdist.linux-x86_64/egg/torchdrug/datasets/binary_localization.py to binary_localization.cpython-37.pyc\n",
            "byte-compiling build/bdist.linux-x86_64/egg/torchdrug/datasets/uspto50k.py to uspto50k.cpython-37.pyc\n",
            "byte-compiling build/bdist.linux-x86_64/egg/torchdrug/datasets/bace.py to bace.cpython-37.pyc\n",
            "byte-compiling build/bdist.linux-x86_64/egg/torchdrug/datasets/tox21.py to tox21.cpython-37.pyc\n",
            "byte-compiling build/bdist.linux-x86_64/egg/torchdrug/datasets/hetionet.py to hetionet.cpython-37.pyc\n",
            "byte-compiling build/bdist.linux-x86_64/egg/torchdrug/datasets/enzyme_commission.py to enzyme_commission.cpython-37.pyc\n",
            "byte-compiling build/bdist.linux-x86_64/egg/torchdrug/datasets/pcqm4m.py to pcqm4m.cpython-37.pyc\n",
            "byte-compiling build/bdist.linux-x86_64/egg/torchdrug/datasets/bbbp.py to bbbp.cpython-37.pyc\n",
            "byte-compiling build/bdist.linux-x86_64/egg/torchdrug/datasets/secondary_structure.py to secondary_structure.cpython-37.pyc\n",
            "byte-compiling build/bdist.linux-x86_64/egg/torchdrug/datasets/freesolv.py to freesolv.cpython-37.pyc\n",
            "byte-compiling build/bdist.linux-x86_64/egg/torchdrug/datasets/solubility.py to solubility.cpython-37.pyc\n",
            "byte-compiling build/bdist.linux-x86_64/egg/torchdrug/datasets/subcellular_localization.py to subcellular_localization.cpython-37.pyc\n",
            "byte-compiling build/bdist.linux-x86_64/egg/torchdrug/datasets/cora.py to cora.cpython-37.pyc\n",
            "byte-compiling build/bdist.linux-x86_64/egg/torchdrug/datasets/beta_lactamase.py to beta_lactamase.cpython-37.pyc\n",
            "byte-compiling build/bdist.linux-x86_64/egg/torchdrug/datasets/wn18.py to wn18.cpython-37.pyc\n",
            "byte-compiling build/bdist.linux-x86_64/egg/torchdrug/datasets/moses.py to moses.cpython-37.pyc\n",
            "byte-compiling build/bdist.linux-x86_64/egg/torchdrug/datasets/opv.py to opv.cpython-37.pyc\n",
            "byte-compiling build/bdist.linux-x86_64/egg/torchdrug/datasets/stability.py to stability.cpython-37.pyc\n",
            "byte-compiling build/bdist.linux-x86_64/egg/torchdrug/datasets/fluorescence.py to fluorescence.cpython-37.pyc\n",
            "byte-compiling build/bdist.linux-x86_64/egg/torchdrug/datasets/lipophilicity.py to lipophilicity.cpython-37.pyc\n",
            "byte-compiling build/bdist.linux-x86_64/egg/torchdrug/datasets/qm8.py to qm8.cpython-37.pyc\n",
            "byte-compiling build/bdist.linux-x86_64/egg/torchdrug/datasets/fold.py to fold.cpython-37.pyc\n",
            "byte-compiling build/bdist.linux-x86_64/egg/torchdrug/datasets/__init__.py to __init__.cpython-37.pyc\n",
            "byte-compiling build/bdist.linux-x86_64/egg/torchdrug/utils/comm.py to comm.cpython-37.pyc\n",
            "byte-compiling build/bdist.linux-x86_64/egg/torchdrug/utils/file.py to file.cpython-37.pyc\n",
            "byte-compiling build/bdist.linux-x86_64/egg/torchdrug/utils/io.py to io.cpython-37.pyc\n",
            "byte-compiling build/bdist.linux-x86_64/egg/torchdrug/utils/pretty.py to pretty.cpython-37.pyc\n",
            "byte-compiling build/bdist.linux-x86_64/egg/torchdrug/utils/plot.py to plot.cpython-37.pyc\n",
            "byte-compiling build/bdist.linux-x86_64/egg/torchdrug/utils/torch.py to torch.cpython-37.pyc\n",
            "byte-compiling build/bdist.linux-x86_64/egg/torchdrug/utils/decorator.py to decorator.cpython-37.pyc\n",
            "byte-compiling build/bdist.linux-x86_64/egg/torchdrug/utils/extension/__init__.py to __init__.cpython-37.pyc\n",
            "byte-compiling build/bdist.linux-x86_64/egg/torchdrug/utils/doc.py to doc.cpython-37.pyc\n",
            "byte-compiling build/bdist.linux-x86_64/egg/torchdrug/utils/__init__.py to __init__.cpython-37.pyc\n",
            "byte-compiling build/bdist.linux-x86_64/egg/torchdrug/core/engine.py to engine.cpython-37.pyc\n",
            "byte-compiling build/bdist.linux-x86_64/egg/torchdrug/core/meter.py to meter.cpython-37.pyc\n",
            "byte-compiling build/bdist.linux-x86_64/egg/torchdrug/core/logger.py to logger.cpython-37.pyc\n",
            "byte-compiling build/bdist.linux-x86_64/egg/torchdrug/core/core.py to core.cpython-37.pyc\n",
            "byte-compiling build/bdist.linux-x86_64/egg/torchdrug/core/__init__.py to __init__.cpython-37.pyc\n",
            "byte-compiling build/bdist.linux-x86_64/egg/torchdrug/__init__.py to __init__.cpython-37.pyc\n",
            "byte-compiling build/bdist.linux-x86_64/egg/torchdrug/layers/pool.py to pool.cpython-37.pyc\n",
            "byte-compiling build/bdist.linux-x86_64/egg/torchdrug/layers/flow.py to flow.cpython-37.pyc\n",
            "byte-compiling build/bdist.linux-x86_64/egg/torchdrug/layers/functional/embedding.py to embedding.cpython-37.pyc\n",
            "byte-compiling build/bdist.linux-x86_64/egg/torchdrug/layers/functional/extension/__init__.py to __init__.cpython-37.pyc\n",
            "byte-compiling build/bdist.linux-x86_64/egg/torchdrug/layers/functional/spmm.py to spmm.cpython-37.pyc\n",
            "byte-compiling build/bdist.linux-x86_64/egg/torchdrug/layers/functional/__init__.py to __init__.cpython-37.pyc\n",
            "byte-compiling build/bdist.linux-x86_64/egg/torchdrug/layers/functional/functional.py to functional.cpython-37.pyc\n",
            "byte-compiling build/bdist.linux-x86_64/egg/torchdrug/layers/common.py to common.cpython-37.pyc\n",
            "byte-compiling build/bdist.linux-x86_64/egg/torchdrug/layers/sampler.py to sampler.cpython-37.pyc\n",
            "byte-compiling build/bdist.linux-x86_64/egg/torchdrug/layers/block.py to block.cpython-37.pyc\n",
            "byte-compiling build/bdist.linux-x86_64/egg/torchdrug/layers/conv.py to conv.cpython-37.pyc\n",
            "byte-compiling build/bdist.linux-x86_64/egg/torchdrug/layers/readout.py to readout.cpython-37.pyc\n",
            "byte-compiling build/bdist.linux-x86_64/egg/torchdrug/layers/distribution.py to distribution.cpython-37.pyc\n",
            "byte-compiling build/bdist.linux-x86_64/egg/torchdrug/layers/geometry/function.py to function.cpython-37.pyc\n",
            "byte-compiling build/bdist.linux-x86_64/egg/torchdrug/layers/geometry/graph.py to graph.cpython-37.pyc\n",
            "byte-compiling build/bdist.linux-x86_64/egg/torchdrug/layers/geometry/__init__.py to __init__.cpython-37.pyc\n",
            "byte-compiling build/bdist.linux-x86_64/egg/torchdrug/layers/__init__.py to __init__.cpython-37.pyc\n",
            "creating build/bdist.linux-x86_64/egg/EGG-INFO\n",
            "copying torchdrug.egg-info/PKG-INFO -> build/bdist.linux-x86_64/egg/EGG-INFO\n",
            "copying torchdrug.egg-info/SOURCES.txt -> build/bdist.linux-x86_64/egg/EGG-INFO\n",
            "copying torchdrug.egg-info/dependency_links.txt -> build/bdist.linux-x86_64/egg/EGG-INFO\n",
            "copying torchdrug.egg-info/requires.txt -> build/bdist.linux-x86_64/egg/EGG-INFO\n",
            "copying torchdrug.egg-info/top_level.txt -> build/bdist.linux-x86_64/egg/EGG-INFO\n",
            "zip_safe flag not set; analyzing archive contents...\n",
            "torchdrug.layers.functional.__pycache__.embedding.cpython-37: module references __file__\n",
            "torchdrug.layers.functional.__pycache__.spmm.cpython-37: module references __file__\n",
            "torchdrug.metrics.rdkit.__pycache__.sascorer.cpython-37: module references __file__\n",
            "torchdrug.tasks.__pycache__.retrosynthesis.cpython-37: module MAY be using inspect.stack\n",
            "torchdrug.utils.__pycache__.plot.cpython-37: module references __file__\n",
            "torchdrug.utils.__pycache__.torch.cpython-37: module references __file__\n",
            "creating dist\n",
            "creating 'dist/torchdrug-0.2.0-py3.7.egg' and adding 'build/bdist.linux-x86_64/egg' to it\n",
            "removing 'build/bdist.linux-x86_64/egg' (and everything under it)\n",
            "Processing torchdrug-0.2.0-py3.7.egg\n",
            "creating /usr/local/lib/python3.7/dist-packages/torchdrug-0.2.0-py3.7.egg\n",
            "Extracting torchdrug-0.2.0-py3.7.egg to /usr/local/lib/python3.7/dist-packages\n",
            "Adding torchdrug 0.2.0 to easy-install.pth file\n",
            "\n",
            "Installed /usr/local/lib/python3.7/dist-packages/torchdrug-0.2.0-py3.7.egg\n",
            "Processing dependencies for torchdrug==0.2.0\n",
            "Searching for fair-esm==0.1.0\n",
            "Best match: fair-esm 0.1.0\n",
            "Adding fair-esm 0.1.0 to easy-install.pth file\n",
            "\n",
            "Using /usr/local/lib/python3.7/dist-packages\n",
            "Searching for lmdb==0.99\n",
            "Best match: lmdb 0.99\n",
            "Adding lmdb 0.99 to easy-install.pth file\n",
            "\n",
            "Using /usr/local/lib/python3.7/dist-packages\n",
            "Searching for Jinja2==2.11.3\n",
            "Best match: Jinja2 2.11.3\n",
            "Adding Jinja2 2.11.3 to easy-install.pth file\n",
            "\n",
            "Using /usr/local/lib/python3.7/dist-packages\n",
            "Searching for ninja==1.10.2.4\n",
            "Best match: ninja 1.10.2.4\n",
            "Adding ninja 1.10.2.4 to easy-install.pth file\n",
            "Installing ninja script to /usr/local/bin\n",
            "\n",
            "Using /usr/local/lib/python3.7/dist-packages\n",
            "Searching for networkx==2.6.3\n",
            "Best match: networkx 2.6.3\n",
            "Adding networkx 2.6.3 to easy-install.pth file\n",
            "\n",
            "Using /usr/local/lib/python3.7/dist-packages\n",
            "Searching for tqdm==4.64.1\n",
            "Best match: tqdm 4.64.1\n",
            "Adding tqdm 4.64.1 to easy-install.pth file\n",
            "Installing tqdm script to /usr/local/bin\n",
            "\n",
            "Using /usr/local/lib/python3.7/dist-packages\n",
            "Searching for matplotlib==3.2.2\n",
            "Best match: matplotlib 3.2.2\n",
            "Adding matplotlib 3.2.2 to easy-install.pth file\n",
            "\n",
            "Using /usr/local/lib/python3.7/dist-packages\n",
            "Searching for rdkit-pypi==2022.9.2\n",
            "Best match: rdkit-pypi 2022.9.2\n",
            "Adding rdkit-pypi 2022.9.2 to easy-install.pth file\n",
            "\n",
            "Using /usr/local/lib/python3.7/dist-packages\n",
            "Searching for numpy==1.21.6\n",
            "Best match: numpy 1.21.6\n",
            "Adding numpy 1.21.6 to easy-install.pth file\n",
            "Installing f2py script to /usr/local/bin\n",
            "Installing f2py3 script to /usr/local/bin\n",
            "Installing f2py3.7 script to /usr/local/bin\n",
            "\n",
            "Using /usr/local/lib/python3.7/dist-packages\n",
            "Searching for decorator==4.4.2\n",
            "Best match: decorator 4.4.2\n",
            "Adding decorator 4.4.2 to easy-install.pth file\n",
            "\n",
            "Using /usr/local/lib/python3.7/dist-packages\n",
            "Searching for torch-cluster==1.6.0+pt112cu113\n",
            "Best match: torch-cluster 1.6.0+pt112cu113\n",
            "Adding torch-cluster 1.6.0+pt112cu113 to easy-install.pth file\n",
            "\n",
            "Using /usr/local/lib/python3.7/dist-packages\n",
            "Searching for torch-scatter==2.1.0+pt112cu113\n",
            "Best match: torch-scatter 2.1.0+pt112cu113\n",
            "Adding torch-scatter 2.1.0+pt112cu113 to easy-install.pth file\n",
            "\n",
            "Using /usr/local/lib/python3.7/dist-packages\n",
            "Searching for torch==1.12.1+cu113\n",
            "Best match: torch 1.12.1+cu113\n",
            "Adding torch 1.12.1+cu113 to easy-install.pth file\n",
            "Installing convert-caffe2-to-onnx script to /usr/local/bin\n",
            "Installing convert-onnx-to-caffe2 script to /usr/local/bin\n",
            "Installing torchrun script to /usr/local/bin\n",
            "\n",
            "Using /usr/local/lib/python3.7/dist-packages\n",
            "Searching for MarkupSafe==2.0.1\n",
            "Best match: MarkupSafe 2.0.1\n",
            "Adding MarkupSafe 2.0.1 to easy-install.pth file\n",
            "\n",
            "Using /usr/local/lib/python3.7/dist-packages\n",
            "Searching for cycler==0.11.0\n",
            "Best match: cycler 0.11.0\n",
            "Adding cycler 0.11.0 to easy-install.pth file\n",
            "\n",
            "Using /usr/local/lib/python3.7/dist-packages\n",
            "Searching for kiwisolver==1.4.4\n",
            "Best match: kiwisolver 1.4.4\n",
            "Adding kiwisolver 1.4.4 to easy-install.pth file\n",
            "\n",
            "Using /usr/local/lib/python3.7/dist-packages\n",
            "Searching for pyparsing==3.0.9\n",
            "Best match: pyparsing 3.0.9\n",
            "Adding pyparsing 3.0.9 to easy-install.pth file\n",
            "\n",
            "Using /usr/local/lib/python3.7/dist-packages\n",
            "Searching for python-dateutil==2.8.2\n",
            "Best match: python-dateutil 2.8.2\n",
            "Adding python-dateutil 2.8.2 to easy-install.pth file\n",
            "\n",
            "Using /usr/local/lib/python3.7/dist-packages\n",
            "Searching for Pillow==7.1.2\n",
            "Best match: Pillow 7.1.2\n",
            "Adding Pillow 7.1.2 to easy-install.pth file\n",
            "\n",
            "Using /usr/local/lib/python3.7/dist-packages\n",
            "Searching for scipy==1.7.3\n",
            "Best match: scipy 1.7.3\n",
            "Adding scipy 1.7.3 to easy-install.pth file\n",
            "\n",
            "Using /usr/local/lib/python3.7/dist-packages\n",
            "Searching for typing-extensions==4.1.1\n",
            "Best match: typing-extensions 4.1.1\n",
            "Adding typing-extensions 4.1.1 to easy-install.pth file\n",
            "\n",
            "Using /usr/local/lib/python3.7/dist-packages\n",
            "Searching for six==1.15.0\n",
            "Best match: six 1.15.0\n",
            "Adding six 1.15.0 to easy-install.pth file\n",
            "\n",
            "Using /usr/local/lib/python3.7/dist-packages\n",
            "Finished processing dependencies for torchdrug==0.2.0\n"
          ]
        }
      ]
    },
    {
      "cell_type": "markdown",
      "source": [
        "# **Prepare the Pretraining Dataset(5 min)**"
      ],
      "metadata": {
        "id": "w1gaxOzxGttx"
      }
    },
    {
      "cell_type": "markdown",
      "source": [
        "**add a new dataset with the following:**"
      ],
      "metadata": {
        "id": "QKxdwuYDT7Jg"
      }
    },
    {
      "cell_type": "code",
      "source": [
        "import os\n",
        "\n",
        "from torchdrug import data, utils\n",
        "from torchdrug.core import Registry as R\n",
        "\n",
        "\n",
        "@R.register(\"datasets.ZINC250k\")\n",
        "@utils.copy_args(data.MoleculeDataset.load_csv, ignore=(\"smiles_field\", \"target_fields\"))\n",
        "class ZINC250k(data.MoleculeDataset):\n",
        "    \"\"\"\n",
        "    Subset of Flavonoid compound database for virtual screening.\n",
        "\n",
        "    Statistics:\n",
        "        - #Molecule: 4,800\n",
        "        - #Regression task: 2\n",
        "\n",
        "    Parameters:\n",
        "        path (str): path to store the dataset\n",
        "        verbose (int, optional): output verbose level\n",
        "        **kwargs\n",
        "    \"\"\"\n",
        "\n",
        "    url = \"https://raw.githubusercontent.com/goga0001/graph/main/data.csv\"\n",
        "\n",
        "    target_fields = [\"logP\", \"qed\"]\n",
        "\n",
        "    def __init__(self, path, verbose=1, **kwargs):\n",
        "        path = os.path.expanduser(path)\n",
        "        if not os.path.exists(path):\n",
        "            os.makedirs(path)\n",
        "        self.path = path\n",
        "\n",
        "        file_name = utils.download(self.url, path)\n",
        "\n",
        "        self.load_csv(file_name, smiles_field=\"smiles\", target_fields=self.target_fields,\n",
        "                      verbose=verbose, **kwargs)"
      ],
      "metadata": {
        "id": "CwyqfeDZidAp"
      },
      "execution_count": null,
      "outputs": []
    },
    {
      "cell_type": "code",
      "source": [
        "import torch\n",
        "from torchdrug import datasets\n",
        "\n",
        "dataset = datasets.ZINC250k(\"~/molecule-datasets/\", kekulize=True,\n",
        "                            atom_feature=\"symbol\")"
      ],
      "metadata": {
        "colab": {
          "base_uri": "https://localhost:8080/"
        },
        "id": "933MDBxTf_XV",
        "outputId": "dca1b03c-4607-4ddb-b4c6-a99c5a927d5d"
      },
      "execution_count": 9,
      "outputs": [
        {
          "output_type": "stream",
          "name": "stderr",
          "text": [
            "INFO:torchdrug.utils.file:Downloading https://raw.githubusercontent.com/goga0001/graph/main/data.csv to /root/molecule-datasets/data.csv\n"
          ]
        },
        {
          "output_type": "stream",
          "name": "stdout",
          "text": [
            "15:27:21   Downloading https://raw.githubusercontent.com/goga0001/graph/main/data.csv to /root/molecule-datasets/data.csv\n"
          ]
        },
        {
          "output_type": "stream",
          "name": "stderr",
          "text": [
            "Loading /root/molecule-datasets/data.csv: 4807it [00:00, 67940.95it/s]            \n",
            "Constructing molecules from SMILES: 100%|██████████| 4806/4806 [00:09<00:00, 518.79it/s]\n"
          ]
        }
      ]
    },
    {
      "cell_type": "markdown",
      "source": [
        "# **Define the Model: GraphAF (30sec)**"
      ],
      "metadata": {
        "id": "Y4XR-lzMG9NQ"
      }
    },
    {
      "cell_type": "code",
      "source": [
        "from torchdrug import core, models, tasks\n",
        "from torchdrug.layers import distribution\n",
        "\n",
        "model = models.RGCN(input_dim=dataset.num_atom_type,\n",
        "                    num_relation=dataset.num_bond_type,\n",
        "                    hidden_dims=[256, 256, 256], batch_norm=True)\n",
        "\n",
        "num_atom_type = dataset.num_atom_type\n",
        "# add one class for non-edge\n",
        "num_bond_type = dataset.num_bond_type + 1\n",
        "\n",
        "node_prior = distribution.IndependentGaussian(torch.zeros(num_atom_type),\n",
        "                                              torch.ones(num_atom_type))\n",
        "edge_prior = distribution.IndependentGaussian(torch.zeros(num_bond_type),\n",
        "                                              torch.ones(num_bond_type))\n",
        "node_flow = models.GraphAF(model, node_prior, num_layer=12)\n",
        "edge_flow = models.GraphAF(model, edge_prior, use_edge=True, num_layer=12)\n",
        "\n",
        "task = tasks.AutoregressiveGeneration(node_flow, edge_flow,\n",
        "                                      max_node=38, max_edge_unroll=12,\n",
        "                                      criterion=\"nll\")"
      ],
      "metadata": {
        "id": "_6TcKm0Ovo4p"
      },
      "execution_count": 10,
      "outputs": []
    },
    {
      "cell_type": "code",
      "source": [
        "dataset.num_bond_type"
      ],
      "metadata": {
        "colab": {
          "base_uri": "https://localhost:8080/"
        },
        "id": "rbu9Zlnwax-M",
        "outputId": "9b1622b9-a031-4bb3-b4eb-49c693ad8ff2"
      },
      "execution_count": 11,
      "outputs": [
        {
          "output_type": "execute_result",
          "data": {
            "text/plain": [
              "2"
            ]
          },
          "metadata": {},
          "execution_count": 11
        }
      ]
    },
    {
      "cell_type": "code",
      "source": [
        "model.layers[0].num_relation"
      ],
      "metadata": {
        "id": "dAbr1bp2gUs2",
        "outputId": "b6efb2e5-c5f5-41fa-d97e-80d52bb4e7a0",
        "colab": {
          "base_uri": "https://localhost:8080/"
        }
      },
      "execution_count": 12,
      "outputs": [
        {
          "output_type": "execute_result",
          "data": {
            "text/plain": [
              "2"
            ]
          },
          "metadata": {},
          "execution_count": 12
        }
      ]
    },
    {
      "cell_type": "code",
      "source": [
        "for data in dataset:\n",
        "  data['graph'].num_relation = torch.tensor(2)"
      ],
      "metadata": {
        "id": "al72RbTbgZjO"
      },
      "execution_count": 12,
      "outputs": []
    },
    {
      "cell_type": "code",
      "source": [
        "dataset[3][\"graph\"].num_relation"
      ],
      "metadata": {
        "colab": {
          "base_uri": "https://localhost:8080/"
        },
        "id": "TOMeHU4ARZ_J",
        "outputId": "6b1968d5-212b-4e25-e873-5b16cd4da780"
      },
      "execution_count": 13,
      "outputs": [
        {
          "output_type": "execute_result",
          "data": {
            "text/plain": [
              "tensor(2)"
            ]
          },
          "metadata": {},
          "execution_count": 13
        }
      ]
    },
    {
      "cell_type": "markdown",
      "source": [
        "# **Pretraining and Generation: GraphAF**"
      ],
      "metadata": {
        "id": "DAFclFUMHBuL"
      }
    },
    {
      "cell_type": "code",
      "source": [
        "from torch import nn, optim\n",
        "optimizer = optim.Adam(task.parameters(), lr = 1e-3)\n",
        "solver = core.Engine(task, dataset, None, None, optimizer,\n",
        "                     gpus=(0,), batch_size=10, log_interval=10)\n",
        "\n",
        "solver.train(num_epoch=7)\n",
        "solver.save(\"graphaf_WB3.pkl\")"
      ],
      "metadata": {
        "id": "UFcUn1WVYoew"
      },
      "execution_count": null,
      "outputs": []
    },
    {
      "cell_type": "code",
      "source": [
        "from collections import defaultdict\n",
        "\n",
        "solver.load(\"graphaf_WB3.pkl\")\n",
        "results = task.generate(num_sample=32)\n",
        "print(results.to_smiles())"
      ],
      "metadata": {
        "colab": {
          "base_uri": "https://localhost:8080/"
        },
        "id": "xloHBpl5kUne",
        "outputId": "acfcb7df-e8f9-4388-a2e1-64d3bad1eebe"
      },
      "execution_count": 80,
      "outputs": [
        {
          "output_type": "stream",
          "name": "stderr",
          "text": [
            "WARNING:torchdrug.core.engine:Load checkpoint from graphaf_WB3.pkl\n"
          ]
        },
        {
          "output_type": "stream",
          "name": "stdout",
          "text": [
            "17:46:23   Load checkpoint from graphaf_WB3.pkl\n",
            "['CBr', 'CC1=[SH]2=S1CC(O)=N2', 'C=P(=C)C1OC2(Cl)OC12C', 'CCC(=O)C(N)(O)CCl', 'OC1=C(Br)C=C1', 'NBr', 'CCP', 'OC1[SH]2OCC12O', 'O=C(Cl)Br', 'CN=P', 'NP', 'OC1OC2CN3OC4CP3(=C14)C2', 'CCS', 'C', 'C=[PH](Cl)CCl', 'C', 'C=PC', 'CP', 'N=P1(Cl)ON(NO)P1', 'C', 'NCC(O)S', 'ONC1=[SH]C1', 'CS', 'PC=C1C2=NC1=[SH]C2', 'OCCC1=C(Cl)P=C1', 'CCBr', 'Cl', 'C1NO1', 'OCCCl', 'C', 'CC=CC', 'CN1[SH]=C2C1NN2Cl']\n"
          ]
        }
      ]
    },
    {
      "cell_type": "code",
      "source": [
        "%matplotlib inline\n",
        "results.visualize(num_row=4, num_col=None, save_file=None, titles=None)"
      ],
      "metadata": {
        "id": "AjNySZM5fInW",
        "outputId": "c0c8d7ce-e058-4c7a-8941-4ab903924f7d",
        "colab": {
          "base_uri": "https://localhost:8080/",
          "height": 524
        }
      },
      "execution_count": 81,
      "outputs": [
        {
          "output_type": "display_data",
          "data": {
            "text/plain": [
              "<Figure size 1728x864 with 32 Axes>"
            ],
            "image/png": "[encoded data removed]"
          },
          "metadata": {
            "needs_background": "light"
          }
        }
      ]
    }
  ]
}